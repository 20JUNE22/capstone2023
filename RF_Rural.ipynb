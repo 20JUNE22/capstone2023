{
  "cells": [
    {
      "cell_type": "markdown",
      "metadata": {
        "id": "view-in-github",
        "colab_type": "text"
      },
      "source": [
        "<a href=\"https://colab.research.google.com/github/20JUNE22/capstone2023/blob/main/RF_Rural.ipynb\" target=\"_parent\"><img src=\"https://colab.research.google.com/assets/colab-badge.svg\" alt=\"Open In Colab\"/></a>"
      ]
    },
    {
      "cell_type": "markdown",
      "id": "f542383a",
      "metadata": {
        "id": "f542383a"
      },
      "source": [
        "## Food Desert"
      ]
    },
    {
      "cell_type": "markdown",
      "id": "1df28cde",
      "metadata": {
        "id": "1df28cde"
      },
      "source": [
        "### Load data"
      ]
    },
    {
      "cell_type": "code",
      "execution_count": null,
      "id": "d21f307f",
      "metadata": {
        "id": "d21f307f"
      },
      "outputs": [],
      "source": [
        "import numpy as np\n",
        "import pandas as pd\n",
        "import matplotlib.pyplot as plt\n",
        "import seaborn as sns\n",
        "\n",
        "import warnings\n",
        "warnings.simplefilter(action='ignore', category=FutureWarning)"
      ]
    },
    {
      "cell_type": "code",
      "execution_count": null,
      "id": "204ae1eb",
      "metadata": {
        "colab": {
          "base_uri": "https://localhost:8080/",
          "height": 270
        },
        "id": "204ae1eb",
        "outputId": "9991ac60-26ed-4f66-d001-beae31de9198"
      },
      "outputs": [
        {
          "output_type": "execute_result",
          "data": {
            "text/plain": [
              "   Urban  FoodDesert  log10_PCTGQTRS  log10_PovertyRate  \\\n",
              "0      0           0        0.000000           0.995635   \n",
              "1      0           0        0.000000           1.167317   \n",
              "2      0           0        0.096910           1.033424   \n",
              "3      0           1        0.130334           1.374748   \n",
              "4      0           1        0.298853           1.399674   \n",
              "\n",
              "   log10_MedianFamilyIncome  log10_TractKids  log10_TractSeniors  \\\n",
              "0                  4.939145         2.911690            2.534026   \n",
              "1                  4.915584         3.463893            3.025715   \n",
              "2                  4.877181         3.179552            2.800029   \n",
              "3                  4.766428         2.875640            2.541579   \n",
              "4                  4.675182         2.875640            2.693727   \n",
              "\n",
              "   log10_TractWhite  log10_TractBlack  log10_TractAsian  log10_TractNHOPI  \\\n",
              "0          3.429914          2.445604          1.230449           0.00000   \n",
              "1          3.941760          3.142389          1.792392           0.90309   \n",
              "2          3.684486          2.832509          1.322219           0.60206   \n",
              "3          3.347135          2.781037          0.602060           0.00000   \n",
              "4          3.158965          3.257918          0.477121           0.00000   \n",
              "\n",
              "   log10_TractAIAN  log10_TractOMultir  log10_TractHispanic  log10_TractHUNV  \\\n",
              "0         1.447158            1.851258             1.763428         1.838849   \n",
              "1         1.698970            2.274158             2.204120         2.298853   \n",
              "2         1.176091            2.096910             1.986772         1.991226   \n",
              "3         1.278754            1.681241             1.602060         1.000000   \n",
              "4         1.176091            1.732394             1.602060         2.431364   \n",
              "\n",
              "   log10_TractSNAP  \n",
              "0         2.158362  \n",
              "1         2.547775  \n",
              "2         2.532754  \n",
              "3         2.167317  \n",
              "4         2.363612  "
            ],
            "text/html": [
              "\n",
              "  <div id=\"df-d7335451-3a15-4e48-92b9-6cfafc47adac\">\n",
              "    <div class=\"colab-df-container\">\n",
              "      <div>\n",
              "<style scoped>\n",
              "    .dataframe tbody tr th:only-of-type {\n",
              "        vertical-align: middle;\n",
              "    }\n",
              "\n",
              "    .dataframe tbody tr th {\n",
              "        vertical-align: top;\n",
              "    }\n",
              "\n",
              "    .dataframe thead th {\n",
              "        text-align: right;\n",
              "    }\n",
              "</style>\n",
              "<table border=\"1\" class=\"dataframe\">\n",
              "  <thead>\n",
              "    <tr style=\"text-align: right;\">\n",
              "      <th></th>\n",
              "      <th>Urban</th>\n",
              "      <th>FoodDesert</th>\n",
              "      <th>log10_PCTGQTRS</th>\n",
              "      <th>log10_PovertyRate</th>\n",
              "      <th>log10_MedianFamilyIncome</th>\n",
              "      <th>log10_TractKids</th>\n",
              "      <th>log10_TractSeniors</th>\n",
              "      <th>log10_TractWhite</th>\n",
              "      <th>log10_TractBlack</th>\n",
              "      <th>log10_TractAsian</th>\n",
              "      <th>log10_TractNHOPI</th>\n",
              "      <th>log10_TractAIAN</th>\n",
              "      <th>log10_TractOMultir</th>\n",
              "      <th>log10_TractHispanic</th>\n",
              "      <th>log10_TractHUNV</th>\n",
              "      <th>log10_TractSNAP</th>\n",
              "    </tr>\n",
              "  </thead>\n",
              "  <tbody>\n",
              "    <tr>\n",
              "      <th>0</th>\n",
              "      <td>0</td>\n",
              "      <td>0</td>\n",
              "      <td>0.000000</td>\n",
              "      <td>0.995635</td>\n",
              "      <td>4.939145</td>\n",
              "      <td>2.911690</td>\n",
              "      <td>2.534026</td>\n",
              "      <td>3.429914</td>\n",
              "      <td>2.445604</td>\n",
              "      <td>1.230449</td>\n",
              "      <td>0.00000</td>\n",
              "      <td>1.447158</td>\n",
              "      <td>1.851258</td>\n",
              "      <td>1.763428</td>\n",
              "      <td>1.838849</td>\n",
              "      <td>2.158362</td>\n",
              "    </tr>\n",
              "    <tr>\n",
              "      <th>1</th>\n",
              "      <td>0</td>\n",
              "      <td>0</td>\n",
              "      <td>0.000000</td>\n",
              "      <td>1.167317</td>\n",
              "      <td>4.915584</td>\n",
              "      <td>3.463893</td>\n",
              "      <td>3.025715</td>\n",
              "      <td>3.941760</td>\n",
              "      <td>3.142389</td>\n",
              "      <td>1.792392</td>\n",
              "      <td>0.90309</td>\n",
              "      <td>1.698970</td>\n",
              "      <td>2.274158</td>\n",
              "      <td>2.204120</td>\n",
              "      <td>2.298853</td>\n",
              "      <td>2.547775</td>\n",
              "    </tr>\n",
              "    <tr>\n",
              "      <th>2</th>\n",
              "      <td>0</td>\n",
              "      <td>0</td>\n",
              "      <td>0.096910</td>\n",
              "      <td>1.033424</td>\n",
              "      <td>4.877181</td>\n",
              "      <td>3.179552</td>\n",
              "      <td>2.800029</td>\n",
              "      <td>3.684486</td>\n",
              "      <td>2.832509</td>\n",
              "      <td>1.322219</td>\n",
              "      <td>0.60206</td>\n",
              "      <td>1.176091</td>\n",
              "      <td>2.096910</td>\n",
              "      <td>1.986772</td>\n",
              "      <td>1.991226</td>\n",
              "      <td>2.532754</td>\n",
              "    </tr>\n",
              "    <tr>\n",
              "      <th>3</th>\n",
              "      <td>0</td>\n",
              "      <td>1</td>\n",
              "      <td>0.130334</td>\n",
              "      <td>1.374748</td>\n",
              "      <td>4.766428</td>\n",
              "      <td>2.875640</td>\n",
              "      <td>2.541579</td>\n",
              "      <td>3.347135</td>\n",
              "      <td>2.781037</td>\n",
              "      <td>0.602060</td>\n",
              "      <td>0.00000</td>\n",
              "      <td>1.278754</td>\n",
              "      <td>1.681241</td>\n",
              "      <td>1.602060</td>\n",
              "      <td>1.000000</td>\n",
              "      <td>2.167317</td>\n",
              "    </tr>\n",
              "    <tr>\n",
              "      <th>4</th>\n",
              "      <td>0</td>\n",
              "      <td>1</td>\n",
              "      <td>0.298853</td>\n",
              "      <td>1.399674</td>\n",
              "      <td>4.675182</td>\n",
              "      <td>2.875640</td>\n",
              "      <td>2.693727</td>\n",
              "      <td>3.158965</td>\n",
              "      <td>3.257918</td>\n",
              "      <td>0.477121</td>\n",
              "      <td>0.00000</td>\n",
              "      <td>1.176091</td>\n",
              "      <td>1.732394</td>\n",
              "      <td>1.602060</td>\n",
              "      <td>2.431364</td>\n",
              "      <td>2.363612</td>\n",
              "    </tr>\n",
              "  </tbody>\n",
              "</table>\n",
              "</div>\n",
              "      <button class=\"colab-df-convert\" onclick=\"convertToInteractive('df-d7335451-3a15-4e48-92b9-6cfafc47adac')\"\n",
              "              title=\"Convert this dataframe to an interactive table.\"\n",
              "              style=\"display:none;\">\n",
              "        \n",
              "  <svg xmlns=\"http://www.w3.org/2000/svg\" height=\"24px\"viewBox=\"0 0 24 24\"\n",
              "       width=\"24px\">\n",
              "    <path d=\"M0 0h24v24H0V0z\" fill=\"none\"/>\n",
              "    <path d=\"M18.56 5.44l.94 2.06.94-2.06 2.06-.94-2.06-.94-.94-2.06-.94 2.06-2.06.94zm-11 1L8.5 8.5l.94-2.06 2.06-.94-2.06-.94L8.5 2.5l-.94 2.06-2.06.94zm10 10l.94 2.06.94-2.06 2.06-.94-2.06-.94-.94-2.06-.94 2.06-2.06.94z\"/><path d=\"M17.41 7.96l-1.37-1.37c-.4-.4-.92-.59-1.43-.59-.52 0-1.04.2-1.43.59L10.3 9.45l-7.72 7.72c-.78.78-.78 2.05 0 2.83L4 21.41c.39.39.9.59 1.41.59.51 0 1.02-.2 1.41-.59l7.78-7.78 2.81-2.81c.8-.78.8-2.07 0-2.86zM5.41 20L4 18.59l7.72-7.72 1.47 1.35L5.41 20z\"/>\n",
              "  </svg>\n",
              "      </button>\n",
              "      \n",
              "  <style>\n",
              "    .colab-df-container {\n",
              "      display:flex;\n",
              "      flex-wrap:wrap;\n",
              "      gap: 12px;\n",
              "    }\n",
              "\n",
              "    .colab-df-convert {\n",
              "      background-color: #E8F0FE;\n",
              "      border: none;\n",
              "      border-radius: 50%;\n",
              "      cursor: pointer;\n",
              "      display: none;\n",
              "      fill: #1967D2;\n",
              "      height: 32px;\n",
              "      padding: 0 0 0 0;\n",
              "      width: 32px;\n",
              "    }\n",
              "\n",
              "    .colab-df-convert:hover {\n",
              "      background-color: #E2EBFA;\n",
              "      box-shadow: 0px 1px 2px rgba(60, 64, 67, 0.3), 0px 1px 3px 1px rgba(60, 64, 67, 0.15);\n",
              "      fill: #174EA6;\n",
              "    }\n",
              "\n",
              "    [theme=dark] .colab-df-convert {\n",
              "      background-color: #3B4455;\n",
              "      fill: #D2E3FC;\n",
              "    }\n",
              "\n",
              "    [theme=dark] .colab-df-convert:hover {\n",
              "      background-color: #434B5C;\n",
              "      box-shadow: 0px 1px 3px 1px rgba(0, 0, 0, 0.15);\n",
              "      filter: drop-shadow(0px 1px 2px rgba(0, 0, 0, 0.3));\n",
              "      fill: #FFFFFF;\n",
              "    }\n",
              "  </style>\n",
              "\n",
              "      <script>\n",
              "        const buttonEl =\n",
              "          document.querySelector('#df-d7335451-3a15-4e48-92b9-6cfafc47adac button.colab-df-convert');\n",
              "        buttonEl.style.display =\n",
              "          google.colab.kernel.accessAllowed ? 'block' : 'none';\n",
              "\n",
              "        async function convertToInteractive(key) {\n",
              "          const element = document.querySelector('#df-d7335451-3a15-4e48-92b9-6cfafc47adac');\n",
              "          const dataTable =\n",
              "            await google.colab.kernel.invokeFunction('convertToInteractive',\n",
              "                                                     [key], {});\n",
              "          if (!dataTable) return;\n",
              "\n",
              "          const docLinkHtml = 'Like what you see? Visit the ' +\n",
              "            '<a target=\"_blank\" href=https://colab.research.google.com/notebooks/data_table.ipynb>data table notebook</a>'\n",
              "            + ' to learn more about interactive tables.';\n",
              "          element.innerHTML = '';\n",
              "          dataTable['output_type'] = 'display_data';\n",
              "          await google.colab.output.renderOutput(dataTable, element);\n",
              "          const docLink = document.createElement('div');\n",
              "          docLink.innerHTML = docLinkHtml;\n",
              "          element.appendChild(docLink);\n",
              "        }\n",
              "      </script>\n",
              "    </div>\n",
              "  </div>\n",
              "  "
            ]
          },
          "metadata": {},
          "execution_count": 2
        }
      ],
      "source": [
        "# Load the dataset\n",
        "df = pd.read_excel(\"https://github.com/K-Gurleen/Urban/raw/main/rural_data.xlsx\")\n",
        "df.head()"
      ]
    },
    {
      "cell_type": "code",
      "execution_count": null,
      "id": "449136e4",
      "metadata": {
        "colab": {
          "base_uri": "https://localhost:8080/",
          "height": 270
        },
        "id": "449136e4",
        "outputId": "c63b9a72-a985-44a8-b141-0df74ea0a847",
        "scrolled": true
      },
      "outputs": [
        {
          "output_type": "execute_result",
          "data": {
            "text/plain": [
              "   log10_PCTGQTRS  log10_PovertyRate  log10_MedianFamilyIncome  \\\n",
              "0        0.000000           0.995635                  4.939145   \n",
              "1        0.000000           1.167317                  4.915584   \n",
              "2        0.096910           1.033424                  4.877181   \n",
              "3        0.130334           1.374748                  4.766428   \n",
              "4        0.298853           1.399674                  4.675182   \n",
              "\n",
              "   log10_TractKids  log10_TractSeniors  log10_TractWhite  log10_TractBlack  \\\n",
              "0         2.911690            2.534026          3.429914          2.445604   \n",
              "1         3.463893            3.025715          3.941760          3.142389   \n",
              "2         3.179552            2.800029          3.684486          2.832509   \n",
              "3         2.875640            2.541579          3.347135          2.781037   \n",
              "4         2.875640            2.693727          3.158965          3.257918   \n",
              "\n",
              "   log10_TractAsian  log10_TractNHOPI  log10_TractAIAN  log10_TractOMultir  \\\n",
              "0          1.230449           0.00000         1.447158            1.851258   \n",
              "1          1.792392           0.90309         1.698970            2.274158   \n",
              "2          1.322219           0.60206         1.176091            2.096910   \n",
              "3          0.602060           0.00000         1.278754            1.681241   \n",
              "4          0.477121           0.00000         1.176091            1.732394   \n",
              "\n",
              "   log10_TractHispanic  log10_TractHUNV  log10_TractSNAP  \n",
              "0             1.763428         1.838849         2.158362  \n",
              "1             2.204120         2.298853         2.547775  \n",
              "2             1.986772         1.991226         2.532754  \n",
              "3             1.602060         1.000000         2.167317  \n",
              "4             1.602060         2.431364         2.363612  "
            ],
            "text/html": [
              "\n",
              "  <div id=\"df-9c94c6c3-e5dd-48c2-bc3a-6411f05adc78\">\n",
              "    <div class=\"colab-df-container\">\n",
              "      <div>\n",
              "<style scoped>\n",
              "    .dataframe tbody tr th:only-of-type {\n",
              "        vertical-align: middle;\n",
              "    }\n",
              "\n",
              "    .dataframe tbody tr th {\n",
              "        vertical-align: top;\n",
              "    }\n",
              "\n",
              "    .dataframe thead th {\n",
              "        text-align: right;\n",
              "    }\n",
              "</style>\n",
              "<table border=\"1\" class=\"dataframe\">\n",
              "  <thead>\n",
              "    <tr style=\"text-align: right;\">\n",
              "      <th></th>\n",
              "      <th>log10_PCTGQTRS</th>\n",
              "      <th>log10_PovertyRate</th>\n",
              "      <th>log10_MedianFamilyIncome</th>\n",
              "      <th>log10_TractKids</th>\n",
              "      <th>log10_TractSeniors</th>\n",
              "      <th>log10_TractWhite</th>\n",
              "      <th>log10_TractBlack</th>\n",
              "      <th>log10_TractAsian</th>\n",
              "      <th>log10_TractNHOPI</th>\n",
              "      <th>log10_TractAIAN</th>\n",
              "      <th>log10_TractOMultir</th>\n",
              "      <th>log10_TractHispanic</th>\n",
              "      <th>log10_TractHUNV</th>\n",
              "      <th>log10_TractSNAP</th>\n",
              "    </tr>\n",
              "  </thead>\n",
              "  <tbody>\n",
              "    <tr>\n",
              "      <th>0</th>\n",
              "      <td>0.000000</td>\n",
              "      <td>0.995635</td>\n",
              "      <td>4.939145</td>\n",
              "      <td>2.911690</td>\n",
              "      <td>2.534026</td>\n",
              "      <td>3.429914</td>\n",
              "      <td>2.445604</td>\n",
              "      <td>1.230449</td>\n",
              "      <td>0.00000</td>\n",
              "      <td>1.447158</td>\n",
              "      <td>1.851258</td>\n",
              "      <td>1.763428</td>\n",
              "      <td>1.838849</td>\n",
              "      <td>2.158362</td>\n",
              "    </tr>\n",
              "    <tr>\n",
              "      <th>1</th>\n",
              "      <td>0.000000</td>\n",
              "      <td>1.167317</td>\n",
              "      <td>4.915584</td>\n",
              "      <td>3.463893</td>\n",
              "      <td>3.025715</td>\n",
              "      <td>3.941760</td>\n",
              "      <td>3.142389</td>\n",
              "      <td>1.792392</td>\n",
              "      <td>0.90309</td>\n",
              "      <td>1.698970</td>\n",
              "      <td>2.274158</td>\n",
              "      <td>2.204120</td>\n",
              "      <td>2.298853</td>\n",
              "      <td>2.547775</td>\n",
              "    </tr>\n",
              "    <tr>\n",
              "      <th>2</th>\n",
              "      <td>0.096910</td>\n",
              "      <td>1.033424</td>\n",
              "      <td>4.877181</td>\n",
              "      <td>3.179552</td>\n",
              "      <td>2.800029</td>\n",
              "      <td>3.684486</td>\n",
              "      <td>2.832509</td>\n",
              "      <td>1.322219</td>\n",
              "      <td>0.60206</td>\n",
              "      <td>1.176091</td>\n",
              "      <td>2.096910</td>\n",
              "      <td>1.986772</td>\n",
              "      <td>1.991226</td>\n",
              "      <td>2.532754</td>\n",
              "    </tr>\n",
              "    <tr>\n",
              "      <th>3</th>\n",
              "      <td>0.130334</td>\n",
              "      <td>1.374748</td>\n",
              "      <td>4.766428</td>\n",
              "      <td>2.875640</td>\n",
              "      <td>2.541579</td>\n",
              "      <td>3.347135</td>\n",
              "      <td>2.781037</td>\n",
              "      <td>0.602060</td>\n",
              "      <td>0.00000</td>\n",
              "      <td>1.278754</td>\n",
              "      <td>1.681241</td>\n",
              "      <td>1.602060</td>\n",
              "      <td>1.000000</td>\n",
              "      <td>2.167317</td>\n",
              "    </tr>\n",
              "    <tr>\n",
              "      <th>4</th>\n",
              "      <td>0.298853</td>\n",
              "      <td>1.399674</td>\n",
              "      <td>4.675182</td>\n",
              "      <td>2.875640</td>\n",
              "      <td>2.693727</td>\n",
              "      <td>3.158965</td>\n",
              "      <td>3.257918</td>\n",
              "      <td>0.477121</td>\n",
              "      <td>0.00000</td>\n",
              "      <td>1.176091</td>\n",
              "      <td>1.732394</td>\n",
              "      <td>1.602060</td>\n",
              "      <td>2.431364</td>\n",
              "      <td>2.363612</td>\n",
              "    </tr>\n",
              "  </tbody>\n",
              "</table>\n",
              "</div>\n",
              "      <button class=\"colab-df-convert\" onclick=\"convertToInteractive('df-9c94c6c3-e5dd-48c2-bc3a-6411f05adc78')\"\n",
              "              title=\"Convert this dataframe to an interactive table.\"\n",
              "              style=\"display:none;\">\n",
              "        \n",
              "  <svg xmlns=\"http://www.w3.org/2000/svg\" height=\"24px\"viewBox=\"0 0 24 24\"\n",
              "       width=\"24px\">\n",
              "    <path d=\"M0 0h24v24H0V0z\" fill=\"none\"/>\n",
              "    <path d=\"M18.56 5.44l.94 2.06.94-2.06 2.06-.94-2.06-.94-.94-2.06-.94 2.06-2.06.94zm-11 1L8.5 8.5l.94-2.06 2.06-.94-2.06-.94L8.5 2.5l-.94 2.06-2.06.94zm10 10l.94 2.06.94-2.06 2.06-.94-2.06-.94-.94-2.06-.94 2.06-2.06.94z\"/><path d=\"M17.41 7.96l-1.37-1.37c-.4-.4-.92-.59-1.43-.59-.52 0-1.04.2-1.43.59L10.3 9.45l-7.72 7.72c-.78.78-.78 2.05 0 2.83L4 21.41c.39.39.9.59 1.41.59.51 0 1.02-.2 1.41-.59l7.78-7.78 2.81-2.81c.8-.78.8-2.07 0-2.86zM5.41 20L4 18.59l7.72-7.72 1.47 1.35L5.41 20z\"/>\n",
              "  </svg>\n",
              "      </button>\n",
              "      \n",
              "  <style>\n",
              "    .colab-df-container {\n",
              "      display:flex;\n",
              "      flex-wrap:wrap;\n",
              "      gap: 12px;\n",
              "    }\n",
              "\n",
              "    .colab-df-convert {\n",
              "      background-color: #E8F0FE;\n",
              "      border: none;\n",
              "      border-radius: 50%;\n",
              "      cursor: pointer;\n",
              "      display: none;\n",
              "      fill: #1967D2;\n",
              "      height: 32px;\n",
              "      padding: 0 0 0 0;\n",
              "      width: 32px;\n",
              "    }\n",
              "\n",
              "    .colab-df-convert:hover {\n",
              "      background-color: #E2EBFA;\n",
              "      box-shadow: 0px 1px 2px rgba(60, 64, 67, 0.3), 0px 1px 3px 1px rgba(60, 64, 67, 0.15);\n",
              "      fill: #174EA6;\n",
              "    }\n",
              "\n",
              "    [theme=dark] .colab-df-convert {\n",
              "      background-color: #3B4455;\n",
              "      fill: #D2E3FC;\n",
              "    }\n",
              "\n",
              "    [theme=dark] .colab-df-convert:hover {\n",
              "      background-color: #434B5C;\n",
              "      box-shadow: 0px 1px 3px 1px rgba(0, 0, 0, 0.15);\n",
              "      filter: drop-shadow(0px 1px 2px rgba(0, 0, 0, 0.3));\n",
              "      fill: #FFFFFF;\n",
              "    }\n",
              "  </style>\n",
              "\n",
              "      <script>\n",
              "        const buttonEl =\n",
              "          document.querySelector('#df-9c94c6c3-e5dd-48c2-bc3a-6411f05adc78 button.colab-df-convert');\n",
              "        buttonEl.style.display =\n",
              "          google.colab.kernel.accessAllowed ? 'block' : 'none';\n",
              "\n",
              "        async function convertToInteractive(key) {\n",
              "          const element = document.querySelector('#df-9c94c6c3-e5dd-48c2-bc3a-6411f05adc78');\n",
              "          const dataTable =\n",
              "            await google.colab.kernel.invokeFunction('convertToInteractive',\n",
              "                                                     [key], {});\n",
              "          if (!dataTable) return;\n",
              "\n",
              "          const docLinkHtml = 'Like what you see? Visit the ' +\n",
              "            '<a target=\"_blank\" href=https://colab.research.google.com/notebooks/data_table.ipynb>data table notebook</a>'\n",
              "            + ' to learn more about interactive tables.';\n",
              "          element.innerHTML = '';\n",
              "          dataTable['output_type'] = 'display_data';\n",
              "          await google.colab.output.renderOutput(dataTable, element);\n",
              "          const docLink = document.createElement('div');\n",
              "          docLink.innerHTML = docLinkHtml;\n",
              "          element.appendChild(docLink);\n",
              "        }\n",
              "      </script>\n",
              "    </div>\n",
              "  </div>\n",
              "  "
            ]
          },
          "metadata": {},
          "execution_count": 3
        }
      ],
      "source": [
        "# Divided urban data into the independent and dependent variables\n",
        "X = df.drop(['FoodDesert', 'Urban'], axis = 1) # all independent\n",
        "y = df['FoodDesert']  # Select the 'FoodDesert' column as the dependent variable\n",
        "X.head()"
      ]
    },
    {
      "cell_type": "markdown",
      "id": "x41Uw_3CSSFM",
      "metadata": {
        "id": "x41Uw_3CSSFM"
      },
      "source": [
        "### Method selection"
      ]
    },
    {
      "cell_type": "code",
      "execution_count": null,
      "id": "w2G31iC8SMmk",
      "metadata": {
        "colab": {
          "base_uri": "https://localhost:8080/"
        },
        "id": "w2G31iC8SMmk",
        "outputId": "41461492-2cc6-44ab-859a-aa742b022a62"
      },
      "outputs": [
        {
          "output_type": "stream",
          "name": "stdout",
          "text": [
            "Logistic Regression Results:\n",
            "Accuracy: 0.811\n",
            "Precision: 0.523\n",
            "Recall: 0.105\n",
            "F1 Score: 0.175\n",
            "\n",
            "Decision Tree Results:\n",
            "Accuracy: 0.733\n",
            "Precision: 0.310\n",
            "Recall: 0.327\n",
            "F1 Score: 0.318\n",
            "\n",
            "Random Forest Results:\n",
            "Accuracy: 0.820\n",
            "Precision: 0.638\n",
            "Recall: 0.137\n",
            "F1 Score: 0.225\n",
            "\n",
            "XGBoost Results:\n",
            "Accuracy: 0.813\n",
            "Precision: 0.525\n",
            "Recall: 0.226\n",
            "F1 Score: 0.316\n",
            "\n",
            "LightGBM Results:\n",
            "Accuracy: 0.816\n",
            "Precision: 0.555\n",
            "Recall: 0.185\n",
            "F1 Score: 0.278\n",
            "\n",
            "SVM Results:\n",
            "Accuracy: 0.811\n",
            "Precision: 0.636\n",
            "Recall: 0.021\n",
            "F1 Score: 0.041\n",
            "\n",
            "KNN Results:\n",
            "Accuracy: 0.799\n",
            "Precision: 0.445\n",
            "Recall: 0.214\n",
            "F1 Score: 0.289\n",
            "\n"
          ]
        }
      ],
      "source": [
        "from sklearn.model_selection import train_test_split\n",
        "from sklearn.metrics import accuracy_score, precision_score, recall_score, f1_score\n",
        "from sklearn.linear_model import LogisticRegression\n",
        "from sklearn.tree import DecisionTreeClassifier\n",
        "from sklearn.ensemble import RandomForestClassifier\n",
        "from xgboost import XGBClassifier\n",
        "from lightgbm import LGBMClassifier\n",
        "from sklearn.svm import SVC\n",
        "from sklearn.neighbors import KNeighborsClassifier\n",
        "\n",
        "# Load your data and split into training and testing sets\n",
        "X_train, X_test, y_train, y_test = train_test_split(X, y, test_size=0.2, random_state=123)\n",
        "\n",
        "# Define the models you want to compare\n",
        "models = [\n",
        "    ('Logistic Regression', LogisticRegression(max_iter=1000, random_state=123)),\n",
        "    ('Decision Tree', DecisionTreeClassifier(random_state=123)),\n",
        "    ('Random Forest', RandomForestClassifier(random_state=123)),\n",
        "    ('XGBoost', XGBClassifier(random_state=123)),\n",
        "    ('LightGBM', LGBMClassifier(random_state=123)),\n",
        "    ('SVM', SVC(random_state=123)),\n",
        "    ('KNN', KNeighborsClassifier())\n",
        "]\n",
        "\n",
        "# Train and evaluate each model\n",
        "for name, model in models:\n",
        "    # Fit the model to the training data\n",
        "    model.fit(X_train, y_train)\n",
        "\n",
        "    # Make predictions on the testing data\n",
        "    y_pred = model.predict(X_test)\n",
        "\n",
        "    # Evaluate the model's performance using common metrics\n",
        "    accuracy = accuracy_score(y_test, y_pred)\n",
        "    precision = precision_score(y_test, y_pred)\n",
        "    recall = recall_score(y_test, y_pred)\n",
        "    f1 = f1_score(y_test, y_pred)\n",
        "\n",
        "    # Print the model's performance metrics\n",
        "    print(f\"{name} Results:\")\n",
        "    print(f\"Accuracy: {accuracy:.3f}\")\n",
        "    print(f\"Precision: {precision:.3f}\")\n",
        "    print(f\"Recall: {recall:.3f}\")\n",
        "    print(f\"F1 Score: {f1:.3f}\")\n",
        "    print()"
      ]
    },
    {
      "cell_type": "markdown",
      "id": "CU_yFnR5TtrI",
      "metadata": {
        "id": "CU_yFnR5TtrI"
      },
      "source": [
        "> Random Forest"
      ]
    },
    {
      "cell_type": "code",
      "execution_count": null,
      "id": "100a68d6",
      "metadata": {
        "id": "100a68d6"
      },
      "outputs": [],
      "source": [
        "# Print the model's performance metrics\n",
        "from sklearn.metrics import accuracy_score, precision_score, recall_score, f1_score\n",
        "\n",
        "def print_performance_metrics(y_test, y_pred):\n",
        "    accuracy = accuracy_score(y_test, y_pred)\n",
        "    precision = precision_score(y_test, y_pred)\n",
        "    recall = recall_score(y_test, y_pred)\n",
        "    f1 = f1_score(y_test, y_pred)\n",
        "\n",
        "    print(f\"Accuracy: {accuracy:.3f}\")\n",
        "    print(f\"Precision: {precision:.3f}\")\n",
        "    print(f\"Recall: {recall:.3f}\")\n",
        "    print(f\"F1 Score: {f1:.3f}\")\n"
      ]
    },
    {
      "cell_type": "markdown",
      "id": "saONAO630AVK",
      "metadata": {
        "id": "saONAO630AVK"
      },
      "source": [
        "### Random Forest baseline model\n"
      ]
    },
    {
      "cell_type": "code",
      "execution_count": null,
      "id": "bfc280de",
      "metadata": {
        "colab": {
          "base_uri": "https://localhost:8080/"
        },
        "id": "bfc280de",
        "outputId": "3186cd99-f73b-46ca-af99-0b36fee83ef3"
      },
      "outputs": [
        {
          "output_type": "stream",
          "name": "stdout",
          "text": [
            "Accuracy: 0.820\n",
            "Precision: 0.638\n",
            "Recall: 0.137\n",
            "F1 Score: 0.225\n"
          ]
        }
      ],
      "source": [
        "from sklearn.model_selection import train_test_split\n",
        "from sklearn.metrics import accuracy_score, precision_score, recall_score, f1_score\n",
        "from sklearn.ensemble import RandomForestClassifier\n",
        "from sklearn.metrics import roc_curve\n",
        "\n",
        "# Split into training and testing sets\n",
        "X_train, X_test, y_train, y_test = train_test_split(X, y, test_size=0.2, random_state=123)\n",
        "\n",
        "# Define the Random Forest model\n",
        "rf_base= RandomForestClassifier(n_estimators=100, random_state=123)\n",
        "\n",
        "# Fit the model to the training data\n",
        "rf_base.fit(X_train, y_train)\n",
        "\n",
        "# Make predictions on the testing data\n",
        "y_pred = rf_base.predict(X_test)\n",
        "\n",
        "# Print the model's performance metrics\n",
        "print_performance_metrics(y_test, y_pred)\n",
        "\n",
        "\n",
        "# from sklearn.metrics import classification_report, roc_auc_score, confusion_matrix\n",
        "# Calculate the classification report\n",
        "# report = classification_report(y_test, y_pred)\n",
        "# print(\"Classification Report:\")\n",
        "# print(report)\n",
        "\n",
        "# # Calculate the ROC-AUC score\n",
        "# roc_auc = roc_auc_score(y_test, y_pred)\n",
        "# print(f\"ROC-AUC Score: {roc_auc:.3f}\")\n",
        "\n",
        "# # Calculate the confusion matrix\n",
        "# cm = confusion_matrix(y_test, y_pred)\n",
        "# print(\"Confusion Matrix:\\n\", cm)\n",
        "\n",
        "# # Plot the ROC curve\n",
        "# plot_roc_curve(rf, X_test, y_test) # use the input data instead of the predicted labels\n",
        "# plt.show()"
      ]
    },
    {
      "cell_type": "markdown",
      "id": "0c16701a",
      "metadata": {
        "id": "0c16701a"
      },
      "source": [
        "Accuracy: the baseline model has an accuracy of 0.636, which means that it correctly classified 63.6% of the test set samples.\n",
        "\n",
        "Precision:the baseline model has a precision of 0.722, which means that when it predicted a positive label, it was correct 72.2% of the time.\n",
        "\n",
        "Recall: the baseline model has a recall of 0.406, which means that it correctly identified only 40.6% of the actual positive samples.\n",
        "\n",
        "Based on these results, it appears that the baseline model has room for improvement, particularly in terms of recall. A low recall score means that the model is failing to identify many of the areas that are actually food deserts."
      ]
    },
    {
      "cell_type": "markdown",
      "id": "077f8729",
      "metadata": {
        "id": "077f8729"
      },
      "source": [
        "### Feature selection"
      ]
    },
    {
      "cell_type": "markdown",
      "id": "wDmp6zrVyZe0",
      "metadata": {
        "id": "wDmp6zrVyZe0"
      },
      "source": [
        "#### Feature importance"
      ]
    },
    {
      "cell_type": "code",
      "execution_count": null,
      "id": "eaef84a1",
      "metadata": {
        "id": "eaef84a1"
      },
      "outputs": [],
      "source": [
        "# view the feature scores\n",
        "feature_scores = pd.Series(rf_base.feature_importances_, index=X_train.columns).sort_values(ascending=False)"
      ]
    },
    {
      "cell_type": "code",
      "execution_count": null,
      "id": "7e7ffec3",
      "metadata": {
        "colab": {
          "base_uri": "https://localhost:8080/",
          "height": 1000
        },
        "id": "7e7ffec3",
        "outputId": "a08b1b97-c526-4edf-e110-cf3b2e74b0ec"
      },
      "outputs": [
        {
          "output_type": "stream",
          "name": "stdout",
          "text": [
            "log10_TractBlack            0.088291\n",
            "log10_MedianFamilyIncome    0.087650\n",
            "log10_TractAIAN             0.083142\n",
            "log10_TractAsian            0.081903\n",
            "log10_TractSNAP             0.078639\n",
            "log10_TractWhite            0.077947\n",
            "log10_TractSeniors          0.074140\n",
            "log10_PovertyRate           0.073951\n",
            "log10_TractKids             0.071689\n",
            "log10_TractHispanic         0.069168\n",
            "log10_TractOMultir          0.068800\n",
            "log10_TractHUNV             0.068687\n",
            "log10_PCTGQTRS              0.048968\n",
            "log10_TractNHOPI            0.027026\n",
            "dtype: float64\n"
          ]
        },
        {
          "output_type": "display_data",
          "data": {
            "text/plain": [
              "<Figure size 1200x1000 with 1 Axes>"
            ],
            "image/png": "[encoded data removed]"
          },
          "metadata": {}
        }
      ],
      "source": [
        "print(feature_scores)\n",
        "\n",
        "# view a bar plot\n",
        "f, ax = plt.subplots(figsize=(12, 10))\n",
        "ax = sns.barplot(x=feature_scores, y=feature_scores.index, color='blue')\n",
        "ax.set_title(\"Visualize feature scores of the features\")\n",
        "ax.set_yticklabels(feature_scores.index)\n",
        "ax.set_xlabel(\"Feature importance score\")\n",
        "ax.set_ylabel(\"Features\")\n",
        "plt.show()"
      ]
    },
    {
      "cell_type": "code",
      "execution_count": null,
      "id": "noWoTmPJfx4f",
      "metadata": {
        "id": "noWoTmPJfx4f"
      },
      "outputs": [],
      "source": [
        "# Store the initial feature scores\n",
        "feature_scores = pd.Series(rf_base.feature_importances_, index=X_train.columns).sort_values(ascending=False)\n",
        "\n",
        "# Initialize variables to track the best accuracy and the corresponding feature set\n",
        "best_accuracy = 0\n",
        "best_precision = 0\n",
        "best_recall = 0\n",
        "best_f1_score = 0\n",
        "best_feature_set = []\n",
        "\n",
        "# Create a list to store the dropped features and accuracies\n",
        "dropped_features = []\n",
        "accuracies = []\n",
        "precisions = []\n",
        "recalls = []\n",
        "f1_scores = []\n",
        "\n",
        "\n",
        "# Iterate over each feature to drop\n",
        "for feature in feature_scores.index:\n",
        "    # Create a new feature set by dropping the current feature\n",
        "    selected_features = [f for f in X_train.columns if f not in [feature]]\n",
        "    X_train_subset = X_train[selected_features]\n",
        "    X_test_subset = X_test[selected_features]\n",
        "\n",
        "    # Train a new Random Forest model with the selected features\n",
        "    rf = RandomForestClassifier(n_estimators=100, random_state=123)\n",
        "    rf.fit(X_train_subset, y_train)\n",
        "\n",
        "    # Evaluate the model on the test set\n",
        "    y_pred = rf.predict(X_test_subset)\n",
        "\n",
        "    # Check if the current accuracy is better than the previous best accuracy\n",
        "    if accuracy > best_accuracy:\n",
        "        best_accuracy = accuracy\n",
        "        best_precision = precision\n",
        "        best_recall = recall\n",
        "        best_f1_score = f1\n",
        "        best_feature_set = selected_features\n",
        "\n",
        "    # Store the dropped feature and its corresponding accuracy\n",
        "    dropped_features.append(feature)\n",
        "    accuracies.append(accuracy)\n",
        "    precisions.append(precision)\n",
        "    recalls.append(recall)\n",
        "    f1_scores.append(f1)"
      ]
    },
    {
      "cell_type": "code",
      "execution_count": null,
      "id": "f3e75323",
      "metadata": {
        "colab": {
          "base_uri": "https://localhost:8080/"
        },
        "id": "f3e75323",
        "outputId": "ff2027be-5f81-436e-dde3-8914e9251b41"
      },
      "outputs": [
        {
          "output_type": "stream",
          "name": "stdout",
          "text": [
            "Dropped features: ['log10_TractBlack']\n",
            "Accuracy: 0.816\n",
            "Precision: 0.578\n",
            "Recall: 0.135\n",
            "F1 Score: 0.219\n"
          ]
        }
      ],
      "source": [
        "# Print the dropped features\n",
        "dropped_features = [col for col in X_train.columns if col not in best_feature_set]\n",
        "\n",
        "# Print the metrics and the corresponding feature set\n",
        "print(\"Dropped features:\", dropped_features)\n",
        "print_performance_metrics(y_test, y_pred)\n",
        "# print(\"Best feature set:\", best_feature_set)"
      ]
    },
    {
      "cell_type": "markdown",
      "id": "c2c0f0a1",
      "metadata": {
        "id": "c2c0f0a1"
      },
      "source": [
        "> dropped less important features, the model doesn't shows significant improvement."
      ]
    },
    {
      "cell_type": "markdown",
      "id": "3492082f",
      "metadata": {
        "id": "3492082f"
      },
      "source": [
        "####  SelectFromModel"
      ]
    },
    {
      "cell_type": "code",
      "execution_count": null,
      "id": "b4d61e3a",
      "metadata": {
        "id": "b4d61e3a"
      },
      "outputs": [],
      "source": [
        "from sklearn.feature_selection import SelectFromModel\n",
        "sel = SelectFromModel(RandomForestClassifier(n_estimators = 100, random_state=123))\n",
        "sel.fit(X_train, y_train)\n",
        "sel.get_support()\n",
        "selected_feat= X_train.columns[(sel.get_support())]\n",
        "len(selected_feat)\n",
        "\n",
        "# print(selected_feat)\n",
        "\n",
        "# Create a new dataset with the selected features\n",
        "X_train3 = X_train[selected_feat]\n",
        "X_test3 = X_test[selected_feat]\n",
        "\n",
        "# Train a new Random Forest model with the selected features\n",
        "rf3= RandomForestClassifier(n_estimators=100, random_state=123)\n",
        "rf3.fit(X_train3, y_train)\n",
        "\n",
        "# Evaluate the model on the test set\n",
        "y_pred3 = rf3.predict(X_test3)"
      ]
    },
    {
      "cell_type": "code",
      "execution_count": null,
      "id": "3d31fbf9",
      "metadata": {
        "colab": {
          "base_uri": "https://localhost:8080/"
        },
        "id": "3d31fbf9",
        "outputId": "17ff20b1-1b80-4a3b-ff41-7d1662ad0d11"
      },
      "outputs": [
        {
          "output_type": "stream",
          "name": "stdout",
          "text": [
            "Dropped features: ['log10_PCTGQTRS', 'log10_TractNHOPI', 'log10_TractOMultir', 'log10_TractHispanic', 'log10_TractHUNV']\n",
            "Accuracy: 0.814\n",
            "Precision: 0.553\n",
            "Recall: 0.143\n",
            "F1 Score: 0.227\n"
          ]
        }
      ],
      "source": [
        "# Print the dropped features\n",
        "dropped_features = [col for col in X_train.columns if col not in selected_feat]\n",
        "print(\"Dropped features:\", dropped_features)\n",
        "\n",
        "# Print the model's performance metrics\n",
        "print_performance_metrics(y_test, y_pred3)"
      ]
    },
    {
      "cell_type": "markdown",
      "id": "4fceb0e6",
      "metadata": {
        "id": "4fceb0e6"
      },
      "source": [
        "> Using the selected feature does not improve the performance of the model."
      ]
    },
    {
      "cell_type": "markdown",
      "id": "0ae0deeb",
      "metadata": {
        "id": "0ae0deeb"
      },
      "source": [
        "#### Recursive feature elimination (RFE)"
      ]
    },
    {
      "cell_type": "code",
      "execution_count": null,
      "id": "ff305c96",
      "metadata": {
        "id": "ff305c96"
      },
      "outputs": [],
      "source": [
        "from sklearn.feature_selection import RFE\n",
        "# create a random forest classifier\n",
        "rf = RandomForestClassifier(n_estimators=100, random_state=123)\n",
        "\n",
        "# create the RFE model and select top 5 features\n",
        "rfe = RFE(estimator=rf, n_features_to_select=5, step=1)\n",
        "rfe.fit(X_train, y_train)\n",
        "\n",
        "# # summarize the selection of the attributes\n",
        "# print(\"Selected Features:\", list(X_train.columns[rfe.support_]))\n",
        "\n",
        "# Evaluate the model on the test set\n",
        "y_pred4 = rfe.predict(X_test)"
      ]
    },
    {
      "cell_type": "code",
      "execution_count": null,
      "id": "10bfb2a6",
      "metadata": {
        "colab": {
          "base_uri": "https://localhost:8080/"
        },
        "id": "10bfb2a6",
        "outputId": "b5b7fce5-f36e-4390-e340-6ce1c3e51057"
      },
      "outputs": [
        {
          "output_type": "stream",
          "name": "stdout",
          "text": [
            "Dropped features: ['log10_PCTGQTRS', 'log10_PovertyRate', 'log10_TractKids', 'log10_TractBlack', 'log10_TractAsian', 'log10_TractNHOPI', 'log10_TractAIAN', 'log10_TractOMultir', 'log10_TractHUNV']\n",
            "Accuracy: 0.809\n",
            "Precision: 0.500\n",
            "Recall: 0.106\n",
            "F1 Score: 0.175\n"
          ]
        }
      ],
      "source": [
        "# Print the dropped features\n",
        "dropped_features = [col for col in X_train.columns if col not in list(X_train.columns[rfe.support_])]\n",
        "print(\"Dropped features:\", dropped_features)\n",
        "\n",
        "# Print the model's performance metrics\n",
        "print_performance_metrics(y_test, y_pred4)"
      ]
    },
    {
      "cell_type": "markdown",
      "id": "j8yQ3jsn6U-8",
      "metadata": {
        "id": "j8yQ3jsn6U-8"
      },
      "source": [
        "> REF does not improve the model. Since the three feature selections did not improve the model's performance, I will proceed to the next step of hyperparameter tuning with all features."
      ]
    },
    {
      "cell_type": "code",
      "source": [
        "# Create a Random Forest Classifier with balanced class weights\n",
        "rf_bal = RandomForestClassifier(class_weight='balanced', random_state=123)\n",
        "\n",
        "# Fit the model on the training data\n",
        "rf_bal.fit(X_train, y_train)\n",
        "\n",
        "# Make predictions on the testing data\n",
        "y_pred = rf_bal.predict(X_test)\n",
        "\n",
        "# Print the model's performance metrics\n",
        "print_performance_metrics(y_test, y_pred)\n"
      ],
      "metadata": {
        "colab": {
          "base_uri": "https://localhost:8080/"
        },
        "id": "ma79zq2sqS_B",
        "outputId": "bd1aaf01-1f6b-40f3-db3f-ae701592cb20"
      },
      "id": "ma79zq2sqS_B",
      "execution_count": null,
      "outputs": [
        {
          "output_type": "stream",
          "name": "stdout",
          "text": [
            "Accuracy: 0.813\n",
            "Precision: 0.556\n",
            "Recall: 0.112\n",
            "F1 Score: 0.187\n"
          ]
        }
      ]
    },
    {
      "cell_type": "markdown",
      "source": [
        "### Under sampling"
      ],
      "metadata": {
        "id": "ayp-_DPBsylh"
      },
      "id": "ayp-_DPBsylh"
    },
    {
      "cell_type": "code",
      "source": [
        "from imblearn.under_sampling import RandomUnderSampler\n",
        "import pandas as pd\n",
        "\n",
        "# Create an instance of the RandomUnderSampler\n",
        "undersampler = RandomUnderSampler()\n",
        "\n",
        "# Verify the class distribution before undersampling\n",
        "print(\"Class distribution before undersampling:\")\n",
        "print(y_train.value_counts())\n",
        "\n",
        "# Apply undersampling to the training data\n",
        "X_train_undersampled, y_train_undersampled = undersampler.fit_resample(X_train, y_train)\n",
        "\n",
        "# Verify the class distribution after undersampling\n",
        "print(\"Class distribution after undersampling:\")\n",
        "print(pd.Series(y_train_undersampled).value_counts())\n"
      ],
      "metadata": {
        "colab": {
          "base_uri": "https://localhost:8080/"
        },
        "id": "T1gznFwDr6lG",
        "outputId": "dcde5872-4bab-4457-c7c1-f7cffae11921"
      },
      "id": "T1gznFwDr6lG",
      "execution_count": null,
      "outputs": [
        {
          "output_type": "stream",
          "name": "stdout",
          "text": [
            "Class distribution before undersampling:\n",
            "0    11272\n",
            "1     2498\n",
            "Name: FoodDesert, dtype: int64\n",
            "Class distribution after undersampling:\n",
            "0    2498\n",
            "1    2498\n",
            "Name: FoodDesert, dtype: int64\n"
          ]
        }
      ]
    },
    {
      "cell_type": "markdown",
      "source": [
        "####  New Baseline with undersampling"
      ],
      "metadata": {
        "id": "2y2INR8zsyL3"
      },
      "id": "2y2INR8zsyL3"
    },
    {
      "cell_type": "code",
      "source": [
        "# Train a new model on the undersampled data\n",
        "rf_undersampled = RandomForestClassifier(random_state=123)\n",
        "rf_undersampled.fit(X_train_undersampled, y_train_undersampled)\n",
        "\n",
        "# Evaluate the model on the original test data\n",
        "y_pred_undersampled = rf_undersampled.predict(X_test)\n",
        "print_performance_metrics(y_test, y_pred_undersampled)\n"
      ],
      "metadata": {
        "colab": {
          "base_uri": "https://localhost:8080/"
        },
        "id": "V34V_3oTskK3",
        "outputId": "a0fd2a9c-e08a-4266-98a3-1cb192fb200e"
      },
      "id": "V34V_3oTskK3",
      "execution_count": null,
      "outputs": [
        {
          "output_type": "stream",
          "name": "stdout",
          "text": [
            "Accuracy: 0.672\n",
            "Precision: 0.337\n",
            "Recall: 0.739\n",
            "F1 Score: 0.462\n"
          ]
        }
      ]
    },
    {
      "cell_type": "markdown",
      "source": [
        "#### Feature Selection"
      ],
      "metadata": {
        "id": "FMSa2wdC2m2w"
      },
      "id": "FMSa2wdC2m2w"
    },
    {
      "cell_type": "code",
      "source": [
        "# Store the initial feature scores\n",
        "feature_scores = pd.Series(rf_undersampled.feature_importances_, index=X_train_undersampled.columns).sort_values(ascending=False)\n",
        "\n",
        "# Initialize variables to track the best accuracy and the corresponding feature set\n",
        "best_accuracy = 0\n",
        "best_precision = 0\n",
        "best_recall = 0\n",
        "best_f1_score = 0\n",
        "best_feature_set = []\n",
        "\n",
        "# Create a list to store the dropped features and accuracies\n",
        "dropped_features = []\n",
        "accuracies = []\n",
        "precisions = []\n",
        "recalls = []\n",
        "f1_scores = []\n",
        "\n",
        "# Iterate over each feature to drop\n",
        "for feature in feature_scores.index:\n",
        "    # Create a new feature set by dropping the current feature\n",
        "    selected_features = [f for f in X_train_undersampled.columns if f not in [feature]]\n",
        "    X_train_subset = X_train_undersampled[selected_features]\n",
        "    X_test_subset = X_test[selected_features]\n",
        "\n",
        "    # Train a new Random Forest model with the selected features\n",
        "    rf = RandomForestClassifier(n_estimators=100, random_state=123)\n",
        "    rf.fit(X_train_subset, y_train_undersampled)\n",
        "\n",
        "    # Evaluate the model on the test set\n",
        "    y_pred = rf.predict(X_test_subset)\n",
        "\n",
        "    # Calculate performance metrics for the model\n",
        "    accuracy = accuracy_score(y_test, y_pred)\n",
        "    precision = precision_score(y_test, y_pred)\n",
        "    recall = recall_score(y_test, y_pred)\n",
        "    f1 = f1_score(y_test, y_pred)\n",
        "\n",
        "    # Check if the current accuracy is better than the previous best accuracy\n",
        "    if accuracy > best_accuracy:\n",
        "        best_accuracy = accuracy\n",
        "        best_precision = precision\n",
        "        best_recall = recall\n",
        "        best_f1_score = f1\n",
        "        best_feature_set = selected_features\n",
        "\n",
        "    # Store the dropped feature and its corresponding accuracy\n",
        "    dropped_features.append(feature)\n",
        "    accuracies.append(accuracy)\n",
        "    precisions.append(precision)\n",
        "    recalls.append(recall)\n",
        "    f1_scores.append(f1)\n"
      ],
      "metadata": {
        "id": "siS2h81Xtx5j"
      },
      "id": "siS2h81Xtx5j",
      "execution_count": null,
      "outputs": []
    },
    {
      "cell_type": "code",
      "source": [
        "# Print the dropped features\n",
        "dropped_features = [col for col in X_train.columns if col not in best_feature_set]\n",
        "\n",
        "# Print the metrics and the corresponding feature set\n",
        "print(\"Dropped features:\", dropped_features)\n",
        "print_performance_metrics(y_test, y_pred)\n",
        "# print(\"Best feature set:\", best_feature_set)"
      ],
      "metadata": {
        "colab": {
          "base_uri": "https://localhost:8080/"
        },
        "id": "05oecoVN24Yw",
        "outputId": "3deaff97-bbfc-441c-eb5c-18909817f527"
      },
      "id": "05oecoVN24Yw",
      "execution_count": null,
      "outputs": [
        {
          "output_type": "stream",
          "name": "stdout",
          "text": [
            "Dropped features: ['log10_TractNHOPI']\n",
            "Accuracy: 0.676\n",
            "Precision: 0.340\n",
            "Recall: 0.737\n",
            "F1 Score: 0.465\n"
          ]
        }
      ]
    },
    {
      "cell_type": "markdown",
      "id": "09719d3e",
      "metadata": {
        "id": "09719d3e"
      },
      "source": [
        "### Hyperparameter tuning"
      ]
    },
    {
      "cell_type": "code",
      "execution_count": null,
      "id": "0200ccba",
      "metadata": {
        "id": "0200ccba"
      },
      "outputs": [],
      "source": [
        "# evaluating the performance of a classification model on both training and testing datasets\n",
        "from sklearn.metrics import accuracy_score, confusion_matrix, classification_report\n",
        "\n",
        "def print_score(clf, X_train, y_train, X_test, y_test, train=True):\n",
        "    if train:\n",
        "        pred = clf.predict(X_train)\n",
        "        clf_report = pd.DataFrame(classification_report(y_train, pred, output_dict=True))\n",
        "        print(\"Train Result:\\n==========================================================\")\n",
        "        print(f\"Accuracy Score: {accuracy_score(y_train, pred):.3f}\")\n",
        "        print(\"__________________________________________________________\")\n",
        "        print(f\"CLASSIFICATION REPORT:\\n{clf_report}\")\n",
        "        print(\"__________________________________________________________\")\n",
        "        print(f\"Confusion Matrix: \\n {confusion_matrix(y_train, pred)}\\n\")\n",
        "\n",
        "    elif train==False:\n",
        "        pred = clf.predict(X_test)\n",
        "        clf_report = pd.DataFrame(classification_report(y_test, pred, output_dict=True))\n",
        "        print(\"Test Result:\\n==========================================================\")\n",
        "        print(f\"Accuracy Score: {accuracy_score(y_test, pred):.3f}\")\n",
        "        print(\"_________________________________________________________\")\n",
        "        print(f\"CLASSIFICATION REPORT:\\n{clf_report}\")\n",
        "        print(\"_________________________________________________________\")\n",
        "        print(f\"Confusion Matrix: \\n {confusion_matrix(y_test, pred)}\\n\")"
      ]
    },
    {
      "cell_type": "markdown",
      "id": "4c20dab8",
      "metadata": {
        "id": "4c20dab8"
      },
      "source": [
        "#### Randomized Search Cross Validation"
      ]
    },
    {
      "cell_type": "code",
      "execution_count": null,
      "id": "89bac832",
      "metadata": {
        "colab": {
          "base_uri": "https://localhost:8080/",
          "height": 147
        },
        "id": "89bac832",
        "outputId": "ddbbbafc-19b5-42ed-b26c-c5cdbe9b7696"
      },
      "outputs": [
        {
          "output_type": "stream",
          "name": "stdout",
          "text": [
            "Fitting 5 folds for each of 200 candidates, totalling 1000 fits\n",
            "Best parameters: {'n_estimators': 490, 'min_samples_split': 5, 'min_samples_leaf': 2, 'max_features': 'auto', 'max_depth': None, 'bootstrap': True}\n"
          ]
        },
        {
          "output_type": "execute_result",
          "data": {
            "text/plain": [
              "RandomForestClassifier(max_features='auto', min_samples_leaf=2,\n",
              "                       min_samples_split=5, n_estimators=490, random_state=123)"
            ],
            "text/html": [
              "<style>#sk-container-id-1 {color: black;background-color: white;}#sk-container-id-1 pre{padding: 0;}#sk-container-id-1 div.sk-toggleable {background-color: white;}#sk-container-id-1 label.sk-toggleable__label {cursor: pointer;display: block;width: 100%;margin-bottom: 0;padding: 0.3em;box-sizing: border-box;text-align: center;}#sk-container-id-1 label.sk-toggleable__label-arrow:before {content: \"▸\";float: left;margin-right: 0.25em;color: #696969;}#sk-container-id-1 label.sk-toggleable__label-arrow:hover:before {color: black;}#sk-container-id-1 div.sk-estimator:hover label.sk-toggleable__label-arrow:before {color: black;}#sk-container-id-1 div.sk-toggleable__content {max-height: 0;max-width: 0;overflow: hidden;text-align: left;background-color: #f0f8ff;}#sk-container-id-1 div.sk-toggleable__content pre {margin: 0.2em;color: black;border-radius: 0.25em;background-color: #f0f8ff;}#sk-container-id-1 input.sk-toggleable__control:checked~div.sk-toggleable__content {max-height: 200px;max-width: 100%;overflow: auto;}#sk-container-id-1 input.sk-toggleable__control:checked~label.sk-toggleable__label-arrow:before {content: \"▾\";}#sk-container-id-1 div.sk-estimator input.sk-toggleable__control:checked~label.sk-toggleable__label {background-color: #d4ebff;}#sk-container-id-1 div.sk-label input.sk-toggleable__control:checked~label.sk-toggleable__label {background-color: #d4ebff;}#sk-container-id-1 input.sk-hidden--visually {border: 0;clip: rect(1px 1px 1px 1px);clip: rect(1px, 1px, 1px, 1px);height: 1px;margin: -1px;overflow: hidden;padding: 0;position: absolute;width: 1px;}#sk-container-id-1 div.sk-estimator {font-family: monospace;background-color: #f0f8ff;border: 1px dotted black;border-radius: 0.25em;box-sizing: border-box;margin-bottom: 0.5em;}#sk-container-id-1 div.sk-estimator:hover {background-color: #d4ebff;}#sk-container-id-1 div.sk-parallel-item::after {content: \"\";width: 100%;border-bottom: 1px solid gray;flex-grow: 1;}#sk-container-id-1 div.sk-label:hover label.sk-toggleable__label {background-color: #d4ebff;}#sk-container-id-1 div.sk-serial::before {content: \"\";position: absolute;border-left: 1px solid gray;box-sizing: border-box;top: 0;bottom: 0;left: 50%;z-index: 0;}#sk-container-id-1 div.sk-serial {display: flex;flex-direction: column;align-items: center;background-color: white;padding-right: 0.2em;padding-left: 0.2em;position: relative;}#sk-container-id-1 div.sk-item {position: relative;z-index: 1;}#sk-container-id-1 div.sk-parallel {display: flex;align-items: stretch;justify-content: center;background-color: white;position: relative;}#sk-container-id-1 div.sk-item::before, #sk-container-id-1 div.sk-parallel-item::before {content: \"\";position: absolute;border-left: 1px solid gray;box-sizing: border-box;top: 0;bottom: 0;left: 50%;z-index: -1;}#sk-container-id-1 div.sk-parallel-item {display: flex;flex-direction: column;z-index: 1;position: relative;background-color: white;}#sk-container-id-1 div.sk-parallel-item:first-child::after {align-self: flex-end;width: 50%;}#sk-container-id-1 div.sk-parallel-item:last-child::after {align-self: flex-start;width: 50%;}#sk-container-id-1 div.sk-parallel-item:only-child::after {width: 0;}#sk-container-id-1 div.sk-dashed-wrapped {border: 1px dashed gray;margin: 0 0.4em 0.5em 0.4em;box-sizing: border-box;padding-bottom: 0.4em;background-color: white;}#sk-container-id-1 div.sk-label label {font-family: monospace;font-weight: bold;display: inline-block;line-height: 1.2em;}#sk-container-id-1 div.sk-label-container {text-align: center;}#sk-container-id-1 div.sk-container {/* jupyter's `normalize.less` sets `[hidden] { display: none; }` but bootstrap.min.css set `[hidden] { display: none !important; }` so we also need the `!important` here to be able to override the default hidden behavior on the sphinx rendered scikit-learn.org. See: https://github.com/scikit-learn/scikit-learn/issues/21755 */display: inline-block !important;position: relative;}#sk-container-id-1 div.sk-text-repr-fallback {display: none;}</style><div id=\"sk-container-id-1\" class=\"sk-top-container\"><div class=\"sk-text-repr-fallback\"><pre>RandomForestClassifier(max_features=&#x27;auto&#x27;, min_samples_leaf=2,\n",
              "                       min_samples_split=5, n_estimators=490, random_state=123)</pre><b>In a Jupyter environment, please rerun this cell to show the HTML representation or trust the notebook. <br />On GitHub, the HTML representation is unable to render, please try loading this page with nbviewer.org.</b></div><div class=\"sk-container\" hidden><div class=\"sk-item\"><div class=\"sk-estimator sk-toggleable\"><input class=\"sk-toggleable__control sk-hidden--visually\" id=\"sk-estimator-id-1\" type=\"checkbox\" checked><label for=\"sk-estimator-id-1\" class=\"sk-toggleable__label sk-toggleable__label-arrow\">RandomForestClassifier</label><div class=\"sk-toggleable__content\"><pre>RandomForestClassifier(max_features=&#x27;auto&#x27;, min_samples_leaf=2,\n",
              "                       min_samples_split=5, n_estimators=490, random_state=123)</pre></div></div></div></div></div>"
            ]
          },
          "metadata": {},
          "execution_count": 23
        }
      ],
      "source": [
        "from sklearn.model_selection import RandomizedSearchCV\n",
        "from sklearn.ensemble import RandomForestClassifier\n",
        "\n",
        "# Define the hyperparameter search space\n",
        "n_estimators = [int(x) for x in np.linspace(start=50, stop=500, num=50)]\n",
        "max_features = ['auto', 'sqrt']\n",
        "max_depth = [int(x) for x in np.linspace(2, 7, num=1)]\n",
        "max_depth.append(None)\n",
        "min_samples_split = [2, 5, 10]\n",
        "min_samples_leaf = [1, 2, 4]\n",
        "bootstrap = [True, False]\n",
        "\n",
        "random_grid = {\n",
        "    'n_estimators': n_estimators,\n",
        "    'max_features': max_features,\n",
        "    'max_depth': max_depth,\n",
        "    'min_samples_split': min_samples_split,\n",
        "    'min_samples_leaf': min_samples_leaf,\n",
        "    'bootstrap': bootstrap\n",
        "}\n",
        "\n",
        "# Create the base random forest classifier\n",
        "rf_clf = RandomForestClassifier(random_state=123)\n",
        "\n",
        "# Perform randomized search cross-validation\n",
        "rf_cv = RandomizedSearchCV(\n",
        "    estimator=rf_clf,\n",
        "    scoring='accuracy',\n",
        "    param_distributions=random_grid,\n",
        "    n_iter=200,\n",
        "    cv=5,\n",
        "    verbose=1,\n",
        "    random_state=123,\n",
        "    n_jobs=-1\n",
        ")\n",
        "\n",
        "# Fit the randomized search CV on the undersampled data\n",
        "rf_cv.fit(X_train_undersampled, y_train_undersampled)\n",
        "rf_best_params = rf_cv.best_params_\n",
        "print(f\"Best parameters: {rf_best_params}\")\n",
        "\n",
        "# Create a random forest classifier with the best parameters\n",
        "rf_clf_best = RandomForestClassifier(**rf_best_params, random_state=123)\n",
        "\n",
        "# Fit the classifier on the undersampled data\n",
        "rf_clf_best.fit(X_train_undersampled, y_train_undersampled)\n"
      ]
    },
    {
      "cell_type": "code",
      "execution_count": null,
      "id": "d6f30eeb",
      "metadata": {
        "colab": {
          "base_uri": "https://localhost:8080/"
        },
        "id": "d6f30eeb",
        "outputId": "856f0922-bb4a-4bc6-8131-eeb45dd9dad9"
      },
      "outputs": [
        {
          "output_type": "execute_result",
          "data": {
            "text/plain": [
              "['rf_rural.pkl']"
            ]
          },
          "metadata": {},
          "execution_count": 24
        }
      ],
      "source": [
        "# Save the model to a file\n",
        "from joblib import dump\n",
        "\n",
        "dump(rf_clf_best, 'rf_rural.pkl')"
      ]
    },
    {
      "cell_type": "code",
      "execution_count": null,
      "id": "d6a64b92",
      "metadata": {
        "colab": {
          "base_uri": "https://localhost:8080/"
        },
        "id": "d6a64b92",
        "outputId": "ddca932a-afb2-44ef-9459-cd6434c6df89"
      },
      "outputs": [
        {
          "output_type": "stream",
          "name": "stdout",
          "text": [
            "Accuracy: 0.675\n",
            "Precision: 0.340\n",
            "Recall: 0.743\n",
            "F1 Score: 0.467\n",
            "Train Result:\n",
            "==========================================================\n",
            "Accuracy Score: 0.788\n",
            "__________________________________________________________\n",
            "CLASSIFICATION REPORT:\n",
            "                      0            1  accuracy     macro avg  weighted avg\n",
            "precision      0.998806     0.460911  0.787945      0.729858      0.901227\n",
            "recall         0.741838     0.995997  0.787945      0.868917      0.787945\n",
            "f1-score       0.851354     0.630193  0.787945      0.740773      0.811233\n",
            "support    11272.000000  2498.000000  0.787945  13770.000000  13770.000000\n",
            "__________________________________________________________\n",
            "Confusion Matrix: \n",
            " [[8362 2910]\n",
            " [  10 2488]]\n",
            "\n",
            "Test Result:\n",
            "==========================================================\n",
            "Accuracy Score: 0.675\n",
            "_________________________________________________________\n",
            "CLASSIFICATION REPORT:\n",
            "                     0           1  accuracy    macro avg  weighted avg\n",
            "precision     0.915711    0.340056  0.675283     0.627883      0.805696\n",
            "recall        0.659246    0.743161  0.675283     0.701204      0.675283\n",
            "f1-score      0.766597    0.466603  0.675283     0.616600      0.709264\n",
            "support    2785.000000  658.000000  0.675283  3443.000000   3443.000000\n",
            "_________________________________________________________\n",
            "Confusion Matrix: \n",
            " [[1836  949]\n",
            " [ 169  489]]\n",
            "\n"
          ]
        }
      ],
      "source": [
        "# Print the performance metrics\n",
        "X_train, X_test, y_train, y_test = train_test_split(X, y, test_size=0.2, random_state=123)\n",
        "y_pred5 = rf_clf_best.predict(X_test)\n",
        "print_performance_metrics(y_test, y_pred5)\n",
        "\n",
        "print_score(rf_clf_best, X_train, y_train, X_test, y_test, train=True)\n",
        "print_score(rf_clf_best, X_train, y_train, X_test, y_test, train=False)"
      ]
    },
    {
      "cell_type": "markdown",
      "id": "kvyBD1w3gmWo",
      "metadata": {
        "id": "kvyBD1w3gmWo"
      },
      "source": [
        "> The rf_clf_best: accuracy 0.821.\n",
        "\n",
        ">Best parameters:'n_estimators': 224, 'min_samples_split': 10, 'min_samples_leaf': 4, 'max_features': 'sqrt', 'max_depth': None, 'bootstrap': True\n"
      ]
    },
    {
      "cell_type": "markdown",
      "id": "00d6eFoecD7E",
      "metadata": {
        "id": "00d6eFoecD7E"
      },
      "source": [
        "### Validation"
      ]
    },
    {
      "cell_type": "code",
      "execution_count": null,
      "id": "d780bf08",
      "metadata": {
        "colab": {
          "base_uri": "https://localhost:8080/"
        },
        "id": "d780bf08",
        "outputId": "a8bc86e1-7948-48f0-fdae-6ba12abe1249"
      },
      "outputs": [
        {
          "output_type": "stream",
          "name": "stdout",
          "text": [
            "Accuracy: 0.675\n",
            "Precision: 0.340\n",
            "Recall: 0.743\n",
            "F1 Score: 0.467\n",
            "Train Result:\n",
            "==========================================================\n",
            "Accuracy Score: 0.788\n",
            "__________________________________________________________\n",
            "CLASSIFICATION REPORT:\n",
            "                      0            1  accuracy     macro avg  weighted avg\n",
            "precision      0.998806     0.460911  0.787945      0.729858      0.901227\n",
            "recall         0.741838     0.995997  0.787945      0.868917      0.787945\n",
            "f1-score       0.851354     0.630193  0.787945      0.740773      0.811233\n",
            "support    11272.000000  2498.000000  0.787945  13770.000000  13770.000000\n",
            "__________________________________________________________\n",
            "Confusion Matrix: \n",
            " [[8362 2910]\n",
            " [  10 2488]]\n",
            "\n",
            "Test Result:\n",
            "==========================================================\n",
            "Accuracy Score: 0.675\n",
            "_________________________________________________________\n",
            "CLASSIFICATION REPORT:\n",
            "                     0           1  accuracy    macro avg  weighted avg\n",
            "precision     0.915711    0.340056  0.675283     0.627883      0.805696\n",
            "recall        0.659246    0.743161  0.675283     0.701204      0.675283\n",
            "f1-score      0.766597    0.466603  0.675283     0.616600      0.709264\n",
            "support    2785.000000  658.000000  0.675283  3443.000000   3443.000000\n",
            "_________________________________________________________\n",
            "Confusion Matrix: \n",
            " [[1836  949]\n",
            " [ 169  489]]\n",
            "\n"
          ]
        }
      ],
      "source": [
        "# Print the performance metrics\n",
        "X_train, X_test, y_train, y_test = train_test_split(X, y, test_size=0.2, random_state=123)\n",
        "y_pred5 = rf_clf_best.predict(X_test)\n",
        "print_performance_metrics(y_test, y_pred5)\n",
        "\n",
        "print_score(rf_clf_best, X_train, y_train, X_test, y_test, train=True)\n",
        "print_score(rf_clf_best, X_train, y_train, X_test, y_test, train=False)"
      ]
    },
    {
      "cell_type": "markdown",
      "id": "jT-6eEC99raG",
      "metadata": {
        "id": "jT-6eEC99raG"
      },
      "source": [
        "> The final model is rf_clf_best with accuracy of 0.821. not overfitting.\n",
        "\n",
        "\n",
        "The accuracy score is 0.821, which means that the model classified 82.1% of the instances correctly.\n",
        "\n",
        "The precision for class 1 is 0.816, which means that of all the instances predicted as class 1, 81.6% are actually class 1.\n",
        "\n",
        "The recall for class 1 is 0.677, which means that of all the instances that are actually class 1, the model correctly identified 67.7% of them.\n",
        "\n",
        "The F1-score is 0.740 which is not better than other model.\n"
      ]
    },
    {
      "cell_type": "markdown",
      "id": "6de51c9b",
      "metadata": {
        "id": "6de51c9b"
      },
      "source": [
        "### Visualization"
      ]
    },
    {
      "cell_type": "code",
      "execution_count": null,
      "id": "h2WxF1UIoDKD",
      "metadata": {
        "id": "h2WxF1UIoDKD"
      },
      "outputs": [],
      "source": [
        "# Load the saved model from a file\n",
        "from joblib import load\n",
        "fd_rf= load('rf_rural.pkl')"
      ]
    },
    {
      "cell_type": "code",
      "execution_count": null,
      "id": "PjALye8xogXk",
      "metadata": {
        "colab": {
          "base_uri": "https://localhost:8080/",
          "height": 1000
        },
        "id": "PjALye8xogXk",
        "outputId": "30e62e13-1400-424d-d157-7956b0c79610"
      },
      "outputs": [
        {
          "output_type": "stream",
          "name": "stdout",
          "text": [
            "Accuracy: 0.675\n",
            "Precision: 0.340\n",
            "Recall: 0.743\n",
            "F1 Score: 0.467\n"
          ]
        },
        {
          "output_type": "display_data",
          "data": {
            "text/plain": [
              "<Figure size 640x480 with 2 Axes>"
            ],
            "image/png": "[encoded data removed]"
          },
          "metadata": {}
        },
        {
          "output_type": "display_data",
          "data": {
            "text/plain": [
              "<Figure size 640x480 with 1 Axes>"
            ],
            "image/png": "[encoded data removed]"
          },
          "metadata": {}
        },
        {
          "output_type": "display_data",
          "data": {
            "text/plain": [
              "<Figure size 640x480 with 1 Axes>"
            ],
            "image/png": "[encoded data removed]"
          },
          "metadata": {}
        }
      ],
      "source": [
        "import seaborn as sns\n",
        "from sklearn.metrics import confusion_matrix, roc_curve, roc_auc_score\n",
        "\n",
        "# Evaluate the model's performance using common metrics\n",
        "y_pred = fd_rf.predict(X_test)\n",
        "# Print the model's performance metrics\n",
        "print_performance_metrics(y_test, y_pred)\n",
        "\n",
        "\n",
        "# Confusion matrix\n",
        "cm = confusion_matrix(y_test, y_pred)\n",
        "sns.heatmap(cm, annot=True, cmap='Blues', fmt='g')\n",
        "plt.xlabel('Predicted')\n",
        "plt.ylabel('True')\n",
        "plt.show()\n",
        "\n",
        "# Feature importance plot\n",
        "importances = fd_rf.feature_importances_\n",
        "std = np.std([tree.feature_importances_ for tree in fd_rf.estimators_], axis=0)\n",
        "indices = np.argsort(importances)[::-1]\n",
        "\n",
        "sns.barplot(x=importances[indices], y=X.columns[indices], color=\"b\")\n",
        "plt.title('Feature Importance')\n",
        "plt.xlabel('Relative Importance')\n",
        "plt.ylabel('Features')\n",
        "plt.show()\n",
        "\n",
        "# ROC curve\n",
        "y_pred_prob = fd_rf.predict_proba(X_test)[:, 1]\n",
        "fpr, tpr, thresholds = roc_curve(y_test, y_pred_prob)\n",
        "roc_auc = roc_auc_score(y_test, y_pred_prob)\n",
        "sns.lineplot(x=fpr, y=tpr, color='b', label='ROC curve (AUC = %0.2f)' % roc_auc)\n",
        "plt.plot([0, 1], [0, 1], 'k--')\n",
        "plt.xlim([0.0, 1.0])\n",
        "plt.ylim([0.0, 1.05])\n",
        "plt.xlabel('False Positive Rate')\n",
        "plt.ylabel('True Positive Rate')\n",
        "plt.title('Receiver Operating Characteristic (ROC) Curve')\n",
        "plt.legend(loc=\"lower right\")\n",
        "plt.show()\n"
      ]
    },
    {
      "cell_type": "code",
      "execution_count": null,
      "id": "DHin1m7mynGi",
      "metadata": {
        "colab": {
          "base_uri": "https://localhost:8080/",
          "height": 585
        },
        "id": "DHin1m7mynGi",
        "outputId": "77e47fb0-9c1a-4d56-90b8-f12eb599ac15"
      },
      "outputs": [
        {
          "output_type": "display_data",
          "data": {
            "text/plain": [
              "<Figure size 2000x1000 with 1 Axes>"
            ],
            "image/png": "[encoded data removed]"
          },
          "metadata": {}
        }
      ],
      "source": [
        "from sklearn.tree import plot_tree\n",
        "\n",
        "# Select one of the decision tree estimators from the random forest\n",
        "tree = fd_rf.estimators_[11]\n",
        "\n",
        "# Plot the selected decision tree\n",
        "plt.figure(figsize=(20, 10))\n",
        "plot_tree(tree, filled=True, feature_names=X.columns,  max_depth=2)\n",
        "plt.show()"
      ]
    }
  ],
  "metadata": {
    "colab": {
      "provenance": [],
      "toc_visible": true,
      "include_colab_link": true
    },
    "kernelspec": {
      "display_name": "Python 3 (ipykernel)",
      "language": "python",
      "name": "python3"
    },
    "language_info": {
      "codemirror_mode": {
        "name": "ipython",
        "version": 3
      },
      "file_extension": ".py",
      "mimetype": "text/x-python",
      "name": "python",
      "nbconvert_exporter": "python",
      "pygments_lexer": "ipython3",
      "version": "3.9.7"
    }
  },
  "nbformat": 4,
  "nbformat_minor": 5
}
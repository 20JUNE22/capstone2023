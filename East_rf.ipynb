{
  "cells": [
    {
      "cell_type": "markdown",
      "metadata": {
        "id": "view-in-github",
        "colab_type": "text"
      },
      "source": [
        "<a href=\"https://colab.research.google.com/github/20JUNE22/capstone2023/blob/main/East_rf.ipynb\" target=\"_parent\"><img src=\"https://colab.research.google.com/assets/colab-badge.svg\" alt=\"Open In Colab\"/></a>"
      ]
    },
    {
      "cell_type": "markdown",
      "id": "f542383a",
      "metadata": {
        "id": "f542383a"
      },
      "source": [
        "## First Model for East of Washington"
      ]
    },
    {
      "cell_type": "markdown",
      "id": "1df28cde",
      "metadata": {
        "id": "1df28cde"
      },
      "source": [
        "### Load data"
      ]
    },
    {
      "cell_type": "code",
      "execution_count": null,
      "id": "d21f307f",
      "metadata": {
        "id": "d21f307f"
      },
      "outputs": [],
      "source": [
        "import numpy as np\n",
        "import pandas as pd\n",
        "import matplotlib.pyplot as plt\n",
        "import seaborn as sns\n",
        "\n",
        "import warnings\n",
        "warnings.simplefilter(action='ignore', category=FutureWarning)"
      ]
    },
    {
      "cell_type": "code",
      "execution_count": null,
      "id": "204ae1eb",
      "metadata": {
        "colab": {
          "base_uri": "https://localhost:8080/",
          "height": 487
        },
        "id": "204ae1eb",
        "outputId": "e6ca124b-ee90-4e99-eeed-ec7f7bb10fd5"
      },
      "outputs": [
        {
          "output_type": "execute_result",
          "data": {
            "text/plain": [
              "      EastofWA  PCTGQTRS  PovertyRate  MedianFamilyIncome  TractKids  \\\n",
              "0            1      2.41         11.0               67703        534   \n",
              "1            1      0.00         18.2               62500        435   \n",
              "2            1      0.42         29.0               42900       2656   \n",
              "3            1      2.59         27.0               55521       1018   \n",
              "4            1      0.00         28.0               57831       1869   \n",
              "...        ...       ...          ...                 ...        ...   \n",
              "1434         1      1.44         29.4               52059       1441   \n",
              "1435         1      0.08         23.4               51875       1171   \n",
              "1436         1      2.76         31.2               36659       2520   \n",
              "1437         1      1.73         21.2               44451       1711   \n",
              "1438         1      0.00         31.4               45495       1852   \n",
              "\n",
              "      TractSeniors  TractWhite  TractBlack  TractAsian  TractNHOPI  ...  \\\n",
              "0              516        2326           2          11           0  ...   \n",
              "1              305        1524          24          12           2  ...   \n",
              "2              477        3747          48          15           2  ...   \n",
              "3              330        1764          13          29           0  ...   \n",
              "4              287        2342          22          58           0  ...   \n",
              "...            ...         ...         ...         ...         ...  ...   \n",
              "1434           473        1459          17          42           7  ...   \n",
              "1435           431        1164          12          13           3  ...   \n",
              "1436           440        1106          31         130           7  ...   \n",
              "1437           364        1750          30          23           0  ...   \n",
              "1438           277        1400          36          10           7  ...   \n",
              "\n",
              "      log10_TractSeniors  log10_TractWhite  log10_TractBlack  \\\n",
              "0               2.713491          3.348500          0.477121   \n",
              "1               2.485721          3.155032          1.397940   \n",
              "2               2.679428          3.562531          1.690196   \n",
              "3               2.519828          3.222456          1.146128   \n",
              "4               2.459392          3.351603          1.361728   \n",
              "...                  ...               ...               ...   \n",
              "1434            2.675778          3.134814          1.255273   \n",
              "1435            2.635484          3.028978          1.113943   \n",
              "1436            2.644439          3.004751          1.505150   \n",
              "1437            2.562293          3.218798          1.491362   \n",
              "1438            2.444045          3.115611          1.568202   \n",
              "\n",
              "      log10_TractAsian  log10_TractNHOPI  log10_TractAIAN  log10_TractOMultir  \\\n",
              "0             1.079181          0.000000         1.397940            1.924279   \n",
              "1             1.113943          0.477121         1.041393            2.220108   \n",
              "2             1.204120          0.477121         2.217484            3.470998   \n",
              "3             1.477121          0.000000         1.707570            3.000000   \n",
              "4             1.770852          0.000000         2.037426            3.346939   \n",
              "...                ...               ...              ...                 ...   \n",
              "1434          1.633468          0.903090         3.177248            3.146748   \n",
              "1435          1.146128          0.602060         3.285557            2.748963   \n",
              "1436          2.117271          0.903090         3.007748            3.651859   \n",
              "1437          1.380211          0.000000         2.690196            3.380754   \n",
              "1438          1.041393          0.903090         2.715167            3.457579   \n",
              "\n",
              "      log10_TractHispanic  log10_TractHUNV  log10_TractSNAP  \n",
              "0                2.053078         1.944483         2.212188  \n",
              "1                2.307496         1.204120         2.103804  \n",
              "2                3.704494         2.096910         2.589950  \n",
              "3                3.295347         2.060698         2.264818  \n",
              "4                3.574031         1.041393         2.469822  \n",
              "...                   ...              ...              ...  \n",
              "1434             3.281488         1.806180         2.526339  \n",
              "1435             2.833784         1.799341         2.340444  \n",
              "1436             3.707655         2.012837         2.794488  \n",
              "1437             3.555820         1.924279         2.652246  \n",
              "1438             3.609914         1.924279         2.720986  \n",
              "\n",
              "[1439 rows x 30 columns]"
            ],
            "text/html": [
              "\n",
              "  <div id=\"df-c4ed3c90-f37f-4647-8e3c-974fe8516ecb\">\n",
              "    <div class=\"colab-df-container\">\n",
              "      <div>\n",
              "<style scoped>\n",
              "    .dataframe tbody tr th:only-of-type {\n",
              "        vertical-align: middle;\n",
              "    }\n",
              "\n",
              "    .dataframe tbody tr th {\n",
              "        vertical-align: top;\n",
              "    }\n",
              "\n",
              "    .dataframe thead th {\n",
              "        text-align: right;\n",
              "    }\n",
              "</style>\n",
              "<table border=\"1\" class=\"dataframe\">\n",
              "  <thead>\n",
              "    <tr style=\"text-align: right;\">\n",
              "      <th></th>\n",
              "      <th>EastofWA</th>\n",
              "      <th>PCTGQTRS</th>\n",
              "      <th>PovertyRate</th>\n",
              "      <th>MedianFamilyIncome</th>\n",
              "      <th>TractKids</th>\n",
              "      <th>TractSeniors</th>\n",
              "      <th>TractWhite</th>\n",
              "      <th>TractBlack</th>\n",
              "      <th>TractAsian</th>\n",
              "      <th>TractNHOPI</th>\n",
              "      <th>...</th>\n",
              "      <th>log10_TractSeniors</th>\n",
              "      <th>log10_TractWhite</th>\n",
              "      <th>log10_TractBlack</th>\n",
              "      <th>log10_TractAsian</th>\n",
              "      <th>log10_TractNHOPI</th>\n",
              "      <th>log10_TractAIAN</th>\n",
              "      <th>log10_TractOMultir</th>\n",
              "      <th>log10_TractHispanic</th>\n",
              "      <th>log10_TractHUNV</th>\n",
              "      <th>log10_TractSNAP</th>\n",
              "    </tr>\n",
              "  </thead>\n",
              "  <tbody>\n",
              "    <tr>\n",
              "      <th>0</th>\n",
              "      <td>1</td>\n",
              "      <td>2.41</td>\n",
              "      <td>11.0</td>\n",
              "      <td>67703</td>\n",
              "      <td>534</td>\n",
              "      <td>516</td>\n",
              "      <td>2326</td>\n",
              "      <td>2</td>\n",
              "      <td>11</td>\n",
              "      <td>0</td>\n",
              "      <td>...</td>\n",
              "      <td>2.713491</td>\n",
              "      <td>3.348500</td>\n",
              "      <td>0.477121</td>\n",
              "      <td>1.079181</td>\n",
              "      <td>0.000000</td>\n",
              "      <td>1.397940</td>\n",
              "      <td>1.924279</td>\n",
              "      <td>2.053078</td>\n",
              "      <td>1.944483</td>\n",
              "      <td>2.212188</td>\n",
              "    </tr>\n",
              "    <tr>\n",
              "      <th>1</th>\n",
              "      <td>1</td>\n",
              "      <td>0.00</td>\n",
              "      <td>18.2</td>\n",
              "      <td>62500</td>\n",
              "      <td>435</td>\n",
              "      <td>305</td>\n",
              "      <td>1524</td>\n",
              "      <td>24</td>\n",
              "      <td>12</td>\n",
              "      <td>2</td>\n",
              "      <td>...</td>\n",
              "      <td>2.485721</td>\n",
              "      <td>3.155032</td>\n",
              "      <td>1.397940</td>\n",
              "      <td>1.113943</td>\n",
              "      <td>0.477121</td>\n",
              "      <td>1.041393</td>\n",
              "      <td>2.220108</td>\n",
              "      <td>2.307496</td>\n",
              "      <td>1.204120</td>\n",
              "      <td>2.103804</td>\n",
              "    </tr>\n",
              "    <tr>\n",
              "      <th>2</th>\n",
              "      <td>1</td>\n",
              "      <td>0.42</td>\n",
              "      <td>29.0</td>\n",
              "      <td>42900</td>\n",
              "      <td>2656</td>\n",
              "      <td>477</td>\n",
              "      <td>3747</td>\n",
              "      <td>48</td>\n",
              "      <td>15</td>\n",
              "      <td>2</td>\n",
              "      <td>...</td>\n",
              "      <td>2.679428</td>\n",
              "      <td>3.562531</td>\n",
              "      <td>1.690196</td>\n",
              "      <td>1.204120</td>\n",
              "      <td>0.477121</td>\n",
              "      <td>2.217484</td>\n",
              "      <td>3.470998</td>\n",
              "      <td>3.704494</td>\n",
              "      <td>2.096910</td>\n",
              "      <td>2.589950</td>\n",
              "    </tr>\n",
              "    <tr>\n",
              "      <th>3</th>\n",
              "      <td>1</td>\n",
              "      <td>2.59</td>\n",
              "      <td>27.0</td>\n",
              "      <td>55521</td>\n",
              "      <td>1018</td>\n",
              "      <td>330</td>\n",
              "      <td>1764</td>\n",
              "      <td>13</td>\n",
              "      <td>29</td>\n",
              "      <td>0</td>\n",
              "      <td>...</td>\n",
              "      <td>2.519828</td>\n",
              "      <td>3.222456</td>\n",
              "      <td>1.146128</td>\n",
              "      <td>1.477121</td>\n",
              "      <td>0.000000</td>\n",
              "      <td>1.707570</td>\n",
              "      <td>3.000000</td>\n",
              "      <td>3.295347</td>\n",
              "      <td>2.060698</td>\n",
              "      <td>2.264818</td>\n",
              "    </tr>\n",
              "    <tr>\n",
              "      <th>4</th>\n",
              "      <td>1</td>\n",
              "      <td>0.00</td>\n",
              "      <td>28.0</td>\n",
              "      <td>57831</td>\n",
              "      <td>1869</td>\n",
              "      <td>287</td>\n",
              "      <td>2342</td>\n",
              "      <td>22</td>\n",
              "      <td>58</td>\n",
              "      <td>0</td>\n",
              "      <td>...</td>\n",
              "      <td>2.459392</td>\n",
              "      <td>3.351603</td>\n",
              "      <td>1.361728</td>\n",
              "      <td>1.770852</td>\n",
              "      <td>0.000000</td>\n",
              "      <td>2.037426</td>\n",
              "      <td>3.346939</td>\n",
              "      <td>3.574031</td>\n",
              "      <td>1.041393</td>\n",
              "      <td>2.469822</td>\n",
              "    </tr>\n",
              "    <tr>\n",
              "      <th>...</th>\n",
              "      <td>...</td>\n",
              "      <td>...</td>\n",
              "      <td>...</td>\n",
              "      <td>...</td>\n",
              "      <td>...</td>\n",
              "      <td>...</td>\n",
              "      <td>...</td>\n",
              "      <td>...</td>\n",
              "      <td>...</td>\n",
              "      <td>...</td>\n",
              "      <td>...</td>\n",
              "      <td>...</td>\n",
              "      <td>...</td>\n",
              "      <td>...</td>\n",
              "      <td>...</td>\n",
              "      <td>...</td>\n",
              "      <td>...</td>\n",
              "      <td>...</td>\n",
              "      <td>...</td>\n",
              "      <td>...</td>\n",
              "      <td>...</td>\n",
              "    </tr>\n",
              "    <tr>\n",
              "      <th>1434</th>\n",
              "      <td>1</td>\n",
              "      <td>1.44</td>\n",
              "      <td>29.4</td>\n",
              "      <td>52059</td>\n",
              "      <td>1441</td>\n",
              "      <td>473</td>\n",
              "      <td>1459</td>\n",
              "      <td>17</td>\n",
              "      <td>42</td>\n",
              "      <td>7</td>\n",
              "      <td>...</td>\n",
              "      <td>2.675778</td>\n",
              "      <td>3.134814</td>\n",
              "      <td>1.255273</td>\n",
              "      <td>1.633468</td>\n",
              "      <td>0.903090</td>\n",
              "      <td>3.177248</td>\n",
              "      <td>3.146748</td>\n",
              "      <td>3.281488</td>\n",
              "      <td>1.806180</td>\n",
              "      <td>2.526339</td>\n",
              "    </tr>\n",
              "    <tr>\n",
              "      <th>1435</th>\n",
              "      <td>1</td>\n",
              "      <td>0.08</td>\n",
              "      <td>23.4</td>\n",
              "      <td>51875</td>\n",
              "      <td>1171</td>\n",
              "      <td>431</td>\n",
              "      <td>1164</td>\n",
              "      <td>12</td>\n",
              "      <td>13</td>\n",
              "      <td>3</td>\n",
              "      <td>...</td>\n",
              "      <td>2.635484</td>\n",
              "      <td>3.028978</td>\n",
              "      <td>1.113943</td>\n",
              "      <td>1.146128</td>\n",
              "      <td>0.602060</td>\n",
              "      <td>3.285557</td>\n",
              "      <td>2.748963</td>\n",
              "      <td>2.833784</td>\n",
              "      <td>1.799341</td>\n",
              "      <td>2.340444</td>\n",
              "    </tr>\n",
              "    <tr>\n",
              "      <th>1436</th>\n",
              "      <td>1</td>\n",
              "      <td>2.76</td>\n",
              "      <td>31.2</td>\n",
              "      <td>36659</td>\n",
              "      <td>2520</td>\n",
              "      <td>440</td>\n",
              "      <td>1106</td>\n",
              "      <td>31</td>\n",
              "      <td>130</td>\n",
              "      <td>7</td>\n",
              "      <td>...</td>\n",
              "      <td>2.644439</td>\n",
              "      <td>3.004751</td>\n",
              "      <td>1.505150</td>\n",
              "      <td>2.117271</td>\n",
              "      <td>0.903090</td>\n",
              "      <td>3.007748</td>\n",
              "      <td>3.651859</td>\n",
              "      <td>3.707655</td>\n",
              "      <td>2.012837</td>\n",
              "      <td>2.794488</td>\n",
              "    </tr>\n",
              "    <tr>\n",
              "      <th>1437</th>\n",
              "      <td>1</td>\n",
              "      <td>1.73</td>\n",
              "      <td>21.2</td>\n",
              "      <td>44451</td>\n",
              "      <td>1711</td>\n",
              "      <td>364</td>\n",
              "      <td>1750</td>\n",
              "      <td>30</td>\n",
              "      <td>23</td>\n",
              "      <td>0</td>\n",
              "      <td>...</td>\n",
              "      <td>2.562293</td>\n",
              "      <td>3.218798</td>\n",
              "      <td>1.491362</td>\n",
              "      <td>1.380211</td>\n",
              "      <td>0.000000</td>\n",
              "      <td>2.690196</td>\n",
              "      <td>3.380754</td>\n",
              "      <td>3.555820</td>\n",
              "      <td>1.924279</td>\n",
              "      <td>2.652246</td>\n",
              "    </tr>\n",
              "    <tr>\n",
              "      <th>1438</th>\n",
              "      <td>1</td>\n",
              "      <td>0.00</td>\n",
              "      <td>31.4</td>\n",
              "      <td>45495</td>\n",
              "      <td>1852</td>\n",
              "      <td>277</td>\n",
              "      <td>1400</td>\n",
              "      <td>36</td>\n",
              "      <td>10</td>\n",
              "      <td>7</td>\n",
              "      <td>...</td>\n",
              "      <td>2.444045</td>\n",
              "      <td>3.115611</td>\n",
              "      <td>1.568202</td>\n",
              "      <td>1.041393</td>\n",
              "      <td>0.903090</td>\n",
              "      <td>2.715167</td>\n",
              "      <td>3.457579</td>\n",
              "      <td>3.609914</td>\n",
              "      <td>1.924279</td>\n",
              "      <td>2.720986</td>\n",
              "    </tr>\n",
              "  </tbody>\n",
              "</table>\n",
              "<p>1439 rows × 30 columns</p>\n",
              "</div>\n",
              "      <button class=\"colab-df-convert\" onclick=\"convertToInteractive('df-c4ed3c90-f37f-4647-8e3c-974fe8516ecb')\"\n",
              "              title=\"Convert this dataframe to an interactive table.\"\n",
              "              style=\"display:none;\">\n",
              "        \n",
              "  <svg xmlns=\"http://www.w3.org/2000/svg\" height=\"24px\"viewBox=\"0 0 24 24\"\n",
              "       width=\"24px\">\n",
              "    <path d=\"M0 0h24v24H0V0z\" fill=\"none\"/>\n",
              "    <path d=\"M18.56 5.44l.94 2.06.94-2.06 2.06-.94-2.06-.94-.94-2.06-.94 2.06-2.06.94zm-11 1L8.5 8.5l.94-2.06 2.06-.94-2.06-.94L8.5 2.5l-.94 2.06-2.06.94zm10 10l.94 2.06.94-2.06 2.06-.94-2.06-.94-.94-2.06-.94 2.06-2.06.94z\"/><path d=\"M17.41 7.96l-1.37-1.37c-.4-.4-.92-.59-1.43-.59-.52 0-1.04.2-1.43.59L10.3 9.45l-7.72 7.72c-.78.78-.78 2.05 0 2.83L4 21.41c.39.39.9.59 1.41.59.51 0 1.02-.2 1.41-.59l7.78-7.78 2.81-2.81c.8-.78.8-2.07 0-2.86zM5.41 20L4 18.59l7.72-7.72 1.47 1.35L5.41 20z\"/>\n",
              "  </svg>\n",
              "      </button>\n",
              "      \n",
              "  <style>\n",
              "    .colab-df-container {\n",
              "      display:flex;\n",
              "      flex-wrap:wrap;\n",
              "      gap: 12px;\n",
              "    }\n",
              "\n",
              "    .colab-df-convert {\n",
              "      background-color: #E8F0FE;\n",
              "      border: none;\n",
              "      border-radius: 50%;\n",
              "      cursor: pointer;\n",
              "      display: none;\n",
              "      fill: #1967D2;\n",
              "      height: 32px;\n",
              "      padding: 0 0 0 0;\n",
              "      width: 32px;\n",
              "    }\n",
              "\n",
              "    .colab-df-convert:hover {\n",
              "      background-color: #E2EBFA;\n",
              "      box-shadow: 0px 1px 2px rgba(60, 64, 67, 0.3), 0px 1px 3px 1px rgba(60, 64, 67, 0.15);\n",
              "      fill: #174EA6;\n",
              "    }\n",
              "\n",
              "    [theme=dark] .colab-df-convert {\n",
              "      background-color: #3B4455;\n",
              "      fill: #D2E3FC;\n",
              "    }\n",
              "\n",
              "    [theme=dark] .colab-df-convert:hover {\n",
              "      background-color: #434B5C;\n",
              "      box-shadow: 0px 1px 3px 1px rgba(0, 0, 0, 0.15);\n",
              "      filter: drop-shadow(0px 1px 2px rgba(0, 0, 0, 0.3));\n",
              "      fill: #FFFFFF;\n",
              "    }\n",
              "  </style>\n",
              "\n",
              "      <script>\n",
              "        const buttonEl =\n",
              "          document.querySelector('#df-c4ed3c90-f37f-4647-8e3c-974fe8516ecb button.colab-df-convert');\n",
              "        buttonEl.style.display =\n",
              "          google.colab.kernel.accessAllowed ? 'block' : 'none';\n",
              "\n",
              "        async function convertToInteractive(key) {\n",
              "          const element = document.querySelector('#df-c4ed3c90-f37f-4647-8e3c-974fe8516ecb');\n",
              "          const dataTable =\n",
              "            await google.colab.kernel.invokeFunction('convertToInteractive',\n",
              "                                                     [key], {});\n",
              "          if (!dataTable) return;\n",
              "\n",
              "          const docLinkHtml = 'Like what you see? Visit the ' +\n",
              "            '<a target=\"_blank\" href=https://colab.research.google.com/notebooks/data_table.ipynb>data table notebook</a>'\n",
              "            + ' to learn more about interactive tables.';\n",
              "          element.innerHTML = '';\n",
              "          dataTable['output_type'] = 'display_data';\n",
              "          await google.colab.output.renderOutput(dataTable, element);\n",
              "          const docLink = document.createElement('div');\n",
              "          docLink.innerHTML = docLinkHtml;\n",
              "          element.appendChild(docLink);\n",
              "        }\n",
              "      </script>\n",
              "    </div>\n",
              "  </div>\n",
              "  "
            ]
          },
          "metadata": {},
          "execution_count": 2
        }
      ],
      "source": [
        "fd = pd.read_excel(\"https://github.com/20JUNE22/capstone2023/raw/main/clean_wa.xlsx\")\n",
        "\n",
        "fd"
      ]
    },
    {
      "cell_type": "code",
      "execution_count": null,
      "id": "449136e4",
      "metadata": {
        "colab": {
          "base_uri": "https://localhost:8080/",
          "height": 270
        },
        "id": "449136e4",
        "outputId": "3216e590-9c00-4164-e800-2be834d6ae1e",
        "scrolled": true
      },
      "outputs": [
        {
          "output_type": "execute_result",
          "data": {
            "text/plain": [
              "   EastofWA  FoodDesert  log10_PCTGQTRS  log10_PovertyRate  \\\n",
              "0         1           0        0.532754           1.075547   \n",
              "1         1           1        0.000000           1.281033   \n",
              "2         1           1        0.152288           1.475671   \n",
              "3         1           0        0.555094           1.445604   \n",
              "4         1           0        0.000000           1.460898   \n",
              "\n",
              "   log10_MedianFamilyIncome  log10_TractKids  log10_TractSeniors  \\\n",
              "0                  4.655551         2.719331            2.713491   \n",
              "1                  4.602494         2.628389            2.485721   \n",
              "2                  4.310481         3.422590            2.679428   \n",
              "3                  4.519316         3.003461            2.519828   \n",
              "4                  4.548647         3.269279            2.459392   \n",
              "\n",
              "   log10_TractWhite  log10_TractBlack  log10_TractAsian  log10_TractNHOPI  \\\n",
              "0          3.348500          0.477121          1.079181          0.000000   \n",
              "1          3.155032          1.397940          1.113943          0.477121   \n",
              "2          3.562531          1.690196          1.204120          0.477121   \n",
              "3          3.222456          1.146128          1.477121          0.000000   \n",
              "4          3.351603          1.361728          1.770852          0.000000   \n",
              "\n",
              "   log10_TractAIAN  log10_TractOMultir  log10_TractHispanic  log10_TractHUNV  \\\n",
              "0         1.397940            1.924279             2.053078         1.944483   \n",
              "1         1.041393            2.220108             2.307496         1.204120   \n",
              "2         2.217484            3.470998             3.704494         2.096910   \n",
              "3         1.707570            3.000000             3.295347         2.060698   \n",
              "4         2.037426            3.346939             3.574031         1.041393   \n",
              "\n",
              "   log10_TractSNAP  \n",
              "0         2.212188  \n",
              "1         2.103804  \n",
              "2         2.589950  \n",
              "3         2.264818  \n",
              "4         2.469822  "
            ],
            "text/html": [
              "\n",
              "  <div id=\"df-b65d250a-1cf3-451a-a70e-f4d18903b4a2\">\n",
              "    <div class=\"colab-df-container\">\n",
              "      <div>\n",
              "<style scoped>\n",
              "    .dataframe tbody tr th:only-of-type {\n",
              "        vertical-align: middle;\n",
              "    }\n",
              "\n",
              "    .dataframe tbody tr th {\n",
              "        vertical-align: top;\n",
              "    }\n",
              "\n",
              "    .dataframe thead th {\n",
              "        text-align: right;\n",
              "    }\n",
              "</style>\n",
              "<table border=\"1\" class=\"dataframe\">\n",
              "  <thead>\n",
              "    <tr style=\"text-align: right;\">\n",
              "      <th></th>\n",
              "      <th>EastofWA</th>\n",
              "      <th>FoodDesert</th>\n",
              "      <th>log10_PCTGQTRS</th>\n",
              "      <th>log10_PovertyRate</th>\n",
              "      <th>log10_MedianFamilyIncome</th>\n",
              "      <th>log10_TractKids</th>\n",
              "      <th>log10_TractSeniors</th>\n",
              "      <th>log10_TractWhite</th>\n",
              "      <th>log10_TractBlack</th>\n",
              "      <th>log10_TractAsian</th>\n",
              "      <th>log10_TractNHOPI</th>\n",
              "      <th>log10_TractAIAN</th>\n",
              "      <th>log10_TractOMultir</th>\n",
              "      <th>log10_TractHispanic</th>\n",
              "      <th>log10_TractHUNV</th>\n",
              "      <th>log10_TractSNAP</th>\n",
              "    </tr>\n",
              "  </thead>\n",
              "  <tbody>\n",
              "    <tr>\n",
              "      <th>0</th>\n",
              "      <td>1</td>\n",
              "      <td>0</td>\n",
              "      <td>0.532754</td>\n",
              "      <td>1.075547</td>\n",
              "      <td>4.655551</td>\n",
              "      <td>2.719331</td>\n",
              "      <td>2.713491</td>\n",
              "      <td>3.348500</td>\n",
              "      <td>0.477121</td>\n",
              "      <td>1.079181</td>\n",
              "      <td>0.000000</td>\n",
              "      <td>1.397940</td>\n",
              "      <td>1.924279</td>\n",
              "      <td>2.053078</td>\n",
              "      <td>1.944483</td>\n",
              "      <td>2.212188</td>\n",
              "    </tr>\n",
              "    <tr>\n",
              "      <th>1</th>\n",
              "      <td>1</td>\n",
              "      <td>1</td>\n",
              "      <td>0.000000</td>\n",
              "      <td>1.281033</td>\n",
              "      <td>4.602494</td>\n",
              "      <td>2.628389</td>\n",
              "      <td>2.485721</td>\n",
              "      <td>3.155032</td>\n",
              "      <td>1.397940</td>\n",
              "      <td>1.113943</td>\n",
              "      <td>0.477121</td>\n",
              "      <td>1.041393</td>\n",
              "      <td>2.220108</td>\n",
              "      <td>2.307496</td>\n",
              "      <td>1.204120</td>\n",
              "      <td>2.103804</td>\n",
              "    </tr>\n",
              "    <tr>\n",
              "      <th>2</th>\n",
              "      <td>1</td>\n",
              "      <td>1</td>\n",
              "      <td>0.152288</td>\n",
              "      <td>1.475671</td>\n",
              "      <td>4.310481</td>\n",
              "      <td>3.422590</td>\n",
              "      <td>2.679428</td>\n",
              "      <td>3.562531</td>\n",
              "      <td>1.690196</td>\n",
              "      <td>1.204120</td>\n",
              "      <td>0.477121</td>\n",
              "      <td>2.217484</td>\n",
              "      <td>3.470998</td>\n",
              "      <td>3.704494</td>\n",
              "      <td>2.096910</td>\n",
              "      <td>2.589950</td>\n",
              "    </tr>\n",
              "    <tr>\n",
              "      <th>3</th>\n",
              "      <td>1</td>\n",
              "      <td>0</td>\n",
              "      <td>0.555094</td>\n",
              "      <td>1.445604</td>\n",
              "      <td>4.519316</td>\n",
              "      <td>3.003461</td>\n",
              "      <td>2.519828</td>\n",
              "      <td>3.222456</td>\n",
              "      <td>1.146128</td>\n",
              "      <td>1.477121</td>\n",
              "      <td>0.000000</td>\n",
              "      <td>1.707570</td>\n",
              "      <td>3.000000</td>\n",
              "      <td>3.295347</td>\n",
              "      <td>2.060698</td>\n",
              "      <td>2.264818</td>\n",
              "    </tr>\n",
              "    <tr>\n",
              "      <th>4</th>\n",
              "      <td>1</td>\n",
              "      <td>0</td>\n",
              "      <td>0.000000</td>\n",
              "      <td>1.460898</td>\n",
              "      <td>4.548647</td>\n",
              "      <td>3.269279</td>\n",
              "      <td>2.459392</td>\n",
              "      <td>3.351603</td>\n",
              "      <td>1.361728</td>\n",
              "      <td>1.770852</td>\n",
              "      <td>0.000000</td>\n",
              "      <td>2.037426</td>\n",
              "      <td>3.346939</td>\n",
              "      <td>3.574031</td>\n",
              "      <td>1.041393</td>\n",
              "      <td>2.469822</td>\n",
              "    </tr>\n",
              "  </tbody>\n",
              "</table>\n",
              "</div>\n",
              "      <button class=\"colab-df-convert\" onclick=\"convertToInteractive('df-b65d250a-1cf3-451a-a70e-f4d18903b4a2')\"\n",
              "              title=\"Convert this dataframe to an interactive table.\"\n",
              "              style=\"display:none;\">\n",
              "        \n",
              "  <svg xmlns=\"http://www.w3.org/2000/svg\" height=\"24px\"viewBox=\"0 0 24 24\"\n",
              "       width=\"24px\">\n",
              "    <path d=\"M0 0h24v24H0V0z\" fill=\"none\"/>\n",
              "    <path d=\"M18.56 5.44l.94 2.06.94-2.06 2.06-.94-2.06-.94-.94-2.06-.94 2.06-2.06.94zm-11 1L8.5 8.5l.94-2.06 2.06-.94-2.06-.94L8.5 2.5l-.94 2.06-2.06.94zm10 10l.94 2.06.94-2.06 2.06-.94-2.06-.94-.94-2.06-.94 2.06-2.06.94z\"/><path d=\"M17.41 7.96l-1.37-1.37c-.4-.4-.92-.59-1.43-.59-.52 0-1.04.2-1.43.59L10.3 9.45l-7.72 7.72c-.78.78-.78 2.05 0 2.83L4 21.41c.39.39.9.59 1.41.59.51 0 1.02-.2 1.41-.59l7.78-7.78 2.81-2.81c.8-.78.8-2.07 0-2.86zM5.41 20L4 18.59l7.72-7.72 1.47 1.35L5.41 20z\"/>\n",
              "  </svg>\n",
              "      </button>\n",
              "      \n",
              "  <style>\n",
              "    .colab-df-container {\n",
              "      display:flex;\n",
              "      flex-wrap:wrap;\n",
              "      gap: 12px;\n",
              "    }\n",
              "\n",
              "    .colab-df-convert {\n",
              "      background-color: #E8F0FE;\n",
              "      border: none;\n",
              "      border-radius: 50%;\n",
              "      cursor: pointer;\n",
              "      display: none;\n",
              "      fill: #1967D2;\n",
              "      height: 32px;\n",
              "      padding: 0 0 0 0;\n",
              "      width: 32px;\n",
              "    }\n",
              "\n",
              "    .colab-df-convert:hover {\n",
              "      background-color: #E2EBFA;\n",
              "      box-shadow: 0px 1px 2px rgba(60, 64, 67, 0.3), 0px 1px 3px 1px rgba(60, 64, 67, 0.15);\n",
              "      fill: #174EA6;\n",
              "    }\n",
              "\n",
              "    [theme=dark] .colab-df-convert {\n",
              "      background-color: #3B4455;\n",
              "      fill: #D2E3FC;\n",
              "    }\n",
              "\n",
              "    [theme=dark] .colab-df-convert:hover {\n",
              "      background-color: #434B5C;\n",
              "      box-shadow: 0px 1px 3px 1px rgba(0, 0, 0, 0.15);\n",
              "      filter: drop-shadow(0px 1px 2px rgba(0, 0, 0, 0.3));\n",
              "      fill: #FFFFFF;\n",
              "    }\n",
              "  </style>\n",
              "\n",
              "      <script>\n",
              "        const buttonEl =\n",
              "          document.querySelector('#df-b65d250a-1cf3-451a-a70e-f4d18903b4a2 button.colab-df-convert');\n",
              "        buttonEl.style.display =\n",
              "          google.colab.kernel.accessAllowed ? 'block' : 'none';\n",
              "\n",
              "        async function convertToInteractive(key) {\n",
              "          const element = document.querySelector('#df-b65d250a-1cf3-451a-a70e-f4d18903b4a2');\n",
              "          const dataTable =\n",
              "            await google.colab.kernel.invokeFunction('convertToInteractive',\n",
              "                                                     [key], {});\n",
              "          if (!dataTable) return;\n",
              "\n",
              "          const docLinkHtml = 'Like what you see? Visit the ' +\n",
              "            '<a target=\"_blank\" href=https://colab.research.google.com/notebooks/data_table.ipynb>data table notebook</a>'\n",
              "            + ' to learn more about interactive tables.';\n",
              "          element.innerHTML = '';\n",
              "          dataTable['output_type'] = 'display_data';\n",
              "          await google.colab.output.renderOutput(dataTable, element);\n",
              "          const docLink = document.createElement('div');\n",
              "          docLink.innerHTML = docLinkHtml;\n",
              "          element.appendChild(docLink);\n",
              "        }\n",
              "      </script>\n",
              "    </div>\n",
              "  </div>\n",
              "  "
            ]
          },
          "metadata": {},
          "execution_count": 3
        }
      ],
      "source": [
        "# drop the irrelevant inputs\n",
        "wa = fd.drop(fd.columns[1:15], axis=1)\n",
        "\n",
        "\n",
        "wa.head()"
      ]
    },
    {
      "cell_type": "markdown",
      "id": "dcf4bbbf",
      "metadata": {
        "id": "dcf4bbbf"
      },
      "source": [
        "### Subsets for WA"
      ]
    },
    {
      "cell_type": "code",
      "execution_count": null,
      "id": "0a0516cd",
      "metadata": {
        "colab": {
          "base_uri": "https://localhost:8080/"
        },
        "id": "0a0516cd",
        "outputId": "afb57d53-21fe-433c-d02b-cb228fdde365",
        "scrolled": true
      },
      "outputs": [
        {
          "output_type": "stream",
          "name": "stdout",
          "text": [
            "    FoodDesert  log10_PCTGQTRS  log10_PovertyRate  log10_MedianFamilyIncome  \\\n",
            "61           1        1.709694           1.056905                  4.697308   \n",
            "62           1        0.471292           1.494155                  4.401900   \n",
            "63           1        0.394452           1.294466                  4.656367   \n",
            "64           1        0.113943           1.190332                  4.706650   \n",
            "65           1        0.737987           1.468347                  4.641375   \n",
            "\n",
            "    log10_TractKids  log10_TractSeniors  log10_TractWhite  log10_TractBlack  \\\n",
            "61         2.187521            2.227887          3.075912          2.390935   \n",
            "62         3.128076            2.701568          3.517855          1.462398   \n",
            "63         2.530200            2.445604          3.061075          0.845098   \n",
            "64         2.793092            2.778874          3.456518          0.845098   \n",
            "65         2.925312            2.725912          3.474944          1.633468   \n",
            "\n",
            "    log10_TractAsian  log10_TractNHOPI  log10_TractAIAN  log10_TractOMultir  \\\n",
            "61          0.954243          0.477121         2.068186            2.100371   \n",
            "62          1.732394          0.698970         2.463893            2.968483   \n",
            "63          0.903090          0.477121         2.617000            1.924279   \n",
            "64          1.431364          0.301030         2.378398            2.155336   \n",
            "65          1.724276          1.113943         2.049218            2.374748   \n",
            "\n",
            "    log10_TractHispanic  log10_TractHUNV  log10_TractSNAP  \n",
            "61             2.201397         1.176091         1.662758  \n",
            "62             3.022428         2.220108         2.564666  \n",
            "63             1.863323         1.462398         2.089905  \n",
            "64             1.903090         1.880814         2.301030  \n",
            "65             2.227887         1.913814         2.570543  \n"
          ]
        }
      ],
      "source": [
        "# Two Subsets\n",
        "east = wa[wa['EastofWA'] == 1] # Subset where EastofWA equals 1\n",
        "west = wa[wa['EastofWA'] == 0] # Subset where EastofWA equals 0\n",
        "\n",
        "# Drop the dimension\n",
        "east = east.drop(['EastofWA'], axis=1)\n",
        "west = west.drop(['EastofWA'], axis=1)\n",
        "\n",
        "print(west.head())"
      ]
    },
    {
      "cell_type": "markdown",
      "id": "f5c2de1a",
      "metadata": {
        "id": "f5c2de1a"
      },
      "source": [
        "## East of Washington"
      ]
    },
    {
      "cell_type": "markdown",
      "id": "x41Uw_3CSSFM",
      "metadata": {
        "id": "x41Uw_3CSSFM"
      },
      "source": [
        "### Method selection"
      ]
    },
    {
      "cell_type": "code",
      "execution_count": null,
      "id": "ad875ab7",
      "metadata": {
        "colab": {
          "base_uri": "https://localhost:8080/",
          "height": 270
        },
        "id": "ad875ab7",
        "outputId": "fbbc18a8-00ee-4348-93ef-18e9845b2d7d"
      },
      "outputs": [
        {
          "output_type": "execute_result",
          "data": {
            "text/plain": [
              "   log10_PCTGQTRS  log10_PovertyRate  log10_MedianFamilyIncome  \\\n",
              "0        0.532754           1.075547                  4.655551   \n",
              "1        0.000000           1.281033                  4.602494   \n",
              "2        0.152288           1.475671                  4.310481   \n",
              "3        0.555094           1.445604                  4.519316   \n",
              "4        0.000000           1.460898                  4.548647   \n",
              "\n",
              "   log10_TractKids  log10_TractSeniors  log10_TractWhite  log10_TractBlack  \\\n",
              "0         2.719331            2.713491          3.348500          0.477121   \n",
              "1         2.628389            2.485721          3.155032          1.397940   \n",
              "2         3.422590            2.679428          3.562531          1.690196   \n",
              "3         3.003461            2.519828          3.222456          1.146128   \n",
              "4         3.269279            2.459392          3.351603          1.361728   \n",
              "\n",
              "   log10_TractAsian  log10_TractNHOPI  log10_TractAIAN  log10_TractOMultir  \\\n",
              "0          1.079181          0.000000         1.397940            1.924279   \n",
              "1          1.113943          0.477121         1.041393            2.220108   \n",
              "2          1.204120          0.477121         2.217484            3.470998   \n",
              "3          1.477121          0.000000         1.707570            3.000000   \n",
              "4          1.770852          0.000000         2.037426            3.346939   \n",
              "\n",
              "   log10_TractHispanic  log10_TractHUNV  log10_TractSNAP  \n",
              "0             2.053078         1.944483         2.212188  \n",
              "1             2.307496         1.204120         2.103804  \n",
              "2             3.704494         2.096910         2.589950  \n",
              "3             3.295347         2.060698         2.264818  \n",
              "4             3.574031         1.041393         2.469822  "
            ],
            "text/html": [
              "\n",
              "  <div id=\"df-5322e4f6-c261-4438-a44d-f3cdba6f7b15\">\n",
              "    <div class=\"colab-df-container\">\n",
              "      <div>\n",
              "<style scoped>\n",
              "    .dataframe tbody tr th:only-of-type {\n",
              "        vertical-align: middle;\n",
              "    }\n",
              "\n",
              "    .dataframe tbody tr th {\n",
              "        vertical-align: top;\n",
              "    }\n",
              "\n",
              "    .dataframe thead th {\n",
              "        text-align: right;\n",
              "    }\n",
              "</style>\n",
              "<table border=\"1\" class=\"dataframe\">\n",
              "  <thead>\n",
              "    <tr style=\"text-align: right;\">\n",
              "      <th></th>\n",
              "      <th>log10_PCTGQTRS</th>\n",
              "      <th>log10_PovertyRate</th>\n",
              "      <th>log10_MedianFamilyIncome</th>\n",
              "      <th>log10_TractKids</th>\n",
              "      <th>log10_TractSeniors</th>\n",
              "      <th>log10_TractWhite</th>\n",
              "      <th>log10_TractBlack</th>\n",
              "      <th>log10_TractAsian</th>\n",
              "      <th>log10_TractNHOPI</th>\n",
              "      <th>log10_TractAIAN</th>\n",
              "      <th>log10_TractOMultir</th>\n",
              "      <th>log10_TractHispanic</th>\n",
              "      <th>log10_TractHUNV</th>\n",
              "      <th>log10_TractSNAP</th>\n",
              "    </tr>\n",
              "  </thead>\n",
              "  <tbody>\n",
              "    <tr>\n",
              "      <th>0</th>\n",
              "      <td>0.532754</td>\n",
              "      <td>1.075547</td>\n",
              "      <td>4.655551</td>\n",
              "      <td>2.719331</td>\n",
              "      <td>2.713491</td>\n",
              "      <td>3.348500</td>\n",
              "      <td>0.477121</td>\n",
              "      <td>1.079181</td>\n",
              "      <td>0.000000</td>\n",
              "      <td>1.397940</td>\n",
              "      <td>1.924279</td>\n",
              "      <td>2.053078</td>\n",
              "      <td>1.944483</td>\n",
              "      <td>2.212188</td>\n",
              "    </tr>\n",
              "    <tr>\n",
              "      <th>1</th>\n",
              "      <td>0.000000</td>\n",
              "      <td>1.281033</td>\n",
              "      <td>4.602494</td>\n",
              "      <td>2.628389</td>\n",
              "      <td>2.485721</td>\n",
              "      <td>3.155032</td>\n",
              "      <td>1.397940</td>\n",
              "      <td>1.113943</td>\n",
              "      <td>0.477121</td>\n",
              "      <td>1.041393</td>\n",
              "      <td>2.220108</td>\n",
              "      <td>2.307496</td>\n",
              "      <td>1.204120</td>\n",
              "      <td>2.103804</td>\n",
              "    </tr>\n",
              "    <tr>\n",
              "      <th>2</th>\n",
              "      <td>0.152288</td>\n",
              "      <td>1.475671</td>\n",
              "      <td>4.310481</td>\n",
              "      <td>3.422590</td>\n",
              "      <td>2.679428</td>\n",
              "      <td>3.562531</td>\n",
              "      <td>1.690196</td>\n",
              "      <td>1.204120</td>\n",
              "      <td>0.477121</td>\n",
              "      <td>2.217484</td>\n",
              "      <td>3.470998</td>\n",
              "      <td>3.704494</td>\n",
              "      <td>2.096910</td>\n",
              "      <td>2.589950</td>\n",
              "    </tr>\n",
              "    <tr>\n",
              "      <th>3</th>\n",
              "      <td>0.555094</td>\n",
              "      <td>1.445604</td>\n",
              "      <td>4.519316</td>\n",
              "      <td>3.003461</td>\n",
              "      <td>2.519828</td>\n",
              "      <td>3.222456</td>\n",
              "      <td>1.146128</td>\n",
              "      <td>1.477121</td>\n",
              "      <td>0.000000</td>\n",
              "      <td>1.707570</td>\n",
              "      <td>3.000000</td>\n",
              "      <td>3.295347</td>\n",
              "      <td>2.060698</td>\n",
              "      <td>2.264818</td>\n",
              "    </tr>\n",
              "    <tr>\n",
              "      <th>4</th>\n",
              "      <td>0.000000</td>\n",
              "      <td>1.460898</td>\n",
              "      <td>4.548647</td>\n",
              "      <td>3.269279</td>\n",
              "      <td>2.459392</td>\n",
              "      <td>3.351603</td>\n",
              "      <td>1.361728</td>\n",
              "      <td>1.770852</td>\n",
              "      <td>0.000000</td>\n",
              "      <td>2.037426</td>\n",
              "      <td>3.346939</td>\n",
              "      <td>3.574031</td>\n",
              "      <td>1.041393</td>\n",
              "      <td>2.469822</td>\n",
              "    </tr>\n",
              "  </tbody>\n",
              "</table>\n",
              "</div>\n",
              "      <button class=\"colab-df-convert\" onclick=\"convertToInteractive('df-5322e4f6-c261-4438-a44d-f3cdba6f7b15')\"\n",
              "              title=\"Convert this dataframe to an interactive table.\"\n",
              "              style=\"display:none;\">\n",
              "        \n",
              "  <svg xmlns=\"http://www.w3.org/2000/svg\" height=\"24px\"viewBox=\"0 0 24 24\"\n",
              "       width=\"24px\">\n",
              "    <path d=\"M0 0h24v24H0V0z\" fill=\"none\"/>\n",
              "    <path d=\"M18.56 5.44l.94 2.06.94-2.06 2.06-.94-2.06-.94-.94-2.06-.94 2.06-2.06.94zm-11 1L8.5 8.5l.94-2.06 2.06-.94-2.06-.94L8.5 2.5l-.94 2.06-2.06.94zm10 10l.94 2.06.94-2.06 2.06-.94-2.06-.94-.94-2.06-.94 2.06-2.06.94z\"/><path d=\"M17.41 7.96l-1.37-1.37c-.4-.4-.92-.59-1.43-.59-.52 0-1.04.2-1.43.59L10.3 9.45l-7.72 7.72c-.78.78-.78 2.05 0 2.83L4 21.41c.39.39.9.59 1.41.59.51 0 1.02-.2 1.41-.59l7.78-7.78 2.81-2.81c.8-.78.8-2.07 0-2.86zM5.41 20L4 18.59l7.72-7.72 1.47 1.35L5.41 20z\"/>\n",
              "  </svg>\n",
              "      </button>\n",
              "      \n",
              "  <style>\n",
              "    .colab-df-container {\n",
              "      display:flex;\n",
              "      flex-wrap:wrap;\n",
              "      gap: 12px;\n",
              "    }\n",
              "\n",
              "    .colab-df-convert {\n",
              "      background-color: #E8F0FE;\n",
              "      border: none;\n",
              "      border-radius: 50%;\n",
              "      cursor: pointer;\n",
              "      display: none;\n",
              "      fill: #1967D2;\n",
              "      height: 32px;\n",
              "      padding: 0 0 0 0;\n",
              "      width: 32px;\n",
              "    }\n",
              "\n",
              "    .colab-df-convert:hover {\n",
              "      background-color: #E2EBFA;\n",
              "      box-shadow: 0px 1px 2px rgba(60, 64, 67, 0.3), 0px 1px 3px 1px rgba(60, 64, 67, 0.15);\n",
              "      fill: #174EA6;\n",
              "    }\n",
              "\n",
              "    [theme=dark] .colab-df-convert {\n",
              "      background-color: #3B4455;\n",
              "      fill: #D2E3FC;\n",
              "    }\n",
              "\n",
              "    [theme=dark] .colab-df-convert:hover {\n",
              "      background-color: #434B5C;\n",
              "      box-shadow: 0px 1px 3px 1px rgba(0, 0, 0, 0.15);\n",
              "      filter: drop-shadow(0px 1px 2px rgba(0, 0, 0, 0.3));\n",
              "      fill: #FFFFFF;\n",
              "    }\n",
              "  </style>\n",
              "\n",
              "      <script>\n",
              "        const buttonEl =\n",
              "          document.querySelector('#df-5322e4f6-c261-4438-a44d-f3cdba6f7b15 button.colab-df-convert');\n",
              "        buttonEl.style.display =\n",
              "          google.colab.kernel.accessAllowed ? 'block' : 'none';\n",
              "\n",
              "        async function convertToInteractive(key) {\n",
              "          const element = document.querySelector('#df-5322e4f6-c261-4438-a44d-f3cdba6f7b15');\n",
              "          const dataTable =\n",
              "            await google.colab.kernel.invokeFunction('convertToInteractive',\n",
              "                                                     [key], {});\n",
              "          if (!dataTable) return;\n",
              "\n",
              "          const docLinkHtml = 'Like what you see? Visit the ' +\n",
              "            '<a target=\"_blank\" href=https://colab.research.google.com/notebooks/data_table.ipynb>data table notebook</a>'\n",
              "            + ' to learn more about interactive tables.';\n",
              "          element.innerHTML = '';\n",
              "          dataTable['output_type'] = 'display_data';\n",
              "          await google.colab.output.renderOutput(dataTable, element);\n",
              "          const docLink = document.createElement('div');\n",
              "          docLink.innerHTML = docLinkHtml;\n",
              "          element.appendChild(docLink);\n",
              "        }\n",
              "      </script>\n",
              "    </div>\n",
              "  </div>\n",
              "  "
            ]
          },
          "metadata": {},
          "execution_count": 6
        }
      ],
      "source": [
        "# divided wa data into the independent and dependent variables\n",
        "X = east.drop(['FoodDesert'], axis = 1) # all independent\n",
        "y = east['FoodDesert']  # target\n",
        "\n",
        "X.head()"
      ]
    },
    {
      "cell_type": "code",
      "execution_count": null,
      "id": "436b427b",
      "metadata": {
        "colab": {
          "base_uri": "https://localhost:8080/"
        },
        "id": "436b427b",
        "outputId": "4eea67f8-859c-4a49-c00e-414ba19f74d6"
      },
      "outputs": [
        {
          "output_type": "execute_result",
          "data": {
            "text/plain": [
              "0       0\n",
              "1       1\n",
              "2       1\n",
              "3       0\n",
              "4       0\n",
              "       ..\n",
              "1434    0\n",
              "1435    1\n",
              "1436    0\n",
              "1437    0\n",
              "1438    0\n",
              "Name: FoodDesert, Length: 326, dtype: int64"
            ]
          },
          "metadata": {},
          "execution_count": 9
        }
      ],
      "source": [
        "y"
      ]
    },
    {
      "cell_type": "code",
      "execution_count": null,
      "id": "w2G31iC8SMmk",
      "metadata": {
        "colab": {
          "base_uri": "https://localhost:8080/"
        },
        "id": "w2G31iC8SMmk",
        "outputId": "ef0d66bb-6ac0-4437-d8fe-90b8eacc6bd0"
      },
      "outputs": [
        {
          "output_type": "stream",
          "name": "stdout",
          "text": [
            "Logistic Regression Results:\n",
            "Accuracy: 0.591\n",
            "Precision: 0.647\n",
            "Recall: 0.344\n",
            "F1 Score: 0.449\n",
            "\n",
            "Decision Tree Results:\n",
            "Accuracy: 0.485\n",
            "Precision: 0.450\n",
            "Recall: 0.281\n",
            "F1 Score: 0.346\n",
            "\n",
            "Random Forest Results:\n",
            "Accuracy: 0.636\n",
            "Precision: 0.722\n",
            "Recall: 0.406\n",
            "F1 Score: 0.520\n",
            "\n",
            "XGBoost Results:\n",
            "Accuracy: 0.606\n",
            "Precision: 0.688\n",
            "Recall: 0.344\n",
            "F1 Score: 0.458\n",
            "\n",
            "LightGBM Results:\n",
            "Accuracy: 0.591\n",
            "Precision: 0.647\n",
            "Recall: 0.344\n",
            "F1 Score: 0.449\n",
            "\n",
            "SVM Results:\n",
            "Accuracy: 0.515\n",
            "Precision: 0.000\n",
            "Recall: 0.000\n",
            "F1 Score: 0.000\n",
            "\n",
            "KNN Results:\n",
            "Accuracy: 0.561\n",
            "Precision: 0.556\n",
            "Recall: 0.469\n",
            "F1 Score: 0.508\n",
            "\n"
          ]
        },
        {
          "output_type": "stream",
          "name": "stderr",
          "text": [
            "/usr/local/lib/python3.10/dist-packages/sklearn/metrics/_classification.py:1344: UndefinedMetricWarning: Precision is ill-defined and being set to 0.0 due to no predicted samples. Use `zero_division` parameter to control this behavior.\n",
            "  _warn_prf(average, modifier, msg_start, len(result))\n"
          ]
        }
      ],
      "source": [
        "from sklearn.model_selection import train_test_split\n",
        "from sklearn.metrics import accuracy_score, precision_score, recall_score, f1_score\n",
        "from sklearn.linear_model import LogisticRegression\n",
        "from sklearn.tree import DecisionTreeClassifier\n",
        "from sklearn.ensemble import RandomForestClassifier\n",
        "from xgboost import XGBClassifier\n",
        "from lightgbm import LGBMClassifier\n",
        "from sklearn.svm import SVC\n",
        "from sklearn.neighbors import KNeighborsClassifier\n",
        "\n",
        "# Load your data and split into training and testing sets\n",
        "X_train, X_test, y_train, y_test = train_test_split(X, y, test_size=0.2, random_state=123)\n",
        "\n",
        "# Define the models you want to compare\n",
        "models = [\n",
        "    ('Logistic Regression', LogisticRegression(max_iter=1000, random_state=123)),\n",
        "    ('Decision Tree', DecisionTreeClassifier(random_state=123)),\n",
        "    ('Random Forest', RandomForestClassifier(random_state=123)),\n",
        "    ('XGBoost', XGBClassifier(random_state=123)),\n",
        "    ('LightGBM', LGBMClassifier(random_state=123)),\n",
        "    ('SVM', SVC(random_state=123)),\n",
        "    ('KNN', KNeighborsClassifier())\n",
        "]\n",
        "\n",
        "# Train and evaluate each model\n",
        "for name, model in models:\n",
        "    # Fit the model to the training data\n",
        "    model.fit(X_train, y_train)\n",
        "\n",
        "    # Make predictions on the testing data\n",
        "    y_pred = model.predict(X_test)\n",
        "\n",
        "    # Evaluate the model's performance using common metrics\n",
        "    accuracy = accuracy_score(y_test, y_pred)\n",
        "    precision = precision_score(y_test, y_pred)\n",
        "    recall = recall_score(y_test, y_pred)\n",
        "    f1 = f1_score(y_test, y_pred)\n",
        "\n",
        "    # Print the model's performance metrics\n",
        "    print(f\"{name} Results:\")\n",
        "    print(f\"Accuracy: {accuracy:.3f}\")\n",
        "    print(f\"Precision: {precision:.3f}\")\n",
        "    print(f\"Recall: {recall:.3f}\")\n",
        "    print(f\"F1 Score: {f1:.3f}\")\n",
        "    print()"
      ]
    },
    {
      "cell_type": "markdown",
      "id": "CU_yFnR5TtrI",
      "metadata": {
        "id": "CU_yFnR5TtrI"
      },
      "source": [
        "> Random Forest, Xgboost"
      ]
    },
    {
      "cell_type": "markdown",
      "id": "saONAO630AVK",
      "metadata": {
        "id": "saONAO630AVK"
      },
      "source": [
        "### Random Forest baseline model\n"
      ]
    },
    {
      "cell_type": "code",
      "source": [
        "# Print the model's performance metrics\n",
        "from sklearn.metrics import accuracy_score, precision_score, recall_score, f1_score\n",
        "\n",
        "def print_performance_metrics(y_test, y_pred):\n",
        "    accuracy = accuracy_score(y_test, y_pred)\n",
        "    precision = precision_score(y_test, y_pred)\n",
        "    recall = recall_score(y_test, y_pred)\n",
        "    f1 = f1_score(y_test, y_pred)\n",
        "\n",
        "    print(f\"Accuracy: {accuracy:.3f}\")\n",
        "    print(f\"Precision: {precision:.3f}\")\n",
        "    print(f\"Recall: {recall:.3f}\")\n",
        "    print(f\"F1 Score: {f1:.3f}\")\n"
      ],
      "metadata": {
        "id": "UVEzUpE4Nc5T"
      },
      "id": "UVEzUpE4Nc5T",
      "execution_count": null,
      "outputs": []
    },
    {
      "cell_type": "code",
      "execution_count": null,
      "id": "bfc280de",
      "metadata": {
        "colab": {
          "base_uri": "https://localhost:8080/"
        },
        "id": "bfc280de",
        "outputId": "182048bc-d372-4897-8c54-20dc399465e6"
      },
      "outputs": [
        {
          "output_type": "stream",
          "name": "stdout",
          "text": [
            "The baseline model Results:\n",
            "Accuracy: 0.636\n",
            "Precision: 0.722\n",
            "Recall: 0.406\n",
            "F1 Score: 0.520\n"
          ]
        }
      ],
      "source": [
        "from sklearn.model_selection import train_test_split\n",
        "from sklearn.metrics import accuracy_score, precision_score, recall_score, f1_score\n",
        "from sklearn.ensemble import RandomForestClassifier\n",
        "from sklearn.metrics import roc_curve\n",
        "\n",
        "# Split into training and testing sets\n",
        "X_train, X_test, y_train, y_test = train_test_split(X, y, test_size=0.2, random_state=123)\n",
        "\n",
        "# Define the Random Forest model\n",
        "rf_base= RandomForestClassifier(n_estimators=100, random_state=123)\n",
        "\n",
        "# Fit the model to the training data\n",
        "rf_base.fit(X_train, y_train)\n",
        "\n",
        "# Make predictions on the testing data\n",
        "y_pred = rf_base.predict(X_test)\n",
        "\n",
        "\n",
        "\n",
        "# Print the model's performance metrics\n",
        "print(f\"The baseline model Results:\")\n",
        "print_performance_metrics(y_test, y_pred)\n",
        "\n",
        "\n",
        "# from sklearn.metrics import classification_report, roc_auc_score, confusion_matrix\n",
        "# Calculate the classification report\n",
        "# report = classification_report(y_test, y_pred)\n",
        "# print(\"Classification Report:\")\n",
        "# print(report)\n",
        "\n",
        "# # Calculate the ROC-AUC score\n",
        "# roc_auc = roc_auc_score(y_test, y_pred)\n",
        "# print(f\"ROC-AUC Score: {roc_auc:.3f}\")\n",
        "\n",
        "# # Calculate the confusion matrix\n",
        "# cm = confusion_matrix(y_test, y_pred)\n",
        "# print(\"Confusion Matrix:\\n\", cm)\n",
        "\n",
        "# # Plot the ROC curve\n",
        "# plot_roc_curve(rf, X_test, y_test) # use the input data instead of the predicted labels\n",
        "# plt.show()"
      ]
    },
    {
      "cell_type": "markdown",
      "id": "0c16701a",
      "metadata": {
        "id": "0c16701a"
      },
      "source": [
        "Accuracy: the baseline model has an accuracy of 0.636, which means that it correctly classified 63.6% of the test set samples.\n",
        "\n",
        "Precision:the baseline model has a precision of 0.722, which means that when it predicted a positive label, it was correct 72.2% of the time.\n",
        "\n",
        "Recall: the baseline model has a recall of 0.406, which means that it correctly identified only 40.6% of the actual positive samples.\n",
        "\n",
        "Based on these results, it appears that the baseline model has room for improvement, particularly in terms of recall. A low recall score means that the model is failing to identify many of the areas that are actually food deserts."
      ]
    },
    {
      "cell_type": "markdown",
      "source": [
        "### Outlier removal"
      ],
      "metadata": {
        "id": "3ThngKPOv_SO"
      },
      "id": "3ThngKPOv_SO"
    },
    {
      "cell_type": "code",
      "source": [
        "# create random forest classifier\n",
        "rf_clf = RandomForestClassifier(n_estimators=100, random_state=123)\n",
        "\n",
        "\n",
        "# remove outliers using the IQR method\n",
        "Q1 = np.percentile(X_train, 25, axis=0)\n",
        "Q3 = np.percentile(X_train, 75, axis=0)\n",
        "IQR = Q3 - Q1\n",
        "threshold = 1.5 * IQR\n",
        "lower, upper = Q1 - threshold, Q3 + threshold\n",
        "mask = np.logical_or(X_train < lower, X_train > upper)\n",
        "X_train_no_outliers = X_train[~mask.any(axis=1)]\n",
        "y_train_no_outliers = y_train[~mask.any(axis=1)]\n",
        "\n",
        "\n",
        "# fit random forestn classifier on the new dataset without outliers\n",
        "rf_clf.fit(X_train_no_outliers, y_train_no_outliers)\n",
        "\n",
        "# evaluate random forest classifier on test set\n",
        "y_pred = rf_clf.predict(X_test)\n",
        "accuracy = accuracy_score(y_test, y_pred)\n",
        "precision = precision_score(y_test, y_pred)\n",
        "recall = recall_score(y_test, y_pred)\n",
        "f1 = f1_score(y_test, y_pred)\n",
        "\n",
        "# Print the model's performance metrics\n",
        "print(f\"The no_outlier model Results:\")\n",
        "print(f\"Accuracy: {accuracy:.3f}\")\n",
        "print(f\"Precision: {precision:.3f}\")\n",
        "print(f\"Recall: {recall:.3f}\")\n",
        "print(f\"F1 Score: {f1:.3f}\")"
      ],
      "metadata": {
        "colab": {
          "base_uri": "https://localhost:8080/"
        },
        "id": "y0a5H_e-v-it",
        "outputId": "a616c5da-a197-4fcd-80f8-db241d0ad610"
      },
      "id": "y0a5H_e-v-it",
      "execution_count": null,
      "outputs": [
        {
          "output_type": "stream",
          "name": "stdout",
          "text": [
            "The no_outlier model Results:\n",
            "Accuracy: 0.561\n",
            "Precision: 0.565\n",
            "Recall: 0.406\n",
            "F1 Score: 0.473\n"
          ]
        }
      ]
    },
    {
      "cell_type": "markdown",
      "source": [
        "> Removing outliers doesn't improve the model."
      ],
      "metadata": {
        "id": "U5sv13McwF9h"
      },
      "id": "U5sv13McwF9h"
    },
    {
      "cell_type": "code",
      "source": [
        "# print outliers\n",
        "outliers = X_train[mask.any(axis=1)]\n",
        "print(outliers)"
      ],
      "metadata": {
        "colab": {
          "base_uri": "https://localhost:8080/"
        },
        "id": "MvCyaljlLt5m",
        "outputId": "ab325863-20c5-4be2-9b53-e5f9f99c6c50"
      },
      "id": "MvCyaljlLt5m",
      "execution_count": null,
      "outputs": [
        {
          "output_type": "stream",
          "name": "stdout",
          "text": [
            "      log10_PCTGQTRS  log10_PovertyRate  log10_MedianFamilyIncome  \\\n",
            "53          0.130334           0.633468                  4.911940   \n",
            "1234        0.878522           1.514548                  4.306017   \n",
            "1218        0.045323           1.120574                  4.882006   \n",
            "1380        0.064458           1.204120                  4.704116   \n",
            "242         1.009451           1.550228                  3.756180   \n",
            "1434        0.387390           1.481443                  4.471277   \n",
            "36          0.332438           1.618048                  4.074963   \n",
            "250         0.225309           1.320146                  4.467416   \n",
            "21          0.000000           0.869232                  4.928345   \n",
            "1394        1.494711           1.627366                  3.861056   \n",
            "1364        1.711807           1.713491                  4.597947   \n",
            "23          0.000000           0.397940                  4.985229   \n",
            "28          0.000000           0.785330                  5.099556   \n",
            "1268        0.851870           1.082785                  4.703369   \n",
            "1343        0.998259           1.220108                  4.612031   \n",
            "1379        0.021189           0.518514                  4.777311   \n",
            "1398        0.856729           1.103804                  4.623042   \n",
            "1395        0.669317           1.506505                  3.945074   \n",
            "1383        0.271842           1.298853                  4.554768   \n",
            "1424        0.089905           1.369216                  4.398634   \n",
            "1399        0.017033           1.475671                  4.008983   \n",
            "1438        0.000000           1.509203                  4.362388   \n",
            "1382        0.000000           1.164353                  4.537466   \n",
            "1252        0.989005           1.155336                  4.539653   \n",
            "1194        1.564311           1.645422                  4.138050   \n",
            "249         0.000000           0.913814                  4.516324   \n",
            "1270        1.128076           1.068186                  4.698675   \n",
            "747         1.415140           1.661813                  4.636809   \n",
            "1411        0.000000           1.562293                  4.215611   \n",
            "1417        0.089905           1.120574                  4.366031   \n",
            "1216        0.089905           1.056905                  4.789157   \n",
            "45          0.000000           1.143015                  4.570169   \n",
            "1206        0.089905           0.724276                  4.921067   \n",
            "59          0.000000           0.681241                  4.875293   \n",
            "1410        0.725912           1.658965                  3.906119   \n",
            "798         0.290035           1.230449                  4.533581   \n",
            "1193        1.463893           1.683047                  0.000000   \n",
            "1264        0.117271           0.612784                  4.808987   \n",
            "1436        0.575188           1.506505                  4.152258   \n",
            "56          0.821514           1.276462                  4.299834   \n",
            "25          0.000000           0.968483                  4.791796   \n",
            "43          0.000000           0.653213                  4.735719   \n",
            "219         0.000000           1.456366                  4.304900   \n",
            "1199        1.253096           1.389166                  4.222456   \n",
            "1381        0.000000           1.222716                  4.921572   \n",
            "1433        0.149219           1.309630                  4.566001   \n",
            "1356        1.009451           1.305351                  4.590719   \n",
            "1277        1.116276           1.619093                  4.211921   \n",
            "234         0.413300           1.096910                  4.607884   \n",
            "750         1.270213           1.536558                  4.540530   \n",
            "1278        0.000000           1.530200                  4.303973   \n",
            "794         0.025306           1.465383                  4.231342   \n",
            "1435        0.033424           1.385606                  4.468569   \n",
            "\n",
            "      log10_TractKids  log10_TractSeniors  log10_TractWhite  log10_TractBlack  \\\n",
            "53           2.925312            2.711807          3.482159          0.954243   \n",
            "1234         3.012415            3.075912          3.682416          2.064458   \n",
            "1218         3.279439            2.900913          3.820201          1.342423   \n",
            "1380         3.074085            2.637490          3.503791          1.000000   \n",
            "242          3.195623            2.553883          3.510277          2.252853   \n",
            "1434         3.155640            2.675778          3.134814          1.255273   \n",
            "36           3.503655            2.818885          3.690816          2.380211   \n",
            "250          3.700617            2.808211          3.847326          2.120574   \n",
            "21           2.902003            2.206826          3.328787          1.255273   \n",
            "1394         2.818226            2.502427          3.218010          2.146128   \n",
            "1364         2.264818            2.278754          3.774006          2.053078   \n",
            "23           3.246499            2.967080          3.769673          1.857332   \n",
            "28           2.916980            2.451786          3.434409          1.380211   \n",
            "1268         2.710963            2.447158          3.392697          1.995635   \n",
            "1343         3.206016            3.192289          3.860637          2.130334   \n",
            "1379         3.190612            2.913284          3.727134          1.531479   \n",
            "1398         3.095169            3.053463          3.607777          1.812913   \n",
            "1395         3.313445            2.485721          3.437909          2.012837   \n",
            "1383         3.069298            2.807535          3.261263          1.380211   \n",
            "1424         3.117603            2.365488          3.214049          1.342423   \n",
            "1399         3.430559            2.481443          3.508664          2.021189   \n",
            "1438         3.265290            2.444045          3.115611          1.568202   \n",
            "1382         2.260071            2.496930          3.046495          1.041393   \n",
            "1252         2.905256            2.626340          3.465234          1.662758   \n",
            "1194         2.939519            2.822168          3.854610          2.383815   \n",
            "249          2.760422            2.371068          3.039017          1.146128   \n",
            "1270         3.089552            2.841985          3.702172          2.041393   \n",
            "747          2.908485            2.537819          3.791761          2.220108   \n",
            "1411         3.026125            2.214844          3.106191          1.792392   \n",
            "1417         3.179264            2.372912          3.300161          1.204120   \n",
            "1216         3.150449            2.838849          3.758912          1.176091   \n",
            "45           3.308564            2.788168          3.663512          1.477121   \n",
            "1206         3.040998            2.797268          3.640978          1.602060   \n",
            "59           2.399674            2.487138          3.060320          0.845098   \n",
            "1410         3.389343            2.594393          3.444045          2.380211   \n",
            "798          3.210051            3.110590          3.721233          1.602060   \n",
            "1193         2.532754            2.525045          3.280351          2.060698   \n",
            "1264         2.850646            2.556303          3.431846          0.954243   \n",
            "1436         3.399674            2.644439          3.004751          1.505150   \n",
            "56           3.236789            2.788875          3.694430          1.623249   \n",
            "25           2.482874            1.973128          2.944483          0.698970   \n",
            "43           2.419956            1.897627          2.773055          0.000000   \n",
            "219          2.656098            2.411620          2.531479          0.903090   \n",
            "1199         2.324282            2.780317          3.336460          1.748188   \n",
            "1381         2.082785            2.389166          2.909556          0.845098   \n",
            "1433         3.322839            2.797268          3.313445          1.397940   \n",
            "1356         2.507856            2.301030          3.348305          1.612784   \n",
            "1277         2.652246            2.193125          3.192567          2.056905   \n",
            "234          2.647383            2.705008          3.307496          0.000000   \n",
            "750          2.528917            2.190332          3.329805          1.556303   \n",
            "1278         2.838849            2.307496          2.301030          0.602060   \n",
            "794          2.943000            2.545307          2.992554          0.845098   \n",
            "1435         3.064832            2.635484          3.028978          1.113943   \n",
            "\n",
            "      log10_TractAsian  log10_TractNHOPI  log10_TractAIAN  log10_TractOMultir  \\\n",
            "53            1.653213          1.113943         1.322219            2.382017   \n",
            "1234          2.152288          1.973128         2.113943            2.553883   \n",
            "1218          1.672098          0.778151         1.724276            2.187521   \n",
            "1380          1.643453          0.301030         2.591065            2.816241   \n",
            "242           1.869232          0.778151         2.103804            2.997386   \n",
            "1434          1.633468          0.903090         3.177248            3.146748   \n",
            "36            2.429752          1.431364         1.954243            3.466571   \n",
            "250           1.653213          0.000000         1.986772            3.749968   \n",
            "21            1.812913          0.301030         1.431364            2.193125   \n",
            "1394          1.146128          0.000000         2.276462            3.003461   \n",
            "1364          2.597695          1.079181         1.623249            2.733197   \n",
            "23            2.489958          0.301030         1.623249            2.462398   \n",
            "28            2.082785          0.845098         1.278754            2.075547   \n",
            "1268          1.995635          1.255273         2.021189            2.287802   \n",
            "1343          2.204120          1.361728         1.770852            2.935507   \n",
            "1379          2.181844          0.778151         1.602060            2.731589   \n",
            "1398          1.724276          0.602060         1.892095            2.933487   \n",
            "1395          1.544068          0.477121         2.307496            3.376029   \n",
            "1383          1.568202          0.698970         3.388811            2.440909   \n",
            "1424          1.361728          0.000000         0.903090            3.219585   \n",
            "1399          1.361728          0.301030         2.155336            3.526727   \n",
            "1438          1.041393          0.903090         2.715167            3.457579   \n",
            "1382          1.778151          0.000000         1.079181            1.414973   \n",
            "1252          1.707570          1.361728         1.857332            2.232996   \n",
            "1194          2.564666          1.724276         2.209515            2.784617   \n",
            "249           0.954243          0.000000         0.903090            2.797960   \n",
            "1270          1.977724          1.146128         1.919078            2.507856   \n",
            "747           2.510545          1.176091         1.792392            2.814248   \n",
            "1411          0.301030          0.845098         1.740363            3.117271   \n",
            "1417          0.477121          0.301030         1.380211            3.230960   \n",
            "1216          1.799341          0.477121         1.748188            2.204120   \n",
            "45            1.431364          0.000000         1.903090            3.232742   \n",
            "1206          1.672098          0.602060         1.342423            2.204120   \n",
            "59            1.041393          0.602060         0.000000            1.806180   \n",
            "1410          1.462398          0.477121         2.212188            3.566437   \n",
            "798           1.812913          0.477121         2.675778            2.890980   \n",
            "1193          1.681241          1.204120         2.103804            2.255273   \n",
            "1264          1.204120          0.845098         1.361728            1.806180   \n",
            "1436          2.117271          0.903090         3.007748            3.651859   \n",
            "56            1.799341          1.301030         2.017033            3.185259   \n",
            "25            1.255273          0.000000         1.041393            1.880814   \n",
            "43            0.000000          0.477121         1.176091            2.356026   \n",
            "219           0.477121          0.301030         3.058046            2.158362   \n",
            "1199          1.892095          0.698970         1.690196            2.068186   \n",
            "1381          0.845098          0.477121         1.000000            1.531479   \n",
            "1433          2.315970          0.000000         3.230704            3.366610   \n",
            "1356          1.740363          0.698970         1.832509            2.250420   \n",
            "1277          1.716003          1.278754         1.886491            2.285557   \n",
            "234           1.602060          0.000000         0.845098            1.982271   \n",
            "750           1.707570          0.778151         1.531479            2.414973   \n",
            "1278          0.602060          0.000000         3.220631            2.120574   \n",
            "794           1.000000          0.845098         3.235276            2.494155   \n",
            "1435          1.146128          0.602060         3.285557            2.748963   \n",
            "\n",
            "      log10_TractHispanic  log10_TractHUNV  log10_TractSNAP  \n",
            "53               2.503791         1.556303         1.176091  \n",
            "1234             2.551450         2.849419         3.008600  \n",
            "1218             2.250420         0.000000         2.029384  \n",
            "1380             2.859138         1.690196         2.187521  \n",
            "242              3.184691         2.267172         2.751279  \n",
            "1434             3.281488         1.806180         2.526339  \n",
            "36               3.679973         2.545307         3.018284  \n",
            "250              4.019822         1.643453         2.864511  \n",
            "21               2.238046         0.000000         1.755875  \n",
            "1394             3.204663         2.428135         2.651278  \n",
            "1364             2.595496         2.285557         2.406540  \n",
            "23               2.659916         2.278754         1.949390  \n",
            "28               2.164353         0.000000         1.322219  \n",
            "1268             2.255273         2.107210         2.247973  \n",
            "1343             3.203577         2.127105         2.562293  \n",
            "1379             2.852480         0.000000         2.378398  \n",
            "1398             3.141136         2.423246         2.376577  \n",
            "1395             3.590619         2.399674         2.928908  \n",
            "1383             2.401401         1.903090         2.661813  \n",
            "1424             3.466274         1.623249         2.372912  \n",
            "1399             3.726483         2.434569         3.000000  \n",
            "1438             3.609914         1.924279         2.720986  \n",
            "1382             1.518514         1.732394         1.602060  \n",
            "1252             2.255273         2.301030         2.485721  \n",
            "1194             2.731589         2.658011         2.892095  \n",
            "249              2.998259         1.146128         1.748188  \n",
            "1270             2.459392         1.653213         2.609594  \n",
            "747              2.857332         1.851258         2.354108  \n",
            "1411             3.334856         1.869232         2.572872  \n",
            "1417             3.515741         0.000000         2.603144  \n",
            "1216             2.220108         0.000000         2.136721  \n",
            "45               3.485011         0.000000         2.240549  \n",
            "1206             2.146128         1.230449         1.278754  \n",
            "59               1.880814         1.748188         1.255273  \n",
            "1410             3.725830         2.478566         3.094122  \n",
            "798              2.942504         2.311754         2.897077  \n",
            "1193             2.392697         2.596597         2.635484  \n",
            "1264             1.806180         0.000000         2.000000  \n",
            "1436             3.707655         2.012837         2.794488  \n",
            "56               3.394627         2.439333         2.683047  \n",
            "25               1.944483         0.845098         1.755875  \n",
            "43               2.597695         0.000000         1.579784  \n",
            "219              1.903090         1.397940         2.250420  \n",
            "1199             1.886491         2.489958         2.463893  \n",
            "1381             1.531479         1.079181         1.892095  \n",
            "1433             3.430881         1.732394         2.721811  \n",
            "1356             2.315970         2.371068         2.326336  \n",
            "1277             2.201397         2.298853         2.656098  \n",
            "234              1.963788         1.204120         1.939519  \n",
            "750              2.482874         2.025306         2.276462  \n",
            "1278             2.079181         1.934498         2.447158  \n",
            "794              2.585461         1.462398         2.580925  \n",
            "1435             2.833784         1.799341         2.340444  \n"
          ]
        }
      ]
    },
    {
      "cell_type": "code",
      "source": [
        "import matplotlib.pyplot as plt\n",
        "\n",
        "# Plot box plots of the variable before and after outlier removal\n",
        "plt.figure(figsize=(10, 6))\n",
        "plt.subplot(1, 2, 1)\n",
        "plt.boxplot(X_train)\n",
        "plt.xlabel('Variables')\n",
        "plt.ylabel('Values')\n",
        "plt.title('Box Plot - Before Outlier Removal')\n",
        "\n",
        "plt.subplot(1, 2, 2)\n",
        "plt.boxplot(X_train_no_outliers)\n",
        "plt.xlabel('Variables')\n",
        "plt.ylabel('Values')\n",
        "plt.title('Box Plot - After Outlier Removal')\n",
        "\n",
        "plt.tight_layout()\n",
        "plt.show()"
      ],
      "metadata": {
        "colab": {
          "base_uri": "https://localhost:8080/",
          "height": 607
        },
        "id": "REshbPFgLuEx",
        "outputId": "242b89e7-180c-49bb-ef6d-f1f0daf7439d"
      },
      "id": "REshbPFgLuEx",
      "execution_count": null,
      "outputs": [
        {
          "output_type": "display_data",
          "data": {
            "text/plain": [
              "<Figure size 1000x600 with 2 Axes>"
            ],
            "image/png": "[encoded data removed]"
          },
          "metadata": {}
        }
      ]
    },
    {
      "cell_type": "markdown",
      "id": "077f8729",
      "metadata": {
        "id": "077f8729"
      },
      "source": [
        "### Feature selection"
      ]
    },
    {
      "cell_type": "markdown",
      "id": "wDmp6zrVyZe0",
      "metadata": {
        "id": "wDmp6zrVyZe0"
      },
      "source": [
        "#### Feature importance"
      ]
    },
    {
      "cell_type": "code",
      "execution_count": null,
      "id": "d2be6296",
      "metadata": {
        "colab": {
          "base_uri": "https://localhost:8080/"
        },
        "id": "d2be6296",
        "outputId": "8d4463f4-57a6-42b5-ee61-1136715fb604"
      },
      "outputs": [
        {
          "output_type": "stream",
          "name": "stdout",
          "text": [
            "log10_TractSeniors          0.101362\n",
            "log10_TractWhite            0.093133\n",
            "log10_MedianFamilyIncome    0.080262\n",
            "log10_TractHUNV             0.078010\n",
            "log10_TractAsian            0.074170\n",
            "log10_PovertyRate           0.071151\n",
            "log10_TractKids             0.069519\n",
            "log10_TractOMultir          0.068257\n",
            "log10_TractHispanic         0.067512\n",
            "log10_TractSNAP             0.066826\n",
            "log10_TractAIAN             0.063735\n",
            "log10_TractBlack            0.059338\n",
            "log10_TractNHOPI            0.056707\n",
            "log10_PCTGQTRS              0.050017\n",
            "dtype: float64\n"
          ]
        }
      ],
      "source": [
        "# view the feature scores\n",
        "feature_scores = pd.Series(rf_base.feature_importances_, index=X_train.columns).sort_values(ascending=False)\n",
        "\n",
        "print(feature_scores)\n",
        "\n",
        "\n",
        "# # view a bar plot\n",
        "# f, ax = plt.subplots(figsize=(30, 24))\n",
        "# ax = sns.barplot(x=feature_scores, y=feature_scores.index)\n",
        "# ax.set_title(\"Visualize feature scores of the features\")\n",
        "# ax.set_yticklabels(feature_scores.index)\n",
        "# ax.set_xlabel(\"Feature importance score\")\n",
        "# ax.set_ylabel(\"Features\")\n",
        "# plt.show()"
      ]
    },
    {
      "cell_type": "code",
      "execution_count": null,
      "id": "2c5d7d5c",
      "metadata": {
        "colab": {
          "base_uri": "https://localhost:8080/"
        },
        "id": "2c5d7d5c",
        "outputId": "15e966f1-a05b-4810-cee5-3c6c14c5d4b0"
      },
      "outputs": [
        {
          "output_type": "stream",
          "name": "stdout",
          "text": [
            "Accuracy of the model2: 0.606\n"
          ]
        }
      ],
      "source": [
        "# drop the least important feature from X_train and X_test\n",
        "X_train2 = X_train.drop(['log10_PCTGQTRS'], axis=1)\n",
        "X_test2 = X_test.drop(['log10_PCTGQTRS'], axis=1)\n",
        "\n",
        "# Train a new Random Forest model with the selected features\n",
        "rf2 = RandomForestClassifier(n_estimators=100, random_state=123)\n",
        "rf2.fit(X_train2, y_train)\n",
        "\n",
        "# Evaluate the model on the test set\n",
        "y_pred2 = rf2.predict(X_test2)\n",
        "accuracy2 = accuracy_score(y_test, y_pred2)\n",
        "print(f\"Accuracy of the model2: {accuracy2:.3f}\")"
      ]
    },
    {
      "cell_type": "code",
      "source": [
        "# Store the initial feature scores\n",
        "feature_scores = pd.Series(rf_base.feature_importances_, index=X_train.columns).sort_values(ascending=False)\n",
        "\n",
        "# Initialize variables to track the best accuracy and the corresponding feature set\n",
        "best_accuracy = 0\n",
        "best_feature_set = []\n",
        "\n",
        "# Create a list to store the dropped features and accuracies\n",
        "dropped_features = []\n",
        "accuracies = []\n",
        "\n",
        "# Iterate over each feature to drop\n",
        "for feature in feature_scores.index:\n",
        "    # Create a new feature set by dropping the current feature\n",
        "    selected_features = [f for f in X_train.columns if f not in [feature]]\n",
        "    X_train_subset = X_train[selected_features]\n",
        "    X_test_subset = X_test[selected_features]\n",
        "\n",
        "    # Train a new Random Forest model with the selected features\n",
        "    rf = RandomForestClassifier(n_estimators=100, random_state=123)\n",
        "    rf.fit(X_train_subset, y_train)\n",
        "\n",
        "    # Evaluate the model on the test set\n",
        "    y_pred = rf.predict(X_test_subset)\n",
        "    accuracy = accuracy_score(y_test, y_pred)\n",
        "\n",
        "    # Check if the current accuracy is better than the previous best accuracy\n",
        "    if accuracy > best_accuracy:\n",
        "        best_accuracy = accuracy\n",
        "        best_feature_set = selected_features\n",
        "\n",
        "    # Store the dropped feature and its corresponding accuracy\n",
        "    dropped_features.append(feature)\n",
        "    accuracies.append(accuracy)\n",
        "\n",
        "# Print the best accuracy and the corresponding feature set\n",
        "print(f\"Best accuracy: {best_accuracy:.3f}\")\n",
        "print(\"Best feature set:\", best_feature_set)\n"
      ],
      "metadata": {
        "colab": {
          "base_uri": "https://localhost:8080/"
        },
        "id": "noWoTmPJfx4f",
        "outputId": "dcddf6d5-444d-4947-ef2a-d8bc2e44b44f"
      },
      "id": "noWoTmPJfx4f",
      "execution_count": null,
      "outputs": [
        {
          "output_type": "stream",
          "name": "stdout",
          "text": [
            "Best accuracy: 0.652\n",
            "Best feature set: ['log10_PCTGQTRS', 'log10_PovertyRate', 'log10_MedianFamilyIncome', 'log10_TractKids', 'log10_TractSeniors', 'log10_TractWhite', 'log10_TractBlack', 'log10_TractAsian', 'log10_TractNHOPI', 'log10_TractAIAN', 'log10_TractOMultir', 'log10_TractHispanic', 'log10_TractSNAP']\n"
          ]
        }
      ]
    },
    {
      "cell_type": "markdown",
      "id": "c2c0f0a1",
      "metadata": {
        "id": "c2c0f0a1"
      },
      "source": [
        "> I dropped less important features, the model shows  improvement. 0.636 -> 0.652."
      ]
    },
    {
      "cell_type": "markdown",
      "id": "3492082f",
      "metadata": {
        "id": "3492082f"
      },
      "source": [
        "####  SelectFromModel"
      ]
    },
    {
      "cell_type": "code",
      "execution_count": null,
      "id": "b4d61e3a",
      "metadata": {
        "colab": {
          "base_uri": "https://localhost:8080/"
        },
        "id": "b4d61e3a",
        "outputId": "ad6ba4e6-00cd-42dd-db70-76cd348fc2cf"
      },
      "outputs": [
        {
          "output_type": "stream",
          "name": "stdout",
          "text": [
            "Index(['log10_MedianFamilyIncome', 'log10_TractSeniors', 'log10_TractWhite',\n",
            "       'log10_TractAsian', 'log10_TractHUNV'],\n",
            "      dtype='object')\n",
            "accuracy: 0.591\n"
          ]
        }
      ],
      "source": [
        "from sklearn.feature_selection import SelectFromModel\n",
        "sel = SelectFromModel(RandomForestClassifier(n_estimators = 100, random_state=123))\n",
        "sel.fit(X_train, y_train)\n",
        "sel.get_support()\n",
        "selected_feat= X_train.columns[(sel.get_support())]\n",
        "len(selected_feat)\n",
        "\n",
        "print(selected_feat)\n",
        "\n",
        "# Create a new dataset with the selected features\n",
        "X_train3 = X_train[selected_feat]\n",
        "X_test3 = X_test[selected_feat]\n",
        "\n",
        "# Train a new Random Forest model with the selected features\n",
        "rf3= RandomForestClassifier(n_estimators=100, random_state=123)\n",
        "rf3.fit(X_train3, y_train)\n",
        "\n",
        "# Evaluate the model on the test set\n",
        "y_pred3 = rf3.predict(X_test3)\n",
        "accuracy3 = accuracy_score(y_test, y_pred3)\n",
        "print(f\"Accuracy: {accuracy3:.3f}\")\n"
      ]
    },
    {
      "cell_type": "markdown",
      "id": "4fceb0e6",
      "metadata": {
        "id": "4fceb0e6"
      },
      "source": [
        "> Using the selected feature does not improve the performance of the model."
      ]
    },
    {
      "cell_type": "markdown",
      "id": "0ae0deeb",
      "metadata": {
        "id": "0ae0deeb"
      },
      "source": [
        "#### Recursive feature elimination (RFE)"
      ]
    },
    {
      "cell_type": "code",
      "execution_count": null,
      "id": "ff305c96",
      "metadata": {
        "colab": {
          "base_uri": "https://localhost:8080/"
        },
        "id": "ff305c96",
        "outputId": "27268e51-6019-4fc4-9c43-dec07a989a7f"
      },
      "outputs": [
        {
          "output_type": "stream",
          "name": "stdout",
          "text": [
            "Selected Features: ['log10_MedianFamilyIncome', 'log10_TractSeniors', 'log10_TractWhite', 'log10_TractHUNV', 'log10_TractSNAP']\n",
            "accuracy: 0.485\n"
          ]
        }
      ],
      "source": [
        "from sklearn.feature_selection import RFE\n",
        "# create a random forest classifier\n",
        "rf = RandomForestClassifier(n_estimators=100, random_state=123)\n",
        "\n",
        "# create the RFE model and select top 5 features\n",
        "rfe = RFE(estimator=rf, n_features_to_select=5, step=1)\n",
        "rfe.fit(X_train, y_train)\n",
        "\n",
        "# summarize the selection of the attributes\n",
        "print(\"Selected Features:\", list(X_train.columns[rfe.support_]))\n",
        "\n",
        "# Evaluate the model on the test set\n",
        "y_pred4 = rfe.predict(X_test)\n",
        "accuracy4 = accuracy_score(y_test, y_pred4)\n",
        "print(f\"Accuracy: {accuracy4:.3f}\")"
      ]
    },
    {
      "cell_type": "markdown",
      "id": "j8yQ3jsn6U-8",
      "metadata": {
        "id": "j8yQ3jsn6U-8"
      },
      "source": [
        "> REF does not improve the model. Since the three feature selections that I made did not improve the model's performance, I will proceed to the next step of hyperparameter tuning."
      ]
    },
    {
      "cell_type": "markdown",
      "source": [
        "> Create new X_train and X_test sets using the best feature set"
      ],
      "metadata": {
        "id": "za_WRM-vhDmP"
      },
      "id": "za_WRM-vhDmP"
    },
    {
      "cell_type": "code",
      "source": [
        "# Create new X_train and X_test sets using the best feature set\n",
        "X_train_b = X_train[best_feature_set]\n",
        "X_test_b = X_test[best_feature_set]\n",
        "\n",
        "# Train a new Random Forest model with the best feature set\n",
        "rf_b = RandomForestClassifier(n_estimators=100, random_state=123)\n",
        "rf_b.fit(X_train_b, y_train)\n",
        "\n",
        "# Predict using the fitted model\n",
        "y_pred = rf_b.predict(X_test_b)\n",
        "\n",
        "# Evaluate the model\n",
        "accuracy = accuracy_score(y_test, y_pred)\n",
        "precision = precision_score(y_test, y_pred)\n",
        "recall = recall_score(y_test, y_pred)\n",
        "f1 = f1_score(y_test, y_pred)\n",
        "\n",
        "# Print the model's performance metrics\n",
        "print(f\"The model Results:\")\n",
        "print(f\"Accuracy: {accuracy:.3f}\")\n",
        "print(f\"Precision: {precision:.3f}\")\n",
        "print(f\"Recall: {recall:.3f}\")\n",
        "print(f\"F1 Score: {f1:.3f}\")\n"
      ],
      "metadata": {
        "colab": {
          "base_uri": "https://localhost:8080/"
        },
        "id": "wsAZm-_8gond",
        "outputId": "29078fcb-0358-40a3-d95a-bf449db7757f"
      },
      "id": "wsAZm-_8gond",
      "execution_count": null,
      "outputs": [
        {
          "output_type": "stream",
          "name": "stdout",
          "text": [
            "The model Results:\n",
            "Accuracy: 0.652\n",
            "Precision: 0.737\n",
            "Recall: 0.438\n",
            "F1 Score: 0.549\n"
          ]
        }
      ]
    },
    {
      "cell_type": "markdown",
      "id": "09719d3e",
      "metadata": {
        "id": "09719d3e"
      },
      "source": [
        "### Hyperparameter tuning"
      ]
    },
    {
      "cell_type": "markdown",
      "id": "4c20dab8",
      "metadata": {
        "id": "4c20dab8"
      },
      "source": [
        "#### Randomized Search Cross Validation"
      ]
    },
    {
      "cell_type": "code",
      "execution_count": null,
      "id": "7fb509d1",
      "metadata": {
        "id": "7fb509d1"
      },
      "outputs": [],
      "source": [
        "# evaluating the performance of a classification model on both training and testing datasets\n",
        "from sklearn.metrics import accuracy_score, confusion_matrix, classification_report\n",
        "\n",
        "def print_score(clf, X_train, y_train, X_test, y_test, train=True):\n",
        "    if train:\n",
        "        pred = clf.predict(X_train)\n",
        "        clf_report = pd.DataFrame(classification_report(y_train, pred, output_dict=True))\n",
        "        print(\"Train Result:\\n==========================================================\")\n",
        "        print(f\"Accuracy Score: {accuracy_score(y_train, pred):.3f}\")\n",
        "        print(\"__________________________________________________________\")\n",
        "        print(f\"CLASSIFICATION REPORT:\\n{clf_report}\")\n",
        "        print(\"__________________________________________________________\")\n",
        "        print(f\"Confusion Matrix: \\n {confusion_matrix(y_train, pred)}\\n\")\n",
        "\n",
        "    elif train==False:\n",
        "        pred = clf.predict(X_test)\n",
        "        clf_report = pd.DataFrame(classification_report(y_test, pred, output_dict=True))\n",
        "        print(\"Test Result:\\n==========================================================\")\n",
        "        print(f\"Accuracy Score: {accuracy_score(y_test, pred):.3f}\")\n",
        "        print(\"_________________________________________________________\")\n",
        "        print(f\"CLASSIFICATION REPORT:\\n{clf_report}\")\n",
        "        print(\"_________________________________________________________\")\n",
        "        print(f\"Confusion Matrix: \\n {confusion_matrix(y_test, pred)}\\n\")"
      ]
    },
    {
      "cell_type": "code",
      "execution_count": null,
      "id": "0f85dac6",
      "metadata": {
        "colab": {
          "base_uri": "https://localhost:8080/"
        },
        "id": "0f85dac6",
        "outputId": "d8bdeb76-61ff-4dbd-c8ba-13fd88a75b1d"
      },
      "outputs": [
        {
          "output_type": "stream",
          "name": "stdout",
          "text": [
            "Fitting 5 folds for each of 200 candidates, totalling 1000 fits\n"
          ]
        },
        {
          "output_type": "stream",
          "name": "stderr",
          "text": [
            "/usr/local/lib/python3.10/dist-packages/sklearn/ensemble/_forest.py:424: FutureWarning: `max_features='auto'` has been deprecated in 1.1 and will be removed in 1.3. To keep the past behaviour, explicitly set `max_features='sqrt'` or remove this parameter as it is also the default value for RandomForestClassifiers and ExtraTreesClassifiers.\n",
            "  warn(\n",
            "/usr/local/lib/python3.10/dist-packages/sklearn/ensemble/_forest.py:424: FutureWarning: `max_features='auto'` has been deprecated in 1.1 and will be removed in 1.3. To keep the past behaviour, explicitly set `max_features='sqrt'` or remove this parameter as it is also the default value for RandomForestClassifiers and ExtraTreesClassifiers.\n",
            "  warn(\n"
          ]
        },
        {
          "output_type": "stream",
          "name": "stdout",
          "text": [
            "Best paramters: {'n_estimators': 79, 'min_samples_split': 10, 'min_samples_leaf': 1, 'max_features': 'auto', 'max_depth': 11, 'bootstrap': True})\n",
            "Train Result:\n",
            "==========================================================\n",
            "Accuracy Score: 0.962\n",
            "__________________________________________________________\n",
            "CLASSIFICATION REPORT:\n",
            "                    0          1  accuracy   macro avg  weighted avg\n",
            "precision    0.946746   0.989011  0.961538    0.967878      0.962839\n",
            "recall       0.993789   0.909091  0.961538    0.951440      0.961538\n",
            "f1-score     0.969697   0.947368  0.961538    0.958533      0.961195\n",
            "support    161.000000  99.000000  0.961538  260.000000    260.000000\n",
            "__________________________________________________________\n",
            "Confusion Matrix: \n",
            " [[160   1]\n",
            " [  9  90]]\n",
            "\n",
            "Test Result:\n",
            "==========================================================\n",
            "Accuracy Score: 0.621\n",
            "_________________________________________________________\n",
            "CLASSIFICATION REPORT:\n",
            "                   0          1  accuracy  macro avg  weighted avg\n",
            "precision   0.588235   0.733333  0.621212   0.660784      0.658586\n",
            "recall      0.882353   0.343750  0.621212   0.613051      0.621212\n",
            "f1-score    0.705882   0.468085  0.621212   0.586984      0.590587\n",
            "support    34.000000  32.000000  0.621212  66.000000     66.000000\n",
            "_________________________________________________________\n",
            "Confusion Matrix: \n",
            " [[30  4]\n",
            " [21 11]]\n",
            "\n"
          ]
        }
      ],
      "source": [
        "from sklearn.ensemble import RandomForestClassifier\n",
        "from sklearn.model_selection import RandomizedSearchCV\n",
        "\n",
        "n_estimators = [int(x) for x in np.linspace(start=50, stop=1500, num=50)]\n",
        "max_features = ['auto', 'sqrt']\n",
        "max_depth = [int(x) for x in np.linspace(2, 11, num=2)]\n",
        "max_depth.append(None)\n",
        "min_samples_split = [2, 5, 10]\n",
        "min_samples_leaf = [1, 2, 4]\n",
        "bootstrap = [True, False]\n",
        "\n",
        "random_grid = {\n",
        "    'n_estimators': n_estimators,\n",
        "    'max_features': max_features,\n",
        "    'max_depth': max_depth,\n",
        "    'min_samples_split': min_samples_split,\n",
        "    'min_samples_leaf': min_samples_leaf,\n",
        "    'bootstrap': bootstrap\n",
        "}\n",
        "\n",
        "rf_clf = RandomForestClassifier(random_state=123)\n",
        "\n",
        "rf_cv = RandomizedSearchCV(\n",
        "    estimator=rf_clf,\n",
        "    scoring='accuracy',\n",
        "    param_distributions=random_grid,\n",
        "    n_iter=200,\n",
        "    cv=5,\n",
        "    verbose=1,\n",
        "    random_state=123,\n",
        "    n_jobs=-1\n",
        ")\n",
        "\n",
        "rf_cv.fit(X_train_b, y_train)\n",
        "rf_best_params = rf_cv.best_params_\n",
        "print(f\"Best paramters: {rf_best_params})\")\n",
        "\n",
        "rf_clf_best = RandomForestClassifier(**rf_best_params,random_state=123)\n",
        "rf_clf_best.fit(X_train_b, y_train)\n",
        "\n",
        "print_score(rf_clf_best, X_train_b, y_train, X_test_b, y_test, train=True)\n",
        "print_score(rf_clf_best, X_train_b, y_train, X_test_b, y_test, train=False)"
      ]
    },
    {
      "cell_type": "markdown",
      "id": "20ff7ded",
      "metadata": {
        "id": "20ff7ded"
      },
      "source": [
        "#### Grid Search Cross Validation"
      ]
    },
    {
      "cell_type": "code",
      "execution_count": null,
      "id": "211feca8",
      "metadata": {
        "colab": {
          "base_uri": "https://localhost:8080/"
        },
        "id": "211feca8",
        "outputId": "4a6b81b0-c60b-49f9-8c86-6d144211882b"
      },
      "outputs": [
        {
          "output_type": "stream",
          "name": "stdout",
          "text": [
            "Fitting 5 folds for each of 768 candidates, totalling 3840 fits\n",
            "Best parameters: {'bootstrap': False, 'max_depth': 3, 'max_features': 'auto', 'min_samples_leaf': 1, 'min_samples_split': 10, 'n_estimators': 50}\n",
            "Train Result:\n",
            "==========================================================\n",
            "Accuracy Score: 0.762\n",
            "__________________________________________________________\n",
            "CLASSIFICATION REPORT:\n",
            "                    0          1  accuracy   macro avg  weighted avg\n",
            "precision    0.746269   0.813559  0.761538    0.779914      0.771891\n",
            "recall       0.931677   0.484848  0.761538    0.708263      0.761538\n",
            "f1-score     0.828729   0.607595  0.761538    0.718162      0.744528\n",
            "support    161.000000  99.000000  0.761538  260.000000    260.000000\n",
            "__________________________________________________________\n",
            "Confusion Matrix: \n",
            " [[150  11]\n",
            " [ 51  48]]\n",
            "\n",
            "Test Result:\n",
            "==========================================================\n",
            "Accuracy Score: 0.652\n",
            "_________________________________________________________\n",
            "CLASSIFICATION REPORT:\n",
            "                   0          1  accuracy  macro avg  weighted avg\n",
            "precision   0.612245   0.764706  0.651515   0.688475      0.686165\n",
            "recall      0.882353   0.406250  0.651515   0.644301      0.651515\n",
            "f1-score    0.722892   0.530612  0.651515   0.626752      0.629665\n",
            "support    34.000000  32.000000  0.651515  66.000000     66.000000\n",
            "_________________________________________________________\n",
            "Confusion Matrix: \n",
            " [[30  4]\n",
            " [19 13]]\n",
            "\n"
          ]
        },
        {
          "output_type": "stream",
          "name": "stderr",
          "text": [
            "/usr/local/lib/python3.10/dist-packages/sklearn/ensemble/_forest.py:424: FutureWarning: `max_features='auto'` has been deprecated in 1.1 and will be removed in 1.3. To keep the past behaviour, explicitly set `max_features='sqrt'` or remove this parameter as it is also the default value for RandomForestClassifiers and ExtraTreesClassifiers.\n",
            "  warn(\n",
            "/usr/local/lib/python3.10/dist-packages/sklearn/ensemble/_forest.py:424: FutureWarning: `max_features='auto'` has been deprecated in 1.1 and will be removed in 1.3. To keep the past behaviour, explicitly set `max_features='sqrt'` or remove this parameter as it is also the default value for RandomForestClassifiers and ExtraTreesClassifiers.\n",
            "  warn(\n"
          ]
        }
      ],
      "source": [
        "from sklearn.model_selection import GridSearchCV\n",
        "\n",
        "n_estimators = [10, 50, 100, 500]\n",
        "max_features = ['auto', 'sqrt']\n",
        "max_depth = [2, 3, 5, None]\n",
        "min_samples_split = [2, 5, 10]\n",
        "min_samples_leaf = [1, 2, 4, 10]\n",
        "bootstrap = [True, False]\n",
        "\n",
        "params_grid = {\n",
        "    'n_estimators': n_estimators,\n",
        "    'max_features': max_features,\n",
        "    'max_depth': max_depth,\n",
        "    'min_samples_split': min_samples_split,\n",
        "    'min_samples_leaf': min_samples_leaf,\n",
        "    'bootstrap': bootstrap\n",
        "}\n",
        "\n",
        "rf_clf2 = RandomForestClassifier(random_state=123)\n",
        "\n",
        "rf_cv2 = GridSearchCV(\n",
        "    rf_clf2,\n",
        "    params_grid,\n",
        "    scoring=\"accuracy\",\n",
        "    cv=5,\n",
        "    verbose=1,\n",
        "    n_jobs=-1\n",
        ")\n",
        "\n",
        "\n",
        "rf_cv2.fit(X_train_b, y_train)\n",
        "best_params2 = rf_cv2.best_params_\n",
        "print(f\"Best parameters: {best_params2}\")\n",
        "\n",
        "rf_clf_best2 = RandomForestClassifier(**best_params2, random_state=123)\n",
        "rf_clf_best2.fit(X_train_b, y_train)\n",
        "\n",
        "print_score(rf_clf_best2, X_train_b, y_train, X_test_b, y_test, train=True)\n",
        "print_score(rf_clf_best2, X_train_b, y_train, X_test_b, y_test, train=False)"
      ]
    },
    {
      "cell_type": "markdown",
      "source": [
        "> The cross-validated model rf_clf_best2: accuracy 0.652.\n",
        "\n",
        "> Best parameters: 'bootstrap': False, 'max_depth': 3, 'max_features': 'auto', 'min_samples_leaf': 1, 'min_samples_split': 10, 'n_estimators': 50"
      ],
      "metadata": {
        "id": "kvyBD1w3gmWo"
      },
      "id": "kvyBD1w3gmWo"
    },
    {
      "cell_type": "markdown",
      "id": "49ad4841",
      "metadata": {
        "id": "49ad4841"
      },
      "source": [
        "### Ensembling"
      ]
    },
    {
      "cell_type": "markdown",
      "id": "b2f5af56",
      "metadata": {
        "id": "b2f5af56"
      },
      "source": [
        "#### Bagging"
      ]
    },
    {
      "cell_type": "code",
      "execution_count": null,
      "id": "82b162ac",
      "metadata": {
        "id": "82b162ac",
        "colab": {
          "base_uri": "https://localhost:8080/"
        },
        "outputId": "ea48a30d-f835-411a-e48c-12f9b536f014"
      },
      "outputs": [
        {
          "output_type": "stream",
          "name": "stdout",
          "text": [
            "Ensemble accuracy: 0.636\n"
          ]
        }
      ],
      "source": [
        "from sklearn.ensemble import RandomForestClassifier, BaggingClassifier\n",
        "from sklearn.metrics import accuracy_score\n",
        "from scipy import stats\n",
        "\n",
        "\n",
        "# Initialize a list to store the random forest models\n",
        "models = []\n",
        "\n",
        "# Define the hyperparameters for the random forest model\n",
        "rf_params = {'n_estimators': 100, 'max_depth': 5}\n",
        "\n",
        "# Create 10 random forest models with different subsets of the training data\n",
        "for i in range(10):\n",
        "    # Create a bagging classifier with the random forest model as the base estimator\n",
        "    bagging = BaggingClassifier(base_estimator=RandomForestClassifier(**rf_params),\n",
        "                                n_estimators=10, random_state=i)\n",
        "\n",
        "    # Fit the bagging classifier to the training data\n",
        "    bagging.fit(X_train_b, y_train)\n",
        "\n",
        "    # Add the trained model to the list\n",
        "    models.append(bagging)\n",
        "\n",
        "# Use the ensemble of models to make predictions on the test data\n",
        "y_pred_ensemble = []\n",
        "for model in models:\n",
        "    y_pred_ensemble.append(model.predict(X_test_b))\n",
        "\n",
        "# Take the mode of the predictions to get the final prediction\n",
        "y_pred_ensemble = np.array(y_pred_ensemble)\n",
        "y_pred_mode = stats.mode(y_pred_ensemble, keepdims=False)[0].ravel()\n",
        "\n",
        "\n",
        "# Calculate the accuracy of the ensemble model\n",
        "accuracy = accuracy_score(y_test, y_pred_mode)\n",
        "print(f\"Ensemble accuracy: {accuracy:.3f}\")"
      ]
    },
    {
      "cell_type": "markdown",
      "id": "aace0908",
      "metadata": {
        "id": "aace0908"
      },
      "source": [
        "#### Boosting"
      ]
    },
    {
      "cell_type": "code",
      "execution_count": null,
      "id": "8baa4baf",
      "metadata": {
        "id": "8baa4baf",
        "colab": {
          "base_uri": "https://localhost:8080/"
        },
        "outputId": "d5e4e0fa-d109-4ce1-92fd-3ac984f3c020"
      },
      "outputs": [
        {
          "output_type": "stream",
          "name": "stdout",
          "text": [
            "Ensemble accuracy: 0.591\n"
          ]
        }
      ],
      "source": [
        "from sklearn.ensemble import RandomForestClassifier, GradientBoostingClassifier, VotingClassifier\n",
        "from sklearn.metrics import accuracy_score\n",
        "\n",
        "# Define the base models\n",
        "rf_model = RandomForestClassifier(n_estimators=100, random_state=123, bootstrap=False)\n",
        "gb_model = GradientBoostingClassifier(n_estimators=100, random_state=123)\n",
        "\n",
        "# Define the ensemble model\n",
        "ensemble_model = VotingClassifier(\n",
        "    estimators=[('rf', rf_model), ('gb', gb_model)],\n",
        "    voting='soft',  # use soft voting to take into account the predicted probabilities\n",
        ")\n",
        "\n",
        "# Fit the ensemble model\n",
        "ensemble_model.fit(X_train_b, y_train)\n",
        "\n",
        "# Make predictions on the test data\n",
        "y_pred = ensemble_model.predict(X_test_b)\n",
        "\n",
        "# Calculate the accuracy of the ensemble model\n",
        "accuracy = accuracy_score(y_test, y_pred)\n",
        "print(f\"Ensemble accuracy: {accuracy:.3f}\")\n"
      ]
    },
    {
      "cell_type": "markdown",
      "id": "z0hb4IRlx3xr",
      "metadata": {
        "id": "z0hb4IRlx3xr"
      },
      "source": [
        "#### Voting"
      ]
    },
    {
      "cell_type": "code",
      "execution_count": null,
      "id": "MvIfr7Bvx26j",
      "metadata": {
        "colab": {
          "base_uri": "https://localhost:8080/"
        },
        "id": "MvIfr7Bvx26j",
        "outputId": "fb3ded48-b16e-4fe7-9112-b7ea2d4a51c1"
      },
      "outputs": [
        {
          "output_type": "stream",
          "name": "stdout",
          "text": [
            "Accuracy of the voting classifier: 0.606\n"
          ]
        }
      ],
      "source": [
        "from sklearn.ensemble import VotingClassifier\n",
        "from sklearn.neighbors import KNeighborsClassifier\n",
        "from sklearn.ensemble import RandomForestClassifier\n",
        "from lightgbm import LGBMClassifier\n",
        "from xgboost import XGBClassifier\n",
        "from sklearn.linear_model import LogisticRegression\n",
        "from sklearn.svm import SVC\n",
        "from sklearn.model_selection import train_test_split\n",
        "from sklearn.metrics import accuracy_score\n",
        "\n",
        "# Split the data into training and test sets\n",
        "X_train, X_test, y_train, y_test = train_test_split(X, y, test_size=0.2, random_state=123)\n",
        "\n",
        "\n",
        "# Define the individual classifiers\n",
        "knn = KNeighborsClassifier()\n",
        "rf = RandomForestClassifier(bootstrap= False, max_depth= 3, max_features='auto', min_samples_leaf=1, min_samples_split=10, n_estimators= 50,random_state=123)\n",
        "lgbm = LGBMClassifier(random_state=123)\n",
        "xgb = XGBClassifier(random_state=123)\n",
        "lr = LogisticRegression(max_iter=1000,random_state=123)\n",
        "svc = SVC(random_state=123)\n",
        "\n",
        "# Define the voting classifier\n",
        "voting_clf = VotingClassifier(\n",
        "    estimators=[('knn', knn), ('rf', rf), ('lgbm', lgbm), ('xgb', xgb), ('lr', lr), ('svc', svc)],\n",
        "    voting='hard'\n",
        ")\n",
        "\n",
        "# Train the voting classifier\n",
        "voting_clf.fit(X_train, y_train)\n",
        "\n",
        "# Evaluate the voting classifier\n",
        "y_pred = voting_clf.predict(X_test)\n",
        "accuracy = accuracy_score(y_test, y_pred)\n",
        "print(\"Accuracy of the voting classifier: {:.3f}\".format(accuracy))"
      ]
    },
    {
      "cell_type": "markdown",
      "source": [
        "> The ensembling doese not show any improvement."
      ],
      "metadata": {
        "id": "2StJ2drqhFSS"
      },
      "id": "2StJ2drqhFSS"
    },
    {
      "cell_type": "markdown",
      "source": [
        "### Validation"
      ],
      "metadata": {
        "id": "00d6eFoecD7E"
      },
      "id": "00d6eFoecD7E"
    },
    {
      "cell_type": "markdown",
      "source": [
        "> The final model is rf_clf_best2.\n",
        "\n",
        "* The accuracy score is 0.652, which means that the model classified 65.2% of the instances correctly.\n",
        "* The precision for class 1 is 0.737, which means that of all the instances predicted as class 1, 73.7% are actually class 1.\n",
        "* The recall for class 1 is 0.438, which means that of all the instances that are actually class 1, the model correctly identified 53.1% of them.\n",
        "* The F1-score is 0.549 which is better than the baseline model 0.520.\n"
      ],
      "metadata": {
        "id": "jT-6eEC99raG"
      },
      "id": "jT-6eEC99raG"
    },
    {
      "cell_type": "code",
      "execution_count": null,
      "id": "eETqJm0XnZlz",
      "metadata": {
        "id": "eETqJm0XnZlz",
        "outputId": "b9230c79-6adc-44a6-c01b-221026fccf9c",
        "colab": {
          "base_uri": "https://localhost:8080/"
        }
      },
      "outputs": [
        {
          "output_type": "execute_result",
          "data": {
            "text/plain": [
              "['East_rf.pkl']"
            ]
          },
          "metadata": {},
          "execution_count": 42
        }
      ],
      "source": [
        "# Save the final model to a file\n",
        "from joblib import dump\n",
        "\n",
        "dump(rf_clf_best2, 'East_rf.pkl')\n"
      ]
    },
    {
      "cell_type": "markdown",
      "id": "6de51c9b",
      "metadata": {
        "id": "6de51c9b"
      },
      "source": [
        "### Visualization"
      ]
    },
    {
      "cell_type": "code",
      "execution_count": null,
      "id": "h2WxF1UIoDKD",
      "metadata": {
        "id": "h2WxF1UIoDKD"
      },
      "outputs": [],
      "source": [
        "# Load the saved model from a file\n",
        "from joblib import load\n",
        "erf= load('East_rf.pkl')"
      ]
    },
    {
      "cell_type": "code",
      "execution_count": null,
      "id": "PjALye8xogXk",
      "metadata": {
        "id": "PjALye8xogXk",
        "outputId": "27cabe24-5c80-43ad-d7f3-119e2601f61e",
        "colab": {
          "base_uri": "https://localhost:8080/",
          "height": 1000
        }
      },
      "outputs": [
        {
          "output_type": "stream",
          "name": "stdout",
          "text": [
            "Accuracy: 0.652\n",
            "Precision: 0.765\n",
            "Recall: 0.406\n",
            "F1 Score: 0.531\n",
            "\n"
          ]
        },
        {
          "output_type": "display_data",
          "data": {
            "text/plain": [
              "<Figure size 640x480 with 2 Axes>"
            ],
            "image/png": "[encoded data removed]"
          },
          "metadata": {}
        },
        {
          "output_type": "display_data",
          "data": {
            "text/plain": [
              "<Figure size 640x480 with 1 Axes>"
            ],
            "image/png": "[encoded data removed]"
          },
          "metadata": {}
        },
        {
          "output_type": "display_data",
          "data": {
            "text/plain": [
              "<Figure size 640x480 with 1 Axes>"
            ],
            "image/png": "[encoded data removed]"
          },
          "metadata": {}
        }
      ],
      "source": [
        "import seaborn as sns\n",
        "from sklearn.metrics import confusion_matrix, roc_curve, roc_auc_score\n",
        "\n",
        "# Evaluate the model's performance using common metrics\n",
        "y_pred = erf.predict(X_test_b)\n",
        "accuracy = accuracy_score(y_test, y_pred)\n",
        "precision = precision_score(y_test, y_pred)\n",
        "recall = recall_score(y_test, y_pred)\n",
        "f1 = f1_score(y_test, y_pred)\n",
        "# Print the model's performance metrics\n",
        "print(f\"Accuracy: {accuracy:.3f}\")\n",
        "print(f\"Precision: {precision:.3f}\")\n",
        "print(f\"Recall: {recall:.3f}\")\n",
        "print(f\"F1 Score: {f1:.3f}\")\n",
        "print()\n",
        "\n",
        "\n",
        "# Confusion matrix\n",
        "cm = confusion_matrix(y_test, y_pred)\n",
        "sns.heatmap(cm, annot=True, cmap='Blues', fmt='g')\n",
        "plt.xlabel('Predicted')\n",
        "plt.ylabel('True')\n",
        "plt.show()\n",
        "\n",
        "# Feature importance plot\n",
        "importances = erf.feature_importances_\n",
        "std = np.std([tree.feature_importances_ for tree in erf.estimators_], axis=0)\n",
        "indices = np.argsort(importances)[::-1]\n",
        "\n",
        "sns.barplot(x=importances[indices], y=X.columns[indices], color=\"b\")\n",
        "plt.title('Feature Importance')\n",
        "plt.xlabel('Relative Importance')\n",
        "plt.ylabel('Features')\n",
        "plt.show()\n",
        "\n",
        "# ROC curve\n",
        "y_pred_prob = erf.predict_proba(X_test_b)[:, 1]\n",
        "fpr, tpr, thresholds = roc_curve(y_test, y_pred_prob)\n",
        "roc_auc = roc_auc_score(y_test, y_pred_prob)\n",
        "sns.lineplot(x=fpr, y=tpr, color='b', label='ROC curve (AUC = %0.2f)' % roc_auc)\n",
        "plt.plot([0, 1], [0, 1], 'k--')\n",
        "plt.xlim([0.0, 1.0])\n",
        "plt.ylim([0.0, 1.05])\n",
        "plt.xlabel('False Positive Rate')\n",
        "plt.ylabel('True Positive Rate')\n",
        "plt.title('Receiver Operating Characteristic (ROC) Curve')\n",
        "plt.legend(loc=\"lower right\")\n",
        "plt.show()\n"
      ]
    },
    {
      "cell_type": "code",
      "execution_count": null,
      "id": "DHin1m7mynGi",
      "metadata": {
        "id": "DHin1m7mynGi",
        "outputId": "567d186d-b866-4140-fec8-586809bff589",
        "colab": {
          "base_uri": "https://localhost:8080/",
          "height": 807
        }
      },
      "outputs": [
        {
          "output_type": "display_data",
          "data": {
            "text/plain": [
              "<Figure size 2000x1000 with 1 Axes>"
            ],
            "image/png": "[encoded data removed]"
          },
          "metadata": {}
        }
      ],
      "source": [
        "from sklearn.tree import plot_tree\n",
        "import matplotlib.pyplot as plt\n",
        "\n",
        "# Select the first tree in the forest\n",
        "tree = erf.estimators_[0]\n",
        "\n",
        "# Plot the tree\n",
        "plt.figure(figsize=(20,10))\n",
        "plot_tree(tree, filled=True, feature_names=X.columns)\n",
        "plt.show()\n"
      ]
    },
    {
      "cell_type": "markdown",
      "source": [
        "==============================================================================="
      ],
      "metadata": {
        "id": "8CROVdT4ieiD"
      },
      "id": "8CROVdT4ieiD"
    },
    {
      "cell_type": "code",
      "source": [
        "# import matplotlib.pyplot as plt\n",
        "\n",
        "# history = model.fit(X_train, y_train, validation_data=(X_val, y_val), epochs=50, batch_size=32)\n",
        "\n",
        "# # plot training and validation accuracy\n",
        "# plt.plot(history.history['accuracy'])\n",
        "# plt.plot(history.history['val_accuracy'])\n",
        "# plt.title('Model Accuracy')\n",
        "# plt.xlabel('Epoch')\n",
        "# plt.ylabel('Accuracy')\n",
        "# plt.legend(['Train', 'Validation'], loc='upper left')\n",
        "# plt.show()\n",
        "\n",
        "# # plot training and validation loss\n",
        "# plt.plot(history.history['loss'])\n",
        "# plt.plot(history.history['val_loss'])\n",
        "# plt.title('Model Loss')\n",
        "# plt.xlabel('Epoch')\n",
        "# plt.ylabel('Loss')\n",
        "# plt.legend(['Train', 'Validation'], loc='upper left')\n",
        "# plt.show()\n"
      ],
      "metadata": {
        "id": "FsksUf8tmoXH"
      },
      "id": "FsksUf8tmoXH",
      "execution_count": null,
      "outputs": []
    },
    {
      "cell_type": "markdown",
      "id": "7b80030c",
      "metadata": {
        "id": "7b80030c"
      },
      "source": [
        "> Lasso with Random Forest Classification"
      ]
    },
    {
      "cell_type": "code",
      "execution_count": null,
      "id": "db9c6fd4",
      "metadata": {
        "id": "db9c6fd4"
      },
      "outputs": [],
      "source": [
        "# from sklearn.linear_model import Lasso\n",
        "# from sklearn.preprocessing import StandardScaler\n",
        "\n",
        "# # Standardize the input features\n",
        "# scaler = StandardScaler()\n",
        "# X_train_std = scaler.fit_transform(X_train)\n",
        "\n",
        "# # Fit a Lasso model\n",
        "# lasso = Lasso(alpha=0.1)\n",
        "# lasso.fit(X_train_std, y_train)\n",
        "\n",
        "# # Select the features with non-zero coefficients\n",
        "# selected_feat = X_train.columns[lasso.coef_ != 0]\n",
        "\n",
        "\n",
        "# # summarize the selection of the attributes\n",
        "# print(\"Selected Features:\", list(X_train.columns[selected_feat]))\n",
        "\n",
        "# # Train a Random Forest model using the selected features\n",
        "# rf = RandomForestClassifier(n_estimators=100, random_state= 123)\n",
        "# rf.fit(X_train[selected_feat], y_train)\n",
        "# y_pred = rf.predict(X_test[selected_feat])\n",
        "# accuracy = accuracy_score(y_test, y_pred)\n",
        "# # # Evaluate the model on the test set\n",
        "# # y_pred5 = rf.predict(X_test)\n",
        "# # accuracy5 = accuracy_score(y_test, y_pred5)\n",
        "# # print(f\"Accuracy of the model5: {accuracy5:.3f}\")\n",
        "\n",
        "\n"
      ]
    },
    {
      "cell_type": "code",
      "execution_count": null,
      "id": "c0ee19eb",
      "metadata": {
        "id": "c0ee19eb"
      },
      "outputs": [],
      "source": [
        "# import lightgbm as lgb\n",
        "# from sklearn.metrics import accuracy_score, classification_report, confusion_matrix, roc_auc_score\n",
        "# from sklearn.model_selection import train_test_split\n",
        "\n",
        "# # Split data into train and test sets\n",
        "# X_train, X_test, y_train, y_test = train_test_split(X, y, test_size=0.2, random_state=42)\n",
        "\n",
        "# # Create a LightGBM dataset for training\n",
        "# train_data = lgb.Dataset(X_train, label=y_train)\n",
        "\n",
        "# # Set parameters for the model\n",
        "# params = {\n",
        "#     'objective': 'binary',\n",
        "#     'metric': 'binary_logloss',\n",
        "#     'num_leaves': 31,\n",
        "#     'learning_rate': 0.05,\n",
        "#     'feature_fraction': 0.9,\n",
        "#     'bagging_fraction': 0.8,\n",
        "#     'bagging_freq': 5,\n",
        "#     'verbose': 0\n",
        "# }\n",
        "\n",
        "# # Train the model\n",
        "# Baseline_model = lgb.train(params, train_data, num_boost_round=100)\n",
        "\n",
        "# # Make predictions on the test set\n",
        "# y_pred = Baseline_model.predict(X_test)\n",
        "\n",
        "# # Convert probabilities to binary predictions\n",
        "# y_pred_binary = [1 if i > 0.5 else 0 for i in y_pred]\n",
        "\n",
        "# # Calculate the accuracy of the model\n",
        "# accuracy = accuracy_score(y_test, y_pred_binary)\n",
        "# print(\"Baseline model accuracy:\", accuracy)\n",
        "\n",
        "# # Calculate the classification report\n",
        "# report = classification_report(y_test, y_pred_binary)\n",
        "# print(\"Classification Report:\")\n",
        "# print(report)\n",
        "\n",
        "# # Calculate the ROC-AUC score\n",
        "# roc_auc = roc_auc_score(y_test, y_pred)\n",
        "# print(\"ROC-AUC Score:\", roc_auc)\n",
        "\n",
        "# # Calculate the confusion matrix\n",
        "# cm = confusion_matrix(y_test, y_pred_binary)\n",
        "# print(\"Confusion Matrix:\\n\", cm)\n"
      ]
    },
    {
      "cell_type": "code",
      "execution_count": null,
      "id": "bb2424d3",
      "metadata": {
        "id": "bb2424d3"
      },
      "outputs": [],
      "source": [
        "# import pandas as pd\n",
        "# import numpy as np\n",
        "# from sklearn.discriminant_analysis import LinearDiscriminantAnalysis\n",
        "# from sklearn.model_selection import train_test_split\n",
        "# from sklearn.preprocessing import StandardScaler\n",
        "# from sklearn.pipeline import Pipeline\n",
        "# from sklearn.feature_selection import SelectKBest, f_classif\n",
        "# from sklearn.linear_model import RidgeClassifier\n",
        "# from sklearn.metrics import accuracy_score\n",
        "\n",
        "\n",
        "\n",
        "# # Create a pipeline for feature selection and regularization\n",
        "# pipe = Pipeline([\n",
        "#     ('scaler', StandardScaler()),\n",
        "#     ('feature_selection', SelectKBest(f_classif, k=5)),\n",
        "#     ('classifier', RidgeClassifier(alpha=0.1))\n",
        "# ])\n",
        "\n",
        "# # Fit the pipeline on the training data\n",
        "# pipe.fit(X_train, y_train)\n",
        "\n",
        "# # Make predictions on the test data\n",
        "# predictions = pipe.predict(X_test)\n",
        "\n",
        "# # Evaluate the performance of the model\n",
        "# accuracy = accuracy_score(y_test, predictions)\n",
        "# print(\"Accuracy:\", accuracy)\n"
      ]
    },
    {
      "cell_type": "code",
      "execution_count": null,
      "id": "e5f4564b",
      "metadata": {
        "id": "e5f4564b"
      },
      "outputs": [],
      "source": [
        "# from sklearn.discriminant_analysis import LinearDiscriminantAnalysis\n",
        "# from sklearn.model_selection import train_test_split\n",
        "# from sklearn.metrics import accuracy_score, classification_report\n",
        "\n",
        "# # Create the Discriminant Analysis model\n",
        "# model = LinearDiscriminantAnalysis()\n",
        "\n",
        "# # Fit the model on the training data\n",
        "# model.fit(X_train, y_train)\n",
        "\n",
        "# # Make predictions on the test data\n",
        "# predictions = model.predict(X_test)\n",
        "\n",
        "# # Evaluate the performance of the model\n",
        "# accuracy = accuracy_score(y_test, predictions)\n",
        "# print(\"Accuracy:\", accuracy)\n",
        "\n",
        "# report = classification_report(y_test, predictions)\n",
        "# print(\"Classification Report:\\n\", report)\n"
      ]
    },
    {
      "cell_type": "code",
      "execution_count": null,
      "id": "8de3fe2e",
      "metadata": {
        "id": "8de3fe2e"
      },
      "outputs": [],
      "source": [
        "# import lightgbm as lgb\n",
        "# from sklearn.metrics import classification_report, confusion_matrix, roc_auc_score, accuracy_score\n",
        "# from sklearn.model_selection import train_test_split\n",
        "\n",
        "\n",
        "# # Create a LightGBM dataset\n",
        "# train_data = lgb.Dataset(X_train, label=y_train)\n",
        "\n",
        "# # Set the hyperparameters\n",
        "# params = {\n",
        "#     'objective': 'binary',\n",
        "#     'metric': 'binary_logloss',\n",
        "#     'boosting_type': 'gbdt',\n",
        "#     'num_leaves': 31,\n",
        "#     'learning_rate': 0.05,\n",
        "#     'max_depth': -1,\n",
        "#     'min_child_samples': 20,\n",
        "#     'subsample': 0.8,\n",
        "#     'colsample_bytree': 0.8,\n",
        "#     'n_jobs': -1,\n",
        "#     'random_state': 42\n",
        "# }\n",
        "\n",
        "# # Train the model\n",
        "# num_round = 100\n",
        "# Baseline_model = lgb.train(params, train_data, num_round)\n",
        "\n",
        "# # Make predictions on the test set\n",
        "# y_pred = Baseline_model.predict(X_test)\n",
        "# y_pred = [1 if pred > 0.5 else 0 for pred in y_pred]\n",
        "\n",
        "# # Evaluate the model\n",
        "# accuracy = accuracy_score(y_test, y_pred)\n",
        "# print(\"Baseline model accuracy:\", accuracy)\n",
        "\n",
        "# report = classification_report(y_test, y_pred)\n",
        "# print(\"Classification Report:\")\n",
        "# print(report)\n",
        "\n",
        "# roc_auc = roc_auc_score(y_test, y_pred)\n",
        "# print(\"ROC-AUC Score:\", roc_auc)\n",
        "\n",
        "# cm = confusion_matrix(y_test, y_pred)\n",
        "# print(\"Confusion Matrix:\\n\", cm)\n"
      ]
    },
    {
      "cell_type": "code",
      "execution_count": null,
      "id": "4ffe2f37",
      "metadata": {
        "id": "4ffe2f37"
      },
      "outputs": [],
      "source": [
        "# from sklearn.pipeline import Pipeline\n",
        "# from sklearn.preprocessing import StandardScaler\n",
        "# from sklearn.feature_selection import SelectKBest, f_classif\n",
        "# from sklearn.linear_model import LogisticRegression\n",
        "# from sklearn.metrics import accuracy_score\n",
        "\n",
        "# # Define the pipeline\n",
        "# pipeline = Pipeline([\n",
        "#   ('scaler', StandardScaler()), # Scale the features\n",
        "#   ('selector', SelectKBest(f_classif, k=10)), # Select the top 10 features\n",
        "#   ('model', LogisticRegression()) # Train the logistic regression model\n",
        "# ])\n",
        "\n",
        "# # Fit the pipeline on the training data\n",
        "# pipeline.fit(train_data.drop('FoodDesert', axis=1), train_data['FoodDesert'])\n",
        "\n",
        "# # Make predictions on the test data\n",
        "# predictions = pipeline.predict(test_data.drop('FoodDesert', axis=1))\n",
        "\n",
        "# # Evaluate the performance of the model\n",
        "# accuracy = accuracy_score(test_data['FoodDesert'], predictions)\n",
        "# print(\"Accuracy:\", accuracy)\n"
      ]
    }
  ],
  "metadata": {
    "colab": {
      "provenance": [],
      "toc_visible": true,
      "include_colab_link": true
    },
    "kernelspec": {
      "display_name": "Python 3 (ipykernel)",
      "language": "python",
      "name": "python3"
    },
    "language_info": {
      "codemirror_mode": {
        "name": "ipython",
        "version": 3
      },
      "file_extension": ".py",
      "mimetype": "text/x-python",
      "name": "python",
      "nbconvert_exporter": "python",
      "pygments_lexer": "ipython3",
      "version": "3.9.7"
    }
  },
  "nbformat": 4,
  "nbformat_minor": 5
}
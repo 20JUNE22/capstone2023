{
  "cells": [
    {
      "cell_type": "markdown",
      "metadata": {
        "id": "view-in-github",
        "colab_type": "text"
      },
      "source": [
        "<a href=\"https://colab.research.google.com/github/20JUNE22/capstone2023/blob/main/West_rf_.ipynb\" target=\"_parent\"><img src=\"https://colab.research.google.com/assets/colab-badge.svg\" alt=\"Open In Colab\"/></a>"
      ]
    },
    {
      "cell_type": "markdown",
      "metadata": {
        "id": "f542383a"
      },
      "source": [
        "## First model for West of Washington"
      ],
      "id": "f542383a"
    },
    {
      "cell_type": "markdown",
      "metadata": {
        "id": "1df28cde"
      },
      "source": [
        "### Load data"
      ],
      "id": "1df28cde"
    },
    {
      "cell_type": "code",
      "execution_count": null,
      "metadata": {
        "id": "d21f307f"
      },
      "outputs": [],
      "source": [
        "import numpy as np\n",
        "import pandas as pd\n",
        "import matplotlib.pyplot as plt\n",
        "import seaborn as sns\n",
        "\n",
        "import warnings\n",
        "warnings.simplefilter(action='ignore', category=FutureWarning)"
      ],
      "id": "d21f307f"
    },
    {
      "cell_type": "code",
      "execution_count": null,
      "metadata": {
        "colab": {
          "base_uri": "https://localhost:8080/",
          "height": 487
        },
        "id": "204ae1eb",
        "outputId": "29e3efbb-d46d-45a6-ba7d-e1f704b6df58"
      },
      "outputs": [
        {
          "output_type": "execute_result",
          "data": {
            "text/plain": [
              "      EastofWA  PCTGQTRS  PovertyRate  MedianFamilyIncome  TractKids  \\\n",
              "0            1      2.41         11.0               67703        534   \n",
              "1            1      0.00         18.2               62500        435   \n",
              "2            1      0.42         29.0               42900       2656   \n",
              "3            1      2.59         27.0               55521       1018   \n",
              "4            1      0.00         28.0               57831       1869   \n",
              "...        ...       ...          ...                 ...        ...   \n",
              "1434         1      1.44         29.4               52059       1441   \n",
              "1435         1      0.08         23.4               51875       1171   \n",
              "1436         1      2.76         31.2               36659       2520   \n",
              "1437         1      1.73         21.2               44451       1711   \n",
              "1438         1      0.00         31.4               45495       1852   \n",
              "\n",
              "      TractSeniors  TractWhite  TractBlack  TractAsian  TractNHOPI  ...  \\\n",
              "0              516        2326           2          11           0  ...   \n",
              "1              305        1524          24          12           2  ...   \n",
              "2              477        3747          48          15           2  ...   \n",
              "3              330        1764          13          29           0  ...   \n",
              "4              287        2342          22          58           0  ...   \n",
              "...            ...         ...         ...         ...         ...  ...   \n",
              "1434           473        1459          17          42           7  ...   \n",
              "1435           431        1164          12          13           3  ...   \n",
              "1436           440        1106          31         130           7  ...   \n",
              "1437           364        1750          30          23           0  ...   \n",
              "1438           277        1400          36          10           7  ...   \n",
              "\n",
              "      log10_TractSeniors  log10_TractWhite  log10_TractBlack  \\\n",
              "0               2.713491          3.348500          0.477121   \n",
              "1               2.485721          3.155032          1.397940   \n",
              "2               2.679428          3.562531          1.690196   \n",
              "3               2.519828          3.222456          1.146128   \n",
              "4               2.459392          3.351603          1.361728   \n",
              "...                  ...               ...               ...   \n",
              "1434            2.675778          3.134814          1.255273   \n",
              "1435            2.635484          3.028978          1.113943   \n",
              "1436            2.644439          3.004751          1.505150   \n",
              "1437            2.562293          3.218798          1.491362   \n",
              "1438            2.444045          3.115611          1.568202   \n",
              "\n",
              "      log10_TractAsian  log10_TractNHOPI  log10_TractAIAN  log10_TractOMultir  \\\n",
              "0             1.079181          0.000000         1.397940            1.924279   \n",
              "1             1.113943          0.477121         1.041393            2.220108   \n",
              "2             1.204120          0.477121         2.217484            3.470998   \n",
              "3             1.477121          0.000000         1.707570            3.000000   \n",
              "4             1.770852          0.000000         2.037426            3.346939   \n",
              "...                ...               ...              ...                 ...   \n",
              "1434          1.633468          0.903090         3.177248            3.146748   \n",
              "1435          1.146128          0.602060         3.285557            2.748963   \n",
              "1436          2.117271          0.903090         3.007748            3.651859   \n",
              "1437          1.380211          0.000000         2.690196            3.380754   \n",
              "1438          1.041393          0.903090         2.715167            3.457579   \n",
              "\n",
              "      log10_TractHispanic  log10_TractHUNV  log10_TractSNAP  \n",
              "0                2.053078         1.944483         2.212188  \n",
              "1                2.307496         1.204120         2.103804  \n",
              "2                3.704494         2.096910         2.589950  \n",
              "3                3.295347         2.060698         2.264818  \n",
              "4                3.574031         1.041393         2.469822  \n",
              "...                   ...              ...              ...  \n",
              "1434             3.281488         1.806180         2.526339  \n",
              "1435             2.833784         1.799341         2.340444  \n",
              "1436             3.707655         2.012837         2.794488  \n",
              "1437             3.555820         1.924279         2.652246  \n",
              "1438             3.609914         1.924279         2.720986  \n",
              "\n",
              "[1439 rows x 30 columns]"
            ],
            "text/html": [
              "\n",
              "  <div id=\"df-340aefb9-3d25-42f8-987f-f505e673b7de\">\n",
              "    <div class=\"colab-df-container\">\n",
              "      <div>\n",
              "<style scoped>\n",
              "    .dataframe tbody tr th:only-of-type {\n",
              "        vertical-align: middle;\n",
              "    }\n",
              "\n",
              "    .dataframe tbody tr th {\n",
              "        vertical-align: top;\n",
              "    }\n",
              "\n",
              "    .dataframe thead th {\n",
              "        text-align: right;\n",
              "    }\n",
              "</style>\n",
              "<table border=\"1\" class=\"dataframe\">\n",
              "  <thead>\n",
              "    <tr style=\"text-align: right;\">\n",
              "      <th></th>\n",
              "      <th>EastofWA</th>\n",
              "      <th>PCTGQTRS</th>\n",
              "      <th>PovertyRate</th>\n",
              "      <th>MedianFamilyIncome</th>\n",
              "      <th>TractKids</th>\n",
              "      <th>TractSeniors</th>\n",
              "      <th>TractWhite</th>\n",
              "      <th>TractBlack</th>\n",
              "      <th>TractAsian</th>\n",
              "      <th>TractNHOPI</th>\n",
              "      <th>...</th>\n",
              "      <th>log10_TractSeniors</th>\n",
              "      <th>log10_TractWhite</th>\n",
              "      <th>log10_TractBlack</th>\n",
              "      <th>log10_TractAsian</th>\n",
              "      <th>log10_TractNHOPI</th>\n",
              "      <th>log10_TractAIAN</th>\n",
              "      <th>log10_TractOMultir</th>\n",
              "      <th>log10_TractHispanic</th>\n",
              "      <th>log10_TractHUNV</th>\n",
              "      <th>log10_TractSNAP</th>\n",
              "    </tr>\n",
              "  </thead>\n",
              "  <tbody>\n",
              "    <tr>\n",
              "      <th>0</th>\n",
              "      <td>1</td>\n",
              "      <td>2.41</td>\n",
              "      <td>11.0</td>\n",
              "      <td>67703</td>\n",
              "      <td>534</td>\n",
              "      <td>516</td>\n",
              "      <td>2326</td>\n",
              "      <td>2</td>\n",
              "      <td>11</td>\n",
              "      <td>0</td>\n",
              "      <td>...</td>\n",
              "      <td>2.713491</td>\n",
              "      <td>3.348500</td>\n",
              "      <td>0.477121</td>\n",
              "      <td>1.079181</td>\n",
              "      <td>0.000000</td>\n",
              "      <td>1.397940</td>\n",
              "      <td>1.924279</td>\n",
              "      <td>2.053078</td>\n",
              "      <td>1.944483</td>\n",
              "      <td>2.212188</td>\n",
              "    </tr>\n",
              "    <tr>\n",
              "      <th>1</th>\n",
              "      <td>1</td>\n",
              "      <td>0.00</td>\n",
              "      <td>18.2</td>\n",
              "      <td>62500</td>\n",
              "      <td>435</td>\n",
              "      <td>305</td>\n",
              "      <td>1524</td>\n",
              "      <td>24</td>\n",
              "      <td>12</td>\n",
              "      <td>2</td>\n",
              "      <td>...</td>\n",
              "      <td>2.485721</td>\n",
              "      <td>3.155032</td>\n",
              "      <td>1.397940</td>\n",
              "      <td>1.113943</td>\n",
              "      <td>0.477121</td>\n",
              "      <td>1.041393</td>\n",
              "      <td>2.220108</td>\n",
              "      <td>2.307496</td>\n",
              "      <td>1.204120</td>\n",
              "      <td>2.103804</td>\n",
              "    </tr>\n",
              "    <tr>\n",
              "      <th>2</th>\n",
              "      <td>1</td>\n",
              "      <td>0.42</td>\n",
              "      <td>29.0</td>\n",
              "      <td>42900</td>\n",
              "      <td>2656</td>\n",
              "      <td>477</td>\n",
              "      <td>3747</td>\n",
              "      <td>48</td>\n",
              "      <td>15</td>\n",
              "      <td>2</td>\n",
              "      <td>...</td>\n",
              "      <td>2.679428</td>\n",
              "      <td>3.562531</td>\n",
              "      <td>1.690196</td>\n",
              "      <td>1.204120</td>\n",
              "      <td>0.477121</td>\n",
              "      <td>2.217484</td>\n",
              "      <td>3.470998</td>\n",
              "      <td>3.704494</td>\n",
              "      <td>2.096910</td>\n",
              "      <td>2.589950</td>\n",
              "    </tr>\n",
              "    <tr>\n",
              "      <th>3</th>\n",
              "      <td>1</td>\n",
              "      <td>2.59</td>\n",
              "      <td>27.0</td>\n",
              "      <td>55521</td>\n",
              "      <td>1018</td>\n",
              "      <td>330</td>\n",
              "      <td>1764</td>\n",
              "      <td>13</td>\n",
              "      <td>29</td>\n",
              "      <td>0</td>\n",
              "      <td>...</td>\n",
              "      <td>2.519828</td>\n",
              "      <td>3.222456</td>\n",
              "      <td>1.146128</td>\n",
              "      <td>1.477121</td>\n",
              "      <td>0.000000</td>\n",
              "      <td>1.707570</td>\n",
              "      <td>3.000000</td>\n",
              "      <td>3.295347</td>\n",
              "      <td>2.060698</td>\n",
              "      <td>2.264818</td>\n",
              "    </tr>\n",
              "    <tr>\n",
              "      <th>4</th>\n",
              "      <td>1</td>\n",
              "      <td>0.00</td>\n",
              "      <td>28.0</td>\n",
              "      <td>57831</td>\n",
              "      <td>1869</td>\n",
              "      <td>287</td>\n",
              "      <td>2342</td>\n",
              "      <td>22</td>\n",
              "      <td>58</td>\n",
              "      <td>0</td>\n",
              "      <td>...</td>\n",
              "      <td>2.459392</td>\n",
              "      <td>3.351603</td>\n",
              "      <td>1.361728</td>\n",
              "      <td>1.770852</td>\n",
              "      <td>0.000000</td>\n",
              "      <td>2.037426</td>\n",
              "      <td>3.346939</td>\n",
              "      <td>3.574031</td>\n",
              "      <td>1.041393</td>\n",
              "      <td>2.469822</td>\n",
              "    </tr>\n",
              "    <tr>\n",
              "      <th>...</th>\n",
              "      <td>...</td>\n",
              "      <td>...</td>\n",
              "      <td>...</td>\n",
              "      <td>...</td>\n",
              "      <td>...</td>\n",
              "      <td>...</td>\n",
              "      <td>...</td>\n",
              "      <td>...</td>\n",
              "      <td>...</td>\n",
              "      <td>...</td>\n",
              "      <td>...</td>\n",
              "      <td>...</td>\n",
              "      <td>...</td>\n",
              "      <td>...</td>\n",
              "      <td>...</td>\n",
              "      <td>...</td>\n",
              "      <td>...</td>\n",
              "      <td>...</td>\n",
              "      <td>...</td>\n",
              "      <td>...</td>\n",
              "      <td>...</td>\n",
              "    </tr>\n",
              "    <tr>\n",
              "      <th>1434</th>\n",
              "      <td>1</td>\n",
              "      <td>1.44</td>\n",
              "      <td>29.4</td>\n",
              "      <td>52059</td>\n",
              "      <td>1441</td>\n",
              "      <td>473</td>\n",
              "      <td>1459</td>\n",
              "      <td>17</td>\n",
              "      <td>42</td>\n",
              "      <td>7</td>\n",
              "      <td>...</td>\n",
              "      <td>2.675778</td>\n",
              "      <td>3.134814</td>\n",
              "      <td>1.255273</td>\n",
              "      <td>1.633468</td>\n",
              "      <td>0.903090</td>\n",
              "      <td>3.177248</td>\n",
              "      <td>3.146748</td>\n",
              "      <td>3.281488</td>\n",
              "      <td>1.806180</td>\n",
              "      <td>2.526339</td>\n",
              "    </tr>\n",
              "    <tr>\n",
              "      <th>1435</th>\n",
              "      <td>1</td>\n",
              "      <td>0.08</td>\n",
              "      <td>23.4</td>\n",
              "      <td>51875</td>\n",
              "      <td>1171</td>\n",
              "      <td>431</td>\n",
              "      <td>1164</td>\n",
              "      <td>12</td>\n",
              "      <td>13</td>\n",
              "      <td>3</td>\n",
              "      <td>...</td>\n",
              "      <td>2.635484</td>\n",
              "      <td>3.028978</td>\n",
              "      <td>1.113943</td>\n",
              "      <td>1.146128</td>\n",
              "      <td>0.602060</td>\n",
              "      <td>3.285557</td>\n",
              "      <td>2.748963</td>\n",
              "      <td>2.833784</td>\n",
              "      <td>1.799341</td>\n",
              "      <td>2.340444</td>\n",
              "    </tr>\n",
              "    <tr>\n",
              "      <th>1436</th>\n",
              "      <td>1</td>\n",
              "      <td>2.76</td>\n",
              "      <td>31.2</td>\n",
              "      <td>36659</td>\n",
              "      <td>2520</td>\n",
              "      <td>440</td>\n",
              "      <td>1106</td>\n",
              "      <td>31</td>\n",
              "      <td>130</td>\n",
              "      <td>7</td>\n",
              "      <td>...</td>\n",
              "      <td>2.644439</td>\n",
              "      <td>3.004751</td>\n",
              "      <td>1.505150</td>\n",
              "      <td>2.117271</td>\n",
              "      <td>0.903090</td>\n",
              "      <td>3.007748</td>\n",
              "      <td>3.651859</td>\n",
              "      <td>3.707655</td>\n",
              "      <td>2.012837</td>\n",
              "      <td>2.794488</td>\n",
              "    </tr>\n",
              "    <tr>\n",
              "      <th>1437</th>\n",
              "      <td>1</td>\n",
              "      <td>1.73</td>\n",
              "      <td>21.2</td>\n",
              "      <td>44451</td>\n",
              "      <td>1711</td>\n",
              "      <td>364</td>\n",
              "      <td>1750</td>\n",
              "      <td>30</td>\n",
              "      <td>23</td>\n",
              "      <td>0</td>\n",
              "      <td>...</td>\n",
              "      <td>2.562293</td>\n",
              "      <td>3.218798</td>\n",
              "      <td>1.491362</td>\n",
              "      <td>1.380211</td>\n",
              "      <td>0.000000</td>\n",
              "      <td>2.690196</td>\n",
              "      <td>3.380754</td>\n",
              "      <td>3.555820</td>\n",
              "      <td>1.924279</td>\n",
              "      <td>2.652246</td>\n",
              "    </tr>\n",
              "    <tr>\n",
              "      <th>1438</th>\n",
              "      <td>1</td>\n",
              "      <td>0.00</td>\n",
              "      <td>31.4</td>\n",
              "      <td>45495</td>\n",
              "      <td>1852</td>\n",
              "      <td>277</td>\n",
              "      <td>1400</td>\n",
              "      <td>36</td>\n",
              "      <td>10</td>\n",
              "      <td>7</td>\n",
              "      <td>...</td>\n",
              "      <td>2.444045</td>\n",
              "      <td>3.115611</td>\n",
              "      <td>1.568202</td>\n",
              "      <td>1.041393</td>\n",
              "      <td>0.903090</td>\n",
              "      <td>2.715167</td>\n",
              "      <td>3.457579</td>\n",
              "      <td>3.609914</td>\n",
              "      <td>1.924279</td>\n",
              "      <td>2.720986</td>\n",
              "    </tr>\n",
              "  </tbody>\n",
              "</table>\n",
              "<p>1439 rows × 30 columns</p>\n",
              "</div>\n",
              "      <button class=\"colab-df-convert\" onclick=\"convertToInteractive('df-340aefb9-3d25-42f8-987f-f505e673b7de')\"\n",
              "              title=\"Convert this dataframe to an interactive table.\"\n",
              "              style=\"display:none;\">\n",
              "        \n",
              "  <svg xmlns=\"http://www.w3.org/2000/svg\" height=\"24px\"viewBox=\"0 0 24 24\"\n",
              "       width=\"24px\">\n",
              "    <path d=\"M0 0h24v24H0V0z\" fill=\"none\"/>\n",
              "    <path d=\"M18.56 5.44l.94 2.06.94-2.06 2.06-.94-2.06-.94-.94-2.06-.94 2.06-2.06.94zm-11 1L8.5 8.5l.94-2.06 2.06-.94-2.06-.94L8.5 2.5l-.94 2.06-2.06.94zm10 10l.94 2.06.94-2.06 2.06-.94-2.06-.94-.94-2.06-.94 2.06-2.06.94z\"/><path d=\"M17.41 7.96l-1.37-1.37c-.4-.4-.92-.59-1.43-.59-.52 0-1.04.2-1.43.59L10.3 9.45l-7.72 7.72c-.78.78-.78 2.05 0 2.83L4 21.41c.39.39.9.59 1.41.59.51 0 1.02-.2 1.41-.59l7.78-7.78 2.81-2.81c.8-.78.8-2.07 0-2.86zM5.41 20L4 18.59l7.72-7.72 1.47 1.35L5.41 20z\"/>\n",
              "  </svg>\n",
              "      </button>\n",
              "      \n",
              "  <style>\n",
              "    .colab-df-container {\n",
              "      display:flex;\n",
              "      flex-wrap:wrap;\n",
              "      gap: 12px;\n",
              "    }\n",
              "\n",
              "    .colab-df-convert {\n",
              "      background-color: #E8F0FE;\n",
              "      border: none;\n",
              "      border-radius: 50%;\n",
              "      cursor: pointer;\n",
              "      display: none;\n",
              "      fill: #1967D2;\n",
              "      height: 32px;\n",
              "      padding: 0 0 0 0;\n",
              "      width: 32px;\n",
              "    }\n",
              "\n",
              "    .colab-df-convert:hover {\n",
              "      background-color: #E2EBFA;\n",
              "      box-shadow: 0px 1px 2px rgba(60, 64, 67, 0.3), 0px 1px 3px 1px rgba(60, 64, 67, 0.15);\n",
              "      fill: #174EA6;\n",
              "    }\n",
              "\n",
              "    [theme=dark] .colab-df-convert {\n",
              "      background-color: #3B4455;\n",
              "      fill: #D2E3FC;\n",
              "    }\n",
              "\n",
              "    [theme=dark] .colab-df-convert:hover {\n",
              "      background-color: #434B5C;\n",
              "      box-shadow: 0px 1px 3px 1px rgba(0, 0, 0, 0.15);\n",
              "      filter: drop-shadow(0px 1px 2px rgba(0, 0, 0, 0.3));\n",
              "      fill: #FFFFFF;\n",
              "    }\n",
              "  </style>\n",
              "\n",
              "      <script>\n",
              "        const buttonEl =\n",
              "          document.querySelector('#df-340aefb9-3d25-42f8-987f-f505e673b7de button.colab-df-convert');\n",
              "        buttonEl.style.display =\n",
              "          google.colab.kernel.accessAllowed ? 'block' : 'none';\n",
              "\n",
              "        async function convertToInteractive(key) {\n",
              "          const element = document.querySelector('#df-340aefb9-3d25-42f8-987f-f505e673b7de');\n",
              "          const dataTable =\n",
              "            await google.colab.kernel.invokeFunction('convertToInteractive',\n",
              "                                                     [key], {});\n",
              "          if (!dataTable) return;\n",
              "\n",
              "          const docLinkHtml = 'Like what you see? Visit the ' +\n",
              "            '<a target=\"_blank\" href=https://colab.research.google.com/notebooks/data_table.ipynb>data table notebook</a>'\n",
              "            + ' to learn more about interactive tables.';\n",
              "          element.innerHTML = '';\n",
              "          dataTable['output_type'] = 'display_data';\n",
              "          await google.colab.output.renderOutput(dataTable, element);\n",
              "          const docLink = document.createElement('div');\n",
              "          docLink.innerHTML = docLinkHtml;\n",
              "          element.appendChild(docLink);\n",
              "        }\n",
              "      </script>\n",
              "    </div>\n",
              "  </div>\n",
              "  "
            ]
          },
          "metadata": {},
          "execution_count": 2
        }
      ],
      "source": [
        "fd = pd.read_excel(\"https://github.com/20JUNE22/capstone2023/raw/main/clean_wa.xlsx\")\n",
        "\n",
        "fd"
      ],
      "id": "204ae1eb"
    },
    {
      "cell_type": "code",
      "execution_count": null,
      "metadata": {
        "colab": {
          "base_uri": "https://localhost:8080/",
          "height": 270
        },
        "id": "449136e4",
        "outputId": "46efd883-d29f-470c-c8ed-a88f314ac805",
        "scrolled": true
      },
      "outputs": [
        {
          "output_type": "execute_result",
          "data": {
            "text/plain": [
              "   EastofWA  FoodDesert  log10_PCTGQTRS  log10_PovertyRate  \\\n",
              "0         1           0        0.532754           1.075547   \n",
              "1         1           1        0.000000           1.281033   \n",
              "2         1           1        0.152288           1.475671   \n",
              "3         1           0        0.555094           1.445604   \n",
              "4         1           0        0.000000           1.460898   \n",
              "\n",
              "   log10_MedianFamilyIncome  log10_TractKids  log10_TractSeniors  \\\n",
              "0                  4.655551         2.719331            2.713491   \n",
              "1                  4.602494         2.628389            2.485721   \n",
              "2                  4.310481         3.422590            2.679428   \n",
              "3                  4.519316         3.003461            2.519828   \n",
              "4                  4.548647         3.269279            2.459392   \n",
              "\n",
              "   log10_TractWhite  log10_TractBlack  log10_TractAsian  log10_TractNHOPI  \\\n",
              "0          3.348500          0.477121          1.079181          0.000000   \n",
              "1          3.155032          1.397940          1.113943          0.477121   \n",
              "2          3.562531          1.690196          1.204120          0.477121   \n",
              "3          3.222456          1.146128          1.477121          0.000000   \n",
              "4          3.351603          1.361728          1.770852          0.000000   \n",
              "\n",
              "   log10_TractAIAN  log10_TractOMultir  log10_TractHispanic  log10_TractHUNV  \\\n",
              "0         1.397940            1.924279             2.053078         1.944483   \n",
              "1         1.041393            2.220108             2.307496         1.204120   \n",
              "2         2.217484            3.470998             3.704494         2.096910   \n",
              "3         1.707570            3.000000             3.295347         2.060698   \n",
              "4         2.037426            3.346939             3.574031         1.041393   \n",
              "\n",
              "   log10_TractSNAP  \n",
              "0         2.212188  \n",
              "1         2.103804  \n",
              "2         2.589950  \n",
              "3         2.264818  \n",
              "4         2.469822  "
            ],
            "text/html": [
              "\n",
              "  <div id=\"df-d623828d-ad38-41b8-8306-fedbbe7763d4\">\n",
              "    <div class=\"colab-df-container\">\n",
              "      <div>\n",
              "<style scoped>\n",
              "    .dataframe tbody tr th:only-of-type {\n",
              "        vertical-align: middle;\n",
              "    }\n",
              "\n",
              "    .dataframe tbody tr th {\n",
              "        vertical-align: top;\n",
              "    }\n",
              "\n",
              "    .dataframe thead th {\n",
              "        text-align: right;\n",
              "    }\n",
              "</style>\n",
              "<table border=\"1\" class=\"dataframe\">\n",
              "  <thead>\n",
              "    <tr style=\"text-align: right;\">\n",
              "      <th></th>\n",
              "      <th>EastofWA</th>\n",
              "      <th>FoodDesert</th>\n",
              "      <th>log10_PCTGQTRS</th>\n",
              "      <th>log10_PovertyRate</th>\n",
              "      <th>log10_MedianFamilyIncome</th>\n",
              "      <th>log10_TractKids</th>\n",
              "      <th>log10_TractSeniors</th>\n",
              "      <th>log10_TractWhite</th>\n",
              "      <th>log10_TractBlack</th>\n",
              "      <th>log10_TractAsian</th>\n",
              "      <th>log10_TractNHOPI</th>\n",
              "      <th>log10_TractAIAN</th>\n",
              "      <th>log10_TractOMultir</th>\n",
              "      <th>log10_TractHispanic</th>\n",
              "      <th>log10_TractHUNV</th>\n",
              "      <th>log10_TractSNAP</th>\n",
              "    </tr>\n",
              "  </thead>\n",
              "  <tbody>\n",
              "    <tr>\n",
              "      <th>0</th>\n",
              "      <td>1</td>\n",
              "      <td>0</td>\n",
              "      <td>0.532754</td>\n",
              "      <td>1.075547</td>\n",
              "      <td>4.655551</td>\n",
              "      <td>2.719331</td>\n",
              "      <td>2.713491</td>\n",
              "      <td>3.348500</td>\n",
              "      <td>0.477121</td>\n",
              "      <td>1.079181</td>\n",
              "      <td>0.000000</td>\n",
              "      <td>1.397940</td>\n",
              "      <td>1.924279</td>\n",
              "      <td>2.053078</td>\n",
              "      <td>1.944483</td>\n",
              "      <td>2.212188</td>\n",
              "    </tr>\n",
              "    <tr>\n",
              "      <th>1</th>\n",
              "      <td>1</td>\n",
              "      <td>1</td>\n",
              "      <td>0.000000</td>\n",
              "      <td>1.281033</td>\n",
              "      <td>4.602494</td>\n",
              "      <td>2.628389</td>\n",
              "      <td>2.485721</td>\n",
              "      <td>3.155032</td>\n",
              "      <td>1.397940</td>\n",
              "      <td>1.113943</td>\n",
              "      <td>0.477121</td>\n",
              "      <td>1.041393</td>\n",
              "      <td>2.220108</td>\n",
              "      <td>2.307496</td>\n",
              "      <td>1.204120</td>\n",
              "      <td>2.103804</td>\n",
              "    </tr>\n",
              "    <tr>\n",
              "      <th>2</th>\n",
              "      <td>1</td>\n",
              "      <td>1</td>\n",
              "      <td>0.152288</td>\n",
              "      <td>1.475671</td>\n",
              "      <td>4.310481</td>\n",
              "      <td>3.422590</td>\n",
              "      <td>2.679428</td>\n",
              "      <td>3.562531</td>\n",
              "      <td>1.690196</td>\n",
              "      <td>1.204120</td>\n",
              "      <td>0.477121</td>\n",
              "      <td>2.217484</td>\n",
              "      <td>3.470998</td>\n",
              "      <td>3.704494</td>\n",
              "      <td>2.096910</td>\n",
              "      <td>2.589950</td>\n",
              "    </tr>\n",
              "    <tr>\n",
              "      <th>3</th>\n",
              "      <td>1</td>\n",
              "      <td>0</td>\n",
              "      <td>0.555094</td>\n",
              "      <td>1.445604</td>\n",
              "      <td>4.519316</td>\n",
              "      <td>3.003461</td>\n",
              "      <td>2.519828</td>\n",
              "      <td>3.222456</td>\n",
              "      <td>1.146128</td>\n",
              "      <td>1.477121</td>\n",
              "      <td>0.000000</td>\n",
              "      <td>1.707570</td>\n",
              "      <td>3.000000</td>\n",
              "      <td>3.295347</td>\n",
              "      <td>2.060698</td>\n",
              "      <td>2.264818</td>\n",
              "    </tr>\n",
              "    <tr>\n",
              "      <th>4</th>\n",
              "      <td>1</td>\n",
              "      <td>0</td>\n",
              "      <td>0.000000</td>\n",
              "      <td>1.460898</td>\n",
              "      <td>4.548647</td>\n",
              "      <td>3.269279</td>\n",
              "      <td>2.459392</td>\n",
              "      <td>3.351603</td>\n",
              "      <td>1.361728</td>\n",
              "      <td>1.770852</td>\n",
              "      <td>0.000000</td>\n",
              "      <td>2.037426</td>\n",
              "      <td>3.346939</td>\n",
              "      <td>3.574031</td>\n",
              "      <td>1.041393</td>\n",
              "      <td>2.469822</td>\n",
              "    </tr>\n",
              "  </tbody>\n",
              "</table>\n",
              "</div>\n",
              "      <button class=\"colab-df-convert\" onclick=\"convertToInteractive('df-d623828d-ad38-41b8-8306-fedbbe7763d4')\"\n",
              "              title=\"Convert this dataframe to an interactive table.\"\n",
              "              style=\"display:none;\">\n",
              "        \n",
              "  <svg xmlns=\"http://www.w3.org/2000/svg\" height=\"24px\"viewBox=\"0 0 24 24\"\n",
              "       width=\"24px\">\n",
              "    <path d=\"M0 0h24v24H0V0z\" fill=\"none\"/>\n",
              "    <path d=\"M18.56 5.44l.94 2.06.94-2.06 2.06-.94-2.06-.94-.94-2.06-.94 2.06-2.06.94zm-11 1L8.5 8.5l.94-2.06 2.06-.94-2.06-.94L8.5 2.5l-.94 2.06-2.06.94zm10 10l.94 2.06.94-2.06 2.06-.94-2.06-.94-.94-2.06-.94 2.06-2.06.94z\"/><path d=\"M17.41 7.96l-1.37-1.37c-.4-.4-.92-.59-1.43-.59-.52 0-1.04.2-1.43.59L10.3 9.45l-7.72 7.72c-.78.78-.78 2.05 0 2.83L4 21.41c.39.39.9.59 1.41.59.51 0 1.02-.2 1.41-.59l7.78-7.78 2.81-2.81c.8-.78.8-2.07 0-2.86zM5.41 20L4 18.59l7.72-7.72 1.47 1.35L5.41 20z\"/>\n",
              "  </svg>\n",
              "      </button>\n",
              "      \n",
              "  <style>\n",
              "    .colab-df-container {\n",
              "      display:flex;\n",
              "      flex-wrap:wrap;\n",
              "      gap: 12px;\n",
              "    }\n",
              "\n",
              "    .colab-df-convert {\n",
              "      background-color: #E8F0FE;\n",
              "      border: none;\n",
              "      border-radius: 50%;\n",
              "      cursor: pointer;\n",
              "      display: none;\n",
              "      fill: #1967D2;\n",
              "      height: 32px;\n",
              "      padding: 0 0 0 0;\n",
              "      width: 32px;\n",
              "    }\n",
              "\n",
              "    .colab-df-convert:hover {\n",
              "      background-color: #E2EBFA;\n",
              "      box-shadow: 0px 1px 2px rgba(60, 64, 67, 0.3), 0px 1px 3px 1px rgba(60, 64, 67, 0.15);\n",
              "      fill: #174EA6;\n",
              "    }\n",
              "\n",
              "    [theme=dark] .colab-df-convert {\n",
              "      background-color: #3B4455;\n",
              "      fill: #D2E3FC;\n",
              "    }\n",
              "\n",
              "    [theme=dark] .colab-df-convert:hover {\n",
              "      background-color: #434B5C;\n",
              "      box-shadow: 0px 1px 3px 1px rgba(0, 0, 0, 0.15);\n",
              "      filter: drop-shadow(0px 1px 2px rgba(0, 0, 0, 0.3));\n",
              "      fill: #FFFFFF;\n",
              "    }\n",
              "  </style>\n",
              "\n",
              "      <script>\n",
              "        const buttonEl =\n",
              "          document.querySelector('#df-d623828d-ad38-41b8-8306-fedbbe7763d4 button.colab-df-convert');\n",
              "        buttonEl.style.display =\n",
              "          google.colab.kernel.accessAllowed ? 'block' : 'none';\n",
              "\n",
              "        async function convertToInteractive(key) {\n",
              "          const element = document.querySelector('#df-d623828d-ad38-41b8-8306-fedbbe7763d4');\n",
              "          const dataTable =\n",
              "            await google.colab.kernel.invokeFunction('convertToInteractive',\n",
              "                                                     [key], {});\n",
              "          if (!dataTable) return;\n",
              "\n",
              "          const docLinkHtml = 'Like what you see? Visit the ' +\n",
              "            '<a target=\"_blank\" href=https://colab.research.google.com/notebooks/data_table.ipynb>data table notebook</a>'\n",
              "            + ' to learn more about interactive tables.';\n",
              "          element.innerHTML = '';\n",
              "          dataTable['output_type'] = 'display_data';\n",
              "          await google.colab.output.renderOutput(dataTable, element);\n",
              "          const docLink = document.createElement('div');\n",
              "          docLink.innerHTML = docLinkHtml;\n",
              "          element.appendChild(docLink);\n",
              "        }\n",
              "      </script>\n",
              "    </div>\n",
              "  </div>\n",
              "  "
            ]
          },
          "metadata": {},
          "execution_count": 3
        }
      ],
      "source": [
        "# drop the irrelevant inputs\n",
        "wa = fd.drop(fd.columns[1:15], axis=1)\n",
        "\n",
        "\n",
        "wa.head()"
      ],
      "id": "449136e4"
    },
    {
      "cell_type": "markdown",
      "metadata": {
        "id": "dcf4bbbf"
      },
      "source": [
        "### Devided Washington into East and West"
      ],
      "id": "dcf4bbbf"
    },
    {
      "cell_type": "code",
      "execution_count": null,
      "metadata": {
        "colab": {
          "base_uri": "https://localhost:8080/"
        },
        "id": "0a0516cd",
        "outputId": "372089a3-5a72-4557-e67d-41e7e6d2f489",
        "scrolled": true
      },
      "outputs": [
        {
          "output_type": "stream",
          "name": "stdout",
          "text": [
            "    FoodDesert  log10_PCTGQTRS  log10_PovertyRate  log10_MedianFamilyIncome  \\\n",
            "61           1        1.709694           1.056905                  4.697308   \n",
            "62           1        0.471292           1.494155                  4.401900   \n",
            "63           1        0.394452           1.294466                  4.656367   \n",
            "64           1        0.113943           1.190332                  4.706650   \n",
            "65           1        0.737987           1.468347                  4.641375   \n",
            "\n",
            "    log10_TractKids  log10_TractSeniors  log10_TractWhite  log10_TractBlack  \\\n",
            "61         2.187521            2.227887          3.075912          2.390935   \n",
            "62         3.128076            2.701568          3.517855          1.462398   \n",
            "63         2.530200            2.445604          3.061075          0.845098   \n",
            "64         2.793092            2.778874          3.456518          0.845098   \n",
            "65         2.925312            2.725912          3.474944          1.633468   \n",
            "\n",
            "    log10_TractAsian  log10_TractNHOPI  log10_TractAIAN  log10_TractOMultir  \\\n",
            "61          0.954243          0.477121         2.068186            2.100371   \n",
            "62          1.732394          0.698970         2.463893            2.968483   \n",
            "63          0.903090          0.477121         2.617000            1.924279   \n",
            "64          1.431364          0.301030         2.378398            2.155336   \n",
            "65          1.724276          1.113943         2.049218            2.374748   \n",
            "\n",
            "    log10_TractHispanic  log10_TractHUNV  log10_TractSNAP  \n",
            "61             2.201397         1.176091         1.662758  \n",
            "62             3.022428         2.220108         2.564666  \n",
            "63             1.863323         1.462398         2.089905  \n",
            "64             1.903090         1.880814         2.301030  \n",
            "65             2.227887         1.913814         2.570543  \n"
          ]
        }
      ],
      "source": [
        "# Two Subsets\n",
        "east = wa[wa['EastofWA'] == 1] # Subset where EastofWA equals 1\n",
        "west = wa[wa['EastofWA'] == 0] # Subset where EastofWA equals 0\n",
        "\n",
        "# Drop the dimension\n",
        "east = east.drop(['EastofWA'], axis=1)\n",
        "west = west.drop(['EastofWA'], axis=1)\n",
        "\n",
        "print(west.head())"
      ],
      "id": "0a0516cd"
    },
    {
      "cell_type": "markdown",
      "metadata": {
        "id": "f5c2de1a"
      },
      "source": [
        "## West of Washington"
      ],
      "id": "f5c2de1a"
    },
    {
      "cell_type": "markdown",
      "metadata": {
        "id": "c3cd721a"
      },
      "source": [
        "### Method selection"
      ],
      "id": "c3cd721a"
    },
    {
      "cell_type": "code",
      "execution_count": null,
      "metadata": {
        "colab": {
          "base_uri": "https://localhost:8080/",
          "height": 270
        },
        "id": "ad875ab7",
        "outputId": "4124ffbd-61e1-4c10-fb54-8625ec4cc86a"
      },
      "outputs": [
        {
          "output_type": "execute_result",
          "data": {
            "text/plain": [
              "    log10_PCTGQTRS  log10_PovertyRate  log10_MedianFamilyIncome  \\\n",
              "61        1.709694           1.056905                  4.697308   \n",
              "62        0.471292           1.494155                  4.401900   \n",
              "63        0.394452           1.294466                  4.656367   \n",
              "64        0.113943           1.190332                  4.706650   \n",
              "65        0.737987           1.468347                  4.641375   \n",
              "\n",
              "    log10_TractKids  log10_TractSeniors  log10_TractWhite  log10_TractBlack  \\\n",
              "61         2.187521            2.227887          3.075912          2.390935   \n",
              "62         3.128076            2.701568          3.517855          1.462398   \n",
              "63         2.530200            2.445604          3.061075          0.845098   \n",
              "64         2.793092            2.778874          3.456518          0.845098   \n",
              "65         2.925312            2.725912          3.474944          1.633468   \n",
              "\n",
              "    log10_TractAsian  log10_TractNHOPI  log10_TractAIAN  log10_TractOMultir  \\\n",
              "61          0.954243          0.477121         2.068186            2.100371   \n",
              "62          1.732394          0.698970         2.463893            2.968483   \n",
              "63          0.903090          0.477121         2.617000            1.924279   \n",
              "64          1.431364          0.301030         2.378398            2.155336   \n",
              "65          1.724276          1.113943         2.049218            2.374748   \n",
              "\n",
              "    log10_TractHispanic  log10_TractHUNV  log10_TractSNAP  \n",
              "61             2.201397         1.176091         1.662758  \n",
              "62             3.022428         2.220108         2.564666  \n",
              "63             1.863323         1.462398         2.089905  \n",
              "64             1.903090         1.880814         2.301030  \n",
              "65             2.227887         1.913814         2.570543  "
            ],
            "text/html": [
              "\n",
              "  <div id=\"df-5e470961-0521-46b0-964e-45d1c545e477\">\n",
              "    <div class=\"colab-df-container\">\n",
              "      <div>\n",
              "<style scoped>\n",
              "    .dataframe tbody tr th:only-of-type {\n",
              "        vertical-align: middle;\n",
              "    }\n",
              "\n",
              "    .dataframe tbody tr th {\n",
              "        vertical-align: top;\n",
              "    }\n",
              "\n",
              "    .dataframe thead th {\n",
              "        text-align: right;\n",
              "    }\n",
              "</style>\n",
              "<table border=\"1\" class=\"dataframe\">\n",
              "  <thead>\n",
              "    <tr style=\"text-align: right;\">\n",
              "      <th></th>\n",
              "      <th>log10_PCTGQTRS</th>\n",
              "      <th>log10_PovertyRate</th>\n",
              "      <th>log10_MedianFamilyIncome</th>\n",
              "      <th>log10_TractKids</th>\n",
              "      <th>log10_TractSeniors</th>\n",
              "      <th>log10_TractWhite</th>\n",
              "      <th>log10_TractBlack</th>\n",
              "      <th>log10_TractAsian</th>\n",
              "      <th>log10_TractNHOPI</th>\n",
              "      <th>log10_TractAIAN</th>\n",
              "      <th>log10_TractOMultir</th>\n",
              "      <th>log10_TractHispanic</th>\n",
              "      <th>log10_TractHUNV</th>\n",
              "      <th>log10_TractSNAP</th>\n",
              "    </tr>\n",
              "  </thead>\n",
              "  <tbody>\n",
              "    <tr>\n",
              "      <th>61</th>\n",
              "      <td>1.709694</td>\n",
              "      <td>1.056905</td>\n",
              "      <td>4.697308</td>\n",
              "      <td>2.187521</td>\n",
              "      <td>2.227887</td>\n",
              "      <td>3.075912</td>\n",
              "      <td>2.390935</td>\n",
              "      <td>0.954243</td>\n",
              "      <td>0.477121</td>\n",
              "      <td>2.068186</td>\n",
              "      <td>2.100371</td>\n",
              "      <td>2.201397</td>\n",
              "      <td>1.176091</td>\n",
              "      <td>1.662758</td>\n",
              "    </tr>\n",
              "    <tr>\n",
              "      <th>62</th>\n",
              "      <td>0.471292</td>\n",
              "      <td>1.494155</td>\n",
              "      <td>4.401900</td>\n",
              "      <td>3.128076</td>\n",
              "      <td>2.701568</td>\n",
              "      <td>3.517855</td>\n",
              "      <td>1.462398</td>\n",
              "      <td>1.732394</td>\n",
              "      <td>0.698970</td>\n",
              "      <td>2.463893</td>\n",
              "      <td>2.968483</td>\n",
              "      <td>3.022428</td>\n",
              "      <td>2.220108</td>\n",
              "      <td>2.564666</td>\n",
              "    </tr>\n",
              "    <tr>\n",
              "      <th>63</th>\n",
              "      <td>0.394452</td>\n",
              "      <td>1.294466</td>\n",
              "      <td>4.656367</td>\n",
              "      <td>2.530200</td>\n",
              "      <td>2.445604</td>\n",
              "      <td>3.061075</td>\n",
              "      <td>0.845098</td>\n",
              "      <td>0.903090</td>\n",
              "      <td>0.477121</td>\n",
              "      <td>2.617000</td>\n",
              "      <td>1.924279</td>\n",
              "      <td>1.863323</td>\n",
              "      <td>1.462398</td>\n",
              "      <td>2.089905</td>\n",
              "    </tr>\n",
              "    <tr>\n",
              "      <th>64</th>\n",
              "      <td>0.113943</td>\n",
              "      <td>1.190332</td>\n",
              "      <td>4.706650</td>\n",
              "      <td>2.793092</td>\n",
              "      <td>2.778874</td>\n",
              "      <td>3.456518</td>\n",
              "      <td>0.845098</td>\n",
              "      <td>1.431364</td>\n",
              "      <td>0.301030</td>\n",
              "      <td>2.378398</td>\n",
              "      <td>2.155336</td>\n",
              "      <td>1.903090</td>\n",
              "      <td>1.880814</td>\n",
              "      <td>2.301030</td>\n",
              "    </tr>\n",
              "    <tr>\n",
              "      <th>65</th>\n",
              "      <td>0.737987</td>\n",
              "      <td>1.468347</td>\n",
              "      <td>4.641375</td>\n",
              "      <td>2.925312</td>\n",
              "      <td>2.725912</td>\n",
              "      <td>3.474944</td>\n",
              "      <td>1.633468</td>\n",
              "      <td>1.724276</td>\n",
              "      <td>1.113943</td>\n",
              "      <td>2.049218</td>\n",
              "      <td>2.374748</td>\n",
              "      <td>2.227887</td>\n",
              "      <td>1.913814</td>\n",
              "      <td>2.570543</td>\n",
              "    </tr>\n",
              "  </tbody>\n",
              "</table>\n",
              "</div>\n",
              "      <button class=\"colab-df-convert\" onclick=\"convertToInteractive('df-5e470961-0521-46b0-964e-45d1c545e477')\"\n",
              "              title=\"Convert this dataframe to an interactive table.\"\n",
              "              style=\"display:none;\">\n",
              "        \n",
              "  <svg xmlns=\"http://www.w3.org/2000/svg\" height=\"24px\"viewBox=\"0 0 24 24\"\n",
              "       width=\"24px\">\n",
              "    <path d=\"M0 0h24v24H0V0z\" fill=\"none\"/>\n",
              "    <path d=\"M18.56 5.44l.94 2.06.94-2.06 2.06-.94-2.06-.94-.94-2.06-.94 2.06-2.06.94zm-11 1L8.5 8.5l.94-2.06 2.06-.94-2.06-.94L8.5 2.5l-.94 2.06-2.06.94zm10 10l.94 2.06.94-2.06 2.06-.94-2.06-.94-.94-2.06-.94 2.06-2.06.94z\"/><path d=\"M17.41 7.96l-1.37-1.37c-.4-.4-.92-.59-1.43-.59-.52 0-1.04.2-1.43.59L10.3 9.45l-7.72 7.72c-.78.78-.78 2.05 0 2.83L4 21.41c.39.39.9.59 1.41.59.51 0 1.02-.2 1.41-.59l7.78-7.78 2.81-2.81c.8-.78.8-2.07 0-2.86zM5.41 20L4 18.59l7.72-7.72 1.47 1.35L5.41 20z\"/>\n",
              "  </svg>\n",
              "      </button>\n",
              "      \n",
              "  <style>\n",
              "    .colab-df-container {\n",
              "      display:flex;\n",
              "      flex-wrap:wrap;\n",
              "      gap: 12px;\n",
              "    }\n",
              "\n",
              "    .colab-df-convert {\n",
              "      background-color: #E8F0FE;\n",
              "      border: none;\n",
              "      border-radius: 50%;\n",
              "      cursor: pointer;\n",
              "      display: none;\n",
              "      fill: #1967D2;\n",
              "      height: 32px;\n",
              "      padding: 0 0 0 0;\n",
              "      width: 32px;\n",
              "    }\n",
              "\n",
              "    .colab-df-convert:hover {\n",
              "      background-color: #E2EBFA;\n",
              "      box-shadow: 0px 1px 2px rgba(60, 64, 67, 0.3), 0px 1px 3px 1px rgba(60, 64, 67, 0.15);\n",
              "      fill: #174EA6;\n",
              "    }\n",
              "\n",
              "    [theme=dark] .colab-df-convert {\n",
              "      background-color: #3B4455;\n",
              "      fill: #D2E3FC;\n",
              "    }\n",
              "\n",
              "    [theme=dark] .colab-df-convert:hover {\n",
              "      background-color: #434B5C;\n",
              "      box-shadow: 0px 1px 3px 1px rgba(0, 0, 0, 0.15);\n",
              "      filter: drop-shadow(0px 1px 2px rgba(0, 0, 0, 0.3));\n",
              "      fill: #FFFFFF;\n",
              "    }\n",
              "  </style>\n",
              "\n",
              "      <script>\n",
              "        const buttonEl =\n",
              "          document.querySelector('#df-5e470961-0521-46b0-964e-45d1c545e477 button.colab-df-convert');\n",
              "        buttonEl.style.display =\n",
              "          google.colab.kernel.accessAllowed ? 'block' : 'none';\n",
              "\n",
              "        async function convertToInteractive(key) {\n",
              "          const element = document.querySelector('#df-5e470961-0521-46b0-964e-45d1c545e477');\n",
              "          const dataTable =\n",
              "            await google.colab.kernel.invokeFunction('convertToInteractive',\n",
              "                                                     [key], {});\n",
              "          if (!dataTable) return;\n",
              "\n",
              "          const docLinkHtml = 'Like what you see? Visit the ' +\n",
              "            '<a target=\"_blank\" href=https://colab.research.google.com/notebooks/data_table.ipynb>data table notebook</a>'\n",
              "            + ' to learn more about interactive tables.';\n",
              "          element.innerHTML = '';\n",
              "          dataTable['output_type'] = 'display_data';\n",
              "          await google.colab.output.renderOutput(dataTable, element);\n",
              "          const docLink = document.createElement('div');\n",
              "          docLink.innerHTML = docLinkHtml;\n",
              "          element.appendChild(docLink);\n",
              "        }\n",
              "      </script>\n",
              "    </div>\n",
              "  </div>\n",
              "  "
            ]
          },
          "metadata": {},
          "execution_count": 5
        }
      ],
      "source": [
        "# divided wa data into the independent and dependent variables\n",
        "X = west.drop(['FoodDesert'], axis = 1) # all independent\n",
        "y = west['FoodDesert']  # target\n",
        "\n",
        "X.head()"
      ],
      "id": "ad875ab7"
    },
    {
      "cell_type": "code",
      "execution_count": null,
      "metadata": {
        "colab": {
          "base_uri": "https://localhost:8080/"
        },
        "id": "436b427b",
        "outputId": "4bd3a583-4051-4e5b-d137-f0ba589dac45"
      },
      "outputs": [
        {
          "output_type": "execute_result",
          "data": {
            "text/plain": [
              "61      1\n",
              "62      1\n",
              "63      1\n",
              "64      1\n",
              "65      1\n",
              "       ..\n",
              "1389    1\n",
              "1390    1\n",
              "1391    1\n",
              "1392    1\n",
              "1393    1\n",
              "Name: FoodDesert, Length: 1113, dtype: int64"
            ]
          },
          "metadata": {},
          "execution_count": 6
        }
      ],
      "source": [
        "y"
      ],
      "id": "436b427b"
    },
    {
      "cell_type": "code",
      "execution_count": null,
      "metadata": {
        "colab": {
          "base_uri": "https://localhost:8080/"
        },
        "id": "70c1f6bb",
        "outputId": "f82ffbb3-17e0-4b0f-f17c-8231a7ca4a9c"
      },
      "outputs": [
        {
          "output_type": "stream",
          "name": "stdout",
          "text": [
            "Logistic Regression Results:\n",
            "Accuracy: 0.619\n",
            "Precision: 0.493\n",
            "Recall: 0.440\n",
            "F1 Score: 0.465\n",
            "\n",
            "Decision Tree Results:\n",
            "Accuracy: 0.614\n",
            "Precision: 0.489\n",
            "Recall: 0.548\n",
            "F1 Score: 0.517\n",
            "\n",
            "Random Forest Results:\n",
            "Accuracy: 0.659\n",
            "Precision: 0.550\n",
            "Recall: 0.524\n",
            "F1 Score: 0.537\n",
            "\n",
            "XGBoost Results:\n",
            "Accuracy: 0.641\n",
            "Precision: 0.523\n",
            "Recall: 0.536\n",
            "F1 Score: 0.529\n",
            "\n",
            "LightGBM Results:\n",
            "Accuracy: 0.619\n",
            "Precision: 0.494\n",
            "Recall: 0.500\n",
            "F1 Score: 0.497\n",
            "\n",
            "SVM Results:\n",
            "Accuracy: 0.668\n",
            "Precision: 0.576\n",
            "Recall: 0.452\n",
            "F1 Score: 0.507\n",
            "\n",
            "KNN Results:\n",
            "Accuracy: 0.641\n",
            "Precision: 0.522\n",
            "Recall: 0.560\n",
            "F1 Score: 0.540\n",
            "\n"
          ]
        }
      ],
      "source": [
        "from sklearn.model_selection import train_test_split\n",
        "from sklearn.metrics import accuracy_score, precision_score, recall_score, f1_score\n",
        "from sklearn.linear_model import LogisticRegression\n",
        "from sklearn.tree import DecisionTreeClassifier\n",
        "from sklearn.ensemble import RandomForestClassifier\n",
        "from xgboost import XGBClassifier\n",
        "from lightgbm import LGBMClassifier\n",
        "from sklearn.svm import SVC\n",
        "from sklearn.neighbors import KNeighborsClassifier\n",
        "\n",
        "# Load your data and split into training and testing sets\n",
        "X_train, X_test, y_train, y_test = train_test_split(X, y, test_size=0.2, random_state=123)\n",
        "# Define the models you want to compare\n",
        "models = [\n",
        "    ('Logistic Regression', LogisticRegression(max_iter=1000,random_state=123)),\n",
        "    ('Decision Tree', DecisionTreeClassifier(random_state=123)),\n",
        "    ('Random Forest', RandomForestClassifier(random_state=123)),\n",
        "    ('XGBoost', XGBClassifier(random_state=123)),\n",
        "    ('LightGBM', LGBMClassifier(random_state=123)),\n",
        "    ('SVM', SVC(random_state=123)),\n",
        "    ('KNN', KNeighborsClassifier())\n",
        "]\n",
        "\n",
        "# Train and evaluate each model\n",
        "for name, model in models:\n",
        "    # Fit the model to the training data\n",
        "    model.fit(X_train, y_train)\n",
        "\n",
        "    # Make predictions on the testing data\n",
        "    y_pred = model.predict(X_test)\n",
        "\n",
        "    # Evaluate the model's performance using common metrics\n",
        "    accuracy = accuracy_score(y_test, y_pred)\n",
        "    precision = precision_score(y_test, y_pred)\n",
        "    recall = recall_score(y_test, y_pred)\n",
        "    f1 = f1_score(y_test, y_pred)\n",
        "\n",
        "    # Print the model's performance metrics\n",
        "    print(f\"{name} Results:\")\n",
        "    print(f\"Accuracy: {accuracy:.3f}\")\n",
        "    print(f\"Precision: {precision:.3f}\")\n",
        "    print(f\"Recall: {recall:.3f}\")\n",
        "    print(f\"F1 Score: {f1:.3f}\")\n",
        "    print()"
      ],
      "id": "70c1f6bb"
    },
    {
      "cell_type": "markdown",
      "metadata": {
        "id": "755d3446"
      },
      "source": [
        "> Random Forest, SVM"
      ],
      "id": "755d3446"
    },
    {
      "cell_type": "markdown",
      "metadata": {
        "id": "saONAO630AVK"
      },
      "source": [
        "### Random Forest classification baseline model\n"
      ],
      "id": "saONAO630AVK"
    },
    {
      "cell_type": "code",
      "source": [
        "# Print the model's performance metrics\n",
        "from sklearn.metrics import accuracy_score, precision_score, recall_score, f1_score\n",
        "\n",
        "def print_performance_metrics(y_test, y_pred):\n",
        "    accuracy = accuracy_score(y_test, y_pred)\n",
        "    precision = precision_score(y_test, y_pred)\n",
        "    recall = recall_score(y_test, y_pred)\n",
        "    f1 = f1_score(y_test, y_pred)\n",
        "\n",
        "    print(f\"Accuracy: {accuracy:.3f}\")\n",
        "    print(f\"Precision: {precision:.3f}\")\n",
        "    print(f\"Recall: {recall:.3f}\")\n",
        "    print(f\"F1 Score: {f1:.3f}\")"
      ],
      "metadata": {
        "id": "DSiljqUqaglA"
      },
      "id": "DSiljqUqaglA",
      "execution_count": null,
      "outputs": []
    },
    {
      "cell_type": "code",
      "execution_count": null,
      "metadata": {
        "colab": {
          "base_uri": "https://localhost:8080/"
        },
        "id": "bfc280de",
        "outputId": "69edafe8-28bd-473a-9477-505791394155"
      },
      "outputs": [
        {
          "output_type": "stream",
          "name": "stdout",
          "text": [
            "The baseline model Results:\n",
            "Accuracy: 0.659\n",
            "Precision: 0.550\n",
            "Recall: 0.524\n",
            "F1 Score: 0.537\n"
          ]
        }
      ],
      "source": [
        "from sklearn.model_selection import train_test_split\n",
        "from sklearn.metrics import accuracy_score, precision_score, recall_score, f1_score\n",
        "from sklearn.ensemble import RandomForestClassifier\n",
        "from sklearn.metrics import roc_curve\n",
        "\n",
        "# from sklearn.metrics import plot_roc_curve\n",
        "\n",
        "\n",
        "# Split into training and testing sets\n",
        "X_train, X_test, y_train, y_test = train_test_split(X, y, test_size=0.2, random_state=123)\n",
        "\n",
        "# Define the Random Forest model\n",
        "rf_base= RandomForestClassifier(n_estimators=100, random_state=123)\n",
        "\n",
        "# Fit the model to the training data\n",
        "rf_base.fit(X_train, y_train)\n",
        "\n",
        "# Make predictions on the testing data\n",
        "y_pred = rf_base.predict(X_test)\n",
        "\n",
        "# Print the model's performance metrics\n",
        "print(\"The baseline model Results:\")\n",
        "print_performance_metrics(y_test, y_pred)\n",
        "\n",
        "# from sklearn.metrics import classification_report, roc_auc_score, confusion_matrix\n",
        "# Calculate the classification report\n",
        "# report = classification_report(y_test, y_pred)\n",
        "# print(\"Classification Report:\")\n",
        "# print(report)\n",
        "\n",
        "# # Calculate the ROC-AUC score\n",
        "# roc_auc = roc_auc_score(y_test, y_pred)\n",
        "# print(f\"ROC-AUC Score: {roc_auc:.3f}\")\n",
        "\n",
        "# # Calculate the confusion matrix\n",
        "# cm = confusion_matrix(y_test, y_pred)\n",
        "# print(\"Confusion Matrix:\\n\", cm)\n",
        "\n",
        "# # Plot the ROC curve\n",
        "# plot_roc_curve(rf, X_test, y_test) # use the input data instead of the predicted labels\n",
        "# plt.show()"
      ],
      "id": "bfc280de"
    },
    {
      "cell_type": "markdown",
      "metadata": {
        "id": "0c16701a"
      },
      "source": [
        "Accuracy: the baseline model has an accuracy of 0.659, which means that it correctly classified 65.9% of the test set samples.\n",
        "\n",
        "Precision:the baseline model has a precision of 0.550, which means that when it predicted a positive label, it was correct 55.0% of the time.\n",
        "\n",
        "Recall: the baseline model has a recall of 0.524, which means that it correctly identified only 52.4% of the actual positive samples.\n",
        "\n",
        "Based on these results, it appears that the baseline model has room for improvement, particularly in terms of recall. A low recall score means that the model is failing to identify many of the areas that are actually food deserts."
      ],
      "id": "0c16701a"
    },
    {
      "cell_type": "markdown",
      "metadata": {
        "id": "077f8729"
      },
      "source": [
        "### Feature selection"
      ],
      "id": "077f8729"
    },
    {
      "cell_type": "markdown",
      "metadata": {
        "id": "wDmp6zrVyZe0"
      },
      "source": [
        "#### Feature importance"
      ],
      "id": "wDmp6zrVyZe0"
    },
    {
      "cell_type": "code",
      "execution_count": null,
      "metadata": {
        "colab": {
          "base_uri": "https://localhost:8080/"
        },
        "id": "d2be6296",
        "outputId": "70fbc01d-9716-4ab8-a048-c544e12a105e"
      },
      "outputs": [
        {
          "name": "stdout",
          "output_type": "stream",
          "text": [
            "log10_TractHUNV             0.122472\n",
            "log10_TractKids             0.094716\n",
            "log10_TractWhite            0.087688\n",
            "log10_PovertyRate           0.075275\n",
            "log10_TractAsian            0.074219\n",
            "log10_TractSeniors          0.065348\n",
            "log10_TractBlack            0.062071\n",
            "log10_MedianFamilyIncome    0.062027\n",
            "log10_TractOMultir          0.061562\n",
            "log10_TractSNAP             0.061531\n",
            "log10_PCTGQTRS              0.060004\n",
            "log10_TractHispanic         0.059133\n",
            "log10_TractNHOPI            0.057877\n",
            "log10_TractAIAN             0.056078\n",
            "dtype: float64\n"
          ]
        }
      ],
      "source": [
        "# view the feature scores\n",
        "feature_scores = pd.Series(rf_base.feature_importances_, index=X_train.columns).sort_values(ascending=False)\n",
        "\n",
        "print(feature_scores)\n",
        "\n",
        "\n",
        "# # view a bar plot\n",
        "# f, ax = plt.subplots(figsize=(30, 24))\n",
        "# ax = sns.barplot(x=feature_scores, y=feature_scores.index)\n",
        "# ax.set_title(\"Visualize feature scores of the features\")\n",
        "# ax.set_yticklabels(feature_scores.index)\n",
        "# ax.set_xlabel(\"Feature importance score\")\n",
        "# ax.set_ylabel(\"Features\")\n",
        "# plt.show()"
      ],
      "id": "d2be6296"
    },
    {
      "cell_type": "code",
      "execution_count": null,
      "metadata": {
        "colab": {
          "base_uri": "https://localhost:8080/"
        },
        "id": "2c5d7d5c",
        "outputId": "62c2fcc8-d088-4ee2-cce6-40a0095df5cf"
      },
      "outputs": [
        {
          "name": "stdout",
          "output_type": "stream",
          "text": [
            "Accuracy of the model2: 0.682\n"
          ]
        }
      ],
      "source": [
        "# # drop the least important feature from X_train and X_test\n",
        "# X_train2 = X_train.drop(['log10_TractAIAN','log10_TractNHOPI','log10_TractHispanic','log10_PCTGQTRS'], axis=1)\n",
        "# X_test2 = X_test.drop(['log10_TractAIAN','log10_TractNHOPI','log10_TractHispanic','log10_PCTGQTRS'], axis=1)\n",
        "\n",
        "# # Train a new Random Forest model with the selected features\n",
        "# rf2 = RandomForestClassifier(n_estimators=100, random_state=123)\n",
        "# rf2.fit(X_train2, y_train)\n",
        "\n",
        "# # Evaluate the model on the test set\n",
        "# y_pred2 = rf2.predict(X_test2)\n",
        "# accuracy2 = accuracy_score(y_test, y_pred2)\n",
        "# print(f\"Accuracy of the model2: {accuracy2:.3f}\")"
      ],
      "id": "2c5d7d5c"
    },
    {
      "cell_type": "code",
      "execution_count": null,
      "metadata": {
        "colab": {
          "base_uri": "https://localhost:8080/"
        },
        "id": "zb5DB-SQFddz",
        "outputId": "d6e5c745-db06-4143-f716-bfead52e767a"
      },
      "outputs": [
        {
          "output_type": "stream",
          "name": "stdout",
          "text": [
            "Best accuracy: 0.691\n",
            "Best feature set: ['log10_PCTGQTRS', 'log10_PovertyRate', 'log10_MedianFamilyIncome', 'log10_TractKids', 'log10_TractWhite', 'log10_TractBlack', 'log10_TractAsian', 'log10_TractNHOPI', 'log10_TractAIAN', 'log10_TractOMultir', 'log10_TractHispanic', 'log10_TractHUNV', 'log10_TractSNAP']\n",
            "Dropped features: ['log10_TractSeniors']\n"
          ]
        }
      ],
      "source": [
        "# Store the initial feature scores\n",
        "feature_scores = pd.Series(rf_base.feature_importances_, index=X_train.columns).sort_values(ascending=False)\n",
        "\n",
        "# Initialize variables to track the best accuracy and the corresponding feature set\n",
        "best_accuracy = 0\n",
        "best_feature_set = []\n",
        "\n",
        "# Create a list to store the dropped features and accuracies\n",
        "dropped_features = []\n",
        "accuracies = []\n",
        "\n",
        "# Iterate over each feature to drop\n",
        "for feature in feature_scores.index:\n",
        "    # Create a new feature set by dropping the current feature\n",
        "    selected_features = [f for f in X_train.columns if f not in [feature]]\n",
        "    X_train_subset = X_train[selected_features]\n",
        "    X_test_subset = X_test[selected_features]\n",
        "\n",
        "    # Train a new Random Forest model with the selected features\n",
        "    rf = RandomForestClassifier(n_estimators=100, random_state=123)\n",
        "    rf.fit(X_train_subset, y_train)\n",
        "\n",
        "    # Evaluate the model on the test set\n",
        "    y_pred = rf.predict(X_test_subset)\n",
        "    accuracy = accuracy_score(y_test, y_pred)\n",
        "\n",
        "    # Check if the current accuracy is better than the previous best accuracy\n",
        "    if accuracy > best_accuracy:\n",
        "        best_accuracy = accuracy\n",
        "        best_feature_set = selected_features\n",
        "\n",
        "    # Store the dropped feature and its corresponding accuracy\n",
        "    dropped_features.append(feature)\n",
        "    accuracies.append(accuracy)\n",
        "\n",
        "# Print the best accuracy and the corresponding feature set\n",
        "print(f\"Best accuracy: {best_accuracy:.3f}\")\n",
        "print(\"Best feature set:\", best_feature_set)\n",
        "\n",
        "# Print the dropped features\n",
        "dropped_features = [col for col in X_train.columns if col not in best_feature_set]\n",
        "print(\"Dropped features:\", dropped_features)"
      ],
      "id": "zb5DB-SQFddz"
    },
    {
      "cell_type": "markdown",
      "metadata": {
        "id": "c2c0f0a1"
      },
      "source": [
        "> I dropped less important features, the model shows improvement. 0.659 -> 0.691"
      ],
      "id": "c2c0f0a1"
    },
    {
      "cell_type": "code",
      "execution_count": null,
      "metadata": {
        "colab": {
          "base_uri": "https://localhost:8080/"
        },
        "id": "Nx6tcmvAGFd8",
        "outputId": "e058267b-de0f-4b4c-f082-639b485c92d8"
      },
      "outputs": [
        {
          "name": "stdout",
          "output_type": "stream",
          "text": [
            "The model Results:\n",
            "Accuracy: 0.691\n",
            "Precision: 0.586\n",
            "Recall: 0.607\n",
            "F1 Score: 0.596\n"
          ]
        }
      ],
      "source": [
        "# Create new X_train and X_test sets using the best feature set\n",
        "X_train_b = X_train[best_feature_set]\n",
        "X_test_b = X_test[best_feature_set]\n",
        "\n",
        "# Train a new Random Forest model with the best feature set\n",
        "rf_b = RandomForestClassifier(n_estimators=100, random_state=123)\n",
        "rf_b.fit(X_train_b, y_train)\n",
        "\n",
        "# Predict using the fitted model\n",
        "y_pred = rf_b.predict(X_test_b)\n",
        "\n",
        "# Evaluate the model\n",
        "accuracy = accuracy_score(y_test, y_pred)\n",
        "precision = precision_score(y_test, y_pred)\n",
        "recall = recall_score(y_test, y_pred)\n",
        "f1 = f1_score(y_test, y_pred)\n",
        "\n",
        "# Print the model's performance metrics\n",
        "print(f\"The model Results:\")\n",
        "print(f\"Accuracy: {accuracy:.3f}\")\n",
        "print(f\"Precision: {precision:.3f}\")\n",
        "print(f\"Recall: {recall:.3f}\")\n",
        "print(f\"F1 Score: {f1:.3f}\")\n"
      ],
      "id": "Nx6tcmvAGFd8"
    },
    {
      "cell_type": "markdown",
      "metadata": {
        "id": "3492082f"
      },
      "source": [
        "####  SelectFromModel"
      ],
      "id": "3492082f"
    },
    {
      "cell_type": "code",
      "execution_count": null,
      "metadata": {
        "colab": {
          "base_uri": "https://localhost:8080/"
        },
        "id": "b4d61e3a",
        "outputId": "c8759917-62c2-4d49-fbac-90035797103a"
      },
      "outputs": [
        {
          "output_type": "stream",
          "name": "stdout",
          "text": [
            "Index(['log10_PovertyRate', 'log10_TractKids', 'log10_TractWhite',\n",
            "       'log10_TractAsian', 'log10_TractHUNV'],\n",
            "      dtype='object')\n",
            "Accuracy: 0.641\n",
            "Precision: 0.525\n",
            "Recall: 0.500\n",
            "F1 Score: 0.512\n"
          ]
        }
      ],
      "source": [
        "from sklearn.feature_selection import SelectFromModel\n",
        "sel = SelectFromModel(RandomForestClassifier(n_estimators = 100, random_state=123))\n",
        "sel.fit(X_train, y_train)\n",
        "sel.get_support()\n",
        "selected_feat= X_train.columns[(sel.get_support())]\n",
        "len(selected_feat)\n",
        "\n",
        "print(selected_feat)\n",
        "\n",
        "# Create a new dataset with the selected features\n",
        "X_train3 = X_train[selected_feat]\n",
        "X_test3 = X_test[selected_feat]\n",
        "\n",
        "# Train a new Random Forest model with the selected features\n",
        "rf3 = RandomForestClassifier(n_estimators=100, random_state=123)\n",
        "rf3.fit(X_train3, y_train)\n",
        "\n",
        "# Evaluate the model on the test set\n",
        "y_pred3 = rf3.predict(X_test3)\n",
        "\n",
        "# Print the model's performance metrics\n",
        "print_performance_metrics(y_test, y_pred3)\n"
      ],
      "id": "b4d61e3a"
    },
    {
      "cell_type": "markdown",
      "metadata": {
        "id": "4fceb0e6"
      },
      "source": [
        "> Using the selected feature does not improve the performance of the model."
      ],
      "id": "4fceb0e6"
    },
    {
      "cell_type": "markdown",
      "metadata": {
        "id": "0ae0deeb"
      },
      "source": [
        "#### Recursive feature elimination (RFE)"
      ],
      "id": "0ae0deeb"
    },
    {
      "cell_type": "code",
      "execution_count": null,
      "metadata": {
        "colab": {
          "base_uri": "https://localhost:8080/"
        },
        "id": "ff305c96",
        "outputId": "638c82b5-fe13-4114-d77e-ebe6c09ddd18"
      },
      "outputs": [
        {
          "output_type": "stream",
          "name": "stdout",
          "text": [
            "Selected Features: ['log10_PovertyRate', 'log10_TractKids', 'log10_TractWhite', 'log10_TractAsian', 'log10_TractHUNV']\n",
            "Accuracy: 0.641\n",
            "Precision: 0.525\n",
            "Recall: 0.500\n",
            "F1 Score: 0.512\n"
          ]
        }
      ],
      "source": [
        "from sklearn.feature_selection import RFE\n",
        "# create a random forest classifier\n",
        "rf4 = RandomForestClassifier(n_estimators=100, random_state=123)\n",
        "\n",
        "# create the RFE model and select top 5 features\n",
        "rfe = RFE(estimator=rf4, n_features_to_select=5, step=1)\n",
        "rfe.fit(X_train, y_train)\n",
        "\n",
        "# summarize the selection of the attributes\n",
        "print(\"Selected Features:\", list(X_train.columns[rfe.support_]))\n",
        "\n",
        "# Evaluate the model on the test set\n",
        "y_pred4 = rfe.predict(X_test)\n",
        "\n",
        "# Print the model's performance metrics\n",
        "print_performance_metrics(y_test, y_pred4)"
      ],
      "id": "ff305c96"
    },
    {
      "cell_type": "markdown",
      "metadata": {
        "id": "up1utOlBrcfW"
      },
      "source": [
        "> REF does not improve the model."
      ],
      "id": "up1utOlBrcfW"
    },
    {
      "cell_type": "markdown",
      "metadata": {
        "id": "09719d3e"
      },
      "source": [
        "### Hyperparameter tuning"
      ],
      "id": "09719d3e"
    },
    {
      "cell_type": "markdown",
      "metadata": {
        "id": "4c20dab8"
      },
      "source": [
        "#### Randomized Search Cross Validation\n",
        "\n",
        "\n"
      ],
      "id": "4c20dab8"
    },
    {
      "cell_type": "code",
      "execution_count": null,
      "metadata": {
        "id": "7fb509d1"
      },
      "outputs": [],
      "source": [
        "from sklearn.metrics import accuracy_score, confusion_matrix, classification_report\n",
        "\n",
        "def print_score(clf, X_train, y_train, X_test, y_test, train=True):\n",
        "    if train:\n",
        "        pred = clf.predict(X_train)\n",
        "        clf_report = pd.DataFrame(classification_report(y_train, pred, output_dict=True))\n",
        "        print(\"Train Result:\\n================================================\")\n",
        "        print(f\"Accuracy Score: {accuracy_score(y_train, pred):.3f}\")\n",
        "        print(\"_______________________________________________\")\n",
        "        print(f\"CLASSIFICATION REPORT:\\n{clf_report}\")\n",
        "        print(\"_______________________________________________\")\n",
        "        print(f\"Confusion Matrix: \\n {confusion_matrix(y_train, pred)}\\n\")\n",
        "\n",
        "    elif train==False:\n",
        "        pred = clf.predict(X_test)\n",
        "        clf_report = pd.DataFrame(classification_report(y_test, pred, output_dict=True))\n",
        "        print(\"Test Result:\\n================================================\")\n",
        "        print(f\"Accuracy Score: {accuracy_score(y_test, pred):.3f}\")\n",
        "        print(\"_______________________________________________\")\n",
        "        print(f\"CLASSIFICATION REPORT:\\n{clf_report}\")\n",
        "        print(\"_______________________________________________\")\n",
        "        print(f\"Confusion Matrix: \\n {confusion_matrix(y_test, pred)}\\n\")"
      ],
      "id": "7fb509d1"
    },
    {
      "cell_type": "code",
      "execution_count": null,
      "metadata": {
        "colab": {
          "base_uri": "https://localhost:8080/"
        },
        "id": "0f85dac6",
        "outputId": "a96730f1-608b-4d69-c7b8-d319754c1f1f"
      },
      "outputs": [
        {
          "name": "stdout",
          "output_type": "stream",
          "text": [
            "Fitting 5 folds for each of 200 candidates, totalling 1000 fits\n"
          ]
        },
        {
          "name": "stderr",
          "output_type": "stream",
          "text": [
            "/usr/local/lib/python3.10/dist-packages/sklearn/ensemble/_forest.py:424: FutureWarning: `max_features='auto'` has been deprecated in 1.1 and will be removed in 1.3. To keep the past behaviour, explicitly set `max_features='sqrt'` or remove this parameter as it is also the default value for RandomForestClassifiers and ExtraTreesClassifiers.\n",
            "  warn(\n"
          ]
        },
        {
          "name": "stdout",
          "output_type": "stream",
          "text": [
            "Best paramters: {'n_estimators': 481, 'min_samples_split': 10, 'min_samples_leaf': 4, 'max_features': 'auto', 'max_depth': 80, 'bootstrap': True})\n"
          ]
        },
        {
          "name": "stderr",
          "output_type": "stream",
          "text": [
            "/usr/local/lib/python3.10/dist-packages/sklearn/ensemble/_forest.py:424: FutureWarning: `max_features='auto'` has been deprecated in 1.1 and will be removed in 1.3. To keep the past behaviour, explicitly set `max_features='sqrt'` or remove this parameter as it is also the default value for RandomForestClassifiers and ExtraTreesClassifiers.\n",
            "  warn(\n"
          ]
        },
        {
          "name": "stdout",
          "output_type": "stream",
          "text": [
            "Train Result:\n",
            "================================================\n",
            "Accuracy Score: 0.929\n",
            "_______________________________________________\n",
            "CLASSIFICATION REPORT:\n",
            "                    0           1  accuracy   macro avg  weighted avg\n",
            "precision    0.932939    0.924282  0.929213    0.928610      0.929165\n",
            "recall       0.942231    0.912371  0.929213    0.927301      0.929213\n",
            "f1-score     0.937562    0.918288  0.929213    0.927925      0.929159\n",
            "support    502.000000  388.000000  0.929213  890.000000    890.000000\n",
            "_______________________________________________\n",
            "Confusion Matrix: \n",
            " [[473  29]\n",
            " [ 34 354]]\n",
            "\n",
            "Test Result:\n",
            "================================================\n",
            "Accuracy Score: 0.655\n",
            "_______________________________________________\n",
            "CLASSIFICATION REPORT:\n",
            "                    0          1  accuracy   macro avg  weighted avg\n",
            "precision    0.718310   0.543210  0.654709    0.630760      0.652353\n",
            "recall       0.733813   0.523810  0.654709    0.628811      0.654709\n",
            "f1-score     0.725979   0.533333  0.654709    0.629656      0.653413\n",
            "support    139.000000  84.000000  0.654709  223.000000    223.000000\n",
            "_______________________________________________\n",
            "Confusion Matrix: \n",
            " [[102  37]\n",
            " [ 40  44]]\n",
            "\n"
          ]
        }
      ],
      "source": [
        "from sklearn.ensemble import RandomForestClassifier\n",
        "from sklearn.model_selection import RandomizedSearchCV\n",
        "\n",
        "n_estimators = [int(x) for x in np.linspace(start=100, stop=1000, num=100)]\n",
        "max_features = ['auto', 'sqrt']\n",
        "max_depth = [int(x) for x in np.linspace(10, 110, num=11)]\n",
        "max_depth.append(None)\n",
        "min_samples_split = [2, 5, 10]\n",
        "min_samples_leaf = [1, 2, 4]\n",
        "bootstrap = [True, False]\n",
        "\n",
        "random_grid = {\n",
        "    'n_estimators': n_estimators,\n",
        "    'max_features': max_features,\n",
        "    'max_depth': max_depth,\n",
        "    'min_samples_split': min_samples_split,\n",
        "    'min_samples_leaf': min_samples_leaf,\n",
        "    'bootstrap': bootstrap\n",
        "}\n",
        "\n",
        "rf_clf = RandomForestClassifier(random_state=123)\n",
        "\n",
        "rf_cv = RandomizedSearchCV(\n",
        "    estimator=rf_clf,\n",
        "    scoring='accuracy',\n",
        "    param_distributions=random_grid,\n",
        "    n_iter=200,\n",
        "    cv=5,\n",
        "    verbose=1,\n",
        "    random_state=123,\n",
        "    n_jobs=-1\n",
        ")\n",
        "\n",
        "rf_cv.fit(X_train_b, y_train)\n",
        "rf_best_params = rf_cv.best_params_\n",
        "print(f\"Best paramters: {rf_best_params})\")\n",
        "\n",
        "rf_clf_best = RandomForestClassifier(**rf_best_params, random_state=123)\n",
        "rf_clf_best.fit(X_train_b, y_train)\n",
        "\n",
        "print_score(rf_clf_best, X_train_b, y_train, X_test_b, y_test, train=True)\n",
        "print_score(rf_clf_best, X_train_b, y_train, X_test_b, y_test, train=False)"
      ],
      "id": "0f85dac6"
    },
    {
      "cell_type": "markdown",
      "metadata": {
        "id": "20ff7ded"
      },
      "source": [
        "#### Grid Search Cross Validation"
      ],
      "id": "20ff7ded"
    },
    {
      "cell_type": "code",
      "execution_count": null,
      "metadata": {
        "colab": {
          "base_uri": "https://localhost:8080/"
        },
        "id": "211feca8",
        "outputId": "4cf55f35-339b-42e1-93c8-af1df55215cf"
      },
      "outputs": [
        {
          "name": "stdout",
          "output_type": "stream",
          "text": [
            "Fitting 5 folds for each of 960 candidates, totalling 4800 fits\n"
          ]
        },
        {
          "name": "stderr",
          "output_type": "stream",
          "text": [
            "/usr/local/lib/python3.10/dist-packages/sklearn/ensemble/_forest.py:424: FutureWarning: `max_features='auto'` has been deprecated in 1.1 and will be removed in 1.3. To keep the past behaviour, explicitly set `max_features='sqrt'` or remove this parameter as it is also the default value for RandomForestClassifiers and ExtraTreesClassifiers.\n",
            "  warn(\n",
            "/usr/local/lib/python3.10/dist-packages/sklearn/ensemble/_forest.py:424: FutureWarning: `max_features='auto'` has been deprecated in 1.1 and will be removed in 1.3. To keep the past behaviour, explicitly set `max_features='sqrt'` or remove this parameter as it is also the default value for RandomForestClassifiers and ExtraTreesClassifiers.\n",
            "  warn(\n"
          ]
        },
        {
          "name": "stdout",
          "output_type": "stream",
          "text": [
            "Best parameters: {'bootstrap': True, 'max_depth': 7, 'max_features': 'auto', 'min_samples_leaf': 1, 'min_samples_split': 10, 'n_estimators': 50}\n",
            "Train Result:\n",
            "================================================\n",
            "Accuracy Score: 0.864\n",
            "_______________________________________________\n",
            "CLASSIFICATION REPORT:\n",
            "                    0           1  accuracy   macro avg  weighted avg\n",
            "precision    0.853432    0.880342  0.864045    0.866887      0.865164\n",
            "recall       0.916335    0.796392  0.864045    0.856363      0.864045\n",
            "f1-score     0.883766    0.836265  0.864045    0.860015      0.863058\n",
            "support    502.000000  388.000000  0.864045  890.000000    890.000000\n",
            "_______________________________________________\n",
            "Confusion Matrix: \n",
            " [[460  42]\n",
            " [ 79 309]]\n",
            "\n",
            "Test Result:\n",
            "================================================\n",
            "Accuracy Score: 0.641\n",
            "_______________________________________________\n",
            "CLASSIFICATION REPORT:\n",
            "                    0          1  accuracy   macro avg  weighted avg\n",
            "precision    0.703448   0.525641  0.641256    0.614545      0.636472\n",
            "recall       0.733813   0.488095  0.641256    0.610954      0.641256\n",
            "f1-score     0.718310   0.506173  0.641256    0.612241      0.638402\n",
            "support    139.000000  84.000000  0.641256  223.000000    223.000000\n",
            "_______________________________________________\n",
            "Confusion Matrix: \n",
            " [[102  37]\n",
            " [ 43  41]]\n",
            "\n"
          ]
        }
      ],
      "source": [
        "# from sklearn.model_selection import GridSearchCV\n",
        "\n",
        "# n_estimators = [50, 100, 500, 1000]\n",
        "# max_features = ['auto', 'sqrt']\n",
        "# max_depth = [2, 3, 5, 7]\n",
        "# max_depth.append(None)\n",
        "# min_samples_split = [2, 5, 10]\n",
        "# min_samples_leaf = [1, 2, 4, 10]\n",
        "# bootstrap = [True, False]\n",
        "\n",
        "# params_grid = {\n",
        "#     'n_estimators': n_estimators,\n",
        "#     'max_features': max_features,\n",
        "#     'max_depth': max_depth,\n",
        "#     'min_samples_split': min_samples_split,\n",
        "#     'min_samples_leaf': min_samples_leaf,\n",
        "#     'bootstrap': bootstrap\n",
        "# }\n",
        "\n",
        "# rf_clf2 = RandomForestClassifier(random_state=123)\n",
        "\n",
        "# rf_cv2 = GridSearchCV(\n",
        "#     rf_clf2,\n",
        "#     params_grid,\n",
        "#     scoring=\"f1\",\n",
        "#     cv=5,\n",
        "#     verbose=1,\n",
        "#     n_jobs=-1\n",
        "# )\n",
        "\n",
        "\n",
        "# rf_cv2.fit(X_train2, y_train)\n",
        "# best_params = rf_cv2.best_params_\n",
        "# print(f\"Best parameters: {best_params}\")\n",
        "\n",
        "# rf_clf_best2 = RandomForestClassifier(**best_params,random_state=123)\n",
        "# rf_clf_best2.fit(X_train2, y_train)\n",
        "\n",
        "# print_score(rf_clf_best2, X_train2, y_train, X_test2, y_test, train=True)\n",
        "# print_score(rf_clf_best2, X_train2, y_train, X_test2, y_test, train=False)"
      ],
      "id": "211feca8"
    },
    {
      "cell_type": "code",
      "execution_count": null,
      "metadata": {
        "colab": {
          "base_uri": "https://localhost:8080/"
        },
        "id": "PZB0cGAiHkEB",
        "outputId": "085c3441-f060-4333-b8c3-244e0a438d61"
      },
      "outputs": [
        {
          "name": "stdout",
          "output_type": "stream",
          "text": [
            "Fitting 5 folds for each of 960 candidates, totalling 4800 fits\n"
          ]
        },
        {
          "name": "stderr",
          "output_type": "stream",
          "text": [
            "/usr/local/lib/python3.10/dist-packages/sklearn/ensemble/_forest.py:424: FutureWarning: `max_features='auto'` has been deprecated in 1.1 and will be removed in 1.3. To keep the past behaviour, explicitly set `max_features='sqrt'` or remove this parameter as it is also the default value for RandomForestClassifiers and ExtraTreesClassifiers.\n",
            "  warn(\n"
          ]
        },
        {
          "name": "stdout",
          "output_type": "stream",
          "text": [
            "Best parameters: {'bootstrap': True, 'max_depth': 7, 'max_features': 'auto', 'min_samples_leaf': 2, 'min_samples_split': 10, 'n_estimators': 1000}\n"
          ]
        },
        {
          "name": "stderr",
          "output_type": "stream",
          "text": [
            "/usr/local/lib/python3.10/dist-packages/sklearn/ensemble/_forest.py:424: FutureWarning: `max_features='auto'` has been deprecated in 1.1 and will be removed in 1.3. To keep the past behaviour, explicitly set `max_features='sqrt'` or remove this parameter as it is also the default value for RandomForestClassifiers and ExtraTreesClassifiers.\n",
            "  warn(\n"
          ]
        },
        {
          "name": "stdout",
          "output_type": "stream",
          "text": [
            "Train Result:\n",
            "================================================\n",
            "Accuracy Score: 0.880\n",
            "_______________________________________________\n",
            "CLASSIFICATION REPORT:\n",
            "                    0           1  accuracy   macro avg  weighted avg\n",
            "precision    0.871940    0.891365  0.879775    0.881652      0.880408\n",
            "recall       0.922311    0.824742  0.879775    0.873527      0.879775\n",
            "f1-score     0.896418    0.856760  0.879775    0.876589      0.879129\n",
            "support    502.000000  388.000000  0.879775  890.000000    890.000000\n",
            "_______________________________________________\n",
            "Confusion Matrix: \n",
            " [[463  39]\n",
            " [ 68 320]]\n",
            "\n",
            "Test Result:\n",
            "================================================\n",
            "Accuracy Score: 0.664\n",
            "_______________________________________________\n",
            "CLASSIFICATION REPORT:\n",
            "                    0          1  accuracy   macro avg  weighted avg\n",
            "precision    0.725352   0.555556  0.663677    0.640454      0.661393\n",
            "recall       0.741007   0.535714  0.663677    0.638361      0.663677\n",
            "f1-score     0.733096   0.545455  0.663677    0.639275      0.662415\n",
            "support    139.000000  84.000000  0.663677  223.000000    223.000000\n",
            "_______________________________________________\n",
            "Confusion Matrix: \n",
            " [[103  36]\n",
            " [ 39  45]]\n",
            "\n"
          ]
        }
      ],
      "source": [
        "from sklearn.model_selection import GridSearchCV\n",
        "\n",
        "n_estimators = [50, 100, 500, 1000]\n",
        "max_features = ['auto', 'sqrt']\n",
        "max_depth = [2, 3, 5, 7]\n",
        "max_depth.append(None)\n",
        "min_samples_split = [2, 5, 10]\n",
        "min_samples_leaf = [1, 2, 4, 10]\n",
        "bootstrap = [True, False]\n",
        "\n",
        "params_grid = {\n",
        "    'n_estimators': n_estimators,\n",
        "    'max_features': max_features,\n",
        "    'max_depth': max_depth,\n",
        "    'min_samples_split': min_samples_split,\n",
        "    'min_samples_leaf': min_samples_leaf,\n",
        "    'bootstrap': bootstrap\n",
        "}\n",
        "\n",
        "rf_clf2 = RandomForestClassifier(random_state=123)\n",
        "\n",
        "rf_cv2 = GridSearchCV(\n",
        "    rf_clf2,\n",
        "    params_grid,\n",
        "    scoring=\"f1\",\n",
        "    cv=5,\n",
        "    verbose=1,\n",
        "    n_jobs=-1\n",
        ")\n",
        "\n",
        "\n",
        "rf_cv2.fit(X_train_b, y_train)\n",
        "best_params = rf_cv2.best_params_\n",
        "print(f\"Best parameters: {best_params}\")\n",
        "\n",
        "rf_clf_best2 = RandomForestClassifier(**best_params,random_state=123)\n",
        "rf_clf_best2.fit(X_train_b, y_train)\n",
        "\n",
        "print_score(rf_clf_best2, X_train_b, y_train, X_test_b, y_test, train=True)\n",
        "print_score(rf_clf_best2, X_train_b, y_train, X_test_b, y_test, train=False)"
      ],
      "id": "PZB0cGAiHkEB"
    },
    {
      "cell_type": "markdown",
      "metadata": {
        "id": "49ad4841"
      },
      "source": [
        "### Ensembling"
      ],
      "id": "49ad4841"
    },
    {
      "cell_type": "markdown",
      "metadata": {
        "id": "b2f5af56"
      },
      "source": [
        "#### Bagging"
      ],
      "id": "b2f5af56"
    },
    {
      "cell_type": "code",
      "execution_count": null,
      "metadata": {
        "colab": {
          "base_uri": "https://localhost:8080/"
        },
        "id": "82b162ac",
        "outputId": "3489fb0f-cc68-499f-8786-88e97b30769e"
      },
      "outputs": [
        {
          "name": "stderr",
          "output_type": "stream",
          "text": [
            "/usr/local/lib/python3.10/dist-packages/sklearn/ensemble/_base.py:166: FutureWarning: `base_estimator` was renamed to `estimator` in version 1.2 and will be removed in 1.4.\n",
            "  warnings.warn(\n",
            "/usr/local/lib/python3.10/dist-packages/sklearn/ensemble/_base.py:166: FutureWarning: `base_estimator` was renamed to `estimator` in version 1.2 and will be removed in 1.4.\n",
            "  warnings.warn(\n",
            "/usr/local/lib/python3.10/dist-packages/sklearn/ensemble/_base.py:166: FutureWarning: `base_estimator` was renamed to `estimator` in version 1.2 and will be removed in 1.4.\n",
            "  warnings.warn(\n",
            "/usr/local/lib/python3.10/dist-packages/sklearn/ensemble/_base.py:166: FutureWarning: `base_estimator` was renamed to `estimator` in version 1.2 and will be removed in 1.4.\n",
            "  warnings.warn(\n",
            "/usr/local/lib/python3.10/dist-packages/sklearn/ensemble/_base.py:166: FutureWarning: `base_estimator` was renamed to `estimator` in version 1.2 and will be removed in 1.4.\n",
            "  warnings.warn(\n",
            "/usr/local/lib/python3.10/dist-packages/sklearn/ensemble/_base.py:166: FutureWarning: `base_estimator` was renamed to `estimator` in version 1.2 and will be removed in 1.4.\n",
            "  warnings.warn(\n",
            "/usr/local/lib/python3.10/dist-packages/sklearn/ensemble/_base.py:166: FutureWarning: `base_estimator` was renamed to `estimator` in version 1.2 and will be removed in 1.4.\n",
            "  warnings.warn(\n",
            "/usr/local/lib/python3.10/dist-packages/sklearn/ensemble/_base.py:166: FutureWarning: `base_estimator` was renamed to `estimator` in version 1.2 and will be removed in 1.4.\n",
            "  warnings.warn(\n",
            "/usr/local/lib/python3.10/dist-packages/sklearn/ensemble/_base.py:166: FutureWarning: `base_estimator` was renamed to `estimator` in version 1.2 and will be removed in 1.4.\n",
            "  warnings.warn(\n",
            "/usr/local/lib/python3.10/dist-packages/sklearn/ensemble/_base.py:166: FutureWarning: `base_estimator` was renamed to `estimator` in version 1.2 and will be removed in 1.4.\n",
            "  warnings.warn(\n"
          ]
        },
        {
          "name": "stdout",
          "output_type": "stream",
          "text": [
            "Ensemble accuracy: 0.655\n"
          ]
        },
        {
          "name": "stderr",
          "output_type": "stream",
          "text": [
            "<ipython-input-29-22783bef7712>:31: FutureWarning: Unlike other reduction functions (e.g. `skew`, `kurtosis`), the default behavior of `mode` typically preserves the axis it acts along. In SciPy 1.11.0, this behavior will change: the default value of `keepdims` will become False, the `axis` over which the statistic is taken will be eliminated, and the value None will no longer be accepted. Set `keepdims` to True or False to avoid this warning.\n",
            "  y_pred_mode = stats.mode(y_pred_ensemble)[0].ravel()\n"
          ]
        }
      ],
      "source": [
        "from sklearn.ensemble import RandomForestClassifier, BaggingClassifier\n",
        "from sklearn.metrics import accuracy_score\n",
        "from scipy import stats\n",
        "\n",
        "\n",
        "# Initialize a list to store the random forest models\n",
        "models = []\n",
        "\n",
        "# Define the hyperparameters for the random forest model\n",
        "rf_params = {'n_estimators': 100, 'max_depth': 5}\n",
        "\n",
        "# Create 10 random forest models with different subsets of the training data\n",
        "for i in range(10):\n",
        "    # Create a bagging classifier with the random forest model as the base estimator\n",
        "    bagging = BaggingClassifier(base_estimator=RandomForestClassifier(**rf_params),\n",
        "                                n_estimators=10, random_state=i)\n",
        "\n",
        "    # Fit the bagging classifier to the training data\n",
        "    bagging.fit(X_train_b, y_train)\n",
        "\n",
        "    # Add the trained model to the list\n",
        "    models.append(bagging)\n",
        "\n",
        "# Use the ensemble of models to make predictions on the test data\n",
        "y_pred_ensemble = []\n",
        "for model in models:\n",
        "    y_pred_ensemble.append(model.predict(X_test_b))\n",
        "\n",
        "# Take the mode of the predictions to get the final prediction\n",
        "y_pred_ensemble = np.array(y_pred_ensemble)\n",
        "y_pred_mode = stats.mode(y_pred_ensemble)[0].ravel()\n",
        "\n",
        "# Calculate the accuracy of the ensemble model\n",
        "accuracy = accuracy_score(y_test, y_pred_mode)\n",
        "print(f\"Ensemble accuracy: {accuracy:.3f}\")"
      ],
      "id": "82b162ac"
    },
    {
      "cell_type": "markdown",
      "metadata": {
        "id": "aace0908"
      },
      "source": [
        "#### Boosting"
      ],
      "id": "aace0908"
    },
    {
      "cell_type": "code",
      "execution_count": null,
      "metadata": {
        "colab": {
          "base_uri": "https://localhost:8080/"
        },
        "id": "8baa4baf",
        "outputId": "f4e9d0fd-e6d3-4866-f7f1-5e742cf32b84"
      },
      "outputs": [
        {
          "name": "stdout",
          "output_type": "stream",
          "text": [
            "Ensemble accuracy: 0.659\n"
          ]
        }
      ],
      "source": [
        "from sklearn.ensemble import RandomForestClassifier, GradientBoostingClassifier, VotingClassifier\n",
        "from sklearn.metrics import accuracy_score\n",
        "\n",
        "# Define the base models\n",
        "rf_model = RandomForestClassifier(n_estimators=100, random_state=42, bootstrap=False)\n",
        "gb_model = GradientBoostingClassifier(n_estimators=100, random_state=42)\n",
        "\n",
        "# Define the ensemble model\n",
        "ensemble_model = VotingClassifier(\n",
        "    estimators=[('rf', rf_model), ('gb', gb_model)],\n",
        "    voting='soft',  # use soft voting to take into account the predicted probabilities\n",
        ")\n",
        "\n",
        "# Fit the ensemble model\n",
        "ensemble_model.fit(X_train_b, y_train)\n",
        "\n",
        "# Make predictions on the test data\n",
        "y_pred = ensemble_model.predict(X_test_b)\n",
        "\n",
        "# Calculate the accuracy of the ensemble model\n",
        "accuracy = accuracy_score(y_test, y_pred)\n",
        "print(f\"Ensemble accuracy: {accuracy:.3f}\")"
      ],
      "id": "8baa4baf"
    },
    {
      "cell_type": "code",
      "execution_count": null,
      "metadata": {
        "colab": {
          "base_uri": "https://localhost:8080/"
        },
        "id": "7518ce8b",
        "outputId": "0b198f05-ba9e-44ef-8d37-fb5d4d8d9a20"
      },
      "outputs": [
        {
          "name": "stderr",
          "output_type": "stream",
          "text": [
            "/usr/local/lib/python3.10/dist-packages/sklearn/ensemble/_forest.py:424: FutureWarning: `max_features='auto'` has been deprecated in 1.1 and will be removed in 1.3. To keep the past behaviour, explicitly set `max_features='sqrt'` or remove this parameter as it is also the default value for RandomForestClassifiers and ExtraTreesClassifiers.\n",
            "  warn(\n"
          ]
        },
        {
          "name": "stdout",
          "output_type": "stream",
          "text": [
            "Accuracy of the voting classifier: 0.659\n",
            "Precision: 0.554\n",
            "Recall: 0.488\n",
            "F1 Score: 0.519\n",
            "\n"
          ]
        }
      ],
      "source": [
        "from sklearn.ensemble import VotingClassifier\n",
        "from sklearn.neighbors import KNeighborsClassifier\n",
        "from sklearn.ensemble import RandomForestClassifier\n",
        "from lightgbm import LGBMClassifier\n",
        "from xgboost import XGBClassifier\n",
        "from sklearn.linear_model import LogisticRegression\n",
        "from sklearn.svm import SVC\n",
        "from sklearn.model_selection import train_test_split\n",
        "from sklearn.metrics import accuracy_score\n",
        "\n",
        "# # Split the data into training and test sets\n",
        "# X_train, X_test, y_train, y_test = train_test_split(X, y, test_size=0.2, random_state=123)\n",
        "\n",
        "# Define the individual classifiers\n",
        "knn = KNeighborsClassifier()\n",
        "rf = RandomForestClassifier(n_estimators = 1000, min_samples_split=10, min_samples_leaf= 2, max_features='auto', max_depth=7, bootstrap=True, random_state=123)\n",
        "lgbm = LGBMClassifier(random_state=123)\n",
        "xgb = XGBClassifier(random_state=123)\n",
        "lr = LogisticRegression(max_iter=1000, random_state=123)\n",
        "svc = SVC(random_state=123)\n",
        "\n",
        "# Define the voting classifier\n",
        "voting_clf = VotingClassifier(\n",
        "    estimators=[('knn', knn), ('rf', rf), ('lgbm', lgbm), ('xgb', xgb), ('lr', lr), ('svc', svc)],\n",
        "    voting='hard'\n",
        ")\n",
        "\n",
        "# Train the voting classifier\n",
        "voting_clf.fit(X_train_b, y_train)\n",
        "\n",
        "# Evaluate the voting classifier\n",
        "y_pred = voting_clf.predict(X_test_b)\n",
        "accuracy = accuracy_score(y_test, y_pred)\n",
        "precision = precision_score(y_test, y_pred)\n",
        "recall = recall_score(y_test, y_pred)\n",
        "f1 = f1_score(y_test, y_pred)\n",
        "print(\"Accuracy of the voting classifier: {:.3f}\".format(accuracy))\n",
        "print(f\"Precision: {precision:.3f}\")\n",
        "print(f\"Recall: {recall:.3f}\")\n",
        "print(f\"F1 Score: {f1:.3f}\")\n",
        "print()"
      ],
      "id": "7518ce8b"
    },
    {
      "cell_type": "markdown",
      "metadata": {
        "id": "SQ8yVZ5i6bki"
      },
      "source": [
        "### Validation"
      ],
      "id": "SQ8yVZ5i6bki"
    },
    {
      "cell_type": "code",
      "execution_count": null,
      "metadata": {
        "colab": {
          "base_uri": "https://localhost:8080/"
        },
        "id": "W6T-FgM06Uww",
        "outputId": "48d314d3-efe0-4171-8af4-6c73d67e71fc"
      },
      "outputs": [
        {
          "name": "stdout",
          "output_type": "stream",
          "text": [
            "Train Result:\n",
            "================================================\n",
            "Accuracy Score: 1.000\n",
            "_______________________________________________\n",
            "CLASSIFICATION REPORT:\n",
            "               0      1  accuracy  macro avg  weighted avg\n",
            "precision    1.0    1.0       1.0        1.0           1.0\n",
            "recall       1.0    1.0       1.0        1.0           1.0\n",
            "f1-score     1.0    1.0       1.0        1.0           1.0\n",
            "support    502.0  388.0       1.0      890.0         890.0\n",
            "_______________________________________________\n",
            "Confusion Matrix: \n",
            " [[502   0]\n",
            " [  0 388]]\n",
            "\n",
            "Test Result:\n",
            "================================================\n",
            "Accuracy Score: 0.691\n",
            "_______________________________________________\n",
            "CLASSIFICATION REPORT:\n",
            "                    0          1  accuracy   macro avg  weighted avg\n",
            "precision    0.757353   0.586207  0.690583    0.671780      0.692885\n",
            "recall       0.741007   0.607143  0.690583    0.674075      0.690583\n",
            "f1-score     0.749091   0.596491  0.690583    0.672791      0.691609\n",
            "support    139.000000  84.000000  0.690583  223.000000    223.000000\n",
            "_______________________________________________\n",
            "Confusion Matrix: \n",
            " [[103  36]\n",
            " [ 33  51]]\n",
            "\n"
          ]
        }
      ],
      "source": [
        "# evaluating the performance of the baseline model on both training and testing datasets\n",
        "print_score(rf_b, X_train_b, y_train, X_test_b, y_test, train=True)\n",
        "print_score(rf_b, X_train_b, y_train, X_test_b, y_test, train=False)"
      ],
      "id": "W6T-FgM06Uww"
    },
    {
      "cell_type": "markdown",
      "metadata": {
        "id": "84005297"
      },
      "source": [
        "> The rf_b is showing overfitting. Therefore, the final model is rf_clf_best2.\n",
        "\n",
        "\n",
        "Accuracy: 0.664\n",
        "Precision: 0.556\n",
        "Recall: 0.536\n",
        "F1 Score: 0.545\n",
        "\n",
        "\n",
        "\n",
        "\n",
        "* The accuracy score is 0.664, which means that the model classified 66.4% of the instances correctly.\n",
        "* The precision for class 1 is 0.556, which means that of all the instances predicted as class 1, 55.6% are actually class 1.\n",
        "* The recall for class 1 is 0.536, which means that of all the instances that are actually class 1, the model correctly identified 53.1% of them.\n",
        "* The F1-score is 0.545 which is better than the baseline model 0.520.\n",
        "* Best paramters: 'bootstrap': True, 'max_depth': 7, 'max_features': 'auto', 'min_samples_leaf': 2, 'min_samples_split': 10, 'n_estimators': 1000"
      ],
      "id": "84005297"
    },
    {
      "cell_type": "code",
      "execution_count": null,
      "metadata": {
        "colab": {
          "base_uri": "https://localhost:8080/"
        },
        "id": "ddc41802",
        "outputId": "b717d61f-9bd6-47ce-d06f-160a3cbf9da6"
      },
      "outputs": [
        {
          "data": {
            "text/plain": [
              "['west_rf.pkl']"
            ]
          },
          "execution_count": 33,
          "metadata": {},
          "output_type": "execute_result"
        }
      ],
      "source": [
        "# Save the final model to a file\n",
        "from joblib import dump\n",
        "\n",
        "dump(rf_clf_best2, 'west_rf.pkl')"
      ],
      "id": "ddc41802"
    },
    {
      "cell_type": "markdown",
      "metadata": {
        "id": "6de51c9b"
      },
      "source": [
        "### Visualization"
      ],
      "id": "6de51c9b"
    },
    {
      "cell_type": "code",
      "execution_count": null,
      "metadata": {
        "id": "b712c7a9"
      },
      "outputs": [],
      "source": [
        "# Load the saved model from a file\n",
        "from joblib import load\n",
        "wrf= load('west_rf.pkl')"
      ],
      "id": "b712c7a9"
    },
    {
      "cell_type": "code",
      "execution_count": null,
      "metadata": {
        "colab": {
          "base_uri": "https://localhost:8080/",
          "height": 1000
        },
        "id": "8b9fad1a",
        "outputId": "433f4a8e-f3f7-407b-bc12-853421610b24"
      },
      "outputs": [
        {
          "name": "stdout",
          "output_type": "stream",
          "text": [
            "Accuracy: 0.664\n",
            "Precision: 0.556\n",
            "Recall: 0.536\n",
            "F1 Score: 0.545\n",
            "\n"
          ]
        },
        {
          "data": {
            "image/png": "[encoded data removed]",
            "text/plain": [
              "<Figure size 640x480 with 2 Axes>"
            ]
          },
          "metadata": {},
          "output_type": "display_data"
        },
        {
          "data": {
            "image/png": "[encoded data removed]",
            "text/plain": [
              "<Figure size 640x480 with 1 Axes>"
            ]
          },
          "metadata": {},
          "output_type": "display_data"
        },
        {
          "data": {
            "image/png": "[encoded data removed]",
            "text/plain": [
              "<Figure size 640x480 with 1 Axes>"
            ]
          },
          "metadata": {},
          "output_type": "display_data"
        }
      ],
      "source": [
        "import seaborn as sns\n",
        "import matplotlib.pyplot as plt\n",
        "from sklearn.metrics import confusion_matrix, roc_curve, roc_auc_score\n",
        "\n",
        "# Evaluate the model's performance using common metrics\n",
        "y_pred = wrf.predict(X_test_b)\n",
        "accuracy = accuracy_score(y_test, y_pred)\n",
        "precision = precision_score(y_test, y_pred)\n",
        "recall = recall_score(y_test, y_pred)\n",
        "f1 = f1_score(y_test, y_pred)\n",
        "# Print the model's performance metrics\n",
        "print(f\"Accuracy: {accuracy:.3f}\")\n",
        "print(f\"Precision: {precision:.3f}\")\n",
        "print(f\"Recall: {recall:.3f}\")\n",
        "print(f\"F1 Score: {f1:.3f}\")\n",
        "print()\n",
        "\n",
        "\n",
        "# Confusion matrix\n",
        "cm = confusion_matrix(y_test, y_pred)\n",
        "sns.heatmap(cm, annot=True, cmap='Blues', fmt='g')\n",
        "plt.xlabel('Predicted')\n",
        "plt.ylabel('True')\n",
        "plt.show()\n",
        "\n",
        "# Feature importance plot\n",
        "importances = wrf.feature_importances_\n",
        "std = np.std([tree.feature_importances_ for tree in wrf.estimators_], axis=0)\n",
        "indices = np.argsort(importances)[::-1]\n",
        "\n",
        "sns.barplot(x=importances[indices], y=X_train_b.columns[indices], color=\"b\")\n",
        "plt.title('Feature Importance')\n",
        "plt.xlabel('Relative Importance')\n",
        "plt.ylabel('Features')\n",
        "plt.show()\n",
        "\n",
        "# ROC curve\n",
        "y_pred_proba = wrf.predict_proba(X_test_b)[:,1]\n",
        "fpr, tpr, thresholds = roc_curve(y_test, y_pred_proba)\n",
        "roc_auc = roc_auc_score(y_test, y_pred_proba)\n",
        "plt.plot(fpr, tpr, label='ROC curve (area = %0.2f)' % roc_auc)\n",
        "plt.plot([0, 1], [0, 1], 'k--')\n",
        "plt.xlim([0.0, 1.0])\n",
        "plt.ylim([0.0, 1.05])\n",
        "plt.xlabel('False Positive Rate')\n",
        "plt.ylabel('True Positive Rate')\n",
        "plt.title('Receiver operating characteristic')\n",
        "plt.legend(loc=\"lower right\")\n",
        "plt.show()\n"
      ],
      "id": "8b9fad1a"
    },
    {
      "cell_type": "code",
      "execution_count": null,
      "metadata": {
        "colab": {
          "base_uri": "https://localhost:8080/",
          "height": 807
        },
        "id": "0cb08477",
        "outputId": "4ed351a4-6d15-4491-b93e-c87dc9bf08e8"
      },
      "outputs": [
        {
          "data": {
            "image/png": "[encoded data removed]",
            "text/plain": [
              "<Figure size 2000x1000 with 1 Axes>"
            ]
          },
          "metadata": {},
          "output_type": "display_data"
        }
      ],
      "source": [
        "from sklearn.tree import plot_tree\n",
        "import matplotlib.pyplot as plt\n",
        "\n",
        "# Select the first tree in the forest\n",
        "tree = wrf.estimators_[0]\n",
        "\n",
        "# Plot the tree\n",
        "plt.figure(figsize=(20,10))\n",
        "plot_tree(tree, filled=True, feature_names=X_train2.columns)\n",
        "plt.show()"
      ],
      "id": "0cb08477"
    }
  ],
  "metadata": {
    "colab": {
      "provenance": [],
      "include_colab_link": true
    },
    "kernelspec": {
      "display_name": "Python 3 (ipykernel)",
      "language": "python",
      "name": "python3"
    },
    "language_info": {
      "codemirror_mode": {
        "name": "ipython",
        "version": 3
      },
      "file_extension": ".py",
      "mimetype": "text/x-python",
      "name": "python",
      "nbconvert_exporter": "python",
      "pygments_lexer": "ipython3",
      "version": "3.9.7"
    }
  },
  "nbformat": 4,
  "nbformat_minor": 5
}
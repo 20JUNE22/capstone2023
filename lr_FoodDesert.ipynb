{
  "cells": [
    {
      "cell_type": "markdown",
      "metadata": {
        "id": "view-in-github",
        "colab_type": "text"
      },
      "source": [
        "<a href=\"https://colab.research.google.com/github/20JUNE22/capstone2023/blob/main/lr_FoodDesert.ipynb\" target=\"_parent\"><img src=\"https://colab.research.google.com/assets/colab-badge.svg\" alt=\"Open In Colab\"/></a>"
      ]
    },
    {
      "cell_type": "markdown",
      "id": "f542383a",
      "metadata": {
        "id": "f542383a"
      },
      "source": [
        "## Food Desert"
      ]
    },
    {
      "cell_type": "markdown",
      "id": "1df28cde",
      "metadata": {
        "id": "1df28cde"
      },
      "source": [
        "### Load data"
      ]
    },
    {
      "cell_type": "code",
      "execution_count": null,
      "id": "d21f307f",
      "metadata": {
        "id": "d21f307f"
      },
      "outputs": [],
      "source": [
        "import numpy as np\n",
        "import pandas as pd\n",
        "import matplotlib.pyplot as plt\n",
        "import seaborn as sns\n",
        "\n",
        "import warnings\n",
        "warnings.simplefilter(action='ignore', category=FutureWarning)"
      ]
    },
    {
      "cell_type": "code",
      "execution_count": null,
      "id": "204ae1eb",
      "metadata": {
        "colab": {
          "base_uri": "https://localhost:8080/",
          "height": 487
        },
        "id": "204ae1eb",
        "outputId": "776cd0f9-61a4-456c-eaec-0a23d23533e4"
      },
      "outputs": [
        {
          "output_type": "execute_result",
          "data": {
            "text/plain": [
              "       EastofUS  Urban  LowIncomeTracts  PCTGQTRS  PovertyRate  \\\n",
              "0             1      1                0      0.00         11.3   \n",
              "1             1      1                1      8.34         17.9   \n",
              "2             1      1                0      0.00         15.0   \n",
              "3             1      1                0      0.00          2.8   \n",
              "4             1      1                0      1.68         15.2   \n",
              "...         ...    ...              ...       ...          ...   \n",
              "71756         0      0                0      1.71          9.7   \n",
              "71757         0      1                0      0.38         11.6   \n",
              "71758         0      1                0      2.87         16.3   \n",
              "71759         0      0                0      7.60         17.5   \n",
              "71760         0      1                0      1.57         17.3   \n",
              "\n",
              "       MedianFamilyIncome  TractKids  TractSeniors  TractWhite  TractBlack  \\\n",
              "0                   81250        507           221        1622         217   \n",
              "1                   49000        606           214         888        1217   \n",
              "2                   62609        894           439        2576         647   \n",
              "3                   70607       1015           904        4086         193   \n",
              "4                   96334       3162          1126        8666        1437   \n",
              "...                   ...        ...           ...         ...         ...   \n",
              "71756               67254        884           593        3106           6   \n",
              "71757               64152        674           399        2377           5   \n",
              "71758               69605        614           516        2312          11   \n",
              "71759               74500        655           499        3179          15   \n",
              "71760               76838        918           650        3706           6   \n",
              "\n",
              "       ...  log10_TractSeniors  log10_TractWhite  log10_TractBlack  \\\n",
              "0      ...            2.346353          3.210319          2.338456   \n",
              "1      ...            2.332438          2.948902          3.085647   \n",
              "2      ...            2.643453          3.411114          2.811575   \n",
              "3      ...            2.956649          3.611405          2.287802   \n",
              "4      ...            3.051924          3.937869          3.157759   \n",
              "...    ...                 ...               ...               ...   \n",
              "71756  ...            2.773786          3.492341          0.845098   \n",
              "71757  ...            2.602060          3.376212          0.778151   \n",
              "71758  ...            2.713491          3.364176          1.079181   \n",
              "71759  ...            2.698970          3.502427          1.204120   \n",
              "71760  ...            2.813581          3.569023          0.845098   \n",
              "\n",
              "       log10_TractAsian  log10_TractNHOPI  log10_TractAIAN  \\\n",
              "0              1.176091          0.000000         1.176091   \n",
              "1              0.778151          0.000000         0.778151   \n",
              "2              1.255273          0.778151         1.079181   \n",
              "3              1.278754          0.698970         1.079181   \n",
              "4              2.472756          1.000000         1.690196   \n",
              "...                 ...               ...              ...   \n",
              "71756          1.204120          0.000000         1.447158   \n",
              "71757          1.380211          0.000000         1.612784   \n",
              "71758          1.041393          0.301030         1.431364   \n",
              "71759          1.041393          0.301030         1.681241   \n",
              "71760          1.041393          0.477121         1.653213   \n",
              "\n",
              "       log10_TractOMultir  log10_TractHispanic  log10_TractHUNV  \\\n",
              "0                1.662758             1.653213         0.845098   \n",
              "1                1.748188             1.880814         1.954243   \n",
              "2                2.071882             1.944483         2.000000   \n",
              "3                1.875061             1.934498         1.342423   \n",
              "4                2.492760             2.551450         2.363612   \n",
              "...                   ...                  ...              ...   \n",
              "71756            2.238046             2.491362         1.792392   \n",
              "71757            2.344392             2.650308         1.949390   \n",
              "71758            2.262451             2.610660         1.380211   \n",
              "71759            1.799341             1.963788         1.681241   \n",
              "71760            2.103804             2.100371         1.544068   \n",
              "\n",
              "       log10_TractSNAP  \n",
              "0             2.012837  \n",
              "1             2.195900  \n",
              "2             2.238046  \n",
              "3             1.995635  \n",
              "4             2.531479  \n",
              "...                ...  \n",
              "71756         1.812913  \n",
              "71757         1.623249  \n",
              "71758         1.812913  \n",
              "71759         1.544068  \n",
              "71760         2.045323  \n",
              "\n",
              "[71761 rows x 32 columns]"
            ],
            "text/html": [
              "\n",
              "  <div id=\"df-023424f2-df82-4d31-91a3-5965c514a1d1\">\n",
              "    <div class=\"colab-df-container\">\n",
              "      <div>\n",
              "<style scoped>\n",
              "    .dataframe tbody tr th:only-of-type {\n",
              "        vertical-align: middle;\n",
              "    }\n",
              "\n",
              "    .dataframe tbody tr th {\n",
              "        vertical-align: top;\n",
              "    }\n",
              "\n",
              "    .dataframe thead th {\n",
              "        text-align: right;\n",
              "    }\n",
              "</style>\n",
              "<table border=\"1\" class=\"dataframe\">\n",
              "  <thead>\n",
              "    <tr style=\"text-align: right;\">\n",
              "      <th></th>\n",
              "      <th>EastofUS</th>\n",
              "      <th>Urban</th>\n",
              "      <th>LowIncomeTracts</th>\n",
              "      <th>PCTGQTRS</th>\n",
              "      <th>PovertyRate</th>\n",
              "      <th>MedianFamilyIncome</th>\n",
              "      <th>TractKids</th>\n",
              "      <th>TractSeniors</th>\n",
              "      <th>TractWhite</th>\n",
              "      <th>TractBlack</th>\n",
              "      <th>...</th>\n",
              "      <th>log10_TractSeniors</th>\n",
              "      <th>log10_TractWhite</th>\n",
              "      <th>log10_TractBlack</th>\n",
              "      <th>log10_TractAsian</th>\n",
              "      <th>log10_TractNHOPI</th>\n",
              "      <th>log10_TractAIAN</th>\n",
              "      <th>log10_TractOMultir</th>\n",
              "      <th>log10_TractHispanic</th>\n",
              "      <th>log10_TractHUNV</th>\n",
              "      <th>log10_TractSNAP</th>\n",
              "    </tr>\n",
              "  </thead>\n",
              "  <tbody>\n",
              "    <tr>\n",
              "      <th>0</th>\n",
              "      <td>1</td>\n",
              "      <td>1</td>\n",
              "      <td>0</td>\n",
              "      <td>0.00</td>\n",
              "      <td>11.3</td>\n",
              "      <td>81250</td>\n",
              "      <td>507</td>\n",
              "      <td>221</td>\n",
              "      <td>1622</td>\n",
              "      <td>217</td>\n",
              "      <td>...</td>\n",
              "      <td>2.346353</td>\n",
              "      <td>3.210319</td>\n",
              "      <td>2.338456</td>\n",
              "      <td>1.176091</td>\n",
              "      <td>0.000000</td>\n",
              "      <td>1.176091</td>\n",
              "      <td>1.662758</td>\n",
              "      <td>1.653213</td>\n",
              "      <td>0.845098</td>\n",
              "      <td>2.012837</td>\n",
              "    </tr>\n",
              "    <tr>\n",
              "      <th>1</th>\n",
              "      <td>1</td>\n",
              "      <td>1</td>\n",
              "      <td>1</td>\n",
              "      <td>8.34</td>\n",
              "      <td>17.9</td>\n",
              "      <td>49000</td>\n",
              "      <td>606</td>\n",
              "      <td>214</td>\n",
              "      <td>888</td>\n",
              "      <td>1217</td>\n",
              "      <td>...</td>\n",
              "      <td>2.332438</td>\n",
              "      <td>2.948902</td>\n",
              "      <td>3.085647</td>\n",
              "      <td>0.778151</td>\n",
              "      <td>0.000000</td>\n",
              "      <td>0.778151</td>\n",
              "      <td>1.748188</td>\n",
              "      <td>1.880814</td>\n",
              "      <td>1.954243</td>\n",
              "      <td>2.195900</td>\n",
              "    </tr>\n",
              "    <tr>\n",
              "      <th>2</th>\n",
              "      <td>1</td>\n",
              "      <td>1</td>\n",
              "      <td>0</td>\n",
              "      <td>0.00</td>\n",
              "      <td>15.0</td>\n",
              "      <td>62609</td>\n",
              "      <td>894</td>\n",
              "      <td>439</td>\n",
              "      <td>2576</td>\n",
              "      <td>647</td>\n",
              "      <td>...</td>\n",
              "      <td>2.643453</td>\n",
              "      <td>3.411114</td>\n",
              "      <td>2.811575</td>\n",
              "      <td>1.255273</td>\n",
              "      <td>0.778151</td>\n",
              "      <td>1.079181</td>\n",
              "      <td>2.071882</td>\n",
              "      <td>1.944483</td>\n",
              "      <td>2.000000</td>\n",
              "      <td>2.238046</td>\n",
              "    </tr>\n",
              "    <tr>\n",
              "      <th>3</th>\n",
              "      <td>1</td>\n",
              "      <td>1</td>\n",
              "      <td>0</td>\n",
              "      <td>0.00</td>\n",
              "      <td>2.8</td>\n",
              "      <td>70607</td>\n",
              "      <td>1015</td>\n",
              "      <td>904</td>\n",
              "      <td>4086</td>\n",
              "      <td>193</td>\n",
              "      <td>...</td>\n",
              "      <td>2.956649</td>\n",
              "      <td>3.611405</td>\n",
              "      <td>2.287802</td>\n",
              "      <td>1.278754</td>\n",
              "      <td>0.698970</td>\n",
              "      <td>1.079181</td>\n",
              "      <td>1.875061</td>\n",
              "      <td>1.934498</td>\n",
              "      <td>1.342423</td>\n",
              "      <td>1.995635</td>\n",
              "    </tr>\n",
              "    <tr>\n",
              "      <th>4</th>\n",
              "      <td>1</td>\n",
              "      <td>1</td>\n",
              "      <td>0</td>\n",
              "      <td>1.68</td>\n",
              "      <td>15.2</td>\n",
              "      <td>96334</td>\n",
              "      <td>3162</td>\n",
              "      <td>1126</td>\n",
              "      <td>8666</td>\n",
              "      <td>1437</td>\n",
              "      <td>...</td>\n",
              "      <td>3.051924</td>\n",
              "      <td>3.937869</td>\n",
              "      <td>3.157759</td>\n",
              "      <td>2.472756</td>\n",
              "      <td>1.000000</td>\n",
              "      <td>1.690196</td>\n",
              "      <td>2.492760</td>\n",
              "      <td>2.551450</td>\n",
              "      <td>2.363612</td>\n",
              "      <td>2.531479</td>\n",
              "    </tr>\n",
              "    <tr>\n",
              "      <th>...</th>\n",
              "      <td>...</td>\n",
              "      <td>...</td>\n",
              "      <td>...</td>\n",
              "      <td>...</td>\n",
              "      <td>...</td>\n",
              "      <td>...</td>\n",
              "      <td>...</td>\n",
              "      <td>...</td>\n",
              "      <td>...</td>\n",
              "      <td>...</td>\n",
              "      <td>...</td>\n",
              "      <td>...</td>\n",
              "      <td>...</td>\n",
              "      <td>...</td>\n",
              "      <td>...</td>\n",
              "      <td>...</td>\n",
              "      <td>...</td>\n",
              "      <td>...</td>\n",
              "      <td>...</td>\n",
              "      <td>...</td>\n",
              "      <td>...</td>\n",
              "    </tr>\n",
              "    <tr>\n",
              "      <th>71756</th>\n",
              "      <td>0</td>\n",
              "      <td>0</td>\n",
              "      <td>0</td>\n",
              "      <td>1.71</td>\n",
              "      <td>9.7</td>\n",
              "      <td>67254</td>\n",
              "      <td>884</td>\n",
              "      <td>593</td>\n",
              "      <td>3106</td>\n",
              "      <td>6</td>\n",
              "      <td>...</td>\n",
              "      <td>2.773786</td>\n",
              "      <td>3.492341</td>\n",
              "      <td>0.845098</td>\n",
              "      <td>1.204120</td>\n",
              "      <td>0.000000</td>\n",
              "      <td>1.447158</td>\n",
              "      <td>2.238046</td>\n",
              "      <td>2.491362</td>\n",
              "      <td>1.792392</td>\n",
              "      <td>1.812913</td>\n",
              "    </tr>\n",
              "    <tr>\n",
              "      <th>71757</th>\n",
              "      <td>0</td>\n",
              "      <td>1</td>\n",
              "      <td>0</td>\n",
              "      <td>0.38</td>\n",
              "      <td>11.6</td>\n",
              "      <td>64152</td>\n",
              "      <td>674</td>\n",
              "      <td>399</td>\n",
              "      <td>2377</td>\n",
              "      <td>5</td>\n",
              "      <td>...</td>\n",
              "      <td>2.602060</td>\n",
              "      <td>3.376212</td>\n",
              "      <td>0.778151</td>\n",
              "      <td>1.380211</td>\n",
              "      <td>0.000000</td>\n",
              "      <td>1.612784</td>\n",
              "      <td>2.344392</td>\n",
              "      <td>2.650308</td>\n",
              "      <td>1.949390</td>\n",
              "      <td>1.623249</td>\n",
              "    </tr>\n",
              "    <tr>\n",
              "      <th>71758</th>\n",
              "      <td>0</td>\n",
              "      <td>1</td>\n",
              "      <td>0</td>\n",
              "      <td>2.87</td>\n",
              "      <td>16.3</td>\n",
              "      <td>69605</td>\n",
              "      <td>614</td>\n",
              "      <td>516</td>\n",
              "      <td>2312</td>\n",
              "      <td>11</td>\n",
              "      <td>...</td>\n",
              "      <td>2.713491</td>\n",
              "      <td>3.364176</td>\n",
              "      <td>1.079181</td>\n",
              "      <td>1.041393</td>\n",
              "      <td>0.301030</td>\n",
              "      <td>1.431364</td>\n",
              "      <td>2.262451</td>\n",
              "      <td>2.610660</td>\n",
              "      <td>1.380211</td>\n",
              "      <td>1.812913</td>\n",
              "    </tr>\n",
              "    <tr>\n",
              "      <th>71759</th>\n",
              "      <td>0</td>\n",
              "      <td>0</td>\n",
              "      <td>0</td>\n",
              "      <td>7.60</td>\n",
              "      <td>17.5</td>\n",
              "      <td>74500</td>\n",
              "      <td>655</td>\n",
              "      <td>499</td>\n",
              "      <td>3179</td>\n",
              "      <td>15</td>\n",
              "      <td>...</td>\n",
              "      <td>2.698970</td>\n",
              "      <td>3.502427</td>\n",
              "      <td>1.204120</td>\n",
              "      <td>1.041393</td>\n",
              "      <td>0.301030</td>\n",
              "      <td>1.681241</td>\n",
              "      <td>1.799341</td>\n",
              "      <td>1.963788</td>\n",
              "      <td>1.681241</td>\n",
              "      <td>1.544068</td>\n",
              "    </tr>\n",
              "    <tr>\n",
              "      <th>71760</th>\n",
              "      <td>0</td>\n",
              "      <td>1</td>\n",
              "      <td>0</td>\n",
              "      <td>1.57</td>\n",
              "      <td>17.3</td>\n",
              "      <td>76838</td>\n",
              "      <td>918</td>\n",
              "      <td>650</td>\n",
              "      <td>3706</td>\n",
              "      <td>6</td>\n",
              "      <td>...</td>\n",
              "      <td>2.813581</td>\n",
              "      <td>3.569023</td>\n",
              "      <td>0.845098</td>\n",
              "      <td>1.041393</td>\n",
              "      <td>0.477121</td>\n",
              "      <td>1.653213</td>\n",
              "      <td>2.103804</td>\n",
              "      <td>2.100371</td>\n",
              "      <td>1.544068</td>\n",
              "      <td>2.045323</td>\n",
              "    </tr>\n",
              "  </tbody>\n",
              "</table>\n",
              "<p>71761 rows × 32 columns</p>\n",
              "</div>\n",
              "      <button class=\"colab-df-convert\" onclick=\"convertToInteractive('df-023424f2-df82-4d31-91a3-5965c514a1d1')\"\n",
              "              title=\"Convert this dataframe to an interactive table.\"\n",
              "              style=\"display:none;\">\n",
              "        \n",
              "  <svg xmlns=\"http://www.w3.org/2000/svg\" height=\"24px\"viewBox=\"0 0 24 24\"\n",
              "       width=\"24px\">\n",
              "    <path d=\"M0 0h24v24H0V0z\" fill=\"none\"/>\n",
              "    <path d=\"M18.56 5.44l.94 2.06.94-2.06 2.06-.94-2.06-.94-.94-2.06-.94 2.06-2.06.94zm-11 1L8.5 8.5l.94-2.06 2.06-.94-2.06-.94L8.5 2.5l-.94 2.06-2.06.94zm10 10l.94 2.06.94-2.06 2.06-.94-2.06-.94-.94-2.06-.94 2.06-2.06.94z\"/><path d=\"M17.41 7.96l-1.37-1.37c-.4-.4-.92-.59-1.43-.59-.52 0-1.04.2-1.43.59L10.3 9.45l-7.72 7.72c-.78.78-.78 2.05 0 2.83L4 21.41c.39.39.9.59 1.41.59.51 0 1.02-.2 1.41-.59l7.78-7.78 2.81-2.81c.8-.78.8-2.07 0-2.86zM5.41 20L4 18.59l7.72-7.72 1.47 1.35L5.41 20z\"/>\n",
              "  </svg>\n",
              "      </button>\n",
              "      \n",
              "  <style>\n",
              "    .colab-df-container {\n",
              "      display:flex;\n",
              "      flex-wrap:wrap;\n",
              "      gap: 12px;\n",
              "    }\n",
              "\n",
              "    .colab-df-convert {\n",
              "      background-color: #E8F0FE;\n",
              "      border: none;\n",
              "      border-radius: 50%;\n",
              "      cursor: pointer;\n",
              "      display: none;\n",
              "      fill: #1967D2;\n",
              "      height: 32px;\n",
              "      padding: 0 0 0 0;\n",
              "      width: 32px;\n",
              "    }\n",
              "\n",
              "    .colab-df-convert:hover {\n",
              "      background-color: #E2EBFA;\n",
              "      box-shadow: 0px 1px 2px rgba(60, 64, 67, 0.3), 0px 1px 3px 1px rgba(60, 64, 67, 0.15);\n",
              "      fill: #174EA6;\n",
              "    }\n",
              "\n",
              "    [theme=dark] .colab-df-convert {\n",
              "      background-color: #3B4455;\n",
              "      fill: #D2E3FC;\n",
              "    }\n",
              "\n",
              "    [theme=dark] .colab-df-convert:hover {\n",
              "      background-color: #434B5C;\n",
              "      box-shadow: 0px 1px 3px 1px rgba(0, 0, 0, 0.15);\n",
              "      filter: drop-shadow(0px 1px 2px rgba(0, 0, 0, 0.3));\n",
              "      fill: #FFFFFF;\n",
              "    }\n",
              "  </style>\n",
              "\n",
              "      <script>\n",
              "        const buttonEl =\n",
              "          document.querySelector('#df-023424f2-df82-4d31-91a3-5965c514a1d1 button.colab-df-convert');\n",
              "        buttonEl.style.display =\n",
              "          google.colab.kernel.accessAllowed ? 'block' : 'none';\n",
              "\n",
              "        async function convertToInteractive(key) {\n",
              "          const element = document.querySelector('#df-023424f2-df82-4d31-91a3-5965c514a1d1');\n",
              "          const dataTable =\n",
              "            await google.colab.kernel.invokeFunction('convertToInteractive',\n",
              "                                                     [key], {});\n",
              "          if (!dataTable) return;\n",
              "\n",
              "          const docLinkHtml = 'Like what you see? Visit the ' +\n",
              "            '<a target=\"_blank\" href=https://colab.research.google.com/notebooks/data_table.ipynb>data table notebook</a>'\n",
              "            + ' to learn more about interactive tables.';\n",
              "          element.innerHTML = '';\n",
              "          dataTable['output_type'] = 'display_data';\n",
              "          await google.colab.output.renderOutput(dataTable, element);\n",
              "          const docLink = document.createElement('div');\n",
              "          docLink.innerHTML = docLinkHtml;\n",
              "          element.appendChild(docLink);\n",
              "        }\n",
              "      </script>\n",
              "    </div>\n",
              "  </div>\n",
              "  "
            ]
          },
          "metadata": {},
          "execution_count": 2
        }
      ],
      "source": [
        "# load cleaned data\n",
        "df = pd.read_excel(\"https://github.com/20JUNE22/capstone2023/raw/main/clean_data.xlsx\")\n",
        "df"
      ]
    },
    {
      "cell_type": "code",
      "execution_count": null,
      "id": "449136e4",
      "metadata": {
        "colab": {
          "base_uri": "https://localhost:8080/",
          "height": 270
        },
        "id": "449136e4",
        "outputId": "ec7dae59-32ab-4ac8-9960-1d362395c22c",
        "scrolled": true
      },
      "outputs": [
        {
          "output_type": "execute_result",
          "data": {
            "text/plain": [
              "   EastofUS  Urban  LowIncomeTracts  FoodDesert  log10_PCTGQTRS  \\\n",
              "0         1      1                0           1        0.000000   \n",
              "1         1      1                1           1        0.970347   \n",
              "2         1      1                0           1        0.000000   \n",
              "3         1      1                0           1        0.000000   \n",
              "4         1      1                0           1        0.428135   \n",
              "\n",
              "   log10_PovertyRate  log10_MedianFamilyIncome  log10_TractKids  \\\n",
              "0           1.089905                  4.896262         2.705864   \n",
              "1           1.276462                  4.667472         2.783189   \n",
              "2           1.204120                  4.778954         2.951823   \n",
              "3           0.579784                  4.833205         3.006894   \n",
              "4           1.209515                  4.972369         3.500099   \n",
              "\n",
              "   log10_TractSeniors  log10_TractWhite  log10_TractBlack  log10_TractAsian  \\\n",
              "0            2.346353          3.210319          2.338456          1.176091   \n",
              "1            2.332438          2.948902          3.085647          0.778151   \n",
              "2            2.643453          3.411114          2.811575          1.255273   \n",
              "3            2.956649          3.611405          2.287802          1.278754   \n",
              "4            3.051924          3.937869          3.157759          2.472756   \n",
              "\n",
              "   log10_TractNHOPI  log10_TractAIAN  log10_TractOMultir  log10_TractHispanic  \\\n",
              "0          0.000000         1.176091            1.662758             1.653213   \n",
              "1          0.000000         0.778151            1.748188             1.880814   \n",
              "2          0.778151         1.079181            2.071882             1.944483   \n",
              "3          0.698970         1.079181            1.875061             1.934498   \n",
              "4          1.000000         1.690196            2.492760             2.551450   \n",
              "\n",
              "   log10_TractHUNV  log10_TractSNAP  \n",
              "0         0.845098         2.012837  \n",
              "1         1.954243         2.195900  \n",
              "2         2.000000         2.238046  \n",
              "3         1.342423         1.995635  \n",
              "4         2.363612         2.531479  "
            ],
            "text/html": [
              "\n",
              "  <div id=\"df-e8cd83aa-e377-440c-80a0-1677b63e2c34\">\n",
              "    <div class=\"colab-df-container\">\n",
              "      <div>\n",
              "<style scoped>\n",
              "    .dataframe tbody tr th:only-of-type {\n",
              "        vertical-align: middle;\n",
              "    }\n",
              "\n",
              "    .dataframe tbody tr th {\n",
              "        vertical-align: top;\n",
              "    }\n",
              "\n",
              "    .dataframe thead th {\n",
              "        text-align: right;\n",
              "    }\n",
              "</style>\n",
              "<table border=\"1\" class=\"dataframe\">\n",
              "  <thead>\n",
              "    <tr style=\"text-align: right;\">\n",
              "      <th></th>\n",
              "      <th>EastofUS</th>\n",
              "      <th>Urban</th>\n",
              "      <th>LowIncomeTracts</th>\n",
              "      <th>FoodDesert</th>\n",
              "      <th>log10_PCTGQTRS</th>\n",
              "      <th>log10_PovertyRate</th>\n",
              "      <th>log10_MedianFamilyIncome</th>\n",
              "      <th>log10_TractKids</th>\n",
              "      <th>log10_TractSeniors</th>\n",
              "      <th>log10_TractWhite</th>\n",
              "      <th>log10_TractBlack</th>\n",
              "      <th>log10_TractAsian</th>\n",
              "      <th>log10_TractNHOPI</th>\n",
              "      <th>log10_TractAIAN</th>\n",
              "      <th>log10_TractOMultir</th>\n",
              "      <th>log10_TractHispanic</th>\n",
              "      <th>log10_TractHUNV</th>\n",
              "      <th>log10_TractSNAP</th>\n",
              "    </tr>\n",
              "  </thead>\n",
              "  <tbody>\n",
              "    <tr>\n",
              "      <th>0</th>\n",
              "      <td>1</td>\n",
              "      <td>1</td>\n",
              "      <td>0</td>\n",
              "      <td>1</td>\n",
              "      <td>0.000000</td>\n",
              "      <td>1.089905</td>\n",
              "      <td>4.896262</td>\n",
              "      <td>2.705864</td>\n",
              "      <td>2.346353</td>\n",
              "      <td>3.210319</td>\n",
              "      <td>2.338456</td>\n",
              "      <td>1.176091</td>\n",
              "      <td>0.000000</td>\n",
              "      <td>1.176091</td>\n",
              "      <td>1.662758</td>\n",
              "      <td>1.653213</td>\n",
              "      <td>0.845098</td>\n",
              "      <td>2.012837</td>\n",
              "    </tr>\n",
              "    <tr>\n",
              "      <th>1</th>\n",
              "      <td>1</td>\n",
              "      <td>1</td>\n",
              "      <td>1</td>\n",
              "      <td>1</td>\n",
              "      <td>0.970347</td>\n",
              "      <td>1.276462</td>\n",
              "      <td>4.667472</td>\n",
              "      <td>2.783189</td>\n",
              "      <td>2.332438</td>\n",
              "      <td>2.948902</td>\n",
              "      <td>3.085647</td>\n",
              "      <td>0.778151</td>\n",
              "      <td>0.000000</td>\n",
              "      <td>0.778151</td>\n",
              "      <td>1.748188</td>\n",
              "      <td>1.880814</td>\n",
              "      <td>1.954243</td>\n",
              "      <td>2.195900</td>\n",
              "    </tr>\n",
              "    <tr>\n",
              "      <th>2</th>\n",
              "      <td>1</td>\n",
              "      <td>1</td>\n",
              "      <td>0</td>\n",
              "      <td>1</td>\n",
              "      <td>0.000000</td>\n",
              "      <td>1.204120</td>\n",
              "      <td>4.778954</td>\n",
              "      <td>2.951823</td>\n",
              "      <td>2.643453</td>\n",
              "      <td>3.411114</td>\n",
              "      <td>2.811575</td>\n",
              "      <td>1.255273</td>\n",
              "      <td>0.778151</td>\n",
              "      <td>1.079181</td>\n",
              "      <td>2.071882</td>\n",
              "      <td>1.944483</td>\n",
              "      <td>2.000000</td>\n",
              "      <td>2.238046</td>\n",
              "    </tr>\n",
              "    <tr>\n",
              "      <th>3</th>\n",
              "      <td>1</td>\n",
              "      <td>1</td>\n",
              "      <td>0</td>\n",
              "      <td>1</td>\n",
              "      <td>0.000000</td>\n",
              "      <td>0.579784</td>\n",
              "      <td>4.833205</td>\n",
              "      <td>3.006894</td>\n",
              "      <td>2.956649</td>\n",
              "      <td>3.611405</td>\n",
              "      <td>2.287802</td>\n",
              "      <td>1.278754</td>\n",
              "      <td>0.698970</td>\n",
              "      <td>1.079181</td>\n",
              "      <td>1.875061</td>\n",
              "      <td>1.934498</td>\n",
              "      <td>1.342423</td>\n",
              "      <td>1.995635</td>\n",
              "    </tr>\n",
              "    <tr>\n",
              "      <th>4</th>\n",
              "      <td>1</td>\n",
              "      <td>1</td>\n",
              "      <td>0</td>\n",
              "      <td>1</td>\n",
              "      <td>0.428135</td>\n",
              "      <td>1.209515</td>\n",
              "      <td>4.972369</td>\n",
              "      <td>3.500099</td>\n",
              "      <td>3.051924</td>\n",
              "      <td>3.937869</td>\n",
              "      <td>3.157759</td>\n",
              "      <td>2.472756</td>\n",
              "      <td>1.000000</td>\n",
              "      <td>1.690196</td>\n",
              "      <td>2.492760</td>\n",
              "      <td>2.551450</td>\n",
              "      <td>2.363612</td>\n",
              "      <td>2.531479</td>\n",
              "    </tr>\n",
              "  </tbody>\n",
              "</table>\n",
              "</div>\n",
              "      <button class=\"colab-df-convert\" onclick=\"convertToInteractive('df-e8cd83aa-e377-440c-80a0-1677b63e2c34')\"\n",
              "              title=\"Convert this dataframe to an interactive table.\"\n",
              "              style=\"display:none;\">\n",
              "        \n",
              "  <svg xmlns=\"http://www.w3.org/2000/svg\" height=\"24px\"viewBox=\"0 0 24 24\"\n",
              "       width=\"24px\">\n",
              "    <path d=\"M0 0h24v24H0V0z\" fill=\"none\"/>\n",
              "    <path d=\"M18.56 5.44l.94 2.06.94-2.06 2.06-.94-2.06-.94-.94-2.06-.94 2.06-2.06.94zm-11 1L8.5 8.5l.94-2.06 2.06-.94-2.06-.94L8.5 2.5l-.94 2.06-2.06.94zm10 10l.94 2.06.94-2.06 2.06-.94-2.06-.94-.94-2.06-.94 2.06-2.06.94z\"/><path d=\"M17.41 7.96l-1.37-1.37c-.4-.4-.92-.59-1.43-.59-.52 0-1.04.2-1.43.59L10.3 9.45l-7.72 7.72c-.78.78-.78 2.05 0 2.83L4 21.41c.39.39.9.59 1.41.59.51 0 1.02-.2 1.41-.59l7.78-7.78 2.81-2.81c.8-.78.8-2.07 0-2.86zM5.41 20L4 18.59l7.72-7.72 1.47 1.35L5.41 20z\"/>\n",
              "  </svg>\n",
              "      </button>\n",
              "      \n",
              "  <style>\n",
              "    .colab-df-container {\n",
              "      display:flex;\n",
              "      flex-wrap:wrap;\n",
              "      gap: 12px;\n",
              "    }\n",
              "\n",
              "    .colab-df-convert {\n",
              "      background-color: #E8F0FE;\n",
              "      border: none;\n",
              "      border-radius: 50%;\n",
              "      cursor: pointer;\n",
              "      display: none;\n",
              "      fill: #1967D2;\n",
              "      height: 32px;\n",
              "      padding: 0 0 0 0;\n",
              "      width: 32px;\n",
              "    }\n",
              "\n",
              "    .colab-df-convert:hover {\n",
              "      background-color: #E2EBFA;\n",
              "      box-shadow: 0px 1px 2px rgba(60, 64, 67, 0.3), 0px 1px 3px 1px rgba(60, 64, 67, 0.15);\n",
              "      fill: #174EA6;\n",
              "    }\n",
              "\n",
              "    [theme=dark] .colab-df-convert {\n",
              "      background-color: #3B4455;\n",
              "      fill: #D2E3FC;\n",
              "    }\n",
              "\n",
              "    [theme=dark] .colab-df-convert:hover {\n",
              "      background-color: #434B5C;\n",
              "      box-shadow: 0px 1px 3px 1px rgba(0, 0, 0, 0.15);\n",
              "      filter: drop-shadow(0px 1px 2px rgba(0, 0, 0, 0.3));\n",
              "      fill: #FFFFFF;\n",
              "    }\n",
              "  </style>\n",
              "\n",
              "      <script>\n",
              "        const buttonEl =\n",
              "          document.querySelector('#df-e8cd83aa-e377-440c-80a0-1677b63e2c34 button.colab-df-convert');\n",
              "        buttonEl.style.display =\n",
              "          google.colab.kernel.accessAllowed ? 'block' : 'none';\n",
              "\n",
              "        async function convertToInteractive(key) {\n",
              "          const element = document.querySelector('#df-e8cd83aa-e377-440c-80a0-1677b63e2c34');\n",
              "          const dataTable =\n",
              "            await google.colab.kernel.invokeFunction('convertToInteractive',\n",
              "                                                     [key], {});\n",
              "          if (!dataTable) return;\n",
              "\n",
              "          const docLinkHtml = 'Like what you see? Visit the ' +\n",
              "            '<a target=\"_blank\" href=https://colab.research.google.com/notebooks/data_table.ipynb>data table notebook</a>'\n",
              "            + ' to learn more about interactive tables.';\n",
              "          element.innerHTML = '';\n",
              "          dataTable['output_type'] = 'display_data';\n",
              "          await google.colab.output.renderOutput(dataTable, element);\n",
              "          const docLink = document.createElement('div');\n",
              "          docLink.innerHTML = docLinkHtml;\n",
              "          element.appendChild(docLink);\n",
              "        }\n",
              "      </script>\n",
              "    </div>\n",
              "  </div>\n",
              "  "
            ]
          },
          "metadata": {},
          "execution_count": 3
        }
      ],
      "source": [
        "# drop the irrelevant inputs\n",
        "fd = df.drop(df.columns[3:17], axis=1)\n",
        "\n",
        "\n",
        "fd.head()"
      ]
    },
    {
      "cell_type": "markdown",
      "id": "x41Uw_3CSSFM",
      "metadata": {
        "id": "x41Uw_3CSSFM"
      },
      "source": [
        "### Method selection"
      ]
    },
    {
      "cell_type": "code",
      "execution_count": null,
      "id": "ad875ab7",
      "metadata": {
        "colab": {
          "base_uri": "https://localhost:8080/",
          "height": 270
        },
        "id": "ad875ab7",
        "outputId": "2442658d-bb91-46da-ae2d-6c70022a0c80"
      },
      "outputs": [
        {
          "output_type": "execute_result",
          "data": {
            "text/plain": [
              "   EastofUS  Urban  LowIncomeTracts  log10_PCTGQTRS  log10_PovertyRate  \\\n",
              "0         1      1                0        0.000000           1.089905   \n",
              "1         1      1                1        0.970347           1.276462   \n",
              "2         1      1                0        0.000000           1.204120   \n",
              "3         1      1                0        0.000000           0.579784   \n",
              "4         1      1                0        0.428135           1.209515   \n",
              "\n",
              "   log10_MedianFamilyIncome  log10_TractKids  log10_TractSeniors  \\\n",
              "0                  4.896262         2.705864            2.346353   \n",
              "1                  4.667472         2.783189            2.332438   \n",
              "2                  4.778954         2.951823            2.643453   \n",
              "3                  4.833205         3.006894            2.956649   \n",
              "4                  4.972369         3.500099            3.051924   \n",
              "\n",
              "   log10_TractWhite  log10_TractBlack  log10_TractAsian  log10_TractNHOPI  \\\n",
              "0          3.210319          2.338456          1.176091          0.000000   \n",
              "1          2.948902          3.085647          0.778151          0.000000   \n",
              "2          3.411114          2.811575          1.255273          0.778151   \n",
              "3          3.611405          2.287802          1.278754          0.698970   \n",
              "4          3.937869          3.157759          2.472756          1.000000   \n",
              "\n",
              "   log10_TractAIAN  log10_TractOMultir  log10_TractHispanic  log10_TractHUNV  \\\n",
              "0         1.176091            1.662758             1.653213         0.845098   \n",
              "1         0.778151            1.748188             1.880814         1.954243   \n",
              "2         1.079181            2.071882             1.944483         2.000000   \n",
              "3         1.079181            1.875061             1.934498         1.342423   \n",
              "4         1.690196            2.492760             2.551450         2.363612   \n",
              "\n",
              "   log10_TractSNAP  \n",
              "0         2.012837  \n",
              "1         2.195900  \n",
              "2         2.238046  \n",
              "3         1.995635  \n",
              "4         2.531479  "
            ],
            "text/html": [
              "\n",
              "  <div id=\"df-0a6a13e0-69ef-4dbc-9f2d-b35df927c56f\">\n",
              "    <div class=\"colab-df-container\">\n",
              "      <div>\n",
              "<style scoped>\n",
              "    .dataframe tbody tr th:only-of-type {\n",
              "        vertical-align: middle;\n",
              "    }\n",
              "\n",
              "    .dataframe tbody tr th {\n",
              "        vertical-align: top;\n",
              "    }\n",
              "\n",
              "    .dataframe thead th {\n",
              "        text-align: right;\n",
              "    }\n",
              "</style>\n",
              "<table border=\"1\" class=\"dataframe\">\n",
              "  <thead>\n",
              "    <tr style=\"text-align: right;\">\n",
              "      <th></th>\n",
              "      <th>EastofUS</th>\n",
              "      <th>Urban</th>\n",
              "      <th>LowIncomeTracts</th>\n",
              "      <th>log10_PCTGQTRS</th>\n",
              "      <th>log10_PovertyRate</th>\n",
              "      <th>log10_MedianFamilyIncome</th>\n",
              "      <th>log10_TractKids</th>\n",
              "      <th>log10_TractSeniors</th>\n",
              "      <th>log10_TractWhite</th>\n",
              "      <th>log10_TractBlack</th>\n",
              "      <th>log10_TractAsian</th>\n",
              "      <th>log10_TractNHOPI</th>\n",
              "      <th>log10_TractAIAN</th>\n",
              "      <th>log10_TractOMultir</th>\n",
              "      <th>log10_TractHispanic</th>\n",
              "      <th>log10_TractHUNV</th>\n",
              "      <th>log10_TractSNAP</th>\n",
              "    </tr>\n",
              "  </thead>\n",
              "  <tbody>\n",
              "    <tr>\n",
              "      <th>0</th>\n",
              "      <td>1</td>\n",
              "      <td>1</td>\n",
              "      <td>0</td>\n",
              "      <td>0.000000</td>\n",
              "      <td>1.089905</td>\n",
              "      <td>4.896262</td>\n",
              "      <td>2.705864</td>\n",
              "      <td>2.346353</td>\n",
              "      <td>3.210319</td>\n",
              "      <td>2.338456</td>\n",
              "      <td>1.176091</td>\n",
              "      <td>0.000000</td>\n",
              "      <td>1.176091</td>\n",
              "      <td>1.662758</td>\n",
              "      <td>1.653213</td>\n",
              "      <td>0.845098</td>\n",
              "      <td>2.012837</td>\n",
              "    </tr>\n",
              "    <tr>\n",
              "      <th>1</th>\n",
              "      <td>1</td>\n",
              "      <td>1</td>\n",
              "      <td>1</td>\n",
              "      <td>0.970347</td>\n",
              "      <td>1.276462</td>\n",
              "      <td>4.667472</td>\n",
              "      <td>2.783189</td>\n",
              "      <td>2.332438</td>\n",
              "      <td>2.948902</td>\n",
              "      <td>3.085647</td>\n",
              "      <td>0.778151</td>\n",
              "      <td>0.000000</td>\n",
              "      <td>0.778151</td>\n",
              "      <td>1.748188</td>\n",
              "      <td>1.880814</td>\n",
              "      <td>1.954243</td>\n",
              "      <td>2.195900</td>\n",
              "    </tr>\n",
              "    <tr>\n",
              "      <th>2</th>\n",
              "      <td>1</td>\n",
              "      <td>1</td>\n",
              "      <td>0</td>\n",
              "      <td>0.000000</td>\n",
              "      <td>1.204120</td>\n",
              "      <td>4.778954</td>\n",
              "      <td>2.951823</td>\n",
              "      <td>2.643453</td>\n",
              "      <td>3.411114</td>\n",
              "      <td>2.811575</td>\n",
              "      <td>1.255273</td>\n",
              "      <td>0.778151</td>\n",
              "      <td>1.079181</td>\n",
              "      <td>2.071882</td>\n",
              "      <td>1.944483</td>\n",
              "      <td>2.000000</td>\n",
              "      <td>2.238046</td>\n",
              "    </tr>\n",
              "    <tr>\n",
              "      <th>3</th>\n",
              "      <td>1</td>\n",
              "      <td>1</td>\n",
              "      <td>0</td>\n",
              "      <td>0.000000</td>\n",
              "      <td>0.579784</td>\n",
              "      <td>4.833205</td>\n",
              "      <td>3.006894</td>\n",
              "      <td>2.956649</td>\n",
              "      <td>3.611405</td>\n",
              "      <td>2.287802</td>\n",
              "      <td>1.278754</td>\n",
              "      <td>0.698970</td>\n",
              "      <td>1.079181</td>\n",
              "      <td>1.875061</td>\n",
              "      <td>1.934498</td>\n",
              "      <td>1.342423</td>\n",
              "      <td>1.995635</td>\n",
              "    </tr>\n",
              "    <tr>\n",
              "      <th>4</th>\n",
              "      <td>1</td>\n",
              "      <td>1</td>\n",
              "      <td>0</td>\n",
              "      <td>0.428135</td>\n",
              "      <td>1.209515</td>\n",
              "      <td>4.972369</td>\n",
              "      <td>3.500099</td>\n",
              "      <td>3.051924</td>\n",
              "      <td>3.937869</td>\n",
              "      <td>3.157759</td>\n",
              "      <td>2.472756</td>\n",
              "      <td>1.000000</td>\n",
              "      <td>1.690196</td>\n",
              "      <td>2.492760</td>\n",
              "      <td>2.551450</td>\n",
              "      <td>2.363612</td>\n",
              "      <td>2.531479</td>\n",
              "    </tr>\n",
              "  </tbody>\n",
              "</table>\n",
              "</div>\n",
              "      <button class=\"colab-df-convert\" onclick=\"convertToInteractive('df-0a6a13e0-69ef-4dbc-9f2d-b35df927c56f')\"\n",
              "              title=\"Convert this dataframe to an interactive table.\"\n",
              "              style=\"display:none;\">\n",
              "        \n",
              "  <svg xmlns=\"http://www.w3.org/2000/svg\" height=\"24px\"viewBox=\"0 0 24 24\"\n",
              "       width=\"24px\">\n",
              "    <path d=\"M0 0h24v24H0V0z\" fill=\"none\"/>\n",
              "    <path d=\"M18.56 5.44l.94 2.06.94-2.06 2.06-.94-2.06-.94-.94-2.06-.94 2.06-2.06.94zm-11 1L8.5 8.5l.94-2.06 2.06-.94-2.06-.94L8.5 2.5l-.94 2.06-2.06.94zm10 10l.94 2.06.94-2.06 2.06-.94-2.06-.94-.94-2.06-.94 2.06-2.06.94z\"/><path d=\"M17.41 7.96l-1.37-1.37c-.4-.4-.92-.59-1.43-.59-.52 0-1.04.2-1.43.59L10.3 9.45l-7.72 7.72c-.78.78-.78 2.05 0 2.83L4 21.41c.39.39.9.59 1.41.59.51 0 1.02-.2 1.41-.59l7.78-7.78 2.81-2.81c.8-.78.8-2.07 0-2.86zM5.41 20L4 18.59l7.72-7.72 1.47 1.35L5.41 20z\"/>\n",
              "  </svg>\n",
              "      </button>\n",
              "      \n",
              "  <style>\n",
              "    .colab-df-container {\n",
              "      display:flex;\n",
              "      flex-wrap:wrap;\n",
              "      gap: 12px;\n",
              "    }\n",
              "\n",
              "    .colab-df-convert {\n",
              "      background-color: #E8F0FE;\n",
              "      border: none;\n",
              "      border-radius: 50%;\n",
              "      cursor: pointer;\n",
              "      display: none;\n",
              "      fill: #1967D2;\n",
              "      height: 32px;\n",
              "      padding: 0 0 0 0;\n",
              "      width: 32px;\n",
              "    }\n",
              "\n",
              "    .colab-df-convert:hover {\n",
              "      background-color: #E2EBFA;\n",
              "      box-shadow: 0px 1px 2px rgba(60, 64, 67, 0.3), 0px 1px 3px 1px rgba(60, 64, 67, 0.15);\n",
              "      fill: #174EA6;\n",
              "    }\n",
              "\n",
              "    [theme=dark] .colab-df-convert {\n",
              "      background-color: #3B4455;\n",
              "      fill: #D2E3FC;\n",
              "    }\n",
              "\n",
              "    [theme=dark] .colab-df-convert:hover {\n",
              "      background-color: #434B5C;\n",
              "      box-shadow: 0px 1px 3px 1px rgba(0, 0, 0, 0.15);\n",
              "      filter: drop-shadow(0px 1px 2px rgba(0, 0, 0, 0.3));\n",
              "      fill: #FFFFFF;\n",
              "    }\n",
              "  </style>\n",
              "\n",
              "      <script>\n",
              "        const buttonEl =\n",
              "          document.querySelector('#df-0a6a13e0-69ef-4dbc-9f2d-b35df927c56f button.colab-df-convert');\n",
              "        buttonEl.style.display =\n",
              "          google.colab.kernel.accessAllowed ? 'block' : 'none';\n",
              "\n",
              "        async function convertToInteractive(key) {\n",
              "          const element = document.querySelector('#df-0a6a13e0-69ef-4dbc-9f2d-b35df927c56f');\n",
              "          const dataTable =\n",
              "            await google.colab.kernel.invokeFunction('convertToInteractive',\n",
              "                                                     [key], {});\n",
              "          if (!dataTable) return;\n",
              "\n",
              "          const docLinkHtml = 'Like what you see? Visit the ' +\n",
              "            '<a target=\"_blank\" href=https://colab.research.google.com/notebooks/data_table.ipynb>data table notebook</a>'\n",
              "            + ' to learn more about interactive tables.';\n",
              "          element.innerHTML = '';\n",
              "          dataTable['output_type'] = 'display_data';\n",
              "          await google.colab.output.renderOutput(dataTable, element);\n",
              "          const docLink = document.createElement('div');\n",
              "          docLink.innerHTML = docLinkHtml;\n",
              "          element.appendChild(docLink);\n",
              "        }\n",
              "      </script>\n",
              "    </div>\n",
              "  </div>\n",
              "  "
            ]
          },
          "metadata": {},
          "execution_count": 4
        }
      ],
      "source": [
        "# divided fd data into the independent and dependent variables\n",
        "X = fd.drop(['FoodDesert'], axis = 1) # all independent\n",
        "y = fd['FoodDesert']  # target\n",
        "\n",
        "X.head()"
      ]
    },
    {
      "cell_type": "code",
      "execution_count": null,
      "id": "436b427b",
      "metadata": {
        "colab": {
          "base_uri": "https://localhost:8080/"
        },
        "id": "436b427b",
        "outputId": "706f0e97-c0e3-4f43-9d2c-6e7968c858b5"
      },
      "outputs": [
        {
          "output_type": "execute_result",
          "data": {
            "text/plain": [
              "0        1\n",
              "1        1\n",
              "2        1\n",
              "3        1\n",
              "4        1\n",
              "        ..\n",
              "71756    1\n",
              "71757    0\n",
              "71758    0\n",
              "71759    1\n",
              "71760    1\n",
              "Name: FoodDesert, Length: 71761, dtype: int64"
            ]
          },
          "metadata": {},
          "execution_count": 5
        }
      ],
      "source": [
        "y"
      ]
    },
    {
      "cell_type": "code",
      "execution_count": null,
      "id": "w2G31iC8SMmk",
      "metadata": {
        "colab": {
          "base_uri": "https://localhost:8080/"
        },
        "id": "w2G31iC8SMmk",
        "outputId": "90fd6125-12b4-4fb7-e5fe-a036ddd42fe3"
      },
      "outputs": [
        {
          "output_type": "stream",
          "name": "stdout",
          "text": [
            "Logistic Regression Results:\n",
            "Accuracy: 0.742\n",
            "Precision: 0.685\n",
            "Recall: 0.582\n",
            "F1 Score: 0.629\n",
            "\n",
            "Decision Tree Results:\n",
            "Accuracy: 0.678\n",
            "Precision: 0.569\n",
            "Recall: 0.589\n",
            "F1 Score: 0.579\n",
            "\n",
            "Random Forest Results:\n",
            "Accuracy: 0.763\n",
            "Precision: 0.716\n",
            "Recall: 0.615\n",
            "F1 Score: 0.662\n",
            "\n",
            "XGBoost Results:\n",
            "Accuracy: 0.757\n",
            "Precision: 0.694\n",
            "Recall: 0.631\n",
            "F1 Score: 0.661\n",
            "\n",
            "LightGBM Results:\n",
            "Accuracy: 0.763\n",
            "Precision: 0.707\n",
            "Recall: 0.630\n",
            "F1 Score: 0.666\n",
            "\n",
            "SVM Results:\n",
            "Accuracy: 0.757\n",
            "Precision: 0.697\n",
            "Recall: 0.624\n",
            "F1 Score: 0.659\n",
            "\n",
            "KNN Results:\n",
            "Accuracy: 0.723\n",
            "Precision: 0.641\n",
            "Recall: 0.601\n",
            "F1 Score: 0.620\n",
            "\n"
          ]
        }
      ],
      "source": [
        "from sklearn.model_selection import train_test_split\n",
        "from sklearn.metrics import accuracy_score, precision_score, recall_score, f1_score\n",
        "from sklearn.linear_model import LogisticRegression\n",
        "from sklearn.tree import DecisionTreeClassifier\n",
        "from sklearn.ensemble import RandomForestClassifier\n",
        "from xgboost import XGBClassifier\n",
        "from lightgbm import LGBMClassifier\n",
        "from sklearn.svm import SVC\n",
        "from sklearn.neighbors import KNeighborsClassifier\n",
        "\n",
        "# Load the data and split into training and testing sets\n",
        "X_train, X_test, y_train, y_test = train_test_split(X, y, test_size=0.2, random_state=123)\n",
        "\n",
        "# Define the models you want to compare\n",
        "models = [\n",
        "    ('Logistic Regression', LogisticRegression(max_iter=1000, random_state=123)),\n",
        "    ('Decision Tree', DecisionTreeClassifier(random_state=123)),\n",
        "    ('Random Forest', RandomForestClassifier(random_state=123)),\n",
        "    ('XGBoost', XGBClassifier(random_state=123)),\n",
        "    ('LightGBM', LGBMClassifier(random_state=123)),\n",
        "    ('SVM', SVC(random_state=123)),\n",
        "    ('KNN', KNeighborsClassifier())\n",
        "]\n",
        "\n",
        "# Train and evaluate each model\n",
        "for name, model in models:\n",
        "    # Fit the model to the training data\n",
        "    model.fit(X_train, y_train)\n",
        "\n",
        "    # Make predictions on the testing data\n",
        "    y_pred = model.predict(X_test)\n",
        "\n",
        "    # Evaluate the model's performance using common metrics\n",
        "    accuracy = accuracy_score(y_test, y_pred)\n",
        "    precision = precision_score(y_test, y_pred)\n",
        "    recall = recall_score(y_test, y_pred)\n",
        "    f1 = f1_score(y_test, y_pred)\n",
        "\n",
        "    # Print the model's performance metrics\n",
        "    print(f\"{name} Results:\")\n",
        "    print(f\"Accuracy: {accuracy:.3f}\")\n",
        "    print(f\"Precision: {precision:.3f}\")\n",
        "    print(f\"Recall: {recall:.3f}\")\n",
        "    print(f\"F1 Score: {f1:.3f}\")\n",
        "    print()"
      ]
    },
    {
      "cell_type": "code",
      "execution_count": null,
      "id": "dbe9498c",
      "metadata": {
        "id": "dbe9498c"
      },
      "outputs": [],
      "source": [
        "from sklearn.metrics import accuracy_score, precision_score, recall_score, f1_score\n",
        "\n",
        "def print_performance_metrics(y_test, y_pred):\n",
        "    accuracy = accuracy_score(y_test, y_pred)\n",
        "    precision = precision_score(y_test, y_pred)\n",
        "    recall = recall_score(y_test, y_pred)\n",
        "    f1 = f1_score(y_test, y_pred)\n",
        "\n",
        "    print(f\"Accuracy: {accuracy:.3f}\")\n",
        "    print(f\"Precision: {precision:.3f}\")\n",
        "    print(f\"Recall: {recall:.3f}\")\n",
        "    print(f\"F1 Score: {f1:.3f}\")"
      ]
    },
    {
      "cell_type": "markdown",
      "id": "saONAO630AVK",
      "metadata": {
        "id": "saONAO630AVK"
      },
      "source": [
        "### Logistics Regression baseline model"
      ]
    },
    {
      "cell_type": "code",
      "execution_count": null,
      "id": "bfc280de",
      "metadata": {
        "colab": {
          "base_uri": "https://localhost:8080/"
        },
        "id": "bfc280de",
        "outputId": "6cc1d485-23d7-4704-fe70-55a1b671f075"
      },
      "outputs": [
        {
          "output_type": "stream",
          "name": "stdout",
          "text": [
            "The baseline model Results:\n",
            "Accuracy: 0.742\n",
            "Precision: 0.685\n",
            "Recall: 0.582\n",
            "F1 Score: 0.629\n"
          ]
        }
      ],
      "source": [
        "from sklearn.linear_model import LogisticRegression\n",
        "from sklearn.metrics import accuracy_score, precision_score, recall_score, f1_score\n",
        "\n",
        "# Define logistic regression model with default hyperparameters\n",
        "lr_base = LogisticRegression(max_iter=1000)\n",
        "\n",
        "# Train the model\n",
        "lr_base.fit(X_train, y_train)\n",
        "\n",
        "# Make predictions on the testing data\n",
        "y_pred = lr_base.predict(X_test)\n",
        "\n",
        "# Evaluate the model's performance using common metrics\n",
        "accuracy = accuracy_score(y_test, y_pred)\n",
        "\n",
        "\n",
        "# Print the model's performance metrics\n",
        "print(\"The baseline model Results:\")\n",
        "print_performance_metrics(y_test, y_pred)"
      ]
    },
    {
      "cell_type": "markdown",
      "id": "0c16701a",
      "metadata": {
        "id": "0c16701a"
      },
      "source": [
        "Accuracy: the baseline model has an accuracy of 0.636, which means that it correctly classified 63.6% of the test set samples.\n",
        "\n",
        "Precision:the baseline model has a precision of 0.722, which means that when it predicted a positive label, it was correct 72.2% of the time.\n",
        "\n",
        "Recall: the baseline model has a recall of 0.406, which means that it correctly identified only 40.6% of the actual positive samples.\n",
        "\n",
        "Based on these results, it appears that the baseline model has room for improvement, particularly in terms of recall. A low recall score means that the model is failing to identify many of the areas that are actually food deserts."
      ]
    },
    {
      "cell_type": "markdown",
      "id": "077f8729",
      "metadata": {
        "id": "077f8729"
      },
      "source": [
        "### Feature selection"
      ]
    },
    {
      "cell_type": "markdown",
      "id": "cf9ff447",
      "metadata": {
        "id": "cf9ff447"
      },
      "source": [
        "#### L1 regularization"
      ]
    },
    {
      "cell_type": "code",
      "execution_count": null,
      "id": "521df9d0",
      "metadata": {
        "colab": {
          "base_uri": "https://localhost:8080/"
        },
        "id": "521df9d0",
        "outputId": "556cf581-e1ea-4580-cf41-0697ff2515cb"
      },
      "outputs": [
        {
          "output_type": "stream",
          "name": "stdout",
          "text": [
            "Accuracy: 0.743\n",
            "Precision: 0.686\n",
            "Recall: 0.582\n",
            "F1 Score: 0.630\n"
          ]
        }
      ],
      "source": [
        "from sklearn.linear_model import LogisticRegression\n",
        "\n",
        "# Create a logistic regression model with L1 regularization (Lasso)\n",
        "lr_model = LogisticRegression(penalty='l1', solver='liblinear', random_state=123, max_iter=100)\n",
        "\n",
        "# Fit the model on the training data\n",
        "lr_model.fit(X_train, y_train)\n",
        "\n",
        "# Predict target values on the test set\n",
        "y_pred1 = lr_model.predict(X_test)\n",
        "\n",
        "# Print the model's performance metrics\n",
        "print_performance_metrics(y_test, y_pred1)"
      ]
    },
    {
      "cell_type": "markdown",
      "id": "c2c0f0a1",
      "metadata": {
        "id": "c2c0f0a1"
      },
      "source": [
        "> L1 regularization doesn't shows significant improvement."
      ]
    },
    {
      "cell_type": "markdown",
      "id": "f2f4b48f",
      "metadata": {
        "id": "f2f4b48f"
      },
      "source": [
        "#### Recursive feature elimination (RFE)"
      ]
    },
    {
      "cell_type": "code",
      "execution_count": null,
      "id": "a32d9cb2",
      "metadata": {
        "colab": {
          "base_uri": "https://localhost:8080/"
        },
        "id": "a32d9cb2",
        "outputId": "e6056021-0881-4278-d702-73ab869a5881"
      },
      "outputs": [
        {
          "output_type": "stream",
          "name": "stdout",
          "text": [
            "Accuracy: 0.736\n",
            "Precision: 0.685\n",
            "Recall: 0.553\n",
            "F1 Score: 0.612\n"
          ]
        }
      ],
      "source": [
        "from sklearn.feature_selection import RFE\n",
        "\n",
        "# Load the data and split into training and testing sets\n",
        "X_train, X_test, y_train, y_test = train_test_split(X, y, test_size=0.2, random_state=123)\n",
        "\n",
        "# create a logistic regression object\n",
        "lr2 = LogisticRegression(random_state=123, max_iter=1000)\n",
        "\n",
        "# create a recursive feature eliminator object\n",
        "rfe = RFE(lr2, n_features_to_select=5)\n",
        "\n",
        "# fit the recursive feature eliminator to the training data\n",
        "rfe.fit(X_train, y_train)\n",
        "\n",
        "# transform the training and testing data to include only the selected features\n",
        "X_train_rfe = rfe.transform(X_train)\n",
        "X_test_rfe = rfe.transform(X_test)\n",
        "\n",
        "# fit a logistic regression model using the selected features\n",
        "lr_rfe = LogisticRegression(random_state=123)\n",
        "lr_rfe.fit(X_train_rfe, y_train)\n",
        "\n",
        "# make predictions on the testing data\n",
        "y_pred2 = lr_rfe.predict(X_test_rfe)\n",
        "\n",
        "# Print the model's performance metrics\n",
        "print_performance_metrics(y_test, y_pred2)"
      ]
    },
    {
      "cell_type": "markdown",
      "id": "j8yQ3jsn6U-8",
      "metadata": {
        "id": "j8yQ3jsn6U-8"
      },
      "source": [
        "> REF does not improve the model. Since the three feature selections that I made did not improve the model's performance, I will proceed to the next step of hyperparameter tuning."
      ]
    },
    {
      "cell_type": "markdown",
      "id": "52964d5d",
      "metadata": {
        "id": "52964d5d"
      },
      "source": [
        "### Class imbalance"
      ]
    },
    {
      "cell_type": "code",
      "execution_count": null,
      "id": "7d0a02ad",
      "metadata": {
        "colab": {
          "base_uri": "https://localhost:8080/"
        },
        "id": "7d0a02ad",
        "outputId": "97ddc6de-2910-46b1-f4f8-46266443ecc7"
      },
      "outputs": [
        {
          "output_type": "stream",
          "name": "stdout",
          "text": [
            "Accuracy: 0.721\n",
            "Precision: 0.607\n",
            "Recall: 0.728\n",
            "F1 Score: 0.662\n"
          ]
        }
      ],
      "source": [
        "# Define the logistic regression model\n",
        "lr_bal = LogisticRegression(class_weight='balanced',max_iter=1000,random_state=123)\n",
        "\n",
        "# Fit the model on the training data\n",
        "lr_bal.fit(X_train, y_train)\n",
        "\n",
        "# Make predictions on the testing data\n",
        "y_pred3 = lr_bal.predict(X_test)\n",
        "\n",
        "# Print the model's performance metrics\n",
        "print_performance_metrics(y_test, y_pred3)"
      ]
    },
    {
      "cell_type": "markdown",
      "source": [
        "> The logistic regression model with balanced class weights shows significant improvement for the recall (0.582 -> 0.728)."
      ],
      "metadata": {
        "id": "b4PhV6cAAsBG"
      },
      "id": "b4PhV6cAAsBG"
    },
    {
      "cell_type": "markdown",
      "id": "09719d3e",
      "metadata": {
        "id": "09719d3e"
      },
      "source": [
        "### Hyperparameter tuning"
      ]
    },
    {
      "cell_type": "code",
      "execution_count": null,
      "id": "649b4097",
      "metadata": {
        "id": "649b4097"
      },
      "outputs": [],
      "source": [
        "# random sample of the dataset for hyperparameter tuning\n",
        "\n",
        "# Define the fraction of data to use for hyperparameter tuning\n",
        "fraction = 0.1\n",
        "\n",
        "# Randomly sample a fraction of the dataset\n",
        "sampled_data = fd.sample(frac=fraction, random_state=123)\n",
        "\n",
        "# Split the sampled data into features (X) and target (y)\n",
        "X_sampled = sampled_data.drop(columns=[\"FoodDesert\"])\n",
        "y_sampled = sampled_data[\"FoodDesert\"]\n",
        "\n",
        "# Split the sampled data into train and test sets\n",
        "Xs_train, Xs_test, ys_train, ys_test = train_test_split(X_sampled, y_sampled, test_size=0.2, random_state=123)"
      ]
    },
    {
      "cell_type": "code",
      "execution_count": null,
      "id": "7ca0510f",
      "metadata": {
        "colab": {
          "base_uri": "https://localhost:8080/"
        },
        "id": "7ca0510f",
        "outputId": "232dde6d-096c-4c88-acde-074fbee58b06"
      },
      "outputs": [
        {
          "output_type": "execute_result",
          "data": {
            "text/plain": [
              "0.3722129319955407"
            ]
          },
          "metadata": {},
          "execution_count": 13
        }
      ],
      "source": [
        "y_sampled[y_sampled==1].sum()/len(y_sampled)"
      ]
    },
    {
      "cell_type": "code",
      "execution_count": null,
      "id": "1260eaa4",
      "metadata": {
        "colab": {
          "base_uri": "https://localhost:8080/"
        },
        "id": "1260eaa4",
        "outputId": "078c24da-5424-4ad2-f2fb-410768fc4f2e"
      },
      "outputs": [
        {
          "output_type": "execute_result",
          "data": {
            "text/plain": [
              "0.38008110254873817"
            ]
          },
          "metadata": {},
          "execution_count": 14
        }
      ],
      "source": [
        "y[y==1].sum()/len(y)"
      ]
    },
    {
      "cell_type": "markdown",
      "source": [
        "> The results suggest that the sampled data is representative of the overall dataset in terms of the distribution of the food desert."
      ],
      "metadata": {
        "id": "m1_5w1rpClPu"
      },
      "id": "m1_5w1rpClPu"
    },
    {
      "cell_type": "code",
      "execution_count": null,
      "id": "bf70ab26",
      "metadata": {
        "id": "bf70ab26"
      },
      "outputs": [],
      "source": [
        "# evaluating the performance of a classification model on both training and testing datasets\n",
        "from sklearn.metrics import accuracy_score, confusion_matrix, classification_report\n",
        "\n",
        "def print_score(clf, X_train, y_train, X_test, y_test, train=True):\n",
        "    if train:\n",
        "        pred = clf.predict(X_train)\n",
        "        clf_report = pd.DataFrame(classification_report(y_train, pred, output_dict=True))\n",
        "        print(\"Train Result:\\n==========================================================\")\n",
        "        print(f\"Accuracy Score: {accuracy_score(y_train, pred):.3f}\")\n",
        "        print(\"__________________________________________________________\")\n",
        "        print(f\"CLASSIFICATION REPORT:\\n{clf_report}\")\n",
        "        print(\"__________________________________________________________\")\n",
        "        print(f\"Confusion Matrix: \\n {confusion_matrix(y_train, pred)}\\n\")\n",
        "\n",
        "    elif train==False:\n",
        "        pred = clf.predict(X_test)\n",
        "        clf_report = pd.DataFrame(classification_report(y_test, pred, output_dict=True))\n",
        "        print(\"Test Result:\\n==========================================================\")\n",
        "        print(f\"Accuracy Score: {accuracy_score(y_test, pred):.3f}\")\n",
        "        print(\"_________________________________________________________\")\n",
        "        print(f\"CLASSIFICATION REPORT:\\n{clf_report}\")\n",
        "        print(\"_________________________________________________________\")\n",
        "        print(f\"Confusion Matrix: \\n {confusion_matrix(y_test, pred)}\\n\")"
      ]
    },
    {
      "cell_type": "markdown",
      "id": "4c20dab8",
      "metadata": {
        "id": "4c20dab8"
      },
      "source": [
        "#### Grid Search Cross Validation"
      ]
    },
    {
      "cell_type": "code",
      "execution_count": null,
      "id": "b92669b6",
      "metadata": {
        "colab": {
          "base_uri": "https://localhost:8080/",
          "height": 1000
        },
        "id": "b92669b6",
        "outputId": "bf7f3351-2f16-4098-ef50-b220b6482b72"
      },
      "outputs": [
        {
          "output_type": "stream",
          "name": "stderr",
          "text": [
            "/usr/local/lib/python3.10/dist-packages/sklearn/model_selection/_validation.py:378: FitFailedWarning: \n",
            "540 fits failed out of a total of 1800.\n",
            "The score on these train-test partitions for these parameters will be set to nan.\n",
            "If these failures are not expected, you can try to debug them by setting error_score='raise'.\n",
            "\n",
            "Below are more details about the failures:\n",
            "--------------------------------------------------------------------------------\n",
            "180 fits failed with the following error:\n",
            "Traceback (most recent call last):\n",
            "  File \"/usr/local/lib/python3.10/dist-packages/sklearn/model_selection/_validation.py\", line 686, in _fit_and_score\n",
            "    estimator.fit(X_train, y_train, **fit_params)\n",
            "  File \"/usr/local/lib/python3.10/dist-packages/sklearn/linear_model/_logistic.py\", line 1162, in fit\n",
            "    solver = _check_solver(self.solver, self.penalty, self.dual)\n",
            "  File \"/usr/local/lib/python3.10/dist-packages/sklearn/linear_model/_logistic.py\", line 54, in _check_solver\n",
            "    raise ValueError(\n",
            "ValueError: Solver newton-cg supports only 'l2' or 'none' penalties, got l1 penalty.\n",
            "\n",
            "--------------------------------------------------------------------------------\n",
            "180 fits failed with the following error:\n",
            "Traceback (most recent call last):\n",
            "  File \"/usr/local/lib/python3.10/dist-packages/sklearn/model_selection/_validation.py\", line 686, in _fit_and_score\n",
            "    estimator.fit(X_train, y_train, **fit_params)\n",
            "  File \"/usr/local/lib/python3.10/dist-packages/sklearn/linear_model/_logistic.py\", line 1162, in fit\n",
            "    solver = _check_solver(self.solver, self.penalty, self.dual)\n",
            "  File \"/usr/local/lib/python3.10/dist-packages/sklearn/linear_model/_logistic.py\", line 54, in _check_solver\n",
            "    raise ValueError(\n",
            "ValueError: Solver lbfgs supports only 'l2' or 'none' penalties, got l1 penalty.\n",
            "\n",
            "--------------------------------------------------------------------------------\n",
            "180 fits failed with the following error:\n",
            "Traceback (most recent call last):\n",
            "  File \"/usr/local/lib/python3.10/dist-packages/sklearn/model_selection/_validation.py\", line 686, in _fit_and_score\n",
            "    estimator.fit(X_train, y_train, **fit_params)\n",
            "  File \"/usr/local/lib/python3.10/dist-packages/sklearn/linear_model/_logistic.py\", line 1162, in fit\n",
            "    solver = _check_solver(self.solver, self.penalty, self.dual)\n",
            "  File \"/usr/local/lib/python3.10/dist-packages/sklearn/linear_model/_logistic.py\", line 54, in _check_solver\n",
            "    raise ValueError(\n",
            "ValueError: Solver sag supports only 'l2' or 'none' penalties, got l1 penalty.\n",
            "\n",
            "  warnings.warn(some_fits_failed_message, FitFailedWarning)\n",
            "/usr/local/lib/python3.10/dist-packages/sklearn/model_selection/_search.py:952: UserWarning: One or more of the test scores are non-finite: [       nan        nan 0.62944251        nan 0.62944251 0.62944251\n",
            " 0.62944251 0.62996516 0.62944251 0.62944251        nan        nan\n",
            " 0.62944251        nan 0.62944251 0.62944251 0.62944251 0.62996516\n",
            " 0.62944251 0.62944251        nan        nan 0.62944251        nan\n",
            " 0.62944251 0.62944251 0.62944251 0.62996516 0.62944251 0.62944251\n",
            "        nan        nan 0.62944251        nan 0.57752613 0.66236934\n",
            " 0.66236934 0.63850174 0.66236934 0.66219512        nan        nan\n",
            " 0.62944251        nan 0.57752613 0.66236934 0.66236934 0.63850174\n",
            " 0.66236934 0.66219512        nan        nan 0.62944251        nan\n",
            " 0.57752613 0.66236934 0.66236934 0.63850174 0.66236934 0.66219512\n",
            "        nan        nan 0.63885017        nan 0.64006969 0.71550523\n",
            " 0.71550523 0.70052265 0.71550523 0.7141115         nan        nan\n",
            " 0.63885017        nan 0.64006969 0.71550523 0.71550523 0.70052265\n",
            " 0.71550523 0.71533101        nan        nan 0.63885017        nan\n",
            " 0.64006969 0.71550523 0.71550523 0.70052265 0.71550523 0.71533101\n",
            "        nan        nan 0.64198606        nan 0.64756098 0.71149826\n",
            " 0.71167247 0.70627178 0.71149826 0.70993031        nan        nan\n",
            " 0.64198606        nan 0.64756098 0.71149826 0.71167247 0.70627178\n",
            " 0.71149826 0.71114983        nan        nan 0.64198606        nan\n",
            " 0.64756098 0.71149826 0.71167247 0.70627178 0.71149826 0.71114983\n",
            "        nan        nan 0.73867596        nan 0.74216028 0.74547038\n",
            " 0.74547038 0.73832753 0.74320557 0.7412892         nan        nan\n",
            " 0.73867596        nan 0.74616725 0.74547038 0.74529617 0.73832753\n",
            " 0.74529617 0.74477352        nan        nan 0.73867596        nan\n",
            " 0.74616725 0.74547038 0.74529617 0.73832753 0.74529617 0.74477352\n",
            "        nan        nan 0.71620209        nan 0.71585366 0.71550523\n",
            " 0.71550523 0.71324042 0.71550523 0.71515679        nan        nan\n",
            " 0.71620209        nan 0.71637631 0.71550523 0.71550523 0.71324042\n",
            " 0.71550523 0.71533101        nan        nan 0.71620209        nan\n",
            " 0.71637631 0.71550523 0.71550523 0.71324042 0.71550523 0.71533101\n",
            "        nan        nan 0.74320557        nan 0.74372822 0.74547038\n",
            " 0.74477352 0.74250871 0.74303136 0.74320557        nan        nan\n",
            " 0.74320557        nan 0.74616725 0.74547038 0.74581882 0.74250871\n",
            " 0.74529617 0.74529617        nan        nan 0.74320557        nan\n",
            " 0.74616725 0.74547038 0.74581882 0.74250871 0.74529617 0.74529617\n",
            "        nan        nan 0.71324042        nan 0.71271777 0.71498258\n",
            " 0.71515679 0.71236934 0.71480836 0.71271777        nan        nan\n",
            " 0.71341463        nan 0.71515679 0.71498258 0.71515679 0.71236934\n",
            " 0.71480836 0.71463415        nan        nan 0.71341463        nan\n",
            " 0.71515679 0.71498258 0.71515679 0.71236934 0.71480836 0.71463415\n",
            "        nan        nan 0.74494774        nan 0.74320557 0.74529617\n",
            " 0.74599303 0.74425087 0.74268293 0.74303136        nan        nan\n",
            " 0.74494774        nan 0.74494774 0.74529617 0.74529617 0.74425087\n",
            " 0.74512195 0.74477352        nan        nan 0.74494774        nan\n",
            " 0.74494774 0.74529617 0.74529617 0.74425087 0.74512195 0.74477352\n",
            "        nan        nan 0.71445993        nan 0.71289199 0.71463415\n",
            " 0.7141115  0.71480836 0.71324042 0.71271777        nan        nan\n",
            " 0.71480836        nan 0.71480836 0.71463415 0.71463415 0.71480836\n",
            " 0.71498258 0.71463415        nan        nan 0.71480836        nan\n",
            " 0.71480836 0.71463415 0.71463415 0.71480836 0.71498258 0.71463415\n",
            "        nan        nan 0.74477352        nan 0.74303136 0.74529617\n",
            " 0.74442509 0.74494774 0.74303136 0.74303136        nan        nan\n",
            " 0.74477352        nan 0.74477352 0.74529617 0.74529617 0.74494774\n",
            " 0.74512195 0.74477352        nan        nan 0.74477352        nan\n",
            " 0.74477352 0.74529617 0.74529617 0.74494774 0.74512195 0.74477352\n",
            "        nan        nan 0.71498258        nan 0.71289199 0.71445993\n",
            " 0.71480836 0.71480836 0.7130662  0.71289199        nan        nan\n",
            " 0.71463415        nan 0.71445993 0.71445993 0.71445993 0.71480836\n",
            " 0.71463415 0.71445993        nan        nan 0.71463415        nan\n",
            " 0.71445993 0.71445993 0.71445993 0.71480836 0.71463415 0.71445993]\n",
            "  warnings.warn(\n"
          ]
        },
        {
          "output_type": "stream",
          "name": "stdout",
          "text": [
            "Best parameters:\n",
            "{'C': 0.1, 'class_weight': None, 'max_iter': 1000, 'penalty': 'l1', 'random_state': 123, 'solver': 'saga'}\n"
          ]
        },
        {
          "output_type": "execute_result",
          "data": {
            "text/plain": [
              "LogisticRegression(C=0.1, max_iter=1000, penalty='l1', random_state=123,\n",
              "                   solver='saga')"
            ],
            "text/html": [
              "<style>#sk-container-id-1 {color: black;background-color: white;}#sk-container-id-1 pre{padding: 0;}#sk-container-id-1 div.sk-toggleable {background-color: white;}#sk-container-id-1 label.sk-toggleable__label {cursor: pointer;display: block;width: 100%;margin-bottom: 0;padding: 0.3em;box-sizing: border-box;text-align: center;}#sk-container-id-1 label.sk-toggleable__label-arrow:before {content: \"▸\";float: left;margin-right: 0.25em;color: #696969;}#sk-container-id-1 label.sk-toggleable__label-arrow:hover:before {color: black;}#sk-container-id-1 div.sk-estimator:hover label.sk-toggleable__label-arrow:before {color: black;}#sk-container-id-1 div.sk-toggleable__content {max-height: 0;max-width: 0;overflow: hidden;text-align: left;background-color: #f0f8ff;}#sk-container-id-1 div.sk-toggleable__content pre {margin: 0.2em;color: black;border-radius: 0.25em;background-color: #f0f8ff;}#sk-container-id-1 input.sk-toggleable__control:checked~div.sk-toggleable__content {max-height: 200px;max-width: 100%;overflow: auto;}#sk-container-id-1 input.sk-toggleable__control:checked~label.sk-toggleable__label-arrow:before {content: \"▾\";}#sk-container-id-1 div.sk-estimator input.sk-toggleable__control:checked~label.sk-toggleable__label {background-color: #d4ebff;}#sk-container-id-1 div.sk-label input.sk-toggleable__control:checked~label.sk-toggleable__label {background-color: #d4ebff;}#sk-container-id-1 input.sk-hidden--visually {border: 0;clip: rect(1px 1px 1px 1px);clip: rect(1px, 1px, 1px, 1px);height: 1px;margin: -1px;overflow: hidden;padding: 0;position: absolute;width: 1px;}#sk-container-id-1 div.sk-estimator {font-family: monospace;background-color: #f0f8ff;border: 1px dotted black;border-radius: 0.25em;box-sizing: border-box;margin-bottom: 0.5em;}#sk-container-id-1 div.sk-estimator:hover {background-color: #d4ebff;}#sk-container-id-1 div.sk-parallel-item::after {content: \"\";width: 100%;border-bottom: 1px solid gray;flex-grow: 1;}#sk-container-id-1 div.sk-label:hover label.sk-toggleable__label {background-color: #d4ebff;}#sk-container-id-1 div.sk-serial::before {content: \"\";position: absolute;border-left: 1px solid gray;box-sizing: border-box;top: 0;bottom: 0;left: 50%;z-index: 0;}#sk-container-id-1 div.sk-serial {display: flex;flex-direction: column;align-items: center;background-color: white;padding-right: 0.2em;padding-left: 0.2em;position: relative;}#sk-container-id-1 div.sk-item {position: relative;z-index: 1;}#sk-container-id-1 div.sk-parallel {display: flex;align-items: stretch;justify-content: center;background-color: white;position: relative;}#sk-container-id-1 div.sk-item::before, #sk-container-id-1 div.sk-parallel-item::before {content: \"\";position: absolute;border-left: 1px solid gray;box-sizing: border-box;top: 0;bottom: 0;left: 50%;z-index: -1;}#sk-container-id-1 div.sk-parallel-item {display: flex;flex-direction: column;z-index: 1;position: relative;background-color: white;}#sk-container-id-1 div.sk-parallel-item:first-child::after {align-self: flex-end;width: 50%;}#sk-container-id-1 div.sk-parallel-item:last-child::after {align-self: flex-start;width: 50%;}#sk-container-id-1 div.sk-parallel-item:only-child::after {width: 0;}#sk-container-id-1 div.sk-dashed-wrapped {border: 1px dashed gray;margin: 0 0.4em 0.5em 0.4em;box-sizing: border-box;padding-bottom: 0.4em;background-color: white;}#sk-container-id-1 div.sk-label label {font-family: monospace;font-weight: bold;display: inline-block;line-height: 1.2em;}#sk-container-id-1 div.sk-label-container {text-align: center;}#sk-container-id-1 div.sk-container {/* jupyter's `normalize.less` sets `[hidden] { display: none; }` but bootstrap.min.css set `[hidden] { display: none !important; }` so we also need the `!important` here to be able to override the default hidden behavior on the sphinx rendered scikit-learn.org. See: https://github.com/scikit-learn/scikit-learn/issues/21755 */display: inline-block !important;position: relative;}#sk-container-id-1 div.sk-text-repr-fallback {display: none;}</style><div id=\"sk-container-id-1\" class=\"sk-top-container\"><div class=\"sk-text-repr-fallback\"><pre>LogisticRegression(C=0.1, max_iter=1000, penalty=&#x27;l1&#x27;, random_state=123,\n",
              "                   solver=&#x27;saga&#x27;)</pre><b>In a Jupyter environment, please rerun this cell to show the HTML representation or trust the notebook. <br />On GitHub, the HTML representation is unable to render, please try loading this page with nbviewer.org.</b></div><div class=\"sk-container\" hidden><div class=\"sk-item\"><div class=\"sk-estimator sk-toggleable\"><input class=\"sk-toggleable__control sk-hidden--visually\" id=\"sk-estimator-id-1\" type=\"checkbox\" checked><label for=\"sk-estimator-id-1\" class=\"sk-toggleable__label sk-toggleable__label-arrow\">LogisticRegression</label><div class=\"sk-toggleable__content\"><pre>LogisticRegression(C=0.1, max_iter=1000, penalty=&#x27;l1&#x27;, random_state=123,\n",
              "                   solver=&#x27;saga&#x27;)</pre></div></div></div></div></div>"
            ]
          },
          "metadata": {},
          "execution_count": 16
        }
      ],
      "source": [
        "from sklearn.model_selection import GridSearchCV\n",
        "\n",
        "# Define the hyperparameter search space\n",
        "penalty = ['l1', 'l2']\n",
        "C = [0.001, 0.01, 0.1, 1, 10, 100]\n",
        "solver = ['newton-cg', 'lbfgs', 'liblinear', 'sag', 'saga']\n",
        "max_iter = [100, 1000, 10000]\n",
        "class_weight = [None, 'balanced']\n",
        "\n",
        "hyperparameters = {\n",
        "    'penalty': penalty,\n",
        "    'C': C,\n",
        "    'solver': solver,\n",
        "    'max_iter': max_iter,\n",
        "    'class_weight': class_weight,\n",
        "    'random_state': [123]\n",
        "}\n",
        "\n",
        "# Create the logistic regression classifier\n",
        "lr_clf = LogisticRegression(random_state=123, max_iter = 10000)\n",
        "\n",
        "# Perform grid search cross-validation\n",
        "lr_cv = GridSearchCV(\n",
        "    estimator=lr_clf,\n",
        "    param_grid=hyperparameters,\n",
        "    scoring='accuracy',\n",
        "    cv=5,\n",
        "    n_jobs=-1\n",
        ")\n",
        "\n",
        "# Fit the grid search CV on the sampled data\n",
        "lr_cv.fit(Xs_train, ys_train)\n",
        "\n",
        "# Print the best hyperparameters\n",
        "lr_best_params = lr_cv.best_params_\n",
        "print(\"Best parameters:\")\n",
        "print(lr_best_params)\n",
        "\n",
        "# Create a logistic regression classifier with the best parameters\n",
        "lr_clf_best = LogisticRegression(**lr_best_params)\n",
        "\n",
        "# Fit the classifier on the sampled data\n",
        "lr_clf_best.fit(Xs_train, ys_train)"
      ]
    },
    {
      "cell_type": "code",
      "source": [
        "# Save the model to a file\n",
        "from joblib import dump\n",
        "\n",
        "dump(lr_clf_best, 'lr1.pkl')"
      ],
      "metadata": {
        "colab": {
          "base_uri": "https://localhost:8080/"
        },
        "id": "YaqmRALtFSO4",
        "outputId": "2de8ddc2-775c-4b78-8a2a-77510d06d5a5"
      },
      "id": "YaqmRALtFSO4",
      "execution_count": null,
      "outputs": [
        {
          "output_type": "execute_result",
          "data": {
            "text/plain": [
              "['lr1.pkl']"
            ]
          },
          "metadata": {},
          "execution_count": 17
        }
      ]
    },
    {
      "cell_type": "code",
      "execution_count": null,
      "id": "2c0c6938",
      "metadata": {
        "colab": {
          "base_uri": "https://localhost:8080/"
        },
        "id": "2c0c6938",
        "outputId": "aff0b0a4-ccc6-4b67-cf8b-2e3296d92e22"
      },
      "outputs": [
        {
          "output_type": "stream",
          "name": "stdout",
          "text": [
            "Accuracy: 0.746\n",
            "Precision: 0.706\n",
            "Recall: 0.556\n",
            "F1 Score: 0.622\n",
            "Train Result:\n",
            "==========================================================\n",
            "Accuracy Score: 0.741\n",
            "__________________________________________________________\n",
            "CLASSIFICATION REPORT:\n",
            "                      0             1  accuracy     macro avg  weighted avg\n",
            "precision      0.754588      0.708712  0.741151      0.731650      0.737104\n",
            "recall         0.862141      0.544678  0.741151      0.703409      0.741151\n",
            "f1-score       0.804787      0.615961  0.741151      0.710374      0.732823\n",
            "support    35529.000000  21879.000000  0.741151  57408.000000  57408.000000\n",
            "__________________________________________________________\n",
            "Confusion Matrix: \n",
            " [[30631  4898]\n",
            " [ 9962 11917]]\n",
            "\n",
            "Test Result:\n",
            "==========================================================\n",
            "Accuracy Score: 0.746\n",
            "_________________________________________________________\n",
            "CLASSIFICATION REPORT:\n",
            "                     0            1  accuracy     macro avg  weighted avg\n",
            "precision     0.762843     0.705882  0.745976      0.734363      0.741429\n",
            "recall        0.860444     0.555967  0.745976      0.708206      0.745976\n",
            "f1-score      0.808709     0.622019  0.745976      0.715364      0.738523\n",
            "support    8957.000000  5396.000000  0.745976  14353.000000  14353.000000\n",
            "_________________________________________________________\n",
            "Confusion Matrix: \n",
            " [[7707 1250]\n",
            " [2396 3000]]\n",
            "\n"
          ]
        }
      ],
      "source": [
        "# Print the performance metrics\n",
        "X_train, X_test, y_train, y_test = train_test_split(X, y, test_size=0.2, random_state=123)\n",
        "y_pred4 = lr_clf_best.predict(X_test)\n",
        "print_performance_metrics(y_test, y_pred4)\n",
        "\n",
        "print_score(lr_clf_best, X_train, y_train, X_test, y_test, train=True)\n",
        "print_score(lr_clf_best, X_train, y_train, X_test, y_test, train=False)"
      ]
    },
    {
      "cell_type": "markdown",
      "id": "kvyBD1w3gmWo",
      "metadata": {
        "id": "kvyBD1w3gmWo"
      },
      "source": [
        "> The cross-validated model rf_clf_best: accuracy of 0.746.\n",
        "\n",
        ">Best parameters:\n",
        "{'C': 0.1, 'class_weight': None, 'max_iter': 1000, 'penalty': 'l1', 'random_state': 123, 'solver': 'saga'}"
      ]
    },
    {
      "cell_type": "markdown",
      "id": "49ad4841",
      "metadata": {
        "id": "49ad4841"
      },
      "source": [
        "### Ensembling"
      ]
    },
    {
      "cell_type": "markdown",
      "id": "b2f5af56",
      "metadata": {
        "id": "b2f5af56"
      },
      "source": [
        "#### Bagging"
      ]
    },
    {
      "cell_type": "code",
      "execution_count": null,
      "id": "82b162ac",
      "metadata": {
        "colab": {
          "base_uri": "https://localhost:8080/"
        },
        "id": "82b162ac",
        "outputId": "fe945d87-7494-481d-e835-f5eb9eaca6ac"
      },
      "outputs": [
        {
          "output_type": "stream",
          "name": "stdout",
          "text": [
            "Accuracy: 0.743\n",
            "Precision: 0.687\n",
            "Recall: 0.582\n",
            "F1 Score: 0.630\n"
          ]
        }
      ],
      "source": [
        "from sklearn.ensemble import BaggingClassifier\n",
        "\n",
        "# Define the base classifier (Logistic Regression)\n",
        "base_lr = LogisticRegression(random_state=123)\n",
        "\n",
        "# Set up the bagging classifier\n",
        "bagging = BaggingClassifier(base_estimator=base_lr, n_estimators=10, random_state=123)\n",
        "\n",
        "# Fit the bagging classifier to the training data\n",
        "bagging.fit(X_train, y_train)\n",
        "\n",
        "# Make predictions on the testing data\n",
        "y_pred5 = bagging.predict(X_test)\n",
        "\n",
        "\n",
        "# Print the model's performance metrics\n",
        "print_performance_metrics(y_test, y_pred5)"
      ]
    },
    {
      "cell_type": "markdown",
      "id": "aace0908",
      "metadata": {
        "id": "aace0908"
      },
      "source": [
        "#### Boosting"
      ]
    },
    {
      "cell_type": "code",
      "execution_count": null,
      "id": "8baa4baf",
      "metadata": {
        "colab": {
          "base_uri": "https://localhost:8080/"
        },
        "id": "8baa4baf",
        "outputId": "adaf937f-e6e9-40da-ea41-ec70b229841b"
      },
      "outputs": [
        {
          "output_type": "stream",
          "name": "stdout",
          "text": [
            "Accuracy: 0.630\n",
            "Precision: 0.801\n",
            "Recall: 0.020\n",
            "F1 Score: 0.039\n"
          ]
        }
      ],
      "source": [
        "from sklearn.datasets import make_classification\n",
        "from sklearn.ensemble import AdaBoostClassifier\n",
        "\n",
        "# Define the base classifier (Logistic Regression)\n",
        "base_lr = LogisticRegression(random_state=123)\n",
        "\n",
        "# Define the AdaBoost classifier with Logistic Regression as the base estimator\n",
        "ada = AdaBoostClassifier(base_estimator=base_lr, n_estimators=50, learning_rate=0.1)\n",
        "\n",
        "# Train the AdaBoost ensemble\n",
        "ada.fit(X_train, y_train)\n",
        "\n",
        "# Make predictions on the test set\n",
        "y_pred6 = ada.predict(X_test)\n",
        "\n",
        "# Print the model's performance metrics\n",
        "print_performance_metrics(y_test, y_pred6)"
      ]
    },
    {
      "cell_type": "markdown",
      "id": "z0hb4IRlx3xr",
      "metadata": {
        "id": "z0hb4IRlx3xr"
      },
      "source": [
        "#### Voting"
      ]
    },
    {
      "cell_type": "code",
      "execution_count": null,
      "id": "MvIfr7Bvx26j",
      "metadata": {
        "colab": {
          "base_uri": "https://localhost:8080/"
        },
        "id": "MvIfr7Bvx26j",
        "outputId": "4ac6680a-b02f-42fe-817e-5cee89aab86c"
      },
      "outputs": [
        {
          "output_type": "stream",
          "name": "stdout",
          "text": [
            "Accuracy: 0.763\n",
            "Precision: 0.722\n",
            "Recall: 0.600\n",
            "F1 Score: 0.655\n"
          ]
        }
      ],
      "source": [
        "from sklearn.ensemble import VotingClassifier\n",
        "from sklearn.neighbors import KNeighborsClassifier\n",
        "from sklearn.ensemble import RandomForestClassifier\n",
        "from lightgbm import LGBMClassifier\n",
        "from xgboost import XGBClassifier\n",
        "from sklearn.svm import SVC\n",
        "from sklearn.linear_model import LogisticRegression\n",
        "\n",
        "# Split the data into training and test sets\n",
        "X_train, X_test, y_train, y_test = train_test_split(X, y, test_size=0.2, random_state=123)\n",
        "\n",
        "\n",
        "# Define the individual classifiers\n",
        "knn = KNeighborsClassifier()\n",
        "rf = RandomForestClassifier(random_state=123)\n",
        "lgbm = LGBMClassifier(random_state=123)\n",
        "xgb = XGBClassifier(random_state=123)\n",
        "lr = LogisticRegression(C= 0.1, class_weight= None, penalty= 'l1', solver='saga',max_iter=1000,random_state=123)\n",
        "svc = SVC(random_state=123)\n",
        "\n",
        "# Define the voting classifier\n",
        "voting_clf = VotingClassifier(\n",
        "    estimators=[('knn', knn), ('rf', rf), ('lgbm', lgbm), ('xgb', xgb), ('lr', lr), ('svc', svc)],\n",
        "    voting='hard'\n",
        ")\n",
        "\n",
        "# Train the voting classifier\n",
        "voting_clf.fit(X_train, y_train)\n",
        "\n",
        "# Evaluate the voting classifier\n",
        "y_pred7 = voting_clf.predict(X_test)\n",
        "\n",
        "# Print the model's performance metrics\n",
        "print_performance_metrics(y_test, y_pred7)"
      ]
    },
    {
      "cell_type": "markdown",
      "id": "00d6eFoecD7E",
      "metadata": {
        "id": "00d6eFoecD7E"
      },
      "source": [
        "### Validation"
      ]
    },
    {
      "cell_type": "code",
      "source": [
        "from sklearn.linear_model import LogisticRegression\n",
        "from sklearn.model_selection import cross_val_score\n",
        "\n",
        "# Perform cross-validation\n",
        "scores = cross_val_score(lr_bal, X, y, cv=5)\n",
        "\n",
        "# Print the cross-validation scores\n",
        "print(\"Cross-Validation Scores:\", scores)\n",
        "print(\"Mean Accuracy:\", scores.mean())\n"
      ],
      "metadata": {
        "colab": {
          "base_uri": "https://localhost:8080/"
        },
        "id": "6IBe4cxwnAJG",
        "outputId": "af85d325-fec4-483d-bd5d-240e0353441e"
      },
      "id": "6IBe4cxwnAJG",
      "execution_count": null,
      "outputs": [
        {
          "output_type": "stream",
          "name": "stdout",
          "text": [
            "Cross-Validation Scores: [0.67762837 0.67920847 0.72394091 0.74616778 0.7039437 ]\n",
            "Mean Accuracy: 0.7061778479881496\n"
          ]
        }
      ]
    },
    {
      "cell_type": "code",
      "execution_count": null,
      "id": "f47d6236",
      "metadata": {
        "colab": {
          "base_uri": "https://localhost:8080/"
        },
        "id": "f47d6236",
        "outputId": "0c02873e-7416-4a40-d259-8d8ace5be39f"
      },
      "outputs": [
        {
          "output_type": "stream",
          "name": "stdout",
          "text": [
            "Accuracy: 0.721\n",
            "Precision: 0.607\n",
            "Recall: 0.728\n",
            "F1 Score: 0.662\n",
            "Train Result:\n",
            "==========================================================\n",
            "Accuracy Score: 0.725\n",
            "__________________________________________________________\n",
            "CLASSIFICATION REPORT:\n",
            "                      0             1  accuracy     macro avg  weighted avg\n",
            "precision      0.812081      0.617467  0.724551      0.714774      0.737911\n",
            "recall         0.722002      0.728690  0.724551      0.725346      0.724551\n",
            "f1-score       0.764397      0.668484  0.724551      0.716440      0.727843\n",
            "support    35529.000000  21879.000000  0.724551  57408.000000  57408.000000\n",
            "__________________________________________________________\n",
            "Confusion Matrix: \n",
            " [[25652  9877]\n",
            " [ 5936 15943]]\n",
            "\n",
            "Test Result:\n",
            "==========================================================\n",
            "Accuracy Score: 0.721\n",
            "_________________________________________________________\n",
            "CLASSIFICATION REPORT:\n",
            "                     0            1  accuracy     macro avg  weighted avg\n",
            "precision     0.813721     0.607237  0.720686      0.710479      0.736093\n",
            "recall        0.716423     0.727761  0.720686      0.722092      0.720686\n",
            "f1-score      0.761978     0.662059  0.720686      0.712018      0.724414\n",
            "support    8957.000000  5396.000000  0.720686  14353.000000  14353.000000\n",
            "_________________________________________________________\n",
            "Confusion Matrix: \n",
            " [[6417 2540]\n",
            " [1469 3927]]\n",
            "\n"
          ]
        }
      ],
      "source": [
        "# Print the performance metrics\n",
        "X_train, X_test, y_train, y_test = train_test_split(X, y, test_size=0.2, random_state=123)\n",
        "y_pred = lr_bal.predict(X_test)\n",
        "print_performance_metrics(y_test, y_pred)\n",
        "\n",
        "print_score(lr_bal, X_train, y_train, X_test, y_test, train=True)\n",
        "print_score(lr_bal, X_train, y_train, X_test, y_test, train=False)"
      ]
    },
    {
      "cell_type": "markdown",
      "id": "jT-6eEC99raG",
      "metadata": {
        "id": "jT-6eEC99raG"
      },
      "source": [
        "> The final model is the model with balanced class weights.\n",
        "\n",
        "\n",
        "The accuracy score is 0.721, which means that the model classified 72.1% of the instances correctly.\n",
        "\n",
        "The precision for class 1 is 0.607, which means that of all the instances predicted as class 1, 60.7% are actually class 1.\n",
        "\n",
        "The recall for class 1 is 0.728, which means that of all the instances that are actually class 1, the model correctly identified 72.8% of them.\n",
        "\n",
        "The F1-score is 0.662.\n"
      ]
    },
    {
      "cell_type": "code",
      "execution_count": null,
      "id": "eETqJm0XnZlz",
      "metadata": {
        "colab": {
          "base_uri": "https://localhost:8080/"
        },
        "id": "eETqJm0XnZlz",
        "outputId": "13ba9487-f8c0-4e31-b9ff-7bd0d9fe4139"
      },
      "outputs": [
        {
          "output_type": "execute_result",
          "data": {
            "text/plain": [
              "['lr2.pkl']"
            ]
          },
          "metadata": {},
          "execution_count": 30
        }
      ],
      "source": [
        "# Save the final model to a file\n",
        "from joblib import dump\n",
        "\n",
        "dump(lr_bal, 'lr2.pkl')"
      ]
    },
    {
      "cell_type": "markdown",
      "id": "6de51c9b",
      "metadata": {
        "id": "6de51c9b"
      },
      "source": [
        "### Visualization"
      ]
    },
    {
      "cell_type": "code",
      "execution_count": null,
      "id": "h2WxF1UIoDKD",
      "metadata": {
        "id": "h2WxF1UIoDKD"
      },
      "outputs": [],
      "source": [
        "# Load the saved model from a file\n",
        "from joblib import load\n",
        "fd_lr= load('lr2.pkl')"
      ]
    },
    {
      "cell_type": "code",
      "source": [
        "import seaborn as sns\n",
        "from sklearn.metrics import confusion_matrix, roc_curve, roc_auc_score\n",
        "\n",
        "# Confusion matrix\n",
        "y_pred = fd_lr.predict(X_test)\n",
        "cm = confusion_matrix(y_test, y_pred)\n",
        "sns.heatmap(cm, annot=True, cmap='Blues', fmt='g')\n",
        "plt.xlabel('Predicted')\n",
        "plt.ylabel('True')\n",
        "plt.show()\n",
        "\n",
        "\n",
        "# Get the absolute value of the coefficients\n",
        "coef_abs = np.abs(fd_lr.coef_[0])\n",
        "\n",
        "# Sort the coefficients in descending order\n",
        "sorted_idx = np.argsort(coef_abs)[::-1]\n",
        "\n",
        "# Extract the names of the features\n",
        "feature_names = np.array(X.columns)\n",
        "\n",
        "# Plot the feature importance using a bar chart\n",
        "plt.bar(feature_names[sorted_idx], coef_abs[sorted_idx])\n",
        "plt.xticks(rotation=90)\n",
        "plt.ylabel('Feature Importance (abs. value)')\n",
        "plt.show()\n",
        "\n",
        "\n",
        "# Sort the coefficients in descending order\n",
        "sorted_idx = np.argsort(fd_lr.coef_[0])[::-1]\n",
        "\n",
        "# Extract the names of the features\n",
        "feature_names = np.array(X.columns)\n",
        "\n",
        "# Plot the feature importance using a bar chart\n",
        "plt.bar(feature_names[sorted_idx], fd_lr.coef_[0][sorted_idx])\n",
        "plt.xticks(rotation=90)\n",
        "plt.ylabel('Feature Importance')\n",
        "plt.show()\n",
        "\n",
        "\n"
      ],
      "metadata": {
        "colab": {
          "base_uri": "https://localhost:8080/",
          "height": 1000
        },
        "id": "W-bxZfTgdvn3",
        "outputId": "e0dc4c89-2fe0-457f-ee09-d3a2e7c84b2b"
      },
      "id": "W-bxZfTgdvn3",
      "execution_count": null,
      "outputs": [
        {
          "output_type": "display_data",
          "data": {
            "text/plain": [
              "<Figure size 640x480 with 2 Axes>"
            ],
            "image/png": "[encoded data removed]"
          },
          "metadata": {}
        },
        {
          "output_type": "display_data",
          "data": {
            "text/plain": [
              "<Figure size 640x480 with 1 Axes>"
            ],
            "image/png": "[encoded data removed]"
          },
          "metadata": {}
        },
        {
          "output_type": "display_data",
          "data": {
            "text/plain": [
              "<Figure size 640x480 with 1 Axes>"
            ],
            "image/png": "[encoded data removed]"
          },
          "metadata": {}
        }
      ]
    },
    {
      "cell_type": "code",
      "source": [
        "# ROC curve\n",
        "y_pred_prob = fd_lr.predict_proba(X_test)[:, 1]\n",
        "fpr, tpr, thresholds = roc_curve(y_test, y_pred_prob)\n",
        "roc_auc = roc_auc_score(y_test, y_pred_prob)\n",
        "sns.lineplot(x=fpr, y=tpr, color='b', label='ROC curve (AUC = %0.2f)' % roc_auc)\n",
        "plt.plot([0, 1], [0, 1], 'k--')\n",
        "plt.xlim([0.0, 1.0])\n",
        "plt.ylim([0.0, 1.05])\n",
        "plt.xlabel('False Positive Rate')\n",
        "plt.ylabel('True Positive Rate')\n",
        "plt.title('Receiver Operating Characteristic (ROC) Curve')\n",
        "plt.legend(loc=\"lower right\")\n",
        "plt.show()\n"
      ],
      "metadata": {
        "colab": {
          "base_uri": "https://localhost:8080/",
          "height": 472
        },
        "id": "VqdcMR9KgK3j",
        "outputId": "b1063c8a-1fd1-4253-c221-3cfc0850e774"
      },
      "id": "VqdcMR9KgK3j",
      "execution_count": null,
      "outputs": [
        {
          "output_type": "display_data",
          "data": {
            "text/plain": [
              "<Figure size 640x480 with 1 Axes>"
            ],
            "image/png": "[encoded data removed]"
          },
          "metadata": {}
        }
      ]
    }
  ],
  "metadata": {
    "colab": {
      "provenance": [],
      "include_colab_link": true
    },
    "kernelspec": {
      "display_name": "Python 3 (ipykernel)",
      "language": "python",
      "name": "python3"
    },
    "language_info": {
      "codemirror_mode": {
        "name": "ipython",
        "version": 3
      },
      "file_extension": ".py",
      "mimetype": "text/x-python",
      "name": "python",
      "nbconvert_exporter": "python",
      "pygments_lexer": "ipython3",
      "version": "3.9.7"
    },
    "toc": {
      "base_numbering": 1,
      "nav_menu": {},
      "number_sections": true,
      "sideBar": true,
      "skip_h1_title": false,
      "title_cell": "Table of Contents",
      "title_sidebar": "Contents",
      "toc_cell": false,
      "toc_position": {},
      "toc_section_display": true,
      "toc_window_display": false
    }
  },
  "nbformat": 4,
  "nbformat_minor": 5
}